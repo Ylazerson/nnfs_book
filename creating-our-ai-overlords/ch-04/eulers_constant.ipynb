{
  "nbformat": 4,
  "nbformat_minor": 0,
  "metadata": {
    "colab": {
      "name": "eulers_constant.ipynb",
      "provenance": [],
      "collapsed_sections": []
    },
    "kernelspec": {
      "name": "python3",
      "display_name": "Python 3"
    },
    "language_info": {
      "name": "python"
    }
  },
  "cells": [
    {
      "cell_type": "markdown",
      "metadata": {
        "id": "O1JJNs48lXeH"
      },
      "source": [
        "# B\"H"
      ]
    },
    {
      "cell_type": "code",
      "metadata": {
        "id": "6iGgFoFtlYwC"
      },
      "source": [
        "import math"
      ],
      "execution_count": 1,
      "outputs": []
    },
    {
      "cell_type": "code",
      "metadata": {
        "id": "PZXsPzzrlag3"
      },
      "source": [
        "import matplotlib.pyplot as plt"
      ],
      "execution_count": 2,
      "outputs": []
    },
    {
      "cell_type": "code",
      "metadata": {
        "colab": {
          "base_uri": "https://localhost:8080/",
          "height": 265
        },
        "id": "MXP7z62RlhoO",
        "outputId": "205b9ce1-6c2e-4b91-b420-42f19bca0e30"
      },
      "source": [
        "x = [1, 2, 3]\n",
        "y = [2, 4, 6]\n",
        "\n",
        "plt.plot(\n",
        "    x,\n",
        "    y    \n",
        ")\n",
        "\n",
        "plt.grid(axis = 'both')\n",
        "\n",
        "plt.show()"
      ],
      "execution_count": 3,
      "outputs": [
        {
          "output_type": "display_data",
          "data": {
            "image/png": "[encoded data removed]",
            "text/plain": [
              "<Figure size 432x288 with 1 Axes>"
            ]
          },
          "metadata": {
            "tags": [],
            "needs_background": "light"
          }
        }
      ]
    },
    {
      "cell_type": "markdown",
      "metadata": {
        "id": "GbtDWLE9lrNL"
      },
      "source": [
        "--- \n",
        "\n",
        "---\n"
      ]
    },
    {
      "cell_type": "code",
      "metadata": {
        "id": "kL8GC6ocltdg"
      },
      "source": [
        "import numpy as np"
      ],
      "execution_count": 4,
      "outputs": []
    },
    {
      "cell_type": "code",
      "metadata": {
        "id": "B-YugCS6lw7N"
      },
      "source": [
        "x = np.arange(0, 10, .1)"
      ],
      "execution_count": 13,
      "outputs": []
    },
    {
      "cell_type": "code",
      "metadata": {
        "colab": {
          "base_uri": "https://localhost:8080/"
        },
        "id": "b80BQBY3mfud",
        "outputId": "437574ee-ddc8-4029-c6d7-c987e105516e"
      },
      "source": [
        "x"
      ],
      "execution_count": 14,
      "outputs": [
        {
          "output_type": "execute_result",
          "data": {
            "text/plain": [
              "array([0. , 0.1, 0.2, 0.3, 0.4, 0.5, 0.6, 0.7, 0.8, 0.9, 1. , 1.1, 1.2,\n",
              "       1.3, 1.4, 1.5, 1.6, 1.7, 1.8, 1.9, 2. , 2.1, 2.2, 2.3, 2.4, 2.5,\n",
              "       2.6, 2.7, 2.8, 2.9, 3. , 3.1, 3.2, 3.3, 3.4, 3.5, 3.6, 3.7, 3.8,\n",
              "       3.9, 4. , 4.1, 4.2, 4.3, 4.4, 4.5, 4.6, 4.7, 4.8, 4.9, 5. , 5.1,\n",
              "       5.2, 5.3, 5.4, 5.5, 5.6, 5.7, 5.8, 5.9, 6. , 6.1, 6.2, 6.3, 6.4,\n",
              "       6.5, 6.6, 6.7, 6.8, 6.9, 7. , 7.1, 7.2, 7.3, 7.4, 7.5, 7.6, 7.7,\n",
              "       7.8, 7.9, 8. , 8.1, 8.2, 8.3, 8.4, 8.5, 8.6, 8.7, 8.8, 8.9, 9. ,\n",
              "       9.1, 9.2, 9.3, 9.4, 9.5, 9.6, 9.7, 9.8, 9.9])"
            ]
          },
          "metadata": {
            "tags": []
          },
          "execution_count": 14
        }
      ]
    },
    {
      "cell_type": "code",
      "metadata": {
        "colab": {
          "base_uri": "https://localhost:8080/"
        },
        "id": "SivdgyHMmLGz",
        "outputId": "d8b2952e-d905-4ccf-f8b4-a573ca85d704"
      },
      "source": [
        "math.pow(2,2)"
      ],
      "execution_count": 10,
      "outputs": [
        {
          "output_type": "execute_result",
          "data": {
            "text/plain": [
              "4.0"
            ]
          },
          "metadata": {
            "tags": []
          },
          "execution_count": 10
        }
      ]
    },
    {
      "cell_type": "code",
      "metadata": {
        "id": "7KIeIHKCmUXl"
      },
      "source": [
        "y = []\n",
        "\n",
        "base = 2 \n",
        "\n",
        "for val in x:\n",
        "    y.append(math.pow(base, val))"
      ],
      "execution_count": 21,
      "outputs": []
    },
    {
      "cell_type": "code",
      "metadata": {
        "id": "-sX6N7GAmmtN"
      },
      "source": [
        "def plot_xy(x, y):\n",
        "    plt.plot(x, y)\n",
        "    plt.grid(axis = 'both')\n",
        "    plt.show()"
      ],
      "execution_count": 22,
      "outputs": []
    },
    {
      "cell_type": "code",
      "metadata": {
        "colab": {
          "base_uri": "https://localhost:8080/",
          "height": 269
        },
        "id": "3bT-FNGAm02D",
        "outputId": "e687ebb3-27f4-4b44-b06b-33833698edd0"
      },
      "source": [
        "plot_xy(x, y)"
      ],
      "execution_count": 23,
      "outputs": [
        {
          "output_type": "display_data",
          "data": {
            "image/png": "[encoded data removed]",
            "text/plain": [
              "<Figure size 432x288 with 1 Axes>"
            ]
          },
          "metadata": {
            "tags": [],
            "needs_background": "light"
          }
        }
      ]
    },
    {
      "cell_type": "code",
      "metadata": {
        "id": "8_KzIcGUmNCN"
      },
      "source": [
        "def get_base_growth_constant(base, delta):\n",
        "    return (math.pow(base, delta) - 1) / delta\n"
      ],
      "execution_count": 20,
      "outputs": []
    },
    {
      "cell_type": "code",
      "metadata": {
        "colab": {
          "base_uri": "https://localhost:8080/"
        },
        "id": "FPaAD6C9ntyT",
        "outputId": "60810069-b9bf-4e06-ebfd-4861adab2cdc"
      },
      "source": [
        "base = 2\n",
        "delta = .0001\n",
        "\n",
        "get_base_growth_constant(base, delta)"
      ],
      "execution_count": 25,
      "outputs": [
        {
          "output_type": "execute_result",
          "data": {
            "text/plain": [
              "0.6931712037649973"
            ]
          },
          "metadata": {
            "tags": []
          },
          "execution_count": 25
        }
      ]
    },
    {
      "cell_type": "code",
      "metadata": {
        "id": "cpV5nwfZoA0g"
      },
      "source": [
        "def get_power_derivative(base, power):\n",
        "    \n",
        "    base_growth_constant = get_base_growth_constant(base, delta)\n",
        "\n",
        "    return math.pow(base, power) * base_growth_constant"
      ],
      "execution_count": 27,
      "outputs": []
    },
    {
      "cell_type": "code",
      "metadata": {
        "colab": {
          "base_uri": "https://localhost:8080/"
        },
        "id": "_kWe5DlpocQ8",
        "outputId": "17d5c77d-03f7-4867-ab36-7b152c3a98c8"
      },
      "source": [
        "get_power_derivative(2, 3)"
      ],
      "execution_count": 30,
      "outputs": [
        {
          "output_type": "execute_result",
          "data": {
            "text/plain": [
              "5.545369630119978"
            ]
          },
          "metadata": {
            "tags": []
          },
          "execution_count": 30
        }
      ]
    },
    {
      "cell_type": "code",
      "metadata": {
        "id": "urWUUG88ofn1"
      },
      "source": [
        "derivatives = []\n",
        "\n",
        "base = 2\n",
        "delta = .0001 \n",
        "\n",
        "for val in x:\n",
        "    derivatives.append(\n",
        "        get_power_derivative(base, val)\n",
        "    )"
      ],
      "execution_count": 31,
      "outputs": []
    },
    {
      "cell_type": "code",
      "metadata": {
        "colab": {
          "base_uri": "https://localhost:8080/",
          "height": 265
        },
        "id": "smH2ljeyowzU",
        "outputId": "219694eb-e94e-4f31-9901-ce08ff860cec"
      },
      "source": [
        "plot_xy(x, derivatives)"
      ],
      "execution_count": 32,
      "outputs": [
        {
          "output_type": "display_data",
          "data": {
            "image/png": "[encoded data removed]",
            "text/plain": [
              "<Figure size 432x288 with 1 Axes>"
            ]
          },
          "metadata": {
            "tags": [],
            "needs_background": "light"
          }
        }
      ]
    },
    {
      "cell_type": "code",
      "metadata": {
        "colab": {
          "base_uri": "https://localhost:8080/",
          "height": 269
        },
        "id": "Ym1zRGQaozim",
        "outputId": "fe9b73a3-dd23-4f1d-d512-2415170746ee"
      },
      "source": [
        "plot_xy(x, y)"
      ],
      "execution_count": 33,
      "outputs": [
        {
          "output_type": "display_data",
          "data": {
            "image/png": "[encoded data removed]",
            "text/plain": [
              "<Figure size 432x288 with 1 Axes>"
            ]
          },
          "metadata": {
            "tags": [],
            "needs_background": "light"
          }
        }
      ]
    },
    {
      "cell_type": "markdown",
      "metadata": {
        "id": "5usxSRvhmHTL"
      },
      "source": [
        "---"
      ]
    },
    {
      "cell_type": "code",
      "metadata": {
        "id": "9xQ6Y6b0pCVN"
      },
      "source": [
        "y = []\n",
        "\n",
        "base = math.e \n",
        "\n",
        "for val in x:\n",
        "    y.append(math.pow(base, val))"
      ],
      "execution_count": 34,
      "outputs": []
    },
    {
      "cell_type": "code",
      "metadata": {
        "colab": {
          "base_uri": "https://localhost:8080/"
        },
        "id": "JdQqdsGgpLhM",
        "outputId": "f34993dd-c308-4e87-ebd2-dc37f78ff64f"
      },
      "source": [
        "get_base_growth_constant(\n",
        "    base=math.e,\n",
        "    delta=.000001\n",
        ")"
      ],
      "execution_count": 42,
      "outputs": [
        {
          "output_type": "execute_result",
          "data": {
            "text/plain": [
              "1.0000004999621837"
            ]
          },
          "metadata": {
            "tags": []
          },
          "execution_count": 42
        }
      ]
    },
    {
      "cell_type": "code",
      "metadata": {
        "id": "5nIRvLLLpWxV"
      },
      "source": [
        "derivatives = []\n",
        "\n",
        "base = math.e\n",
        "delta = .0001 \n",
        "\n",
        "for val in x:\n",
        "    derivatives.append(\n",
        "        get_power_derivative(base, val)\n",
        "    )"
      ],
      "execution_count": 36,
      "outputs": []
    },
    {
      "cell_type": "code",
      "metadata": {
        "colab": {
          "base_uri": "https://localhost:8080/",
          "height": 265
        },
        "id": "D8VqzD9kpbcg",
        "outputId": "6e0ea12b-c2bc-458c-d57b-d93f14709fd0"
      },
      "source": [
        "plot_xy(x, derivatives)"
      ],
      "execution_count": 37,
      "outputs": [
        {
          "output_type": "display_data",
          "data": {
            "image/png": "[encoded data removed]",
            "text/plain": [
              "<Figure size 432x288 with 1 Axes>"
            ]
          },
          "metadata": {
            "tags": [],
            "needs_background": "light"
          }
        }
      ]
    },
    {
      "cell_type": "code",
      "metadata": {
        "colab": {
          "base_uri": "https://localhost:8080/",
          "height": 265
        },
        "id": "pu0NZvjApdIy",
        "outputId": "763f5e9f-84c6-4301-9f35-2cf4077bf39a"
      },
      "source": [
        "plot_xy(x, y)"
      ],
      "execution_count": 38,
      "outputs": [
        {
          "output_type": "display_data",
          "data": {
            "image/png": "[encoded data removed]",
            "text/plain": [
              "<Figure size 432x288 with 1 Axes>"
            ]
          },
          "metadata": {
            "tags": [],
            "needs_background": "light"
          }
        }
      ]
    },
    {
      "cell_type": "code",
      "metadata": {
        "colab": {
          "base_uri": "https://localhost:8080/"
        },
        "id": "UaSwWXADl1zH",
        "outputId": "b7fb8d14-e16b-4b43-8978-90950425db13"
      },
      "source": [
        "math.pow(math.e, 8)"
      ],
      "execution_count": 39,
      "outputs": [
        {
          "output_type": "execute_result",
          "data": {
            "text/plain": [
              "2980.957987041727"
            ]
          },
          "metadata": {
            "tags": []
          },
          "execution_count": 39
        }
      ]
    },
    {
      "cell_type": "code",
      "metadata": {
        "colab": {
          "base_uri": "https://localhost:8080/"
        },
        "id": "xuDA1d3NpuLP",
        "outputId": "a40bb5f8-b96f-4afe-95c7-7008be92bff2"
      },
      "source": [
        "get_power_derivative(math.e, 8)"
      ],
      "execution_count": 40,
      "outputs": [
        {
          "output_type": "execute_result",
          "data": {
            "text/plain": [
              "2981.107039910756"
            ]
          },
          "metadata": {
            "tags": []
          },
          "execution_count": 40
        }
      ]
    },
    {
      "cell_type": "code",
      "metadata": {
        "colab": {
          "base_uri": "https://localhost:8080/"
        },
        "id": "pNpjyScfpyw5",
        "outputId": "d268a08c-c726-4370-ed24-cec137e95c86"
      },
      "source": [
        "get_power_derivative(math.e, 7)"
      ],
      "execution_count": 41,
      "outputs": [
        {
          "output_type": "execute_result",
          "data": {
            "text/plain": [
              "1096.6879919146218"
            ]
          },
          "metadata": {
            "tags": []
          },
          "execution_count": 41
        }
      ]
    }
  ]
}