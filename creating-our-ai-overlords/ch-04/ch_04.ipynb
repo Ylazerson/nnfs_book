{
  "nbformat": 4,
  "nbformat_minor": 0,
  "metadata": {
    "colab": {
      "name": "ch_04.ipynb",
      "provenance": [],
      "collapsed_sections": [],
      "toc_visible": true
    },
    "kernelspec": {
      "name": "python3",
      "display_name": "Python 3"
    },
    "language_info": {
      "name": "python"
    }
  },
  "cells": [
    {
      "cell_type": "markdown",
      "metadata": {
        "id": "363KfFhSp4WB"
      },
      "source": [
        "# B\"H"
      ]
    },
    {
      "cell_type": "markdown",
      "metadata": {
        "id": "9tuAis_yqGJt"
      },
      "source": [
        "## Intro"
      ]
    },
    {
      "cell_type": "markdown",
      "metadata": {
        "id": "qXL7tSCxqYLR"
      },
      "source": [
        "We use activation functions because if the activation function itself is nonlinear, it allows for neural networks map nonlinear functions. \n",
        "\n",
        "<br>\n",
        "\n",
        "In general, your neural network will have two types of activation functions. \n",
        "- The first type will be the activation function used in hidden layers (usually will be the same for all of them). \n",
        "- The second type will be used in the output layer."
      ]
    },
    {
      "cell_type": "markdown",
      "metadata": {
        "id": "w9ChcJrdq1KQ"
      },
      "source": [
        "## The Sigmoid Activation Function\n"
      ]
    },
    {
      "cell_type": "markdown",
      "metadata": {
        "id": "4hAm3A1TrVck"
      },
      "source": [
        "\n",
        "Returns a value in the range of 0 for negative infinity, through 0.5 for the input of 0, and to 1 for positive infinity. \n",
        "\n",
        "\n",
        "![](https://drive.google.com/uc?id=17laVogv5ny9jS_QO8aXDlsI5FBOwGuMt)\n",
        "\n",
        "<br>\n",
        "\n",
        "This function, historically used in hidden layers, was eventually replaced by the **Rectified Linear Units** activation function (**ReLU**). \n",
        "\n",
        "That said, we will be using the Sigmoid function as the output layer’s activation function in chapter 16."
      ]
    },
    {
      "cell_type": "markdown",
      "metadata": {
        "id": "Zb6yPGG1sMF-"
      },
      "source": [
        "## The Rectified Linear Activation Function"
      ]
    },
    {
      "cell_type": "markdown",
      "metadata": {
        "id": "OyJpQAWzsTwa"
      },
      "source": [
        "This simple yet powerful activation function is the most widely used activation function at the time of writing for various reasons — mainly speed and efficiency. \n",
        "\n",
        "The ReLU activation function is extremely close to being a linear activation\n",
        "function while remaining nonlinear, due to that bend after 0. This simple property is, however, very effective.\n",
        "\n",
        "![](https://drive.google.com/uc?id=1bv57587yWhRhln8z9otLWNOPQ3d-YNy9)"
      ]
    },
    {
      "cell_type": "markdown",
      "metadata": {
        "id": "nHT2g3eZs36B"
      },
      "source": [
        "## RELU Examples"
      ]
    },
    {
      "cell_type": "code",
      "metadata": {
        "id": "9uSp_ipaxWg9"
      },
      "source": [
        "import numpy as np\n",
        "import matplotlib.pyplot as plt"
      ],
      "execution_count": 53,
      "outputs": []
    },
    {
      "cell_type": "code",
      "metadata": {
        "id": "3EY-99eRurfJ"
      },
      "source": [
        "def relu(val):\n",
        "    return max(0, val)"
      ],
      "execution_count": 47,
      "outputs": []
    },
    {
      "cell_type": "code",
      "metadata": {
        "id": "dh_ekxkP1Thc"
      },
      "source": [
        "input = np.arange(-10.0, 10.0, 0.1) "
      ],
      "execution_count": 55,
      "outputs": []
    },
    {
      "cell_type": "code",
      "metadata": {
        "colab": {
          "base_uri": "https://localhost:8080/"
        },
        "id": "UhLdssl7vMzA",
        "outputId": "5c9c900e-b57e-4beb-be90-8be0521266e0"
      },
      "source": [
        "input.shape"
      ],
      "execution_count": 57,
      "outputs": [
        {
          "output_type": "execute_result",
          "data": {
            "text/plain": [
              "(200,)"
            ]
          },
          "metadata": {
            "tags": []
          },
          "execution_count": 57
        }
      ]
    },
    {
      "cell_type": "code",
      "metadata": {
        "colab": {
          "base_uri": "https://localhost:8080/"
        },
        "id": "u1RJ3PcB16ym",
        "outputId": "2d535dc0-afe5-4b30-c2bd-df05cf18ebe7"
      },
      "source": [
        "input[:5]"
      ],
      "execution_count": 59,
      "outputs": [
        {
          "output_type": "execute_result",
          "data": {
            "text/plain": [
              "array([-10. ,  -9.9,  -9.8,  -9.7,  -9.6])"
            ]
          },
          "metadata": {
            "tags": []
          },
          "execution_count": 59
        }
      ]
    },
    {
      "cell_type": "code",
      "metadata": {
        "id": "pxkYMYbfyIR6"
      },
      "source": [
        "def neuron(input_list, weight, bias):\n",
        "\n",
        "    output = []\n",
        "    for i in input_list:\n",
        "        neuron_output = (i * weight) + bias\n",
        "\n",
        "        output.append(\n",
        "            relu(neuron_output)\n",
        "        )\n",
        "    \n",
        "    return output\n"
      ],
      "execution_count": 61,
      "outputs": []
    },
    {
      "cell_type": "markdown",
      "metadata": {
        "id": "mawDzjWavgJy"
      },
      "source": [
        "### Example 1 (weight = 0, bias = 0)"
      ]
    },
    {
      "cell_type": "code",
      "metadata": {
        "colab": {
          "base_uri": "https://localhost:8080/"
        },
        "id": "B9Db4SxlwzMn",
        "outputId": "38b93cc0-eeae-498f-fc39-0526adb508b5"
      },
      "source": [
        "output = neuron(\n",
        "    input_list=input,\n",
        "    weight = 0.0,\n",
        "    bias = 0.0\n",
        ")\n",
        "\n",
        "output[:5]"
      ],
      "execution_count": 95,
      "outputs": [
        {
          "output_type": "execute_result",
          "data": {
            "text/plain": [
              "[0, 0, 0, 0, 0]"
            ]
          },
          "metadata": {
            "tags": []
          },
          "execution_count": 95
        }
      ]
    },
    {
      "cell_type": "code",
      "metadata": {
        "colab": {
          "base_uri": "https://localhost:8080/",
          "height": 265
        },
        "id": "I_DT-6xCxKH3",
        "outputId": "64800ee2-33ca-409f-8f41-1ee0d21b745c"
      },
      "source": [
        "plt.plot(\n",
        "    input,\n",
        "    output    \n",
        ")\n",
        "\n",
        "plt.grid(axis = 'both')\n",
        "\n",
        "plt.show()"
      ],
      "execution_count": 96,
      "outputs": [
        {
          "output_type": "display_data",
          "data": {
            "image/png": "[encoded data removed]",
            "text/plain": [
              "<Figure size 432x288 with 1 Axes>"
            ]
          },
          "metadata": {
            "tags": [],
            "needs_background": "light"
          }
        }
      ]
    },
    {
      "cell_type": "markdown",
      "metadata": {
        "id": "CdMSqJzzxlf2"
      },
      "source": [
        "### Example 2 (weight = 1, bias = 0)"
      ]
    },
    {
      "cell_type": "code",
      "metadata": {
        "id": "XQzutLNexlgB"
      },
      "source": [
        "output = neuron(\n",
        "    input_list=input,\n",
        "    weight = 1.0,\n",
        "    bias = 0.0\n",
        ")\n"
      ],
      "execution_count": 97,
      "outputs": []
    },
    {
      "cell_type": "code",
      "metadata": {
        "colab": {
          "base_uri": "https://localhost:8080/",
          "height": 265
        },
        "id": "0geaY-1DxlgC",
        "outputId": "4ab6af68-e5b5-4678-98c4-e5770f661dcc"
      },
      "source": [
        "plt.plot(\n",
        "    input,\n",
        "    output    \n",
        ")\n",
        "\n",
        "plt.grid(axis = 'both')\n",
        "plt.show()"
      ],
      "execution_count": 98,
      "outputs": [
        {
          "output_type": "display_data",
          "data": {
            "image/png": "[encoded data removed]",
            "text/plain": [
              "<Figure size 432x288 with 1 Axes>"
            ]
          },
          "metadata": {
            "tags": [],
            "needs_background": "light"
          }
        }
      ]
    },
    {
      "cell_type": "markdown",
      "metadata": {
        "id": "C1wcN_pHx1O5"
      },
      "source": [
        "### Example 3 (weight = 1, bias = 0.5)"
      ]
    },
    {
      "cell_type": "markdown",
      "metadata": {
        "id": "kbKcZEkQyomu"
      },
      "source": [
        "We can see that, in this case, with a **single** neuron, the bias offsets the overall function’s activation point **horizontally**."
      ]
    },
    {
      "cell_type": "code",
      "metadata": {
        "id": "xA_ioYuRx1PD"
      },
      "source": [
        "output = neuron(\n",
        "    input_list=input,\n",
        "    weight = 1.0,\n",
        "    bias = 0.5\n",
        ")\n"
      ],
      "execution_count": 99,
      "outputs": []
    },
    {
      "cell_type": "code",
      "metadata": {
        "colab": {
          "base_uri": "https://localhost:8080/"
        },
        "id": "KCsE4bWZ2fj2",
        "outputId": "f4baea1a-92f4-4ed1-f2f1-b9f07af8d722"
      },
      "source": [
        "output[-5:]"
      ],
      "execution_count": 78,
      "outputs": [
        {
          "output_type": "execute_result",
          "data": {
            "text/plain": [
              "[9.999999999999929,\n",
              " 10.09999999999993,\n",
              " 10.199999999999932,\n",
              " 10.29999999999993,\n",
              " 10.399999999999928]"
            ]
          },
          "metadata": {
            "tags": []
          },
          "execution_count": 78
        }
      ]
    },
    {
      "cell_type": "code",
      "metadata": {
        "colab": {
          "base_uri": "https://localhost:8080/",
          "height": 269
        },
        "id": "wT_FZv-Vx1PE",
        "outputId": "a700e6fa-ec13-431b-b3d9-f53e323f685b"
      },
      "source": [
        "plt.plot(\n",
        "    input,\n",
        "    output    \n",
        ")\n",
        "\n",
        "plt.xlim(-2, 2)\n",
        "plt.ylim(-1, 3)\n",
        "plt.grid(axis = 'both')\n",
        "\n",
        "plt.show()"
      ],
      "execution_count": 101,
      "outputs": [
        {
          "output_type": "display_data",
          "data": {
            "image/png": "[encoded data removed]",
            "text/plain": [
              "<Figure size 432x288 with 1 Axes>"
            ]
          },
          "metadata": {
            "tags": [],
            "needs_background": "light"
          }
        }
      ]
    },
    {
      "cell_type": "markdown",
      "metadata": {
        "id": "N0ggS3FZyurq"
      },
      "source": [
        "### Example 4 (weight = -1, bias = 0.5)"
      ]
    },
    {
      "cell_type": "markdown",
      "metadata": {
        "id": "F-dQDdY4yurr"
      },
      "source": [
        "With a **negative weight** and this single neuron, the function has become a question of when this neuron **deactivates**. "
      ]
    },
    {
      "cell_type": "code",
      "metadata": {
        "id": "4VTGextXyurr"
      },
      "source": [
        "output = neuron(\n",
        "    input_list=input,\n",
        "    weight = -1.0,\n",
        "    bias = 0.5\n",
        ")"
      ],
      "execution_count": 102,
      "outputs": []
    },
    {
      "cell_type": "code",
      "metadata": {
        "colab": {
          "base_uri": "https://localhost:8080/",
          "height": 269
        },
        "id": "XQs7fRUvyurs",
        "outputId": "b0e345bd-0350-4e22-b75e-aabd95871f82"
      },
      "source": [
        "plt.plot(\n",
        "    input,\n",
        "    output    \n",
        ")\n",
        "\n",
        "plt.xlim(-2, 2)\n",
        "plt.ylim(-1, 3)\n",
        "plt.grid(axis = 'both')\n",
        "\n",
        "plt.show()"
      ],
      "execution_count": 104,
      "outputs": [
        {
          "output_type": "display_data",
          "data": {
            "image/png": "[encoded data removed]",
            "text/plain": [
              "<Figure size 432x288 with 1 Axes>"
            ]
          },
          "metadata": {
            "tags": [],
            "needs_background": "light"
          }
        }
      ]
    },
    {
      "cell_type": "markdown",
      "metadata": {
        "id": "lYgTnuFjzI1f"
      },
      "source": [
        "### Example 4 (`weight_1 = -1, bias_1 = 0.5, weight_2 = 1, bias_2 = 1`)"
      ]
    },
    {
      "cell_type": "markdown",
      "metadata": {
        "id": "cxjx_xiszI1f"
      },
      "source": [
        "The bias of the second neuron indeed shifted the overall function, but, rather than shifting it horizontally, it shifted the function **vertically**."
      ]
    },
    {
      "cell_type": "code",
      "metadata": {
        "id": "vSGl1l_zzI1f"
      },
      "source": [
        "output_layer_1 = neuron(\n",
        "    input_list=input,\n",
        "    weight = -1.0,\n",
        "    bias = 0.5\n",
        ")"
      ],
      "execution_count": 105,
      "outputs": []
    },
    {
      "cell_type": "code",
      "metadata": {
        "id": "ijPJneOmz1PO"
      },
      "source": [
        "output_layer_2 = neuron(\n",
        "    input_list=output_layer_1,\n",
        "    weight = 1.0,\n",
        "    bias = 1.0\n",
        ")"
      ],
      "execution_count": 106,
      "outputs": []
    },
    {
      "cell_type": "code",
      "metadata": {
        "colab": {
          "base_uri": "https://localhost:8080/",
          "height": 269
        },
        "id": "GcF2-WiJzI1g",
        "outputId": "69e1f009-f117-488a-d846-25ed654c2814"
      },
      "source": [
        "plt.plot(\n",
        "    input,\n",
        "    output_layer_2    \n",
        ")\n",
        "\n",
        "plt.xlim(-2, 2)\n",
        "plt.ylim(-1, 3)\n",
        "plt.grid(axis = 'both')\n",
        "\n",
        "plt.show()"
      ],
      "execution_count": 107,
      "outputs": [
        {
          "output_type": "display_data",
          "data": {
            "image/png": "[encoded data removed]",
            "text/plain": [
              "<Figure size 432x288 with 1 Axes>"
            ]
          },
          "metadata": {
            "tags": [],
            "needs_background": "light"
          }
        }
      ]
    },
    {
      "cell_type": "markdown",
      "metadata": {
        "id": "sZZ9LUAk0uym"
      },
      "source": [
        "### Example 4 (`weight_1 = -1, bias_1 = 0.5, weight_2 = -2, bias_2 = 1`)"
      ]
    },
    {
      "cell_type": "markdown",
      "metadata": {
        "id": "dt0nkGpD0uyn"
      },
      "source": [
        "Something exciting has occurred! \n",
        "\n",
        "In this example, we have both an **activation** and a **deactivation** point. \n",
        "\n",
        "When both neurons are activated, when their “area of effect” comes into play,\n",
        "they produce values in the range of the granular, variable, and output. \n",
        "\n",
        "If any neuron in the pair is inactive, the pair will produce non-variable output.\n",
        "\n",
        "---\n",
        "\n",
        "[Animation 1](https://www.youtube.com/watch?v=joA6fEAbAQc)\n",
        "\n",
        "[Animation 2](https://www.youtube.com/watch?v=V_O17HPzu3Q)"
      ]
    },
    {
      "cell_type": "code",
      "metadata": {
        "id": "eECMjk0r0uyn"
      },
      "source": [
        "output_layer_1 = neuron(\n",
        "    input_list=input,\n",
        "    weight = -1.0,\n",
        "    bias = 0.5\n",
        ")"
      ],
      "execution_count": 108,
      "outputs": []
    },
    {
      "cell_type": "code",
      "metadata": {
        "id": "JzBM5rI80uyn"
      },
      "source": [
        "output_layer_2 = neuron(\n",
        "    input_list=output_layer_1,\n",
        "    weight = -2.0,\n",
        "    bias = 1.0\n",
        ")"
      ],
      "execution_count": 109,
      "outputs": []
    },
    {
      "cell_type": "code",
      "metadata": {
        "colab": {
          "base_uri": "https://localhost:8080/",
          "height": 269
        },
        "id": "lyU2drpk0uyn",
        "outputId": "5f95c9ae-c0eb-41e6-bcdf-f60a22e35a5d"
      },
      "source": [
        "plt.plot(\n",
        "    input,\n",
        "    output_layer_2    \n",
        ")\n",
        "\n",
        "\n",
        "plt.xlim(-2, 2)\n",
        "plt.ylim(-1, 3)\n",
        "plt.grid(axis = 'both')\n",
        "\n",
        "plt.show()"
      ],
      "execution_count": 112,
      "outputs": [
        {
          "output_type": "display_data",
          "data": {
            "image/png": "[encoded data removed]",
            "text/plain": [
              "<Figure size 432x288 with 1 Axes>"
            ]
          },
          "metadata": {
            "tags": [],
            "needs_background": "light"
          }
        }
      ]
    },
    {
      "cell_type": "code",
      "metadata": {
        "id": "UpmCaswd4k-A"
      },
      "source": [
        ""
      ],
      "execution_count": null,
      "outputs": []
    }
  ]
}