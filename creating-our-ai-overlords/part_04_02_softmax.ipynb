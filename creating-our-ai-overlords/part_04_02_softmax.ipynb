{
  "nbformat": 4,
  "nbformat_minor": 0,
  "metadata": {
    "colab": {
      "name": "part_04_02_softmax.ipynb",
      "provenance": [],
      "collapsed_sections": [],
      "toc_visible": true
    },
    "kernelspec": {
      "display_name": "Python 3",
      "name": "python3"
    },
    "language_info": {
      "name": "python"
    }
  },
  "cells": [
    {
      "cell_type": "markdown",
      "metadata": {
        "id": "qhNIGwt4rVxg"
      },
      "source": [
        "## Softmax Activation Function\n",
        "\n",
        "<br>\n",
        "\n",
        "![](https://drive.google.com/uc?id=1OngR478lvQM7OWBvvKOo_5lX_J8TKf8U)\n",
        "\n",
        "<br>"
      ]
    },
    {
      "cell_type": "markdown",
      "metadata": {
        "id": "Xp8YGdvHpVsJ"
      },
      "source": [
        "### Logits"
      ]
    },
    {
      "cell_type": "code",
      "metadata": {
        "id": "V2pZ5gIQraTL"
      },
      "source": [
        "logits = [.9, .7]"
      ],
      "execution_count": null,
      "outputs": []
    },
    {
      "cell_type": "code",
      "metadata": {
        "id": "jXQA9iGjru6W"
      },
      "source": [
        "cat_logit = logits[0]\n",
        "dog_logit = logits[1]"
      ],
      "execution_count": null,
      "outputs": []
    },
    {
      "cell_type": "markdown",
      "metadata": {
        "id": "tbFZN3-1pd4d"
      },
      "source": [
        "### Cat/dog example"
      ]
    },
    {
      "cell_type": "code",
      "metadata": {
        "id": "i6XpkCk-r5Yh"
      },
      "source": [
        "import math"
      ],
      "execution_count": null,
      "outputs": []
    },
    {
      "cell_type": "code",
      "metadata": {
        "id": "w7NTAp5nsGLH"
      },
      "source": [
        "denominator = math.pow(math.e, cat_logit) + math.pow(math.e, dog_logit)"
      ],
      "execution_count": null,
      "outputs": []
    },
    {
      "cell_type": "code",
      "metadata": {
        "colab": {
          "base_uri": "https://localhost:8080/"
        },
        "id": "9gYt8AbbsL1y",
        "outputId": "6e23e44b-d094-4609-a973-448badc375e0"
      },
      "source": [
        "denominator"
      ],
      "execution_count": null,
      "outputs": [
        {
          "output_type": "execute_result",
          "data": {
            "text/plain": [
              "4.473355818627425"
            ]
          },
          "metadata": {
            "tags": []
          },
          "execution_count": 6
        }
      ]
    },
    {
      "cell_type": "code",
      "metadata": {
        "colab": {
          "base_uri": "https://localhost:8080/"
        },
        "id": "C4lCfsmhsM4Y",
        "outputId": "1e4bdd74-753c-4ab9-e322-a21f9a6bce7a"
      },
      "source": [
        "cat_prob = math.pow(math.e, cat_logit) / denominator\n",
        "\n",
        "cat_prob"
      ],
      "execution_count": null,
      "outputs": [
        {
          "output_type": "execute_result",
          "data": {
            "text/plain": [
              "0.549833997312478"
            ]
          },
          "metadata": {
            "tags": []
          },
          "execution_count": 7
        }
      ]
    },
    {
      "cell_type": "code",
      "metadata": {
        "colab": {
          "base_uri": "https://localhost:8080/"
        },
        "id": "_1vdhdUTsT_y",
        "outputId": "6bd8aa9a-5851-4abd-d1fe-d4dc0b6618e0"
      },
      "source": [
        "dog_prob = math.pow(math.e, dog_logit) / denominator\n",
        "\n",
        "dog_prob"
      ],
      "execution_count": null,
      "outputs": [
        {
          "output_type": "execute_result",
          "data": {
            "text/plain": [
              "0.4501660026875221"
            ]
          },
          "metadata": {
            "tags": []
          },
          "execution_count": 8
        }
      ]
    },
    {
      "cell_type": "code",
      "metadata": {
        "colab": {
          "base_uri": "https://localhost:8080/"
        },
        "id": "d-KKzGJ-sYKN",
        "outputId": "0a8ae1df-f704-460b-8ba6-e20e1a6b9e71"
      },
      "source": [
        "cat_prob + dog_prob"
      ],
      "execution_count": null,
      "outputs": [
        {
          "output_type": "execute_result",
          "data": {
            "text/plain": [
              "1.0"
            ]
          },
          "metadata": {
            "tags": []
          },
          "execution_count": 10
        }
      ]
    },
    {
      "cell_type": "markdown",
      "metadata": {
        "id": "hUDj4dgOsvDT"
      },
      "source": [
        "### Create softmax function\n"
      ]
    },
    {
      "cell_type": "code",
      "metadata": {
        "id": "rDyeouVSswG7"
      },
      "source": [
        "def softmax(x_array):\n",
        "\n",
        "    denominator = 0\n",
        "    for x in x_array:\n",
        "        denominator += math.pow(math.e, x)\n",
        "\n",
        "    probs = []\n",
        "    for x in x_array:\n",
        "        probs.append(\n",
        "            math.pow(math.e, x) / denominator\n",
        "        )\n",
        "\n",
        "    return probs\n"
      ],
      "execution_count": null,
      "outputs": []
    },
    {
      "cell_type": "markdown",
      "metadata": {
        "id": "d-KaSGkmpvmL"
      },
      "source": [
        "### Cat/dog example"
      ]
    },
    {
      "cell_type": "code",
      "metadata": {
        "colab": {
          "base_uri": "https://localhost:8080/"
        },
        "id": "XJKv09S0tSW9",
        "outputId": "e10e0223-d52f-49cf-f0f5-03af2b4ec9a9"
      },
      "source": [
        "logits = [.9, .7]\n",
        "\n",
        "CAT_IDX = 0\n",
        "DOG_IDX = 1\n",
        "\n",
        "probs = softmax(logits)\n",
        "\n",
        "print(f'Cat: {probs[CAT_IDX]}, Dog: {probs[DOG_IDX]}')"
      ],
      "execution_count": null,
      "outputs": [
        {
          "output_type": "stream",
          "text": [
            "Cat: 0.549833997312478, Dog: 0.4501660026875221\n"
          ],
          "name": "stdout"
        }
      ]
    },
    {
      "cell_type": "markdown",
      "metadata": {
        "id": "_w9Xp_h7pybd"
      },
      "source": [
        "### Example with 4 logits"
      ]
    },
    {
      "cell_type": "code",
      "metadata": {
        "colab": {
          "base_uri": "https://localhost:8080/"
        },
        "id": "RAIreUMPsGYb",
        "outputId": "0d1ece85-7c57-4e9e-e12b-dc9a981e8e22"
      },
      "source": [
        "logits = [.9, .7, .6, .0001]\n",
        "\n",
        "HOUSE_IDX = 0\n",
        "TREE_IDX = 1\n",
        "LIZARD_IDX = 2\n",
        "SKUNK_IDX = 3\n",
        "\n",
        "probs = softmax(logits)\n",
        "\n",
        "print(f'House: {probs[HOUSE_IDX]}, Tree: {probs[TREE_IDX]}, Lizard: {probs[LIZARD_IDX]}, Skunk: {probs[SKUNK_IDX]}')"
      ],
      "execution_count": null,
      "outputs": [
        {
          "output_type": "stream",
          "text": [
            "House: 0.3371363104229755, Tree: 0.276023865322535, Lizard: 0.24975672161474802, Skunk: 0.13708310263974147\n"
          ],
          "name": "stdout"
        }
      ]
    },
    {
      "cell_type": "code",
      "metadata": {
        "colab": {
          "base_uri": "https://localhost:8080/"
        },
        "id": "KXoZIvY_sGap",
        "outputId": "21b270c1-0678-4495-a0e1-06bbfd3603f9"
      },
      "source": [
        "sum_val = 0\n",
        "\n",
        "for prob in probs:\n",
        "    sum_val += prob\n",
        "\n",
        "sum_val"
      ],
      "execution_count": null,
      "outputs": [
        {
          "output_type": "execute_result",
          "data": {
            "text/plain": [
              "1.0"
            ]
          },
          "metadata": {
            "tags": []
          },
          "execution_count": 20
        }
      ]
    },
    {
      "cell_type": "markdown",
      "metadata": {
        "id": "9XmaxfvevJLS"
      },
      "source": [
        "### Translational Invariance\n",
        "\n",
        "See: https://stats.stackexchange.com/questions/208936/what-is-translation-invariance-in-computer-vision-and-convolutional-neural-netwo"
      ]
    },
    {
      "cell_type": "code",
      "metadata": {
        "id": "8c6ObiA0vKZ1"
      },
      "source": [
        "list_of_logits = [\n",
        "    [1, 4],\n",
        "    [101, 104],\n",
        "    [-101, -104],                      \n",
        "]"
      ],
      "execution_count": null,
      "outputs": []
    },
    {
      "cell_type": "code",
      "metadata": {
        "colab": {
          "base_uri": "https://localhost:8080/"
        },
        "id": "6D3aVX8ivZ0u",
        "outputId": "006ef761-9cf4-4be0-de22-c5a48faef84a"
      },
      "source": [
        "for logits in list_of_logits:\n",
        "    print(\n",
        "        softmax(logits)\n",
        "    )"
      ],
      "execution_count": null,
      "outputs": [
        {
          "output_type": "stream",
          "text": [
            "[0.04742587317756678, 0.9525741268224331]\n",
            "[0.04742587317756679, 0.9525741268224331]\n",
            "[0.9525741268224333, 0.04742587317756679]\n"
          ],
          "name": "stdout"
        }
      ]
    },
    {
      "cell_type": "markdown",
      "metadata": {
        "id": "Z3vz86yBsGcs"
      },
      "source": [
        "### Note\n",
        "\n",
        "Why use softmax as opposed to standard normalization?\n",
        "- https://stackoverflow.com/questions/17187507/why-use-softmax-as-opposed-to-standard-normalization"
      ]
    },
    {
      "cell_type": "markdown",
      "metadata": {
        "id": "WdefqN9BsDt0"
      },
      "source": [
        "### With 1 logit = 1 ... duh!"
      ]
    },
    {
      "cell_type": "code",
      "metadata": {
        "id": "O5VTHn7mq0Sd"
      },
      "source": [
        "import numpy as np"
      ],
      "execution_count": null,
      "outputs": []
    },
    {
      "cell_type": "code",
      "metadata": {
        "colab": {
          "base_uri": "https://localhost:8080/"
        },
        "id": "apLQPTcGrZOW",
        "outputId": "1833e82b-018f-45ec-b5f4-d014ae1d7f03"
      },
      "source": [
        "for x in np.arange(-10, 10):\n",
        "    print(softmax([x])[0])"
      ],
      "execution_count": null,
      "outputs": [
        {
          "output_type": "stream",
          "text": [
            "1.0\n",
            "1.0\n",
            "1.0\n",
            "1.0\n",
            "1.0\n",
            "1.0\n",
            "1.0\n",
            "1.0\n",
            "1.0\n",
            "1.0\n",
            "1.0\n",
            "1.0\n",
            "1.0\n",
            "1.0\n",
            "1.0\n",
            "1.0\n",
            "1.0\n",
            "1.0\n",
            "1.0\n",
            "1.0\n"
          ],
          "name": "stdout"
        }
      ]
    },
    {
      "cell_type": "markdown",
      "source": [
        "## The Softmax Activation Function"
      ],
      "metadata": {
        "id": "WnRq2zKOqc-s"
      }
    },
    {
      "cell_type": "markdown",
      "metadata": {
        "id": "lLCF8G2ohgU9"
      },
      "source": [
        "In our case, we’re looking to get this model to be a **classifier**, so we want an activation function meant for classification. \n",
        "\n",
        "The softmax activation function can take in non-normalized, or uncalibrated, inputs and produce a normalized distribution of probabilities for our classes. \n",
        "\n",
        "This distribution returned by the softmax activation function represents **confidence scores** for each class and will add up to 1. \n",
        "\n",
        "<br>\n",
        "\n",
        "![](https://drive.google.com/uc?id=1OngR478lvQM7OWBvvKOo_5lX_J8TKf8U)\n",
        "\n",
        "<br>\n",
        "\n",
        "The numerator exponentiates the current output value and the denominator takes a sum of all of the exponentiated outputs for a given sample.\n",
        "\n",
        "---\n",
        "\n",
        "Exponentiation serves multiple purposes. \n",
        "\n",
        "An exponential value of any number is always nonnegative; returns: \n",
        "- 0 for negative infinity \n",
        "- 1 for the input of 0 \n",
        "- increases for positive values\n",
        "\n",
        "![](https://drive.google.com/uc?id=1HroSgcamG-yFwdbvLTa30Ku9xdG8onx8)\n",
        "\n",
        "---\n",
        "\n",
        "The exponential function is a **monotonic function**: with higher input values,\n",
        "outputs are also higher, so we won’t change the predicted class after applying it while making sure that we get non-negative values. \n",
        "\n",
        "It also adds stability to the result as the **normalized exponentiation** is more about the difference between numbers than their magnitudes."
      ]
    },
    {
      "cell_type": "markdown",
      "metadata": {
        "id": "y1CThrzm40yi"
      },
      "source": [
        "## Interlude - `np.sum`"
      ]
    },
    {
      "cell_type": "markdown",
      "metadata": {
        "id": "E4TnqQYNGIRU"
      },
      "source": [
        "**Important Note** \n",
        "\n",
        "> With arrays, do not think of rows, columns, etc. because it might confuse you so that you think that the one dimension is more \"higher-up\" than another dimension - like the rows contain columns/fields. \n",
        ">\n",
        "> That is **wrong** - all dimensions are equal. So if you have a 3*3*3 array, think of it as a Rubik's cube, where each dimension is just as \"important\" - none \"contain\" the other. \n",
        ">\n",
        "> Same obivously applies when there is more than 3 dimensions as well ..."
      ]
    },
    {
      "cell_type": "code",
      "metadata": {
        "colab": {
          "base_uri": "https://localhost:8080/"
        },
        "id": "282xhIJdHGAt",
        "outputId": "3eb2caa5-06bf-4b8d-ed71-07b1f00d5c1c"
      },
      "source": [
        "cube = np.ones((3, 3, 3))\n",
        "\n",
        "cube"
      ],
      "execution_count": null,
      "outputs": [
        {
          "output_type": "execute_result",
          "data": {
            "text/plain": [
              "array([[[1., 1., 1.],\n",
              "        [1., 1., 1.],\n",
              "        [1., 1., 1.]],\n",
              "\n",
              "       [[1., 1., 1.],\n",
              "        [1., 1., 1.],\n",
              "        [1., 1., 1.]],\n",
              "\n",
              "       [[1., 1., 1.],\n",
              "        [1., 1., 1.],\n",
              "        [1., 1., 1.]]])"
            ]
          },
          "metadata": {
            "tags": []
          },
          "execution_count": 34
        }
      ]
    },
    {
      "cell_type": "code",
      "metadata": {
        "colab": {
          "base_uri": "https://localhost:8080/"
        },
        "id": "9A6Py-dHHaL5",
        "outputId": "3fec6d3b-7f28-4099-8fa9-b6cbb5a35d99"
      },
      "source": [
        "cube[0]"
      ],
      "execution_count": null,
      "outputs": [
        {
          "output_type": "execute_result",
          "data": {
            "text/plain": [
              "array([[1., 1., 1.],\n",
              "       [1., 1., 1.],\n",
              "       [1., 1., 1.]])"
            ]
          },
          "metadata": {
            "tags": []
          },
          "execution_count": 35
        }
      ]
    },
    {
      "cell_type": "code",
      "metadata": {
        "colab": {
          "base_uri": "https://localhost:8080/"
        },
        "id": "Sv__ID9QHnbq",
        "outputId": "a9825d2a-5800-434e-fb31-08225caf013d"
      },
      "source": [
        "cube[0][0]"
      ],
      "execution_count": null,
      "outputs": [
        {
          "output_type": "execute_result",
          "data": {
            "text/plain": [
              "array([1., 1., 1.])"
            ]
          },
          "metadata": {
            "tags": []
          },
          "execution_count": 36
        }
      ]
    },
    {
      "cell_type": "code",
      "metadata": {
        "colab": {
          "base_uri": "https://localhost:8080/"
        },
        "id": "GQ22PjuVHr1l",
        "outputId": "dcdcbdc1-1fab-4774-d375-79b71b608bf5"
      },
      "source": [
        "cube[0][0][0]"
      ],
      "execution_count": null,
      "outputs": [
        {
          "output_type": "execute_result",
          "data": {
            "text/plain": [
              "1.0"
            ]
          },
          "metadata": {
            "tags": []
          },
          "execution_count": 25
        }
      ]
    },
    {
      "cell_type": "code",
      "metadata": {
        "colab": {
          "base_uri": "https://localhost:8080/"
        },
        "id": "11E_AEcCHxq-",
        "outputId": "b52f5d4e-a234-42f1-c259-b2bf18b7c1a0"
      },
      "source": [
        "cube[0][0][0] = 5.0\n",
        "cube[1][0][0] = 55.0\n",
        "cube[2][0][0] = 99.0\n",
        "\n",
        "cube"
      ],
      "execution_count": null,
      "outputs": [
        {
          "output_type": "execute_result",
          "data": {
            "text/plain": [
              "array([[[ 5.,  1.,  1.],\n",
              "        [ 1.,  1.,  1.],\n",
              "        [ 1.,  1.,  1.]],\n",
              "\n",
              "       [[55.,  1.,  1.],\n",
              "        [ 1.,  1.,  1.],\n",
              "        [ 1.,  1.,  1.]],\n",
              "\n",
              "       [[99.,  1.,  1.],\n",
              "        [ 1.,  1.,  1.],\n",
              "        [ 1.,  1.,  1.]]])"
            ]
          },
          "metadata": {
            "tags": []
          },
          "execution_count": 38
        }
      ]
    },
    {
      "cell_type": "code",
      "metadata": {
        "colab": {
          "base_uri": "https://localhost:8080/"
        },
        "id": "Lo7iDKkd8yDy",
        "outputId": "debe4399-78e6-4e04-9617-4dfe0c82ace0"
      },
      "source": [
        "cube.shape"
      ],
      "execution_count": null,
      "outputs": [
        {
          "output_type": "execute_result",
          "data": {
            "text/plain": [
              "(3, 3, 3)"
            ]
          },
          "metadata": {
            "tags": []
          },
          "execution_count": 39
        }
      ]
    },
    {
      "cell_type": "markdown",
      "metadata": {
        "id": "exe4tqDY8mHW"
      },
      "source": [
        "**Sum without axis**"
      ]
    },
    {
      "cell_type": "code",
      "metadata": {
        "colab": {
          "base_uri": "https://localhost:8080/"
        },
        "id": "vZhQLM_w9ANl",
        "outputId": "a327caf5-82a5-4d4c-8dff-d48e71c946e4"
      },
      "source": [
        "np.sum(cube)"
      ],
      "execution_count": null,
      "outputs": [
        {
          "output_type": "execute_result",
          "data": {
            "text/plain": [
              "183.0"
            ]
          },
          "metadata": {
            "tags": []
          },
          "execution_count": 40
        }
      ]
    },
    {
      "cell_type": "markdown",
      "metadata": {
        "id": "IaOKjIqY9C3f"
      },
      "source": [
        "...or:"
      ]
    },
    {
      "cell_type": "code",
      "metadata": {
        "colab": {
          "base_uri": "https://localhost:8080/"
        },
        "id": "BqlFw2xq9FcW",
        "outputId": "3596f851-32f2-4da0-b04a-a1ce3c4f7eae"
      },
      "source": [
        "np.sum(cube, axis=None)"
      ],
      "execution_count": null,
      "outputs": [
        {
          "output_type": "execute_result",
          "data": {
            "text/plain": [
              "183.0"
            ]
          },
          "metadata": {
            "tags": []
          },
          "execution_count": 41
        }
      ]
    },
    {
      "cell_type": "markdown",
      "metadata": {
        "id": "7K6YQ8oz9IZZ"
      },
      "source": [
        "**Sum with axis 0**\n",
        "\n",
        "Collapse dimension 0 into remaining dimensions."
      ]
    },
    {
      "cell_type": "code",
      "metadata": {
        "colab": {
          "base_uri": "https://localhost:8080/"
        },
        "id": "yCBPI64E9RNz",
        "outputId": "decbbc24-b935-4886-e492-d5c549b8c217"
      },
      "source": [
        "np.sum(cube, axis=0)"
      ],
      "execution_count": null,
      "outputs": [
        {
          "output_type": "execute_result",
          "data": {
            "text/plain": [
              "array([[159.,   3.,   3.],\n",
              "       [  3.,   3.,   3.],\n",
              "       [  3.,   3.,   3.]])"
            ]
          },
          "metadata": {
            "tags": []
          },
          "execution_count": 43
        }
      ]
    },
    {
      "cell_type": "markdown",
      "metadata": {
        "id": "DwWmM6yz92Cc"
      },
      "source": [
        "**Sum with axis 1**\n",
        "\n",
        "Collapse dimension 1 into remaining dimensions."
      ]
    },
    {
      "cell_type": "code",
      "metadata": {
        "colab": {
          "base_uri": "https://localhost:8080/"
        },
        "id": "j6prtb4V92Cc",
        "outputId": "07463902-346c-441d-d377-5f5b50b86056"
      },
      "source": [
        "np.sum(cube, axis=1)"
      ],
      "execution_count": null,
      "outputs": [
        {
          "output_type": "execute_result",
          "data": {
            "text/plain": [
              "array([[  7.,   3.,   3.],\n",
              "       [ 57.,   3.,   3.],\n",
              "       [101.,   3.,   3.]])"
            ]
          },
          "metadata": {
            "tags": []
          },
          "execution_count": 44
        }
      ]
    },
    {
      "cell_type": "markdown",
      "metadata": {
        "id": "iqiDmzLb4TfY"
      },
      "source": [
        "**Perfect - but now let's keep the same dimension as the input (same number of dimensions, not that each dimension will have same size)**\n"
      ]
    },
    {
      "cell_type": "code",
      "metadata": {
        "colab": {
          "base_uri": "https://localhost:8080/"
        },
        "id": "eYOrC98RCbM5",
        "outputId": "da469485-1257-4e8e-be0d-04b3ec2354cf"
      },
      "source": [
        "new_array = np.sum(cube, axis=1, keepdims=True)\n",
        "\n",
        "new_array"
      ],
      "execution_count": null,
      "outputs": [
        {
          "output_type": "execute_result",
          "data": {
            "text/plain": [
              "array([[[  7.,   3.,   3.]],\n",
              "\n",
              "       [[ 57.,   3.,   3.]],\n",
              "\n",
              "       [[101.,   3.,   3.]]])"
            ]
          },
          "metadata": {
            "tags": []
          },
          "execution_count": 46
        }
      ]
    },
    {
      "cell_type": "code",
      "metadata": {
        "colab": {
          "base_uri": "https://localhost:8080/"
        },
        "id": "6B058h5AJe8X",
        "outputId": "e0292712-152d-4216-9bee-fcc00e609d83"
      },
      "source": [
        "new_array.shape"
      ],
      "execution_count": null,
      "outputs": [
        {
          "output_type": "execute_result",
          "data": {
            "text/plain": [
              "(3, 1, 3)"
            ]
          },
          "metadata": {
            "tags": []
          },
          "execution_count": 47
        }
      ]
    },
    {
      "cell_type": "code",
      "metadata": {
        "colab": {
          "base_uri": "https://localhost:8080/"
        },
        "id": "0o_E152vJg9U",
        "outputId": "77cf1426-dc51-46ce-f927-3b292c54f084"
      },
      "source": [
        "cube.shape"
      ],
      "execution_count": null,
      "outputs": [
        {
          "output_type": "execute_result",
          "data": {
            "text/plain": [
              "(3, 3, 3)"
            ]
          },
          "metadata": {
            "tags": []
          },
          "execution_count": 49
        }
      ]
    },
    {
      "cell_type": "code",
      "metadata": {
        "colab": {
          "base_uri": "https://localhost:8080/"
        },
        "id": "KtJRIH6tJjOB",
        "outputId": "888eb2d6-c2e1-4cbb-b370-7c29dfc1be9a"
      },
      "source": [
        "print(\n",
        "    len(new_array.shape),\n",
        "    len(cube.shape)\n",
        ")"
      ],
      "execution_count": null,
      "outputs": [
        {
          "output_type": "stream",
          "text": [
            "3 3\n"
          ],
          "name": "stdout"
        }
      ]
    },
    {
      "cell_type": "markdown",
      "metadata": {
        "id": "Qph-WeKOCaMb"
      },
      "source": [
        "## Exploding Values"
      ]
    },
    {
      "cell_type": "markdown",
      "metadata": {
        "id": "kG-iAODm3es1"
      },
      "source": [
        "Finally, we'll also include a subtraction of the largest of the inputs before exponentiation (see full code at end).\n",
        "\n",
        "```py\n",
        "# Get unnormalized probabilities\n",
        "exp_values = np.exp(\n",
        "    inputs - np.max(inputs, axis=1, keepdims=True)\n",
        ")\n",
        "```\n",
        "\n",
        "\n",
        "There are two main pervasive challenges with neural networks: “dead neurons”\n",
        "and very large numbers (referred to as “exploding” values). \n",
        "\n",
        "“Dead” neurons and enormous numbers can wreak havoc down the line and render a network useless over time. \n",
        "\n",
        "The exponential function used in softmax activation is one of the sources of exploding values. \n",
        "\n",
        "---\n",
        "\n",
        "We know the exponential function tends toward 0 as its input value approaches negative infinity, and the output is 1 when the input is 0. \n",
        "\n",
        "We can use this property to prevent the exponential function from overflowing. \n",
        "\n",
        "Suppose we subtract the maximum value from a list of input values. We would then change the output values to always be in a range from some negative value up to 0, as the largest number subtracted by itself returns 0, and any smaller number subtracted by it will result in a negative number - exactly the range discussed above. \n",
        "\n",
        "<br>\n",
        "\n",
        "**With Softmax, thanks to the normalization, we can subtract any\n",
        "value from all of the inputs, and it will not change the output.**\n"
      ]
    },
    {
      "cell_type": "code",
      "metadata": {
        "colab": {
          "base_uri": "https://localhost:8080/"
        },
        "id": "L2GUozgpEgH9",
        "outputId": "bb9a6361-5cd0-4a61-82f4-6f9259754230"
      },
      "source": [
        "print(f'''\n",
        "    exp(-np.inf): {np.exp(-np.inf)}\n",
        "    exp(-3)     : {np.exp(-3)}\n",
        "    exp(-2)     : {np.exp(-2)}\n",
        "    exp(-1)     : {np.exp(-1)}\n",
        "    exp(-.5)    : {np.exp(-.5)}\n",
        "    exp(0)      : {np.exp(0)}\n",
        "'''    \n",
        ")"
      ],
      "execution_count": null,
      "outputs": [
        {
          "output_type": "stream",
          "text": [
            "\n",
            "    exp(-np.inf): 0.0\n",
            "    exp(-3)     : 0.049787068367863944\n",
            "    exp(-2)     : 0.1353352832366127\n",
            "    exp(-1)     : 0.36787944117144233\n",
            "    exp(-.5)    : 0.6065306597126334\n",
            "    exp(0)      : 1.0\n",
            "\n"
          ],
          "name": "stdout"
        }
      ]
    },
    {
      "cell_type": "markdown",
      "metadata": {
        "id": "NPS-9dxHOZ-3"
      },
      "source": [
        "## Note - Softmax is Translationally Invariant"
      ]
    },
    {
      "cell_type": "markdown",
      "metadata": {
        "id": "hZvsRDJTOg9E"
      },
      "source": [
        "https://towardsdatascience.com/the-big-issue-with-softmax-cd6169fede8f\n",
        "- **However**, see comments - seems okay afterall"
      ]
    },
    {
      "cell_type": "code",
      "metadata": {
        "id": "RieNhyyPOoJ-"
      },
      "source": [
        "def softmax(x):\n",
        "    return np.exp(x) / np.exp(x).sum()"
      ],
      "execution_count": null,
      "outputs": []
    },
    {
      "cell_type": "markdown",
      "metadata": {
        "id": "6-mnoLoBOp7n"
      },
      "source": [
        "Instead of thinking about the output as actual class probabilities, view it as an indication based on the scores, which class is the most likely. \n"
      ]
    },
    {
      "cell_type": "code",
      "metadata": {
        "colab": {
          "base_uri": "https://localhost:8080/"
        },
        "id": "oSIU3eEeO7sJ",
        "outputId": "2d30f8fa-ba2b-4834-abe0-d6b10a8e1c34"
      },
      "source": [
        "print(softmax([1, 4]))\n",
        "print(softmax([101, 104]))\n",
        "print(softmax([-54, -51]))"
      ],
      "execution_count": null,
      "outputs": [
        {
          "output_type": "stream",
          "text": [
            "[0.04742587 0.95257413]\n",
            "[0.04742587 0.95257413]\n",
            "[0.04742587 0.95257413]\n"
          ],
          "name": "stdout"
        }
      ]
    },
    {
      "cell_type": "markdown",
      "metadata": {
        "id": "oyogqp8EO9Md"
      },
      "source": [
        "---\n",
        "\n",
        "With added constant 0 logit class:"
      ]
    },
    {
      "cell_type": "code",
      "metadata": {
        "colab": {
          "base_uri": "https://localhost:8080/"
        },
        "id": "LJgy4QWIObWo",
        "outputId": "cf94471a-b622-4947-9fc0-4106b7c17984"
      },
      "source": [
        "print(f'{np.round(softmax([0, 1, 4]), 5)}')\n",
        "print(f'{np.round(softmax([0, 101, 104]), 5)}')\n",
        "print(f'{np.round(softmax([0, -54, -51]), 5)}')"
      ],
      "execution_count": null,
      "outputs": [
        {
          "output_type": "stream",
          "text": [
            "[0.01715 0.04661 0.93624]\n",
            "[0.      0.04743 0.95257]\n",
            "[1. 0. 0.]\n"
          ],
          "name": "stdout"
        }
      ]
    }
  ]
}