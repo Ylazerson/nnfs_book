{
  "nbformat": 4,
  "nbformat_minor": 0,
  "metadata": {
    "colab": {
      "name": "part_04_03_activation_functions.ipynb",
      "provenance": [],
      "collapsed_sections": [],
      "toc_visible": true
    },
    "kernelspec": {
      "display_name": "Python 3",
      "name": "python3"
    },
    "language_info": {
      "name": "python"
    }
  },
  "cells": [
    {
      "cell_type": "markdown",
      "metadata": {
        "id": "9tuAis_yqGJt"
      },
      "source": [
        "## Activation Functions Intro"
      ]
    },
    {
      "cell_type": "markdown",
      "metadata": {
        "id": "qXL7tSCxqYLR"
      },
      "source": [
        "We use **activation functions** because, if the activation function itself is nonlinear, it allows for neural networks map nonlinear functions. \n",
        "\n",
        "<br>\n",
        "\n",
        "In general, your neural network will have two types of activation functions. \n",
        "- The first type will be the activation function used in hidden layers (usually will be the same for all of them). \n",
        "- The second type will be used in the output layer."
      ]
    },
    {
      "cell_type": "markdown",
      "metadata": {
        "id": "w9ChcJrdq1KQ"
      },
      "source": [
        "## The Sigmoid Activation Function\n"
      ]
    },
    {
      "cell_type": "markdown",
      "metadata": {
        "id": "4hAm3A1TrVck"
      },
      "source": [
        "\n",
        "Returns a value in the range of: \n",
        "- 0 for negative infinity\n",
        "- through 0.5 for the input of 0\n",
        "- to 1 for positive infinity\n",
        "\n",
        "\n",
        "![](https://drive.google.com/uc?id=17laVogv5ny9jS_QO8aXDlsI5FBOwGuMt)\n",
        "\n",
        "<br>\n",
        "\n",
        "This function, historically used in hidden layers, was eventually replaced by the **Rectified Linear Units** activation function (**ReLU**). \n",
        "\n",
        "That said, later on (not in this notebook) we will show an example where we use the Sigmoid function as the final output layer’s activation function."
      ]
    },
    {
      "cell_type": "markdown",
      "metadata": {
        "id": "Zb6yPGG1sMF-"
      },
      "source": [
        "## The Rectified Linear Activation Function"
      ]
    },
    {
      "cell_type": "markdown",
      "metadata": {
        "id": "OyJpQAWzsTwa"
      },
      "source": [
        "This simple yet powerful activation function is the most widely used activation function at the time of writing for various reasons — mainly speed and efficiency. \n",
        "\n",
        "The ReLU activation function is extremely close to being a linear activation\n",
        "function while remaining nonlinear, due to that bend after 0. This simple property is, however, very effective.\n",
        "\n",
        "![](https://drive.google.com/uc?id=1bv57587yWhRhln8z9otLWNOPQ3d-YNy9)"
      ]
    },
    {
      "cell_type": "markdown",
      "metadata": {
        "id": "nHT2g3eZs36B"
      },
      "source": [
        "## RELU with Single Neuron"
      ]
    },
    {
      "cell_type": "markdown",
      "source": [
        "### Code"
      ],
      "metadata": {
        "id": "ix6FJlKdgSaL"
      }
    },
    {
      "cell_type": "code",
      "metadata": {
        "id": "9uSp_ipaxWg9"
      },
      "source": [
        "import numpy as np\n",
        "import matplotlib.pyplot as plt\n",
        "\n",
        "%matplotlib inline"
      ],
      "execution_count": 31,
      "outputs": []
    },
    {
      "cell_type": "code",
      "metadata": {
        "id": "3EY-99eRurfJ"
      },
      "source": [
        "def relu(val):\n",
        "    return max(0, val)"
      ],
      "execution_count": 9,
      "outputs": []
    },
    {
      "cell_type": "code",
      "metadata": {
        "id": "pxkYMYbfyIR6"
      },
      "source": [
        "def neuron(input, weight, bias):\n",
        "\n",
        "    output = []\n",
        "    for i in input:\n",
        "        neuron_output = (i * weight) + bias\n",
        "\n",
        "        output.append({          \n",
        "            'input': i,\n",
        "            'output': relu(neuron_output),\n",
        "            'desc': f'max(0, ({i:.2f} * {weight}) + {bias})'\n",
        "        })\n",
        "    \n",
        "    return output\n"
      ],
      "execution_count": 25,
      "outputs": []
    },
    {
      "cell_type": "code",
      "source": [
        "def plot_neuron(\n",
        "    input,\n",
        "    weight,\n",
        "    bias,    \n",
        "    xlim, \n",
        "    ylim,\n",
        "    inputs_to_highlight,\n",
        "    annotation_y_offsets\n",
        "):\n",
        "    output = neuron(\n",
        "        input=input,\n",
        "        weight=weight,\n",
        "        bias=bias\n",
        "    )\n",
        "\n",
        "    plt.figure(figsize=(8, 8), dpi=80)    \n",
        "\n",
        "    plt.plot(\n",
        "        input,\n",
        "        [o['output'] for o in output]    \n",
        "    )\n",
        "\n",
        "    # -- ------------------------------\n",
        "    colors = ['red', 'green', 'blue']    \n",
        "    for idx, example_input in enumerate(inputs_to_highlight[:len(colors)]):\n",
        "        example_output = neuron(\n",
        "            input=[example_input],\n",
        "            weight=weight,\n",
        "            bias=bias\n",
        "        )[0]\n",
        "        \n",
        "        plt.annotate(\n",
        "            f'{example_output[\"desc\"]} = {example_output[\"output\"]:.1f}', \n",
        "            xy=(example_input, example_output['output']), \n",
        "            xytext=(example_input, example_output['output']-annotation_y_offsets[idx]), \n",
        "            arrowprops=dict(facecolor=colors[idx])            \n",
        "        )\n",
        "\n",
        "\n",
        "    plt.grid(axis = 'both')\n",
        "    plt.title(f\"Single Neuron\\nf(x) = max(0, x * weight + bias)\")\n",
        "    plt.xlabel('Input to Single Neuron')\n",
        "    plt.ylabel('Output')\n",
        "    \n",
        "    plt.xlim(*xlim)\n",
        "    plt.ylim(*ylim)\n",
        "    plt.show()"
      ],
      "metadata": {
        "id": "gOrx_uBckLAT"
      },
      "execution_count": 99,
      "outputs": []
    },
    {
      "cell_type": "markdown",
      "metadata": {
        "id": "mawDzjWavgJy"
      },
      "source": [
        "### weight = 0 and bias = 0"
      ]
    },
    {
      "cell_type": "code",
      "metadata": {
        "colab": {
          "base_uri": "https://localhost:8080/",
          "height": 580
        },
        "id": "I_DT-6xCxKH3",
        "outputId": "ed22e044-dce1-4348-816d-e8008cf6c736"
      },
      "source": [
        "plot_neuron(\n",
        "    input=np.arange(-5.0, 5.0, 0.1),\n",
        "    weight=0.0,\n",
        "    bias=0.0,    \n",
        "    xlim=(-4, 4),\n",
        "    ylim=(-.05, .05),\n",
        "    inputs_to_highlight=[-1, 0, 1],\n",
        "    annotation_y_offsets=[.038, .025, .017]\n",
        ")"
      ],
      "execution_count": 100,
      "outputs": [
        {
          "output_type": "display_data",
          "data": {
            "image/png": "[encoded data removed]",
            "text/plain": [
              "<Figure size 640x640 with 1 Axes>"
            ]
          },
          "metadata": {
            "needs_background": "light"
          }
        }
      ]
    },
    {
      "cell_type": "markdown",
      "metadata": {
        "id": "CdMSqJzzxlf2"
      },
      "source": [
        "### weight = 1 and bias = 0"
      ]
    },
    {
      "cell_type": "code",
      "source": [
        "plot_neuron(\n",
        "    input=np.arange(-5.0, 5.0, 0.1),\n",
        "    weight=1.0,\n",
        "    bias=0.0,    \n",
        "    xlim=(-4, 4),\n",
        "    ylim=(-1, 4),\n",
        "    inputs_to_highlight=[-1, 0, 1],\n",
        "    annotation_y_offsets=[.5, -.5, -2]\n",
        ")"
      ],
      "metadata": {
        "colab": {
          "base_uri": "https://localhost:8080/",
          "height": 580
        },
        "id": "GxdvH84WtDuJ",
        "outputId": "12a9670d-8219-42e4-bbf9-875fd061daa7"
      },
      "execution_count": 101,
      "outputs": [
        {
          "output_type": "display_data",
          "data": {
            "image/png": "[encoded data removed]",
            "text/plain": [
              "<Figure size 640x640 with 1 Axes>"
            ]
          },
          "metadata": {
            "needs_background": "light"
          }
        }
      ]
    },
    {
      "cell_type": "markdown",
      "metadata": {
        "id": "C1wcN_pHx1O5"
      },
      "source": [
        "### weight = 1 and bias = 0.5"
      ]
    },
    {
      "cell_type": "markdown",
      "metadata": {
        "id": "kbKcZEkQyomu"
      },
      "source": [
        "We can see that in this case, with a **single** neuron, the bias offsets the overall function’s activation point **horizontally**."
      ]
    },
    {
      "cell_type": "code",
      "source": [
        "plot_neuron(\n",
        "    input=np.arange(-5.0, 5.0, 0.1),\n",
        "    weight=1.0,\n",
        "    bias=0.5,    \n",
        "    xlim=(-4, 4),\n",
        "    ylim=(-1, 4),\n",
        "    inputs_to_highlight=[-1, 0, 1],\n",
        "    annotation_y_offsets=[.5, -.5, -2]\n",
        ")"
      ],
      "metadata": {
        "colab": {
          "base_uri": "https://localhost:8080/",
          "height": 580
        },
        "id": "aXttALteuUCl",
        "outputId": "b83ddb17-6821-4660-aa73-78bb0f88f358"
      },
      "execution_count": 102,
      "outputs": [
        {
          "output_type": "display_data",
          "data": {
            "image/png": "[encoded data removed]",
            "text/plain": [
              "<Figure size 640x640 with 1 Axes>"
            ]
          },
          "metadata": {
            "needs_background": "light"
          }
        }
      ]
    },
    {
      "cell_type": "markdown",
      "metadata": {
        "id": "N0ggS3FZyurq"
      },
      "source": [
        "### weight = -1 and bias = 0.5"
      ]
    },
    {
      "cell_type": "markdown",
      "metadata": {
        "id": "F-dQDdY4yurr"
      },
      "source": [
        "With a **negative weight** and this single neuron, the function has become a question of when this neuron **deactivates**. "
      ]
    },
    {
      "cell_type": "code",
      "source": [
        "plot_neuron(\n",
        "    input=np.arange(-5.0, 5.0, 0.1),\n",
        "    weight=-1.0,\n",
        "    bias=0.5,    \n",
        "    xlim=(-4, 4),\n",
        "    ylim=(-1, 4),\n",
        "    inputs_to_highlight=[-1, 0, 1],\n",
        "    annotation_y_offsets=[-1, -1, .5]\n",
        ")"
      ],
      "metadata": {
        "colab": {
          "base_uri": "https://localhost:8080/",
          "height": 580
        },
        "id": "vNZypfJyiHd1",
        "outputId": "0d3c0898-ab19-420f-ad91-d3f974ffaf6c"
      },
      "execution_count": 103,
      "outputs": [
        {
          "output_type": "display_data",
          "data": {
            "image/png": "[encoded data removed]",
            "text/plain": [
              "<Figure size 640x640 with 1 Axes>"
            ]
          },
          "metadata": {
            "needs_background": "light"
          }
        }
      ]
    },
    {
      "cell_type": "markdown",
      "source": [
        "## RELU with Two Successive Neurons\n",
        "\n",
        "\n"
      ],
      "metadata": {
        "id": "QtdwZ1scvoiW"
      }
    },
    {
      "cell_type": "markdown",
      "source": [
        "### Code"
      ],
      "metadata": {
        "id": "EbBVTUbdvqyR"
      }
    },
    {
      "cell_type": "code",
      "source": [
        "def plot_two_neurons(\n",
        "    input,\n",
        "    neuron_1_weight,\n",
        "    neuron_1_bias,\n",
        "    neuron_2_weight,\n",
        "    neuron_2_bias,    \n",
        "    xlim, \n",
        "    ylim,\n",
        "    inputs_to_highlight,\n",
        "    annotation_y_offsets\n",
        "):\n",
        "    output_neuron_1 = neuron(\n",
        "        input=input,\n",
        "        weight=neuron_1_weight,\n",
        "        bias=neuron_1_bias\n",
        "    )\n",
        "\n",
        "    output_neuron_2 = neuron(\n",
        "        input=[o['output'] for o in output_neuron_1] ,\n",
        "        weight=neuron_2_weight,\n",
        "        bias=neuron_2_bias\n",
        "    )\n",
        "\n",
        "    # -- ------------------------------\n",
        "    plt.figure(figsize=(8, 8), dpi=80)    \n",
        "\n",
        "    plt.plot(\n",
        "        input,\n",
        "        [o['output'] for o in output_neuron_2]    \n",
        "    )\n",
        "\n",
        "    # -- ------------------------------\n",
        "    colors = ['red', 'green', 'blue']    \n",
        "    for idx, example_input in enumerate(inputs_to_highlight[:len(colors)]):\n",
        "\n",
        "        example_output_neuron_1 = neuron(\n",
        "            input=[example_input],\n",
        "            weight=neuron_1_weight,\n",
        "            bias=neuron_1_bias\n",
        "        )[0]\n",
        "        n1_output = example_output_neuron_1['output']\n",
        "        n1_desc = example_output_neuron_1['desc']        \n",
        "\n",
        "        example_output_neuron_2 = neuron(\n",
        "            input=[n1_output] ,\n",
        "            weight=neuron_2_weight,\n",
        "            bias=neuron_2_bias\n",
        "        )[0]\n",
        "        n2_output = example_output_neuron_2['output']\n",
        "        n2_desc = example_output_neuron_2['desc']             \n",
        "        \n",
        "        plt.annotate(\n",
        "            f'{n1_desc} = {n1_output:.1f} --> {n2_desc} = {n2_output:.1f}', \n",
        "            xy=(example_input, n2_output), \n",
        "            xytext=(example_input, n2_output - annotation_y_offsets[idx]), \n",
        "            arrowprops=dict(facecolor=colors[idx])            \n",
        "        )\n",
        "\n",
        "\n",
        "    plt.grid(axis = 'both')\n",
        "    plt.title(f\"Two Successive Neurons\\nEach neuron = f(x) = max(0, x * weight + bias)\")\n",
        "    plt.xlabel('Input to Two Successive Neurons')\n",
        "    plt.ylabel('Ouput')\n",
        "    \n",
        "    plt.xlim(*xlim)\n",
        "    plt.ylim(*ylim)\n",
        "    plt.show()"
      ],
      "metadata": {
        "id": "225LJaJlvsJp"
      },
      "execution_count": 111,
      "outputs": []
    },
    {
      "cell_type": "markdown",
      "metadata": {
        "id": "lYgTnuFjzI1f"
      },
      "source": [
        "### Example 1\n",
        "\n",
        "```\n",
        "neuron_1_weight = -1.0\n",
        "neuron_1_bias   =  0.5\n",
        "neuron_2_weight =  1.0\n",
        "neuron_2_bias   =  1.0   \n",
        "```"
      ]
    },
    {
      "cell_type": "markdown",
      "metadata": {
        "id": "cxjx_xiszI1f"
      },
      "source": [
        "The bias of the second neuron indeed shifted the overall function, but, rather than shifting it horizontally, it shifted the function **vertically**."
      ]
    },
    {
      "cell_type": "code",
      "source": [
        "plot_two_neurons(\n",
        "    input=np.arange(-5.0, 5.0, 0.1),\n",
        "    neuron_1_weight=-1.0,\n",
        "    neuron_1_bias=0.5,\n",
        "    neuron_2_weight=1.0,\n",
        "    neuron_2_bias=1.0,   \n",
        "    xlim=(-4, 4),\n",
        "    ylim=(-1, 4),\n",
        "    inputs_to_highlight=[-1, 0, 1],\n",
        "    annotation_y_offsets=[-1, -1, .5]\n",
        ")"
      ],
      "metadata": {
        "colab": {
          "base_uri": "https://localhost:8080/",
          "height": 580
        },
        "id": "WR_B0ZY2zdhm",
        "outputId": "0cf829bd-f9b9-462e-cc4c-12c159e5714f"
      },
      "execution_count": 112,
      "outputs": [
        {
          "output_type": "display_data",
          "data": {
            "image/png": "[encoded data removed]",
            "text/plain": [
              "<Figure size 640x640 with 1 Axes>"
            ]
          },
          "metadata": {
            "needs_background": "light"
          }
        }
      ]
    },
    {
      "cell_type": "markdown",
      "metadata": {
        "id": "sZZ9LUAk0uym"
      },
      "source": [
        "### Example 2\n",
        "\n",
        "```\n",
        "neuron_1_weight = -1.0\n",
        "neuron_1_bias   =  0.5\n",
        "neuron_2_weight = -2.0\n",
        "neuron_2_bias   =  1.0   \n",
        "```"
      ]
    },
    {
      "cell_type": "code",
      "source": [
        "plot_two_neurons(\n",
        "    input=np.arange(-5.0, 5.0, 0.1),\n",
        "    neuron_1_weight=-1.0,\n",
        "    neuron_1_bias=0.5,\n",
        "    neuron_2_weight=-2.0,\n",
        "    neuron_2_bias=1.0,   \n",
        "    xlim=(-4, 4),\n",
        "    ylim=(-1, 4),\n",
        "    inputs_to_highlight=[-1, .2, 1],\n",
        "    annotation_y_offsets=[-2.5, -1, .5]\n",
        ")"
      ],
      "metadata": {
        "colab": {
          "base_uri": "https://localhost:8080/",
          "height": 580
        },
        "id": "Zwdybl-U3e7K",
        "outputId": "83fc57cb-e8c0-4fbe-d484-e7426287543d"
      },
      "execution_count": 113,
      "outputs": [
        {
          "output_type": "display_data",
          "data": {
            "image/png": "[encoded data removed]",
            "text/plain": [
              "<Figure size 640x640 with 1 Axes>"
            ]
          },
          "metadata": {
            "needs_background": "light"
          }
        }
      ]
    },
    {
      "cell_type": "markdown",
      "source": [
        "Something exciting has occurred! \n",
        "\n",
        "In this example, we have both an **activation** and a **deactivation** point. \n",
        "\n",
        "We see their \"area of effect\" comes into play.\n",
        "\n",
        "\n",
        "---\n",
        "\n",
        "[Animation 1](https://www.youtube.com/watch?v=joA6fEAbAQc)\n",
        "\n",
        "[Animation 2](https://www.youtube.com/watch?v=V_O17HPzu3Q)"
      ],
      "metadata": {
        "id": "1OochAmz5DRZ"
      }
    },
    {
      "cell_type": "markdown",
      "metadata": {
        "id": "UpmCaswd4k-A"
      },
      "source": [
        "## The Softmax Activation Function"
      ]
    },
    {
      "cell_type": "markdown",
      "metadata": {
        "id": "lLCF8G2ohgU9"
      },
      "source": [
        "In our case, we’re looking to get this model to be a **classifier**, so we want an activation function meant for classification. \n",
        "\n",
        "The softmax activation function can take in non-normalized, or uncalibrated, inputs and produce a normalized distribution of probabilities for our classes. \n",
        "\n",
        "This distribution returned by the softmax activation function represents **confidence scores** for each class and will add up to 1. \n",
        "\n",
        "<br>\n",
        "\n",
        "![](https://drive.google.com/uc?id=1OngR478lvQM7OWBvvKOo_5lX_J8TKf8U)\n",
        "\n",
        "<br>\n",
        "\n",
        "The numerator exponentiates the current output value and the denominator takes a sum of all of the exponentiated outputs for a given sample.\n",
        "\n",
        "---\n",
        "\n",
        "Exponentiation serves multiple purposes. \n",
        "\n",
        "An exponential value of any number is always nonnegative; returns: \n",
        "- 0 for negative infinity \n",
        "- 1 for the input of 0 \n",
        "- increases for positive values\n",
        "\n",
        "![](https://drive.google.com/uc?id=1HroSgcamG-yFwdbvLTa30Ku9xdG8onx8)\n",
        "\n",
        "---\n",
        "\n",
        "The exponential function is a **monotonic function**: with higher input values,\n",
        "outputs are also higher, so we won’t change the predicted class after applying it while making sure that we get non-negative values. \n",
        "\n",
        "It also adds stability to the result as the **normalized exponentiation** is more about the difference between numbers than their magnitudes."
      ]
    },
    {
      "cell_type": "markdown",
      "metadata": {
        "id": "y1CThrzm40yi"
      },
      "source": [
        "## Interlude - `np.sum`"
      ]
    },
    {
      "cell_type": "markdown",
      "metadata": {
        "id": "E4TnqQYNGIRU"
      },
      "source": [
        "**Important Note** \n",
        "\n",
        "> With arrays, do not think of rows, columns, etc. because it might confuse you so that you think that the one dimension is more \"higher-up\" than another dimension - like the rows contain columns/fields. \n",
        ">\n",
        "> That is **wrong** - all dimensions are equal. So if you have a 3*3*3 array, think of it as a Rubik's cube, where each dimension is just as \"important\" - none \"contain\" the other. \n",
        ">\n",
        "> Same obivously applies when there is more than 3 dimensions as well ..."
      ]
    },
    {
      "cell_type": "code",
      "metadata": {
        "colab": {
          "base_uri": "https://localhost:8080/"
        },
        "id": "282xhIJdHGAt",
        "outputId": "3eb2caa5-06bf-4b8d-ed71-07b1f00d5c1c"
      },
      "source": [
        "cube = np.ones((3, 3, 3))\n",
        "\n",
        "cube"
      ],
      "execution_count": null,
      "outputs": [
        {
          "output_type": "execute_result",
          "data": {
            "text/plain": [
              "array([[[1., 1., 1.],\n",
              "        [1., 1., 1.],\n",
              "        [1., 1., 1.]],\n",
              "\n",
              "       [[1., 1., 1.],\n",
              "        [1., 1., 1.],\n",
              "        [1., 1., 1.]],\n",
              "\n",
              "       [[1., 1., 1.],\n",
              "        [1., 1., 1.],\n",
              "        [1., 1., 1.]]])"
            ]
          },
          "metadata": {
            "tags": []
          },
          "execution_count": 34
        }
      ]
    },
    {
      "cell_type": "code",
      "metadata": {
        "colab": {
          "base_uri": "https://localhost:8080/"
        },
        "id": "9A6Py-dHHaL5",
        "outputId": "3fec6d3b-7f28-4099-8fa9-b6cbb5a35d99"
      },
      "source": [
        "cube[0]"
      ],
      "execution_count": null,
      "outputs": [
        {
          "output_type": "execute_result",
          "data": {
            "text/plain": [
              "array([[1., 1., 1.],\n",
              "       [1., 1., 1.],\n",
              "       [1., 1., 1.]])"
            ]
          },
          "metadata": {
            "tags": []
          },
          "execution_count": 35
        }
      ]
    },
    {
      "cell_type": "code",
      "metadata": {
        "colab": {
          "base_uri": "https://localhost:8080/"
        },
        "id": "Sv__ID9QHnbq",
        "outputId": "a9825d2a-5800-434e-fb31-08225caf013d"
      },
      "source": [
        "cube[0][0]"
      ],
      "execution_count": null,
      "outputs": [
        {
          "output_type": "execute_result",
          "data": {
            "text/plain": [
              "array([1., 1., 1.])"
            ]
          },
          "metadata": {
            "tags": []
          },
          "execution_count": 36
        }
      ]
    },
    {
      "cell_type": "code",
      "metadata": {
        "colab": {
          "base_uri": "https://localhost:8080/"
        },
        "id": "GQ22PjuVHr1l",
        "outputId": "dcdcbdc1-1fab-4774-d375-79b71b608bf5"
      },
      "source": [
        "cube[0][0][0]"
      ],
      "execution_count": null,
      "outputs": [
        {
          "output_type": "execute_result",
          "data": {
            "text/plain": [
              "1.0"
            ]
          },
          "metadata": {
            "tags": []
          },
          "execution_count": 25
        }
      ]
    },
    {
      "cell_type": "code",
      "metadata": {
        "colab": {
          "base_uri": "https://localhost:8080/"
        },
        "id": "11E_AEcCHxq-",
        "outputId": "b52f5d4e-a234-42f1-c259-b2bf18b7c1a0"
      },
      "source": [
        "cube[0][0][0] = 5.0\n",
        "cube[1][0][0] = 55.0\n",
        "cube[2][0][0] = 99.0\n",
        "\n",
        "cube"
      ],
      "execution_count": null,
      "outputs": [
        {
          "output_type": "execute_result",
          "data": {
            "text/plain": [
              "array([[[ 5.,  1.,  1.],\n",
              "        [ 1.,  1.,  1.],\n",
              "        [ 1.,  1.,  1.]],\n",
              "\n",
              "       [[55.,  1.,  1.],\n",
              "        [ 1.,  1.,  1.],\n",
              "        [ 1.,  1.,  1.]],\n",
              "\n",
              "       [[99.,  1.,  1.],\n",
              "        [ 1.,  1.,  1.],\n",
              "        [ 1.,  1.,  1.]]])"
            ]
          },
          "metadata": {
            "tags": []
          },
          "execution_count": 38
        }
      ]
    },
    {
      "cell_type": "code",
      "metadata": {
        "colab": {
          "base_uri": "https://localhost:8080/"
        },
        "id": "Lo7iDKkd8yDy",
        "outputId": "debe4399-78e6-4e04-9617-4dfe0c82ace0"
      },
      "source": [
        "cube.shape"
      ],
      "execution_count": null,
      "outputs": [
        {
          "output_type": "execute_result",
          "data": {
            "text/plain": [
              "(3, 3, 3)"
            ]
          },
          "metadata": {
            "tags": []
          },
          "execution_count": 39
        }
      ]
    },
    {
      "cell_type": "markdown",
      "metadata": {
        "id": "exe4tqDY8mHW"
      },
      "source": [
        "**Sum without axis**"
      ]
    },
    {
      "cell_type": "code",
      "metadata": {
        "colab": {
          "base_uri": "https://localhost:8080/"
        },
        "id": "vZhQLM_w9ANl",
        "outputId": "a327caf5-82a5-4d4c-8dff-d48e71c946e4"
      },
      "source": [
        "np.sum(cube)"
      ],
      "execution_count": null,
      "outputs": [
        {
          "output_type": "execute_result",
          "data": {
            "text/plain": [
              "183.0"
            ]
          },
          "metadata": {
            "tags": []
          },
          "execution_count": 40
        }
      ]
    },
    {
      "cell_type": "markdown",
      "metadata": {
        "id": "IaOKjIqY9C3f"
      },
      "source": [
        "...or:"
      ]
    },
    {
      "cell_type": "code",
      "metadata": {
        "colab": {
          "base_uri": "https://localhost:8080/"
        },
        "id": "BqlFw2xq9FcW",
        "outputId": "3596f851-32f2-4da0-b04a-a1ce3c4f7eae"
      },
      "source": [
        "np.sum(cube, axis=None)"
      ],
      "execution_count": null,
      "outputs": [
        {
          "output_type": "execute_result",
          "data": {
            "text/plain": [
              "183.0"
            ]
          },
          "metadata": {
            "tags": []
          },
          "execution_count": 41
        }
      ]
    },
    {
      "cell_type": "markdown",
      "metadata": {
        "id": "7K6YQ8oz9IZZ"
      },
      "source": [
        "**Sum with axis 0**\n",
        "\n",
        "Collapse dimension 0 into remaining dimensions."
      ]
    },
    {
      "cell_type": "code",
      "metadata": {
        "colab": {
          "base_uri": "https://localhost:8080/"
        },
        "id": "yCBPI64E9RNz",
        "outputId": "decbbc24-b935-4886-e492-d5c549b8c217"
      },
      "source": [
        "np.sum(cube, axis=0)"
      ],
      "execution_count": null,
      "outputs": [
        {
          "output_type": "execute_result",
          "data": {
            "text/plain": [
              "array([[159.,   3.,   3.],\n",
              "       [  3.,   3.,   3.],\n",
              "       [  3.,   3.,   3.]])"
            ]
          },
          "metadata": {
            "tags": []
          },
          "execution_count": 43
        }
      ]
    },
    {
      "cell_type": "markdown",
      "metadata": {
        "id": "DwWmM6yz92Cc"
      },
      "source": [
        "**Sum with axis 1**\n",
        "\n",
        "Collapse dimension 1 into remaining dimensions."
      ]
    },
    {
      "cell_type": "code",
      "metadata": {
        "colab": {
          "base_uri": "https://localhost:8080/"
        },
        "id": "j6prtb4V92Cc",
        "outputId": "07463902-346c-441d-d377-5f5b50b86056"
      },
      "source": [
        "np.sum(cube, axis=1)"
      ],
      "execution_count": null,
      "outputs": [
        {
          "output_type": "execute_result",
          "data": {
            "text/plain": [
              "array([[  7.,   3.,   3.],\n",
              "       [ 57.,   3.,   3.],\n",
              "       [101.,   3.,   3.]])"
            ]
          },
          "metadata": {
            "tags": []
          },
          "execution_count": 44
        }
      ]
    },
    {
      "cell_type": "markdown",
      "metadata": {
        "id": "iqiDmzLb4TfY"
      },
      "source": [
        "**Perfect - but now let's keep the same dimension as the input (same number of dimensions, not that each dimension will have same size)**\n"
      ]
    },
    {
      "cell_type": "code",
      "metadata": {
        "colab": {
          "base_uri": "https://localhost:8080/"
        },
        "id": "eYOrC98RCbM5",
        "outputId": "da469485-1257-4e8e-be0d-04b3ec2354cf"
      },
      "source": [
        "new_array = np.sum(cube, axis=1, keepdims=True)\n",
        "\n",
        "new_array"
      ],
      "execution_count": null,
      "outputs": [
        {
          "output_type": "execute_result",
          "data": {
            "text/plain": [
              "array([[[  7.,   3.,   3.]],\n",
              "\n",
              "       [[ 57.,   3.,   3.]],\n",
              "\n",
              "       [[101.,   3.,   3.]]])"
            ]
          },
          "metadata": {
            "tags": []
          },
          "execution_count": 46
        }
      ]
    },
    {
      "cell_type": "code",
      "metadata": {
        "colab": {
          "base_uri": "https://localhost:8080/"
        },
        "id": "6B058h5AJe8X",
        "outputId": "e0292712-152d-4216-9bee-fcc00e609d83"
      },
      "source": [
        "new_array.shape"
      ],
      "execution_count": null,
      "outputs": [
        {
          "output_type": "execute_result",
          "data": {
            "text/plain": [
              "(3, 1, 3)"
            ]
          },
          "metadata": {
            "tags": []
          },
          "execution_count": 47
        }
      ]
    },
    {
      "cell_type": "code",
      "metadata": {
        "colab": {
          "base_uri": "https://localhost:8080/"
        },
        "id": "0o_E152vJg9U",
        "outputId": "77cf1426-dc51-46ce-f927-3b292c54f084"
      },
      "source": [
        "cube.shape"
      ],
      "execution_count": null,
      "outputs": [
        {
          "output_type": "execute_result",
          "data": {
            "text/plain": [
              "(3, 3, 3)"
            ]
          },
          "metadata": {
            "tags": []
          },
          "execution_count": 49
        }
      ]
    },
    {
      "cell_type": "code",
      "metadata": {
        "colab": {
          "base_uri": "https://localhost:8080/"
        },
        "id": "KtJRIH6tJjOB",
        "outputId": "888eb2d6-c2e1-4cbb-b370-7c29dfc1be9a"
      },
      "source": [
        "print(\n",
        "    len(new_array.shape),\n",
        "    len(cube.shape)\n",
        ")"
      ],
      "execution_count": null,
      "outputs": [
        {
          "output_type": "stream",
          "text": [
            "3 3\n"
          ],
          "name": "stdout"
        }
      ]
    },
    {
      "cell_type": "markdown",
      "metadata": {
        "id": "Qph-WeKOCaMb"
      },
      "source": [
        "## Exploding Values"
      ]
    },
    {
      "cell_type": "markdown",
      "metadata": {
        "id": "kG-iAODm3es1"
      },
      "source": [
        "Finally, we'll also include a subtraction of the largest of the inputs before exponentiation (see full code at end).\n",
        "\n",
        "```py\n",
        "# Get unnormalized probabilities\n",
        "exp_values = np.exp(\n",
        "    inputs - np.max(inputs, axis=1, keepdims=True)\n",
        ")\n",
        "```\n",
        "\n",
        "\n",
        "There are two main pervasive challenges with neural networks: “dead neurons”\n",
        "and very large numbers (referred to as “exploding” values). \n",
        "\n",
        "“Dead” neurons and enormous numbers can wreak havoc down the line and render a network useless over time. \n",
        "\n",
        "The exponential function used in softmax activation is one of the sources of exploding values. \n",
        "\n",
        "---\n",
        "\n",
        "We know the exponential function tends toward 0 as its input value approaches negative infinity, and the output is 1 when the input is 0. \n",
        "\n",
        "We can use this property to prevent the exponential function from overflowing. \n",
        "\n",
        "Suppose we subtract the maximum value from a list of input values. We would then change the output values to always be in a range from some negative value up to 0, as the largest number subtracted by itself returns 0, and any smaller number subtracted by it will result in a negative number - exactly the range discussed above. \n",
        "\n",
        "<br>\n",
        "\n",
        "**With Softmax, thanks to the normalization, we can subtract any\n",
        "value from all of the inputs, and it will not change the output.**\n"
      ]
    },
    {
      "cell_type": "code",
      "metadata": {
        "colab": {
          "base_uri": "https://localhost:8080/"
        },
        "id": "L2GUozgpEgH9",
        "outputId": "bb9a6361-5cd0-4a61-82f4-6f9259754230"
      },
      "source": [
        "print(f'''\n",
        "    exp(-np.inf): {np.exp(-np.inf)}\n",
        "    exp(-3)     : {np.exp(-3)}\n",
        "    exp(-2)     : {np.exp(-2)}\n",
        "    exp(-1)     : {np.exp(-1)}\n",
        "    exp(-.5)    : {np.exp(-.5)}\n",
        "    exp(0)      : {np.exp(0)}\n",
        "'''    \n",
        ")"
      ],
      "execution_count": null,
      "outputs": [
        {
          "output_type": "stream",
          "text": [
            "\n",
            "    exp(-np.inf): 0.0\n",
            "    exp(-3)     : 0.049787068367863944\n",
            "    exp(-2)     : 0.1353352832366127\n",
            "    exp(-1)     : 0.36787944117144233\n",
            "    exp(-.5)    : 0.6065306597126334\n",
            "    exp(0)      : 1.0\n",
            "\n"
          ],
          "name": "stdout"
        }
      ]
    },
    {
      "cell_type": "markdown",
      "metadata": {
        "id": "kRJviM3MD2mM"
      },
      "source": [
        "## Final Code"
      ]
    },
    {
      "cell_type": "markdown",
      "metadata": {
        "id": "ucabM5ITGE_l"
      },
      "source": [
        "### 1: Get packages"
      ]
    },
    {
      "cell_type": "code",
      "metadata": {
        "id": "N2x6gyGaFpJM"
      },
      "source": [
        "!pip install nnfs"
      ],
      "execution_count": null,
      "outputs": []
    },
    {
      "cell_type": "code",
      "metadata": {
        "id": "PlvSsE1WFd_s"
      },
      "source": [
        "import numpy as np\n",
        "import nnfs\n",
        "from nnfs.datasets import spiral_data\n",
        "\n",
        "nnfs.init()\n"
      ],
      "execution_count": null,
      "outputs": []
    },
    {
      "cell_type": "markdown",
      "metadata": {
        "id": "mz_Xqk_4GPNg"
      },
      "source": [
        "### 2: Create the model architecture lego blocks"
      ]
    },
    {
      "cell_type": "code",
      "metadata": {
        "id": "t8Rp-mpDFteq"
      },
      "source": [
        "class Layer_Dense:\n",
        "\n",
        "    # Layer initialization\n",
        "    def __init__(self, n_inputs, n_neurons):\n",
        "        # Initialize weights and biases\n",
        "        self.weights = 0.01 * np.random.randn(n_inputs, n_neurons)\n",
        "        self.biases = np.zeros((1, n_neurons))\n",
        "    \n",
        "    def forward(self, inputs):\n",
        "        self.output = np.dot(inputs, self.weights) + self.biases\n",
        "\n",
        "\n",
        "class Activation_ReLU:\n",
        "    \n",
        "    def forward(self, inputs):        \n",
        "        self.output = np.maximum(0, inputs)\n",
        "\n",
        "\n",
        "class Activation_Softmax:\n",
        "    \n",
        "    def forward(self, inputs):\n",
        "\n",
        "        # Max val per input sample\n",
        "        max_vals = np.max(\n",
        "            inputs, \n",
        "            axis=1,\n",
        "            keepdims=True\n",
        "        )\n",
        "        \n",
        "        # Get unnormalized probabilities\n",
        "        exp_values = np.exp(inputs - max_vals)\n",
        "        \n",
        "        # Normalize them for each sample\n",
        "        denominator = np.sum(\n",
        "            exp_values, \n",
        "            axis=1,\n",
        "            keepdims=True\n",
        "        )        \n",
        "        probabilities = exp_values / denominator\n",
        "\n",
        "        self.output = probabilities"
      ],
      "execution_count": null,
      "outputs": []
    },
    {
      "cell_type": "markdown",
      "metadata": {
        "id": "q8CzRAhQIj4g"
      },
      "source": [
        "### 3: Create hidden layer of model architecture"
      ]
    },
    {
      "cell_type": "code",
      "metadata": {
        "id": "19p15rFmIxdM"
      },
      "source": [
        "# Create Dense layer with 2 input features and 3 output values\n",
        "dense1 = Layer_Dense(2, 3)\n",
        "\n",
        "# Create ReLU activation (to be used with Dense layer):\n",
        "activation1 = Activation_ReLU()"
      ],
      "execution_count": null,
      "outputs": []
    },
    {
      "cell_type": "markdown",
      "metadata": {
        "id": "YJJEQJC8JJc3"
      },
      "source": [
        "### 4: Create output layer of model architecture"
      ]
    },
    {
      "cell_type": "code",
      "metadata": {
        "id": "-md8NMl-JNht"
      },
      "source": [
        "# Create second Dense layer with 3 input features (as we take output\n",
        "# of previous layer here) and 3 output values\n",
        "dense2 = Layer_Dense(3, 3)\n",
        "\n",
        "# Create Softmax activation (to be used with Dense layer):\n",
        "activation2 = Activation_Softmax()"
      ],
      "execution_count": null,
      "outputs": []
    },
    {
      "cell_type": "markdown",
      "metadata": {
        "id": "8XWLoyYx3Hg-"
      },
      "source": [
        "### 5: Get the dataset"
      ]
    },
    {
      "cell_type": "code",
      "metadata": {
        "id": "1rP2bI7yJZFC"
      },
      "source": [
        "training_data_xy, training_class = spiral_data(samples=100, classes=3)"
      ],
      "execution_count": null,
      "outputs": []
    },
    {
      "cell_type": "markdown",
      "metadata": {
        "id": "HazMcq4aJcka"
      },
      "source": [
        "### 6: Make a forward pass through the hidden layer"
      ]
    },
    {
      "cell_type": "code",
      "metadata": {
        "id": "08JXB6BvJmol"
      },
      "source": [
        "dense1.forward(training_data_xy)\n",
        "\n",
        "activation1.forward(dense1.output)"
      ],
      "execution_count": null,
      "outputs": []
    },
    {
      "cell_type": "markdown",
      "metadata": {
        "id": "RjJE_ykEJx6B"
      },
      "source": [
        "### 7: Continue forward pass through output layer"
      ]
    },
    {
      "cell_type": "code",
      "metadata": {
        "id": "j8p0Jp3EJ2Zt"
      },
      "source": [
        "dense2.forward(activation1.output)\n",
        "\n",
        "activation2.forward(dense2.output)"
      ],
      "execution_count": null,
      "outputs": []
    },
    {
      "cell_type": "markdown",
      "metadata": {
        "id": "ZoenLANuJ65T"
      },
      "source": [
        "Let's see output of the first few samples:"
      ]
    },
    {
      "cell_type": "code",
      "metadata": {
        "colab": {
          "base_uri": "https://localhost:8080/"
        },
        "id": "jAy1CH5HKN4C",
        "outputId": "0285c585-aefe-4aee-dcae-6d2936a1a260"
      },
      "source": [
        "activation2.output[:5]"
      ],
      "execution_count": null,
      "outputs": [
        {
          "output_type": "execute_result",
          "data": {
            "text/plain": [
              "array([[0.33333334, 0.33333334, 0.33333334],\n",
              "       [0.33333388, 0.3333327 , 0.33333343],\n",
              "       [0.33333418, 0.33333203, 0.3333338 ],\n",
              "       [0.33333486, 0.33333126, 0.33333385],\n",
              "       [0.3333348 , 0.33333087, 0.33333427]], dtype=float32)"
            ]
          },
          "metadata": {
            "tags": []
          },
          "execution_count": 59
        }
      ]
    },
    {
      "cell_type": "markdown",
      "metadata": {
        "id": "NPS-9dxHOZ-3"
      },
      "source": [
        "## Note - Softmax is Translationally Invariant"
      ]
    },
    {
      "cell_type": "markdown",
      "metadata": {
        "id": "hZvsRDJTOg9E"
      },
      "source": [
        "https://towardsdatascience.com/the-big-issue-with-softmax-cd6169fede8f\n",
        "- **However**, see comments - seems okay afterall"
      ]
    },
    {
      "cell_type": "code",
      "metadata": {
        "id": "RieNhyyPOoJ-"
      },
      "source": [
        "def softmax(x):\n",
        "    return np.exp(x) / np.exp(x).sum()"
      ],
      "execution_count": null,
      "outputs": []
    },
    {
      "cell_type": "markdown",
      "metadata": {
        "id": "6-mnoLoBOp7n"
      },
      "source": [
        "Instead of thinking about the output as actual class probabilities, view it as an indication based on the scores, which class is the most likely. \n"
      ]
    },
    {
      "cell_type": "code",
      "metadata": {
        "colab": {
          "base_uri": "https://localhost:8080/"
        },
        "id": "oSIU3eEeO7sJ",
        "outputId": "2d30f8fa-ba2b-4834-abe0-d6b10a8e1c34"
      },
      "source": [
        "print(softmax([1, 4]))\n",
        "print(softmax([101, 104]))\n",
        "print(softmax([-54, -51]))"
      ],
      "execution_count": null,
      "outputs": [
        {
          "output_type": "stream",
          "text": [
            "[0.04742587 0.95257413]\n",
            "[0.04742587 0.95257413]\n",
            "[0.04742587 0.95257413]\n"
          ],
          "name": "stdout"
        }
      ]
    },
    {
      "cell_type": "markdown",
      "metadata": {
        "id": "oyogqp8EO9Md"
      },
      "source": [
        "---\n",
        "\n",
        "With added constant 0 logit class:"
      ]
    },
    {
      "cell_type": "code",
      "metadata": {
        "colab": {
          "base_uri": "https://localhost:8080/"
        },
        "id": "LJgy4QWIObWo",
        "outputId": "cf94471a-b622-4947-9fc0-4106b7c17984"
      },
      "source": [
        "print(f'{np.round(softmax([0, 1, 4]), 5)}')\n",
        "print(f'{np.round(softmax([0, 101, 104]), 5)}')\n",
        "print(f'{np.round(softmax([0, -54, -51]), 5)}')"
      ],
      "execution_count": null,
      "outputs": [
        {
          "output_type": "stream",
          "text": [
            "[0.01715 0.04661 0.93624]\n",
            "[0.      0.04743 0.95257]\n",
            "[1. 0. 0.]\n"
          ],
          "name": "stdout"
        }
      ]
    }
  ]
}