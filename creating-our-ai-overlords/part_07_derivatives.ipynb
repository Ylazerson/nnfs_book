{
  "cells": [
    {
      "cell_type": "markdown",
      "metadata": {
        "id": "9SnhKwzp_FpX"
      },
      "source": [
        "## Setup"
      ]
    },
    {
      "cell_type": "code",
      "execution_count": null,
      "metadata": {
        "id": "IE0g2Y94_Ivk"
      },
      "outputs": [],
      "source": [
        "import math\n",
        "import numpy as np\n",
        "import matplotlib.pyplot as plt"
      ]
    },
    {
      "cell_type": "code",
      "execution_count": null,
      "metadata": {
        "colab": {
          "base_uri": "https://localhost:8080/"
        },
        "id": "OiZlXdW8_GbB",
        "outputId": "dad4be88-cb08-44e4-de5a-517d49eaddee"
      },
      "outputs": [
        {
          "name": "stdout",
          "output_type": "stream",
          "text": [
            "Prior size: [6.0, 4.0]\n",
            "Current size: [12, 9]\n"
          ]
        }
      ],
      "source": [
        "# Get current size\n",
        "fig_size = plt.rcParams[\"figure.figsize\"]\n",
        " \n",
        "# Prints: [8.0, 6.0]\n",
        "print (\"Prior size:\", fig_size)\n",
        " \n",
        "# Set figure width to 12 and height to 9\n",
        "fig_size[0] = 12\n",
        "fig_size[1] = 9\n",
        "plt.rcParams[\"figure.figsize\"] = fig_size\n",
        "\n",
        "print (\"Current size:\", fig_size)"
      ]
    },
    {
      "cell_type": "markdown",
      "metadata": {
        "id": "aR33zTDT7rLt"
      },
      "source": [
        "## Intro"
      ]
    },
    {
      "cell_type": "markdown",
      "metadata": {
        "id": "P4JFpVqt70es"
      },
      "source": [
        "To understand **partial derivatives**, we need to start with **derivatives**, which are a special case of partial derivatives — they are calculated from functions taking **single parameters**."
      ]
    },
    {
      "cell_type": "markdown",
      "metadata": {
        "id": "PpczS87c8onf"
      },
      "source": [
        "## The Tangent Line"
      ]
    },
    {
      "cell_type": "markdown",
      "metadata": {
        "id": "3_-zwwAP8EYw"
      },
      "source": [
        "The **tangent line** is created by drawing a line between two points that are **“infinitely close”** on a curve, but this curve has to be **differentiable** at the derivation point. This means that it has to be **continuous and smooth**. \n",
        "\n"
      ]
    },
    {
      "cell_type": "markdown",
      "metadata": {
        "id": "24bnavxy9ETc"
      },
      "source": [
        "## The Numerical Derivative"
      ]
    },
    {
      "cell_type": "markdown",
      "metadata": {
        "id": "k0aaHkoZKT61"
      },
      "source": [
        "The **Numerical Derivative** is also called the **Universal Derivative**."
      ]
    },
    {
      "cell_type": "markdown",
      "metadata": {
        "id": "_hqG_whc9QDG"
      },
      "source": [
        "This method of calculating the derivative is called numerical differentiation."
      ]
    },
    {
      "cell_type": "markdown",
      "metadata": {
        "id": "P9HRX0i29Z8W"
      },
      "source": [
        "--- \n",
        "\n",
        "Large delta, hence large inaccuracy:\n",
        "\n",
        "![](https://drive.google.com/uc?id=1bfjlEbYnitwbygrSQKBt7J51DntcYnTy)\n",
        "\n",
        "Small delta, small inaccuracy:\n",
        "\n",
        "![](https://drive.google.com/uc?id=1t-9GPlf7zU27r5mNJn_FzRno9tfXF66S)\n",
        "\n"
      ]
    },
    {
      "cell_type": "markdown",
      "metadata": {
        "id": "CtyPebUQ-Xvi"
      },
      "source": [
        "### Visualization"
      ]
    },
    {
      "cell_type": "markdown",
      "metadata": {
        "id": "MIu5Jdu1AOM9"
      },
      "source": [
        "#### 2x^2"
      ]
    },
    {
      "cell_type": "code",
      "execution_count": null,
      "metadata": {
        "id": "blngb0Yf_M9D"
      },
      "outputs": [],
      "source": [
        "def f(x):\n",
        "    return 2*x**2"
      ]
    },
    {
      "cell_type": "code",
      "execution_count": null,
      "metadata": {
        "id": "mddp7xmh_nci"
      },
      "outputs": [],
      "source": [
        "x = np.arange(0, 5, 0.001)\n",
        "y = f(x)"
      ]
    },
    {
      "cell_type": "code",
      "execution_count": null,
      "metadata": {
        "colab": {
          "base_uri": "https://localhost:8080/",
          "height": 554
        },
        "id": "8Uge-7T8_tEu",
        "outputId": "da6fa917-1da9-47d2-a3c4-efbc3eeab195"
      },
      "outputs": [
        {
          "data": {
            "text/plain": [
              "[<matplotlib.lines.Line2D at 0x7f6927519210>]"
            ]
          },
          "execution_count": 5,
          "metadata": {},
          "output_type": "execute_result"
        },
        {
          "data": {
            "image/png": "[encoded data removed]",
            "text/plain": [
              "<Figure size 864x648 with 1 Axes>"
            ]
          },
          "metadata": {
            "needs_background": "light"
          },
          "output_type": "display_data"
        }
      ],
      "source": [
        "plt.plot(x, y)"
      ]
    },
    {
      "cell_type": "markdown",
      "metadata": {
        "id": "juTYOkWlAU0V"
      },
      "source": [
        "#### The delta"
      ]
    },
    {
      "cell_type": "code",
      "execution_count": null,
      "metadata": {
        "colab": {
          "base_uri": "https://localhost:8080/"
        },
        "id": "YMW6ZvEs_TEl",
        "outputId": "7a20a182-2048-42dc-e4ab-207cb914e0dd"
      },
      "outputs": [
        {
          "name": "stdout",
          "output_type": "stream",
          "text": [
            "(2, 8) (2.0001, 8.000800020000002)\n"
          ]
        }
      ],
      "source": [
        "# The point and the \"close enough\" point\n",
        "p2_delta = 0.0001\n",
        "x1 = 2\n",
        "x2 = x1+p2_delta\n",
        "\n",
        "y1 = f(x1)\n",
        "y2 = f(x2)\n",
        "\n",
        "print((x1, y1), (x2, y2))"
      ]
    },
    {
      "cell_type": "markdown",
      "metadata": {
        "id": "K7f7wexMBSCF"
      },
      "source": [
        "#### Derivative approximation for the tangent line"
      ]
    },
    {
      "cell_type": "code",
      "execution_count": null,
      "metadata": {
        "colab": {
          "base_uri": "https://localhost:8080/"
        },
        "id": "4g59Sx4BBBry",
        "outputId": "e21caead-1ba9-4611-d520-4c281c8434b4"
      },
      "outputs": [
        {
          "data": {
            "text/plain": [
              "8.000199999998785"
            ]
          },
          "execution_count": 10,
          "metadata": {},
          "output_type": "execute_result"
        }
      ],
      "source": [
        "approximate_derivative = (y2-y1)/(x2-x1)\n",
        "\n",
        "approximate_derivative"
      ]
    },
    {
      "cell_type": "markdown",
      "metadata": {
        "id": "gZWX-2UxBYeB"
      },
      "source": [
        "#### y-intercept (b) for the tangent line"
      ]
    },
    {
      "cell_type": "markdown",
      "metadata": {
        "id": "V0VVrpWGBCFB"
      },
      "source": [
        "Remember the equation for a line is: $\\large y = mx+b$\n",
        "\n",
        "So to find $\\large b$ we do:\n",
        "\n",
        "![](https://drive.google.com/uc?id=1kgtbfl4mPycEcpH5lioio3lm4B-kbx3j)"
      ]
    },
    {
      "cell_type": "code",
      "execution_count": null,
      "metadata": {
        "colab": {
          "base_uri": "https://localhost:8080/"
        },
        "id": "SHfXLjIVBHlo",
        "outputId": "0a68591c-9a64-4ad3-ea68-816fe9ee7181"
      },
      "outputs": [
        {
          "data": {
            "text/plain": [
              "-8.00039999999757"
            ]
          },
          "execution_count": 11,
          "metadata": {},
          "output_type": "execute_result"
        }
      ],
      "source": [
        "b = y2 - approximate_derivative * x2\n",
        "\n",
        "b"
      ]
    },
    {
      "cell_type": "markdown",
      "metadata": {
        "id": "5cZTdMR1CMTU"
      },
      "source": [
        "#### Func"
      ]
    },
    {
      "cell_type": "code",
      "execution_count": null,
      "metadata": {
        "id": "HEcPA-5RCzwt"
      },
      "outputs": [],
      "source": [
        "def approximate_tangent_line(x):\n",
        "    return approximate_derivative*x + b"
      ]
    },
    {
      "cell_type": "markdown",
      "metadata": {
        "id": "5EA1RHD8C1bW"
      },
      "source": [
        "#### Putting it all together"
      ]
    },
    {
      "cell_type": "code",
      "execution_count": null,
      "metadata": {
        "id": "JKLClbnJEtSz"
      },
      "outputs": [],
      "source": [
        "def f(x):\n",
        "    return 2*x**2"
      ]
    },
    {
      "cell_type": "code",
      "execution_count": null,
      "metadata": {
        "id": "xPBkyyZkEtS0"
      },
      "outputs": [],
      "source": [
        "def plot_f(f):\n",
        "    \n",
        "    p2_delta = 0.0001\n",
        "\n",
        "    # -- -----------------------------\n",
        "    # Get (x, y) for func  \n",
        "    x = np.arange(0, 5, 0.001)\n",
        "    y = f(x)\n",
        "    plt.plot(x, y)\n",
        "\n",
        "    # -- -----------------------------\n",
        "    # Get tangent line for 0-thru-4\n",
        "    for i in range(5):        \n",
        "        x1 = i\n",
        "        x2 = x1+p2_delta\n",
        "\n",
        "        y1 = f(x1)\n",
        "        y2 = f(x2)\n",
        "\n",
        "        # Derivative approximation for the tangent line\n",
        "        approximate_derivative = (y2-y1)/(x2-x1)\n",
        "\n",
        "        # y-intercept (b) for the tangent line\n",
        "        b = y2 - approximate_derivative * x2\n",
        "\n",
        "        # 3 points to plot for tangent line \n",
        "        tangent_line_x = [x1 - 0.9, x1, x1 + 0.9]\n",
        "        tangent_line_y = [approximate_derivative * p + b for p in tangent_line_x]\n",
        "        plt.plot(tangent_line_x, tangent_line_y)\n",
        "  \n",
        "plt.show()\n",
        "    "
      ]
    },
    {
      "cell_type": "code",
      "execution_count": null,
      "metadata": {
        "colab": {
          "base_uri": "https://localhost:8080/",
          "height": 537
        },
        "id": "Z16Yi_FuEtS0",
        "outputId": "569eb8f8-2f6a-4459-bc7d-2be79f682705"
      },
      "outputs": [
        {
          "data": {
            "image/png": "[encoded data removed]",
            "text/plain": [
              "<Figure size 864x648 with 1 Axes>"
            ]
          },
          "metadata": {
            "needs_background": "light"
          },
          "output_type": "display_data"
        }
      ],
      "source": [
        "plot_f(f)"
      ]
    },
    {
      "cell_type": "markdown",
      "metadata": {
        "id": "TvnvvIG5EtS2"
      },
      "source": [
        "### Note"
      ]
    },
    {
      "cell_type": "markdown",
      "metadata": {
        "id": "DJfEuRxPHWB4"
      },
      "source": [
        "We'll soon find that we care only about the **slope** of this tangent line but both visualizing and understanding the tangent line are very important. \n",
        "\n",
        "We care about the slope of the tangent line because it informs us about the impact that x has on this function at a particular point, referred to as the **instantaneous rate of change**."
      ]
    },
    {
      "cell_type": "markdown",
      "metadata": {
        "id": "jJSoIlsOHuwZ"
      },
      "source": [
        "### Why not to use for deep learning\n",
        "\n",
        "The problem is that the actual function employed in our neural network is not so simple. The loss function contains all of the layers, weights, and biases — it’s an absolutely massive function operating in multiple dimensions! \n",
        "\n",
        "Calculating derivatives using numerical differentiation requires **multiple forward passes** for a single parameter update. \n",
        "\n",
        "... in short it would be _very_ time-consuming. "
      ]
    },
    {
      "cell_type": "markdown",
      "metadata": {
        "id": "WuWe8Y0zIfXr"
      },
      "source": [
        "## The Analytical Derivative"
      ]
    },
    {
      "cell_type": "markdown",
      "metadata": {
        "id": "idqgE1oDLEhs"
      },
      "source": [
        "### Intro"
      ]
    },
    {
      "cell_type": "markdown",
      "metadata": {
        "id": "fakH0mrHLFkb"
      },
      "source": [
        "In mathematics, there are two general ways to solve problems: **numerical** and **analytical** methods. \n",
        "\n",
        "Numerical solution methods involve coming up with a number to find a solution, like the above approach with approximate_derivative. The numerical solution is also an approximation. \n",
        "\n",
        "On the other hand, the analytical method offers the exact and much quicker, in terms of calculation, solution. \n",
        "\n",
        "However, identifying the analytical solution for the derivative of a given function, as we’ll quickly learn, will vary in complexity, whereas the numerical approach never gets more complicated — it’s always calling the method twice with two inputs to calculate the approximate derivative at a point. \n"
      ]
    },
    {
      "cell_type": "markdown",
      "metadata": {
        "id": "7CljotjzQkAe"
      },
      "source": [
        "### Various Notations\n",
        "\n",
        "Each of these notations has the same meaning — the derivative of a function (with respect to $\\large x$).\n",
        "\n",
        "![](https://drive.google.com/uc?id=1L4t_sDoToB9vcxUoiKgnsZ4pQd7o9qYm)"
      ]
    },
    {
      "cell_type": "markdown",
      "metadata": {
        "id": "dCT-4fPSLXmU"
      },
      "source": [
        "### Simple Constant Function"
      ]
    },
    {
      "cell_type": "markdown",
      "metadata": {
        "id": "8uyTDXUJPa52"
      },
      "source": [
        "The derivative equals 0 since there’s no change from one value of x to any other value of x (i.e., there’s no slope).\n",
        "\n",
        "![](https://drive.google.com/uc?id=1lqxsJEr5J_865Rs55Xje5mMdulUgsen6)"
      ]
    },
    {
      "cell_type": "markdown",
      "metadata": {
        "id": "tfjERvJTQRDd"
      },
      "source": [
        "### Linear Function - Example 1\n",
        "\n",
        "For every change of $x$, $y$ changes by the same amount, so $y$ changes one times the $x$.\n",
        "\n",
        "\n",
        "![](https://drive.google.com/uc?id=11AI-FZn1ddpxfc3dabG1nSnBvxoi084l)"
      ]
    },
    {
      "cell_type": "markdown",
      "metadata": {
        "id": "ioG_F3f1Q-CO"
      },
      "source": [
        "### Linear Function - Example 2\n",
        "\n",
        "![](https://drive.google.com/uc?id=1rg-irbU6L1_jXcIpE3c8b2_XslGayMP5)\n",
        "\n",
        "> Important note (see step 3 above)\n",
        "> The derivative of a **constant multiple of the function** = **the constant multiple of the function’s derivative**\n"
      ]
    },
    {
      "cell_type": "markdown",
      "metadata": {
        "id": "9h095HgtSD_Q"
      },
      "source": [
        "### Quadratic Function\n",
        "\n",
        "![](https://drive.google.com/uc?id=1bvulfLDPEnDHuuaFpoaV_4As9xShqK3g)"
      ]
    },
    {
      "cell_type": "markdown",
      "metadata": {
        "id": "1F70tb05SrOs"
      },
      "source": [
        "### Functions with Addition\n",
        "\n",
        "The derivative of a sum operation is the sum of derivatives. Same rule applies to subtraction.\n",
        "\n",
        "![](https://drive.google.com/uc?id=1DdE3wkdmbf7VZkP1T_4ee4Rbjm0Pk8OR)"
      ]
    },
    {
      "cell_type": "markdown",
      "metadata": {
        "id": "1Sh1BxdPTVAM"
      },
      "source": [
        "### Another Example\n",
        "\n",
        "![](https://drive.google.com/uc?id=1rukCGEzr6kQa0fGR6LPo_hw6Wb6w3FqM)"
      ]
    },
    {
      "cell_type": "markdown",
      "metadata": {
        "id": "kCMvGp56T2pl"
      },
      "source": [
        "### Another Example\n",
        "\n",
        "![](https://drive.google.com/uc?id=1njpV7fod8JwCpwSi8ej2mECePSrruvIQ)"
      ]
    }
  ],
  "metadata": {
    "colab": {
      "collapsed_sections": [],
      "name": "part_07_derivatives.ipynb",
      "provenance": [],
      "toc_visible": true
    },
    "kernelspec": {
      "display_name": "Python 3",
      "name": "python3"
    },
    "language_info": {
      "name": "python"
    }
  },
  "nbformat": 4,
  "nbformat_minor": 0
}