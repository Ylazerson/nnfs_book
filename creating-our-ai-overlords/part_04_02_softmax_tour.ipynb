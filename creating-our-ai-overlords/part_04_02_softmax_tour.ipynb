{
  "nbformat": 4,
  "nbformat_minor": 0,
  "metadata": {
    "colab": {
      "name": "02_softmax_tour.ipynb",
      "provenance": [],
      "collapsed_sections": [],
      "toc_visible": true
    },
    "kernelspec": {
      "name": "python3",
      "display_name": "Python 3"
    },
    "language_info": {
      "name": "python"
    }
  },
  "cells": [
    {
      "cell_type": "markdown",
      "metadata": {
        "id": "7emNcnNvqjW9"
      },
      "source": [
        "# B\"H\n"
      ]
    },
    {
      "cell_type": "markdown",
      "metadata": {
        "id": "qhNIGwt4rVxg"
      },
      "source": [
        "## Softmax Activation Function\n",
        "\n",
        "<br>\n",
        "\n",
        "![](https://drive.google.com/uc?id=1OngR478lvQM7OWBvvKOo_5lX_J8TKf8U)\n",
        "\n",
        "<br>"
      ]
    },
    {
      "cell_type": "markdown",
      "metadata": {
        "id": "Xp8YGdvHpVsJ"
      },
      "source": [
        "### Logits"
      ]
    },
    {
      "cell_type": "code",
      "metadata": {
        "id": "V2pZ5gIQraTL"
      },
      "source": [
        "logits = [.9, .7]"
      ],
      "execution_count": null,
      "outputs": []
    },
    {
      "cell_type": "code",
      "metadata": {
        "id": "jXQA9iGjru6W"
      },
      "source": [
        "cat_logit = logits[0]\n",
        "dog_logit = logits[1]"
      ],
      "execution_count": null,
      "outputs": []
    },
    {
      "cell_type": "markdown",
      "metadata": {
        "id": "tbFZN3-1pd4d"
      },
      "source": [
        "### Cat/dog example"
      ]
    },
    {
      "cell_type": "code",
      "metadata": {
        "id": "i6XpkCk-r5Yh"
      },
      "source": [
        "import math"
      ],
      "execution_count": 5,
      "outputs": []
    },
    {
      "cell_type": "code",
      "metadata": {
        "id": "w7NTAp5nsGLH"
      },
      "source": [
        "denominator = math.pow(math.e, cat_logit) + math.pow(math.e, dog_logit)"
      ],
      "execution_count": null,
      "outputs": []
    },
    {
      "cell_type": "code",
      "metadata": {
        "colab": {
          "base_uri": "https://localhost:8080/"
        },
        "id": "9gYt8AbbsL1y",
        "outputId": "6e23e44b-d094-4609-a973-448badc375e0"
      },
      "source": [
        "denominator"
      ],
      "execution_count": null,
      "outputs": [
        {
          "output_type": "execute_result",
          "data": {
            "text/plain": [
              "4.473355818627425"
            ]
          },
          "metadata": {
            "tags": []
          },
          "execution_count": 6
        }
      ]
    },
    {
      "cell_type": "code",
      "metadata": {
        "colab": {
          "base_uri": "https://localhost:8080/"
        },
        "id": "C4lCfsmhsM4Y",
        "outputId": "1e4bdd74-753c-4ab9-e322-a21f9a6bce7a"
      },
      "source": [
        "cat_prob = math.pow(math.e, cat_logit) / denominator\n",
        "\n",
        "cat_prob"
      ],
      "execution_count": null,
      "outputs": [
        {
          "output_type": "execute_result",
          "data": {
            "text/plain": [
              "0.549833997312478"
            ]
          },
          "metadata": {
            "tags": []
          },
          "execution_count": 7
        }
      ]
    },
    {
      "cell_type": "code",
      "metadata": {
        "colab": {
          "base_uri": "https://localhost:8080/"
        },
        "id": "_1vdhdUTsT_y",
        "outputId": "6bd8aa9a-5851-4abd-d1fe-d4dc0b6618e0"
      },
      "source": [
        "dog_prob = math.pow(math.e, dog_logit) / denominator\n",
        "\n",
        "dog_prob"
      ],
      "execution_count": null,
      "outputs": [
        {
          "output_type": "execute_result",
          "data": {
            "text/plain": [
              "0.4501660026875221"
            ]
          },
          "metadata": {
            "tags": []
          },
          "execution_count": 8
        }
      ]
    },
    {
      "cell_type": "code",
      "metadata": {
        "colab": {
          "base_uri": "https://localhost:8080/"
        },
        "id": "d-KKzGJ-sYKN",
        "outputId": "0a8ae1df-f704-460b-8ba6-e20e1a6b9e71"
      },
      "source": [
        "cat_prob + dog_prob"
      ],
      "execution_count": null,
      "outputs": [
        {
          "output_type": "execute_result",
          "data": {
            "text/plain": [
              "1.0"
            ]
          },
          "metadata": {
            "tags": []
          },
          "execution_count": 10
        }
      ]
    },
    {
      "cell_type": "markdown",
      "metadata": {
        "id": "hUDj4dgOsvDT"
      },
      "source": [
        "### Create softmax function\n"
      ]
    },
    {
      "cell_type": "code",
      "metadata": {
        "id": "rDyeouVSswG7"
      },
      "source": [
        "def softmax(x_array):\n",
        "\n",
        "    denominator = 0\n",
        "    for x in x_array:\n",
        "        denominator += math.pow(math.e, x)\n",
        "\n",
        "    probs = []\n",
        "    for x in x_array:\n",
        "        probs.append(\n",
        "            math.pow(math.e, x) / denominator\n",
        "        )\n",
        "\n",
        "    return probs\n"
      ],
      "execution_count": 4,
      "outputs": []
    },
    {
      "cell_type": "markdown",
      "metadata": {
        "id": "d-KaSGkmpvmL"
      },
      "source": [
        "### Cat/dog example"
      ]
    },
    {
      "cell_type": "code",
      "metadata": {
        "colab": {
          "base_uri": "https://localhost:8080/"
        },
        "id": "XJKv09S0tSW9",
        "outputId": "e10e0223-d52f-49cf-f0f5-03af2b4ec9a9"
      },
      "source": [
        "logits = [.9, .7]\n",
        "\n",
        "CAT_IDX = 0\n",
        "DOG_IDX = 1\n",
        "\n",
        "probs = softmax(logits)\n",
        "\n",
        "print(f'Cat: {probs[CAT_IDX]}, Dog: {probs[DOG_IDX]}')"
      ],
      "execution_count": null,
      "outputs": [
        {
          "output_type": "stream",
          "text": [
            "Cat: 0.549833997312478, Dog: 0.4501660026875221\n"
          ],
          "name": "stdout"
        }
      ]
    },
    {
      "cell_type": "markdown",
      "metadata": {
        "id": "_w9Xp_h7pybd"
      },
      "source": [
        "### Example with 4 logits"
      ]
    },
    {
      "cell_type": "code",
      "metadata": {
        "colab": {
          "base_uri": "https://localhost:8080/"
        },
        "id": "RAIreUMPsGYb",
        "outputId": "0d1ece85-7c57-4e9e-e12b-dc9a981e8e22"
      },
      "source": [
        "logits = [.9, .7, .6, .0001]\n",
        "\n",
        "HOUSE_IDX = 0\n",
        "TREE_IDX = 1\n",
        "LIZARD_IDX = 2\n",
        "SKUNK_IDX = 3\n",
        "\n",
        "probs = softmax(logits)\n",
        "\n",
        "print(f'House: {probs[HOUSE_IDX]}, Tree: {probs[TREE_IDX]}, Lizard: {probs[LIZARD_IDX]}, Skunk: {probs[SKUNK_IDX]}')"
      ],
      "execution_count": null,
      "outputs": [
        {
          "output_type": "stream",
          "text": [
            "House: 0.3371363104229755, Tree: 0.276023865322535, Lizard: 0.24975672161474802, Skunk: 0.13708310263974147\n"
          ],
          "name": "stdout"
        }
      ]
    },
    {
      "cell_type": "code",
      "metadata": {
        "colab": {
          "base_uri": "https://localhost:8080/"
        },
        "id": "KXoZIvY_sGap",
        "outputId": "21b270c1-0678-4495-a0e1-06bbfd3603f9"
      },
      "source": [
        "sum_val = 0\n",
        "\n",
        "for prob in probs:\n",
        "    sum_val += prob\n",
        "\n",
        "sum_val"
      ],
      "execution_count": null,
      "outputs": [
        {
          "output_type": "execute_result",
          "data": {
            "text/plain": [
              "1.0"
            ]
          },
          "metadata": {
            "tags": []
          },
          "execution_count": 20
        }
      ]
    },
    {
      "cell_type": "markdown",
      "metadata": {
        "id": "9XmaxfvevJLS"
      },
      "source": [
        "### Translational Invariance\n",
        "\n",
        "See: https://stats.stackexchange.com/questions/208936/what-is-translation-invariance-in-computer-vision-and-convolutional-neural-netwo"
      ]
    },
    {
      "cell_type": "code",
      "metadata": {
        "id": "8c6ObiA0vKZ1"
      },
      "source": [
        "list_of_logits = [\n",
        "    [1, 4],\n",
        "    [101, 104],\n",
        "    [-101, -104],                      \n",
        "]"
      ],
      "execution_count": null,
      "outputs": []
    },
    {
      "cell_type": "code",
      "metadata": {
        "colab": {
          "base_uri": "https://localhost:8080/"
        },
        "id": "6D3aVX8ivZ0u",
        "outputId": "006ef761-9cf4-4be0-de22-c5a48faef84a"
      },
      "source": [
        "for logits in list_of_logits:\n",
        "    print(\n",
        "        softmax(logits)\n",
        "    )"
      ],
      "execution_count": null,
      "outputs": [
        {
          "output_type": "stream",
          "text": [
            "[0.04742587317756678, 0.9525741268224331]\n",
            "[0.04742587317756679, 0.9525741268224331]\n",
            "[0.9525741268224333, 0.04742587317756679]\n"
          ],
          "name": "stdout"
        }
      ]
    },
    {
      "cell_type": "markdown",
      "metadata": {
        "id": "Z3vz86yBsGcs"
      },
      "source": [
        "### Note\n",
        "\n",
        "Why use softmax as opposed to standard normalization?\n",
        "- https://stackoverflow.com/questions/17187507/why-use-softmax-as-opposed-to-standard-normalization"
      ]
    },
    {
      "cell_type": "markdown",
      "metadata": {
        "id": "WdefqN9BsDt0"
      },
      "source": [
        "### With 1 logit = 1 ... duh!"
      ]
    },
    {
      "cell_type": "code",
      "metadata": {
        "id": "O5VTHn7mq0Sd"
      },
      "source": [
        "import numpy as np"
      ],
      "execution_count": 1,
      "outputs": []
    },
    {
      "cell_type": "code",
      "metadata": {
        "colab": {
          "base_uri": "https://localhost:8080/"
        },
        "id": "apLQPTcGrZOW",
        "outputId": "1833e82b-018f-45ec-b5f4-d014ae1d7f03"
      },
      "source": [
        "for x in np.arange(-10, 10):\n",
        "    print(softmax([x])[0])"
      ],
      "execution_count": 14,
      "outputs": [
        {
          "output_type": "stream",
          "text": [
            "1.0\n",
            "1.0\n",
            "1.0\n",
            "1.0\n",
            "1.0\n",
            "1.0\n",
            "1.0\n",
            "1.0\n",
            "1.0\n",
            "1.0\n",
            "1.0\n",
            "1.0\n",
            "1.0\n",
            "1.0\n",
            "1.0\n",
            "1.0\n",
            "1.0\n",
            "1.0\n",
            "1.0\n",
            "1.0\n"
          ],
          "name": "stdout"
        }
      ]
    }
  ]
}