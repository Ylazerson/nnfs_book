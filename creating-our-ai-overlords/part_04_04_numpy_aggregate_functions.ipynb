{
  "nbformat": 4,
  "nbformat_minor": 0,
  "metadata": {
    "colab": {
      "name": "part_04_04_numpy_aggregate_functions.ipynb",
      "provenance": [],
      "collapsed_sections": [],
      "toc_visible": true
    },
    "kernelspec": {
      "display_name": "Python 3",
      "name": "python3"
    },
    "language_info": {
      "name": "python"
    }
  },
  "cells": [
    {
      "cell_type": "markdown",
      "source": [
        "## Working with NumPy Aggregate Functions"
      ],
      "metadata": {
        "id": "feZ-Tnx3Gxrp"
      }
    },
    {
      "cell_type": "markdown",
      "source": [
        "Note the discussion below applies to most of the NumPy aggregate functions. We'll use `np.sum` as the example to play with."
      ],
      "metadata": {
        "id": "q2bEAsNpG8VS"
      }
    },
    {
      "cell_type": "markdown",
      "metadata": {
        "id": "E4TnqQYNGIRU"
      },
      "source": [
        "### Mindset\n",
        "\n",
        "> With arrays, do not think of rows, columns, etc. because it might confuse you so that you think that the one dimension is more \"higher-up\" than another dimension - like the rows contain columns/fields. \n",
        ">\n",
        "> That is **wrong** - all dimensions are equal. So if you have a `3*3*3` array, think of it as a Rubik's cube, where each dimension is just as \"important\" - none \"contain\" the other. \n",
        ">\n",
        "> Same obivously applies when there is more than 3 dimensions as well ..."
      ]
    },
    {
      "cell_type": "markdown",
      "source": [
        "### Setup the Cube"
      ],
      "metadata": {
        "id": "hW_PHlCxHtIV"
      }
    },
    {
      "cell_type": "code",
      "source": [
        "import numpy as np"
      ],
      "metadata": {
        "id": "r-xrPhNbH1yD"
      },
      "execution_count": 2,
      "outputs": []
    },
    {
      "cell_type": "code",
      "metadata": {
        "colab": {
          "base_uri": "https://localhost:8080/"
        },
        "id": "282xhIJdHGAt",
        "outputId": "86951379-2ada-472b-e80d-415f19263201"
      },
      "source": [
        "cube = np.ones((3, 3, 3))\n",
        "\n",
        "cube"
      ],
      "execution_count": 3,
      "outputs": [
        {
          "output_type": "execute_result",
          "data": {
            "text/plain": [
              "array([[[1., 1., 1.],\n",
              "        [1., 1., 1.],\n",
              "        [1., 1., 1.]],\n",
              "\n",
              "       [[1., 1., 1.],\n",
              "        [1., 1., 1.],\n",
              "        [1., 1., 1.]],\n",
              "\n",
              "       [[1., 1., 1.],\n",
              "        [1., 1., 1.],\n",
              "        [1., 1., 1.]]])"
            ]
          },
          "metadata": {},
          "execution_count": 3
        }
      ]
    },
    {
      "cell_type": "code",
      "source": [
        "cube.shape"
      ],
      "metadata": {
        "colab": {
          "base_uri": "https://localhost:8080/"
        },
        "id": "BJQdnA8tHyMg",
        "outputId": "20926108-f022-4f38-9faa-91c1b8212b46"
      },
      "execution_count": 4,
      "outputs": [
        {
          "output_type": "execute_result",
          "data": {
            "text/plain": [
              "(3, 3, 3)"
            ]
          },
          "metadata": {},
          "execution_count": 4
        }
      ]
    },
    {
      "cell_type": "code",
      "metadata": {
        "colab": {
          "base_uri": "https://localhost:8080/"
        },
        "id": "9A6Py-dHHaL5",
        "outputId": "10e1942c-6128-4ef2-f3c0-4833b288cc2f"
      },
      "source": [
        "print(cube[0])\n",
        "print(cube[0].shape)"
      ],
      "execution_count": 6,
      "outputs": [
        {
          "output_type": "stream",
          "name": "stdout",
          "text": [
            "[[1. 1. 1.]\n",
            " [1. 1. 1.]\n",
            " [1. 1. 1.]]\n",
            "(3, 3)\n"
          ]
        }
      ]
    },
    {
      "cell_type": "code",
      "metadata": {
        "colab": {
          "base_uri": "https://localhost:8080/"
        },
        "id": "Sv__ID9QHnbq",
        "outputId": "c5939a4e-c8a3-4246-d1dd-5b951af245b6"
      },
      "source": [
        "print(cube[0][0])\n",
        "print(cube[0][0].shape)"
      ],
      "execution_count": 7,
      "outputs": [
        {
          "output_type": "stream",
          "name": "stdout",
          "text": [
            "[1. 1. 1.]\n",
            "(3,)\n"
          ]
        }
      ]
    },
    {
      "cell_type": "code",
      "metadata": {
        "colab": {
          "base_uri": "https://localhost:8080/"
        },
        "id": "GQ22PjuVHr1l",
        "outputId": "6071c841-1af6-4890-bd37-e6087da7177e"
      },
      "source": [
        "cube[0][0][0]"
      ],
      "execution_count": 10,
      "outputs": [
        {
          "output_type": "execute_result",
          "data": {
            "text/plain": [
              "1.0"
            ]
          },
          "metadata": {},
          "execution_count": 10
        }
      ]
    },
    {
      "cell_type": "markdown",
      "source": [
        "### Let's update some of the cube values"
      ],
      "metadata": {
        "id": "rDNZfJgpIO0O"
      }
    },
    {
      "cell_type": "code",
      "metadata": {
        "colab": {
          "base_uri": "https://localhost:8080/"
        },
        "id": "11E_AEcCHxq-",
        "outputId": "39b2a048-311b-491f-f48e-cf4458505bfc"
      },
      "source": [
        "cube[0][0][0] = 5.0\n",
        "cube[1][0][0] = 55.0\n",
        "cube[2][0][0] = 99.0\n",
        "\n",
        "cube"
      ],
      "execution_count": 11,
      "outputs": [
        {
          "output_type": "execute_result",
          "data": {
            "text/plain": [
              "array([[[ 5.,  1.,  1.],\n",
              "        [ 1.,  1.,  1.],\n",
              "        [ 1.,  1.,  1.]],\n",
              "\n",
              "       [[55.,  1.,  1.],\n",
              "        [ 1.,  1.,  1.],\n",
              "        [ 1.,  1.,  1.]],\n",
              "\n",
              "       [[99.,  1.,  1.],\n",
              "        [ 1.,  1.,  1.],\n",
              "        [ 1.,  1.,  1.]]])"
            ]
          },
          "metadata": {},
          "execution_count": 11
        }
      ]
    },
    {
      "cell_type": "markdown",
      "metadata": {
        "id": "exe4tqDY8mHW"
      },
      "source": [
        "### Sum without axis"
      ]
    },
    {
      "cell_type": "code",
      "metadata": {
        "colab": {
          "base_uri": "https://localhost:8080/"
        },
        "id": "vZhQLM_w9ANl",
        "outputId": "3f1d4b47-4973-47d8-caa3-48463d130c9f"
      },
      "source": [
        "np.sum(cube)"
      ],
      "execution_count": 13,
      "outputs": [
        {
          "output_type": "execute_result",
          "data": {
            "text/plain": [
              "183.0"
            ]
          },
          "metadata": {},
          "execution_count": 13
        }
      ]
    },
    {
      "cell_type": "markdown",
      "metadata": {
        "id": "IaOKjIqY9C3f"
      },
      "source": [
        "...or:"
      ]
    },
    {
      "cell_type": "code",
      "metadata": {
        "colab": {
          "base_uri": "https://localhost:8080/"
        },
        "id": "BqlFw2xq9FcW",
        "outputId": "ca09c240-41b7-42a0-ccd9-ba28fe0bace4"
      },
      "source": [
        "np.sum(cube, axis=None)"
      ],
      "execution_count": 14,
      "outputs": [
        {
          "output_type": "execute_result",
          "data": {
            "text/plain": [
              "183.0"
            ]
          },
          "metadata": {},
          "execution_count": 14
        }
      ]
    },
    {
      "cell_type": "markdown",
      "metadata": {
        "id": "7K6YQ8oz9IZZ"
      },
      "source": [
        "### Sum with axis 0\n",
        "\n",
        "Collapse dimension 0 into remaining dimensions."
      ]
    },
    {
      "cell_type": "code",
      "metadata": {
        "colab": {
          "base_uri": "https://localhost:8080/"
        },
        "id": "yCBPI64E9RNz",
        "outputId": "d5f0d52e-1269-4693-ea44-be9f585347c5"
      },
      "source": [
        "np.sum(cube, axis=0)"
      ],
      "execution_count": 23,
      "outputs": [
        {
          "output_type": "execute_result",
          "data": {
            "text/plain": [
              "array([[159.,   3.,   3.],\n",
              "       [  3.,   3.,   3.],\n",
              "       [  3.,   3.,   3.]])"
            ]
          },
          "metadata": {},
          "execution_count": 23
        }
      ]
    },
    {
      "cell_type": "markdown",
      "metadata": {
        "id": "DwWmM6yz92Cc"
      },
      "source": [
        "### Sum with axis 1\n",
        "\n",
        "Collapse dimension 1 into remaining dimensions."
      ]
    },
    {
      "cell_type": "code",
      "metadata": {
        "colab": {
          "base_uri": "https://localhost:8080/"
        },
        "id": "j6prtb4V92Cc",
        "outputId": "db5bb228-c78c-44d3-e033-62c9353eb7af"
      },
      "source": [
        "np.sum(cube, axis=1)"
      ],
      "execution_count": 41,
      "outputs": [
        {
          "output_type": "execute_result",
          "data": {
            "text/plain": [
              "array([[  7.,   3.,   3.],\n",
              "       [ 57.,   3.,   3.],\n",
              "       [101.,   3.,   3.]])"
            ]
          },
          "metadata": {},
          "execution_count": 41
        }
      ]
    },
    {
      "cell_type": "markdown",
      "source": [
        "### \"Real World\" Example\n",
        "\n",
        "Following are batches of people; each person has two attributes; number-of-eyes and salary:"
      ],
      "metadata": {
        "id": "mE2NuMKVL8Gz"
      }
    },
    {
      "cell_type": "code",
      "source": [
        "batch_1 = np.array([\n",
        "    [2, 2000],\n",
        "    [1, 2000],\n",
        "    [2, 2000]\n",
        "])\n",
        "\n",
        "batch_2 = np.array([\n",
        "    [2, 1000],\n",
        "    [1, 1000],\n",
        "    [2, 1000]\n",
        "])\n",
        "\n",
        "batches = np.array([batch_1, batch_2])"
      ],
      "metadata": {
        "id": "ZJvuNyFaMBKR"
      },
      "execution_count": 53,
      "outputs": []
    },
    {
      "cell_type": "code",
      "source": [
        "# 2 batches, each batch with three people, each person with 2 attributes\n",
        "batches.shape"
      ],
      "metadata": {
        "colab": {
          "base_uri": "https://localhost:8080/"
        },
        "id": "rYMNd3qSM4bs",
        "outputId": "a268e1a5-81c5-4e57-8c6b-9dd53becb99c"
      },
      "execution_count": 54,
      "outputs": [
        {
          "output_type": "execute_result",
          "data": {
            "text/plain": [
              "(2, 3, 2)"
            ]
          },
          "metadata": {},
          "execution_count": 54
        }
      ]
    },
    {
      "cell_type": "markdown",
      "source": [
        "#### Get total eyes and total salary, per batch\n",
        "\n",
        "I.e. \n",
        "- collapse dimension 1 into remaining dimensions\n",
        "- collapse **people dimension** so all we have left is the **batch info** and **number-of-eyes/salary info** \n",
        "\n"
      ],
      "metadata": {
        "id": "KnwogoymNkzV"
      }
    },
    {
      "cell_type": "code",
      "source": [
        "np.sum(batches, axis=1)"
      ],
      "metadata": {
        "colab": {
          "base_uri": "https://localhost:8080/"
        },
        "id": "3L-DGcyHNH2k",
        "outputId": "1dece760-8d86-4ec5-a544-1e05e92ebf9e"
      },
      "execution_count": 56,
      "outputs": [
        {
          "output_type": "execute_result",
          "data": {
            "text/plain": [
              "array([[   5, 6000],\n",
              "       [   5, 3000]])"
            ]
          },
          "metadata": {},
          "execution_count": 56
        }
      ]
    },
    {
      "cell_type": "markdown",
      "source": [
        "### keepdims"
      ],
      "metadata": {
        "id": "_8qX8UbGKQN1"
      }
    },
    {
      "cell_type": "markdown",
      "metadata": {
        "id": "iqiDmzLb4TfY"
      },
      "source": [
        "Now let's keep the same dimension as the input:\n",
        "- Keep the same number of dimensions, not that each dimension will have same size (contain same number of elements)\n"
      ]
    },
    {
      "cell_type": "code",
      "metadata": {
        "colab": {
          "base_uri": "https://localhost:8080/"
        },
        "id": "eYOrC98RCbM5",
        "outputId": "7d490eeb-859e-422e-8e0f-59a79f79a1dc"
      },
      "source": [
        "new_array = np.sum(cube, axis=1, keepdims=True)\n",
        "\n",
        "new_array"
      ],
      "execution_count": 25,
      "outputs": [
        {
          "output_type": "execute_result",
          "data": {
            "text/plain": [
              "array([[[  7.,   3.,   3.]],\n",
              "\n",
              "       [[ 57.,   3.,   3.]],\n",
              "\n",
              "       [[101.,   3.,   3.]]])"
            ]
          },
          "metadata": {},
          "execution_count": 25
        }
      ]
    },
    {
      "cell_type": "code",
      "metadata": {
        "colab": {
          "base_uri": "https://localhost:8080/"
        },
        "id": "6B058h5AJe8X",
        "outputId": "9c669d8c-8bbf-455c-e447-6ec28d63af8b"
      },
      "source": [
        "new_array.shape"
      ],
      "execution_count": 26,
      "outputs": [
        {
          "output_type": "execute_result",
          "data": {
            "text/plain": [
              "(3, 1, 3)"
            ]
          },
          "metadata": {},
          "execution_count": 26
        }
      ]
    },
    {
      "cell_type": "code",
      "metadata": {
        "colab": {
          "base_uri": "https://localhost:8080/"
        },
        "id": "0o_E152vJg9U",
        "outputId": "f3ab43d7-5087-46d9-c7dc-e7c5270a1461"
      },
      "source": [
        "cube.shape"
      ],
      "execution_count": 27,
      "outputs": [
        {
          "output_type": "execute_result",
          "data": {
            "text/plain": [
              "(3, 3, 3)"
            ]
          },
          "metadata": {},
          "execution_count": 27
        }
      ]
    },
    {
      "cell_type": "code",
      "metadata": {
        "colab": {
          "base_uri": "https://localhost:8080/"
        },
        "id": "KtJRIH6tJjOB",
        "outputId": "4eeb56fb-71a7-45ff-9287-de2d10a02817"
      },
      "source": [
        "print(\n",
        "    len(new_array.shape),\n",
        "    len(cube.shape)\n",
        ")"
      ],
      "execution_count": 29,
      "outputs": [
        {
          "output_type": "stream",
          "name": "stdout",
          "text": [
            "3 3\n"
          ]
        }
      ]
    }
  ]
}