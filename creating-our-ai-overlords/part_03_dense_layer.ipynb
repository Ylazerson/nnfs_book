{
  "nbformat": 4,
  "nbformat_minor": 0,
  "metadata": {
    "colab": {
      "name": "dense_layer.ipynb",
      "provenance": [],
      "collapsed_sections": [],
      "toc_visible": true
    },
    "kernelspec": {
      "name": "python3",
      "display_name": "Python 3"
    },
    "language_info": {
      "name": "python"
    }
  },
  "cells": [
    {
      "cell_type": "markdown",
      "source": [
        "\n",
        "## Code Dependencies"
      ],
      "metadata": {
        "id": "OKgUerstRIdf"
      }
    },
    {
      "cell_type": "code",
      "source": [
        "!pip install nnfs"
      ],
      "metadata": {
        "colab": {
          "base_uri": "https://localhost:8080/"
        },
        "id": "LpLOdBT0RhUi",
        "outputId": "7f1d1b35-df82-4620-8697-8bb0e49c09f5"
      },
      "execution_count": 1,
      "outputs": [
        {
          "output_type": "stream",
          "name": "stdout",
          "text": [
            "Collecting nnfs\n",
            "  Downloading nnfs-0.5.1-py3-none-any.whl (9.1 kB)\n",
            "Requirement already satisfied: numpy in /usr/local/lib/python3.7/dist-packages (from nnfs) (1.19.5)\n",
            "Installing collected packages: nnfs\n",
            "Successfully installed nnfs-0.5.1\n"
          ]
        }
      ]
    },
    {
      "cell_type": "code",
      "metadata": {
        "id": "tdZdZAtyJvJo"
      },
      "source": [
        "import numpy as np\n",
        "import matplotlib.pyplot as plt"
      ],
      "execution_count": 2,
      "outputs": []
    },
    {
      "cell_type": "code",
      "source": [
        "import nnfs\n",
        "from nnfs.datasets import spiral_data\n",
        "\n",
        "nnfs.init()"
      ],
      "metadata": {
        "id": "dx0rYCTHRnYm"
      },
      "execution_count": 3,
      "outputs": []
    },
    {
      "cell_type": "markdown",
      "metadata": {
        "id": "Qtu4yMtxJCey"
      },
      "source": [
        "## Two Hidden Layers"
      ]
    },
    {
      "cell_type": "markdown",
      "metadata": {
        "id": "XZwCJuI5HiWA"
      },
      "source": [
        "\n",
        "![](https://drive.google.com/uc?id=17dcOYX-h8fISJHQIpGSmukB0OdV-gZyY)"
      ]
    },
    {
      "cell_type": "code",
      "metadata": {
        "id": "xtot2h4aJH6D"
      },
      "source": [
        "inputs = np.array([\n",
        "    [1.0, 2.0, 3.0, 2.5],\n",
        "    [2.0, 5.0, -1.0, 2.0],\n",
        "    [-1.5, 2.7, 3.3, -0.8]\n",
        "])\n",
        "\n",
        "weights = np.array([\n",
        "    [0.2, 0.8, -0.5, 1.0],\n",
        "    [0.5, -0.91, 0.26, -0.5],\n",
        "    [-0.26, -0.27, 0.17, 0.87]\n",
        "])\n",
        "\n",
        "biases = np.array(\n",
        "    [2.0, 3.0, 0.5]\n",
        ")\n",
        "\n",
        "# -- -------------------------------------\n",
        "\n",
        "weights2 = np.array([\n",
        "    [0.1, -0.14, 0.5],\n",
        "    [-0.5, 0.12, -0.33],\n",
        "    [-0.44, 0.73, -0.13]\n",
        "])\n",
        "\n",
        "biases2 = np.array(\n",
        "    [-1.0, 2.0, -0.5]\n",
        ")"
      ],
      "execution_count": 4,
      "outputs": []
    },
    {
      "cell_type": "code",
      "metadata": {
        "colab": {
          "base_uri": "https://localhost:8080/"
        },
        "id": "9maokalsJnVz",
        "outputId": "da4bbf95-57dc-4f4f-8df7-ef04f1a85bf2"
      },
      "source": [
        "layer1_outputs = np.dot(\n",
        "    inputs, \n",
        "    weights.T\n",
        ")\n",
        "\n",
        "layer1_outputs = layer1_outputs + biases\n",
        "\n",
        "layer1_outputs"
      ],
      "execution_count": 5,
      "outputs": [
        {
          "output_type": "execute_result",
          "data": {
            "text/plain": [
              "array([[ 4.79999995,  1.21000004,  2.38499999],\n",
              "       [ 8.9000001 , -1.80999994,  0.19999999],\n",
              "       [ 1.41000003,  1.051     ,  0.02599999]])"
            ]
          },
          "metadata": {},
          "execution_count": 5
        }
      ]
    },
    {
      "cell_type": "code",
      "metadata": {
        "colab": {
          "base_uri": "https://localhost:8080/"
        },
        "id": "H-Jet9-nJt2h",
        "outputId": "4ceaeeb7-095b-4d12-9b92-9953f10acd0c"
      },
      "source": [
        "layer2_outputs = np.dot(\n",
        "    layer1_outputs, \n",
        "    weights2.T\n",
        ")\n",
        "\n",
        "layer2_outputs = layer2_outputs + biases2\n",
        "\n",
        "layer2_outputs"
      ],
      "execution_count": 6,
      "outputs": [
        {
          "output_type": "execute_result",
          "data": {
            "text/plain": [
              "array([[ 0.50310004, -1.04184985, -2.03874993],\n",
              "       [ 0.24339998, -2.73320007, -5.76329994],\n",
              "       [-0.99314   ,  1.41254002, -0.35655001]])"
            ]
          },
          "metadata": {},
          "execution_count": 6
        }
      ]
    },
    {
      "cell_type": "markdown",
      "metadata": {
        "id": "alKlykDYJ51l"
      },
      "source": [
        "## Training Data"
      ]
    },
    {
      "cell_type": "code",
      "metadata": {
        "id": "iBoXmuB5KkLv"
      },
      "source": [
        "galaxy_arm_coordinates, galaxy_arm_class = spiral_data(\n",
        "    samples=400, \n",
        "    classes=3\n",
        ")"
      ],
      "execution_count": 7,
      "outputs": []
    },
    {
      "cell_type": "code",
      "source": [
        "plt.scatter(\n",
        "    galaxy_arm_coordinates[:, 0],\n",
        "    galaxy_arm_coordinates[:, 1],\n",
        "    c=galaxy_arm_class,\n",
        "    cmap='brg'\n",
        ")\n",
        "\n",
        "plt.show()"
      ],
      "metadata": {
        "colab": {
          "base_uri": "https://localhost:8080/",
          "height": 265
        },
        "id": "EpyEwIjEVWKJ",
        "outputId": "eec88f00-9fc9-405d-a2bf-09fc9ba0b9c1"
      },
      "execution_count": 8,
      "outputs": [
        {
          "output_type": "display_data",
          "data": {
            "image/png": "[encoded data removed]",
            "text/plain": [
              "<Figure size 432x288 with 1 Axes>"
            ]
          },
          "metadata": {
            "needs_background": "light"
          }
        }
      ]
    },
    {
      "cell_type": "markdown",
      "source": [
        "### galaxy_arm_coordinates"
      ],
      "metadata": {
        "id": "F86jV-DBVDAn"
      }
    },
    {
      "cell_type": "code",
      "metadata": {
        "colab": {
          "base_uri": "https://localhost:8080/"
        },
        "id": "f8SHH9S4LCw8",
        "outputId": "7c48b50c-e03f-49a3-e0a1-faae3fda4df4"
      },
      "source": [
        "type(galaxy_arm_coordinates)"
      ],
      "execution_count": 9,
      "outputs": [
        {
          "output_type": "execute_result",
          "data": {
            "text/plain": [
              "numpy.ndarray"
            ]
          },
          "metadata": {},
          "execution_count": 9
        }
      ]
    },
    {
      "cell_type": "code",
      "metadata": {
        "colab": {
          "base_uri": "https://localhost:8080/"
        },
        "id": "pWM9U8HDLG1f",
        "outputId": "c925675b-0048-42e2-885c-4dc82243f7ba"
      },
      "source": [
        "galaxy_arm_coordinates.shape"
      ],
      "execution_count": 10,
      "outputs": [
        {
          "output_type": "execute_result",
          "data": {
            "text/plain": [
              "(1200, 2)"
            ]
          },
          "metadata": {},
          "execution_count": 10
        }
      ]
    },
    {
      "cell_type": "code",
      "metadata": {
        "colab": {
          "base_uri": "https://localhost:8080/"
        },
        "id": "UZe4EI0XLM8I",
        "outputId": "d92e748d-0fba-427f-cc81-5c4a1617bed9"
      },
      "source": [
        "galaxy_arm_coordinates[:5]"
      ],
      "execution_count": 11,
      "outputs": [
        {
          "output_type": "execute_result",
          "data": {
            "text/plain": [
              "array([[0.        , 0.        ],\n",
              "       [0.00055951, 0.00244301],\n",
              "       [0.00257495, 0.00430059],\n",
              "       [0.00699585, 0.00275506],\n",
              "       [0.0086152 , 0.00512642]], dtype=float32)"
            ]
          },
          "metadata": {},
          "execution_count": 11
        }
      ]
    },
    {
      "cell_type": "markdown",
      "metadata": {
        "id": "w05gq-tWLlFa"
      },
      "source": [
        "### galaxy_arm_class"
      ]
    },
    {
      "cell_type": "code",
      "metadata": {
        "colab": {
          "base_uri": "https://localhost:8080/"
        },
        "id": "LzrR4hlULO8U",
        "outputId": "d387076f-7d58-49b8-a751-f057c1279e9d"
      },
      "source": [
        "type(galaxy_arm_class)"
      ],
      "execution_count": 12,
      "outputs": [
        {
          "output_type": "execute_result",
          "data": {
            "text/plain": [
              "numpy.ndarray"
            ]
          },
          "metadata": {},
          "execution_count": 12
        }
      ]
    },
    {
      "cell_type": "code",
      "metadata": {
        "colab": {
          "base_uri": "https://localhost:8080/"
        },
        "id": "6QkPyDLJLfGa",
        "outputId": "89aadf0f-2727-49da-84b6-06d724452ee4"
      },
      "source": [
        "galaxy_arm_class.shape"
      ],
      "execution_count": 13,
      "outputs": [
        {
          "output_type": "execute_result",
          "data": {
            "text/plain": [
              "(1200,)"
            ]
          },
          "metadata": {},
          "execution_count": 13
        }
      ]
    },
    {
      "cell_type": "code",
      "metadata": {
        "colab": {
          "base_uri": "https://localhost:8080/"
        },
        "id": "F45RGdJ2Lgno",
        "outputId": "f96b0472-6212-4bf7-af38-610db14044a9"
      },
      "source": [
        "galaxy_arm_class[:5]"
      ],
      "execution_count": 14,
      "outputs": [
        {
          "output_type": "execute_result",
          "data": {
            "text/plain": [
              "array([0, 0, 0, 0, 0], dtype=uint8)"
            ]
          },
          "metadata": {},
          "execution_count": 14
        }
      ]
    },
    {
      "cell_type": "markdown",
      "metadata": {
        "id": "bGH9XjQRLD3-"
      },
      "source": [
        "## The Code"
      ]
    },
    {
      "cell_type": "markdown",
      "source": [
        "### Dense Layer Class"
      ],
      "metadata": {
        "id": "tWxtvanzWiNN"
      }
    },
    {
      "cell_type": "markdown",
      "metadata": {
        "id": "3gdHShPmMBhh"
      },
      "source": [
        "**Some Notes**\n",
        "\n",
        "- `np.random.randn` produces a **Gaussian distribution** with a mean of 0 and a variance of 1. \n",
        "\n",
        "- We’re going to multiply this Gaussian distribution for the weights by `0.01` to generate numbers that are a couple of magnitudes smaller. Otherwise, the model will take more time to fit the data during the training process ... (as we'll see later) ..."
      ]
    },
    {
      "cell_type": "code",
      "metadata": {
        "id": "C1CaDGcxI2bB"
      },
      "source": [
        "class Layer_Dense:\n",
        "\n",
        "    def __init__(self, n_inputs, n_neurons):        \n",
        "        self.weights = 0.01 * np.random.randn(n_inputs, n_neurons)\n",
        "        self.biases = np.zeros((1, n_neurons))\n",
        "\n",
        "    def forward(self, inputs):        \n",
        "        self.output = np.dot(inputs, self.weights) + self.biases\n"
      ],
      "execution_count": 15,
      "outputs": []
    },
    {
      "cell_type": "markdown",
      "source": [
        "### 1st Dense Layer\n",
        "\n",
        "- 2 input features \n",
        "- 3 output values"
      ],
      "metadata": {
        "id": "uQdFTVEWWSFQ"
      }
    },
    {
      "cell_type": "code",
      "metadata": {
        "id": "rkyt1RWfNGzs"
      },
      "source": [
        "dense1 = Layer_Dense(2, 3)"
      ],
      "execution_count": 16,
      "outputs": []
    },
    {
      "cell_type": "markdown",
      "source": [
        "### Forward Pass"
      ],
      "metadata": {
        "id": "jy-2hThNW9aO"
      }
    },
    {
      "cell_type": "code",
      "metadata": {
        "id": "9gbkAISPMY6i"
      },
      "source": [
        "dense1.forward(galaxy_arm_coordinates)"
      ],
      "execution_count": 17,
      "outputs": []
    },
    {
      "cell_type": "markdown",
      "source": [
        "### Results"
      ],
      "metadata": {
        "id": "k3uGRp3XXEVW"
      }
    },
    {
      "cell_type": "code",
      "source": [
        "dense1.output.shape"
      ],
      "metadata": {
        "colab": {
          "base_uri": "https://localhost:8080/"
        },
        "id": "h3QYVg5JXQal",
        "outputId": "dfc6ae5d-7b46-419e-f0dc-03373f48f265"
      },
      "execution_count": 18,
      "outputs": [
        {
          "output_type": "execute_result",
          "data": {
            "text/plain": [
              "(1200, 3)"
            ]
          },
          "metadata": {},
          "execution_count": 18
        }
      ]
    },
    {
      "cell_type": "code",
      "metadata": {
        "colab": {
          "base_uri": "https://localhost:8080/"
        },
        "id": "nryNcu1uMZOl",
        "outputId": "baf33fce-3037-4cc6-f97f-87af0215e71e"
      },
      "source": [
        "dense1.output[:5]"
      ],
      "execution_count": 19,
      "outputs": [
        {
          "output_type": "execute_result",
          "data": {
            "text/plain": [
              "array([[ 0.0000000e+00,  0.0000000e+00,  0.0000000e+00],\n",
              "       [ 1.0814675e-05, -3.8807790e-05, -2.0800780e-05],\n",
              "       [ 4.7854114e-06, -9.9523451e-05, -1.1418167e-05],\n",
              "       [-4.4856788e-05, -1.6869020e-04,  7.7414203e-05],\n",
              "       [-4.4006545e-05, -2.2748367e-04,  7.4280244e-05]], dtype=float32)"
            ]
          },
          "metadata": {},
          "execution_count": 19
        }
      ]
    }
  ]
}