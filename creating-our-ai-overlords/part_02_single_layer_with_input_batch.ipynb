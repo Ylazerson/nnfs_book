{
  "nbformat": 4,
  "nbformat_minor": 0,
  "metadata": {
    "colab": {
      "name": "01_single_layer.ipynb",
      "provenance": [],
      "collapsed_sections": [],
      "toc_visible": true
    },
    "kernelspec": {
      "name": "python3",
      "display_name": "Python 3"
    },
    "language_info": {
      "name": "python"
    }
  },
  "cells": [
    {
      "cell_type": "markdown",
      "source": [
        "\n",
        "## Code Dependencies"
      ],
      "metadata": {
        "id": "Hstmig2N3nM2"
      }
    },
    {
      "cell_type": "code",
      "metadata": {
        "id": "r1PmeaqP1LMU"
      },
      "source": [
        "import numpy as np\n",
        "\n",
        "from IPython.display import Image"
      ],
      "execution_count": 18,
      "outputs": []
    },
    {
      "cell_type": "markdown",
      "metadata": {
        "id": "RYAaDzAEywC4"
      },
      "source": [
        "## Dot Product and Vector Addition"
      ]
    },
    {
      "cell_type": "markdown",
      "source": [
        "When multiplying **vectors**, you either perform a **dot product** or a **cross product**. \n",
        "\n",
        "A **cross product** results in a **vector** while a **dot product** results in a **scalar** (a single value/number)."
      ],
      "metadata": {
        "id": "Jct4XjYJ0BLM"
      }
    },
    {
      "cell_type": "markdown",
      "source": [
        "### Cross Product"
      ],
      "metadata": {
        "id": "-wM_qohF0BjR"
      }
    },
    {
      "cell_type": "markdown",
      "source": [
        "The cross product is defined only for two 3-element vectors, and the result is another 3-element vector. \n",
        "\n",
        "That's as far as we're going to go with the Cross Product; it is very rarely used in machine-learning (I have never seen it used)."
      ],
      "metadata": {
        "id": "UvSi8ujj0F2U"
      }
    },
    {
      "cell_type": "markdown",
      "metadata": {
        "id": "0bO4SkpB1a-Z"
      },
      "source": [
        "### Dot Product"
      ]
    },
    {
      "cell_type": "markdown",
      "metadata": {
        "id": "g5ZYUqPmyz7E"
      },
      "source": [
        "\n",
        "Dot product of two vectors:\n",
        "\n",
        "![](https://drive.google.com/uc?id=1QrMzksXFeQvkCO5ksHXm7N6kwoj1xcIf)"
      ]
    },
    {
      "cell_type": "code",
      "metadata": {
        "id": "lHTMZcWjz5Uc"
      },
      "source": [
        "a = [1, 2, 3]\n",
        "b = [2, 3, 4]"
      ],
      "execution_count": 2,
      "outputs": []
    },
    {
      "cell_type": "code",
      "metadata": {
        "id": "QRaKkHI00I-K",
        "colab": {
          "base_uri": "https://localhost:8080/"
        },
        "outputId": "fccb1b52-ee5f-425a-f114-632d704e496a"
      },
      "source": [
        "dot_product = (a[0] * b[0]) + (a[1] * b[1]) + (a[2] * b[2])\n",
        "\n",
        "dot_product"
      ],
      "execution_count": 4,
      "outputs": [
        {
          "output_type": "execute_result",
          "data": {
            "text/plain": [
              "20"
            ]
          },
          "metadata": {},
          "execution_count": 4
        }
      ]
    },
    {
      "cell_type": "markdown",
      "metadata": {
        "id": "lNTF_JFD1qLz"
      },
      "source": [
        "<br><br>\n",
        "\n",
        "### Dot Product using Numpy\n",
        "\n",
        "![](https://drive.google.com/uc?id=1g5r9kZpdgzbcInSwi88VEONi-O0wIjnl)"
      ]
    },
    {
      "cell_type": "code",
      "metadata": {
        "id": "2xd93Qvh1xOW"
      },
      "source": [
        "inputs  = [1.0, 2.0,  3.0]\n",
        "weights = [0.2, 0.8, -0.5]\n",
        "bias = 2.0"
      ],
      "execution_count": 10,
      "outputs": []
    },
    {
      "cell_type": "code",
      "metadata": {
        "colab": {
          "base_uri": "https://localhost:8080/"
        },
        "id": "bbvnDizQ2B8H",
        "outputId": "3f604c9a-a83f-4655-d37e-2cc33d378269"
      },
      "source": [
        "dot_product = np.dot(weights, inputs)\n",
        "dot_product"
      ],
      "execution_count": 11,
      "outputs": [
        {
          "output_type": "execute_result",
          "data": {
            "text/plain": [
              "0.30000000000000004"
            ]
          },
          "metadata": {},
          "execution_count": 11
        }
      ]
    },
    {
      "cell_type": "code",
      "metadata": {
        "colab": {
          "base_uri": "https://localhost:8080/"
        },
        "id": "gupJvvas2Kj_",
        "outputId": "3b516bbb-f0a4-43b3-c3c2-31b1a21ed663"
      },
      "source": [
        "output = dot_product + bias\n",
        "output"
      ],
      "execution_count": 12,
      "outputs": [
        {
          "output_type": "execute_result",
          "data": {
            "text/plain": [
              "2.3"
            ]
          },
          "metadata": {},
          "execution_count": 12
        }
      ]
    },
    {
      "cell_type": "markdown",
      "metadata": {
        "id": "sRb7W_pxzyJY"
      },
      "source": [
        "### Vector Addition"
      ]
    },
    {
      "cell_type": "markdown",
      "metadata": {
        "id": "8f7RPg6UzEt4"
      },
      "source": [
        "The **addition** of the two **vectors**: \n",
        "- is performed **element-wise**\n",
        "- both vectors have to be of the same size\n",
        "- the result is a vector of this size as well\n",
        "\n",
        "![](https://drive.google.com/uc?id=1eZ-KV1T62fJci_7een4iqcBliuNOlsmG)"
      ]
    },
    {
      "cell_type": "code",
      "metadata": {
        "id": "owcOuGr_07Bu"
      },
      "source": [
        "a = np.array([1, 2, 3])\n",
        "b = np.array([2, 3, 4])"
      ],
      "execution_count": 8,
      "outputs": []
    },
    {
      "cell_type": "code",
      "metadata": {
        "colab": {
          "base_uri": "https://localhost:8080/"
        },
        "id": "uRnONMYm1PWq",
        "outputId": "b5ccf6d5-5c55-41a9-c84d-9df589ef2e73"
      },
      "source": [
        "added_vectors = a + b\n",
        "\n",
        "added_vectors"
      ],
      "execution_count": 9,
      "outputs": [
        {
          "output_type": "execute_result",
          "data": {
            "text/plain": [
              "array([3, 5, 7])"
            ]
          },
          "metadata": {},
          "execution_count": 9
        }
      ]
    },
    {
      "cell_type": "markdown",
      "metadata": {
        "id": "NfTRkaKk0_je"
      },
      "source": [
        "## A Layer of Neurons with NumPy"
      ]
    },
    {
      "cell_type": "markdown",
      "metadata": {
        "id": "cCGkgcdm3JxM"
      },
      "source": [
        "Let's calculate the output of a layer of 3 neurons, which means the weights will be a matrix or list of weight vectors.\n",
        "\n",
        "NumPy makes this very easy for us - treating this **matrix** as a list of vectors and performing the dot product **one by one** with the vector\n",
        "of inputs, returning a list of dot products."
      ]
    },
    {
      "cell_type": "code",
      "source": [
        "Image(url='https://drive.google.com/uc?id=1kEKnaz_iPO5jfhijnrYSCbFsH0oBAR_-')"
      ],
      "metadata": {
        "colab": {
          "base_uri": "https://localhost:8080/",
          "height": 762
        },
        "id": "YrXs3OIaBvMa",
        "outputId": "6f410732-be06-4e1f-c0a0-bd4092420fb6"
      },
      "execution_count": 19,
      "outputs": [
        {
          "output_type": "execute_result",
          "data": {
            "text/html": [
              "<img src=\"https://drive.google.com/uc?id=1kEKnaz_iPO5jfhijnrYSCbFsH0oBAR_-\"/>"
            ],
            "text/plain": [
              "<IPython.core.display.Image object>"
            ]
          },
          "metadata": {},
          "execution_count": 19
        }
      ]
    },
    {
      "cell_type": "markdown",
      "metadata": {
        "id": "zs78pg8N22Ro"
      },
      "source": [
        "![](https://drive.google.com/uc?id=1t8aEIpA1liIbOJd61fp1uwFOWZW06Kq8)"
      ]
    },
    {
      "cell_type": "code",
      "metadata": {
        "id": "4Fir-etX27Es"
      },
      "source": [
        "inputs = [1.0, 2.0, 3.0, 2.5]"
      ],
      "execution_count": 13,
      "outputs": []
    },
    {
      "cell_type": "code",
      "metadata": {
        "id": "7pWZ-k7h3tE1"
      },
      "source": [
        "weights = [\n",
        "    [0.2, 0.8, -0.5, 1.0],\n",
        "    [0.5, -0.91, 0.26, -0.5],\n",
        "    [-0.26, -0.27, 0.17, 0.87]\n",
        "]\n"
      ],
      "execution_count": 14,
      "outputs": []
    },
    {
      "cell_type": "code",
      "metadata": {
        "id": "dFCaOI8K4DYf"
      },
      "source": [
        "biases = [2.0, 3.0, 0.5]"
      ],
      "execution_count": 15,
      "outputs": []
    },
    {
      "cell_type": "code",
      "metadata": {
        "colab": {
          "base_uri": "https://localhost:8080/"
        },
        "id": "bfBAkbt94I9b",
        "outputId": "93ad5edd-ab89-4568-e61c-5a83ae493a0c"
      },
      "source": [
        "dot_product = np.dot(weights, inputs)\n",
        "dot_product"
      ],
      "execution_count": 16,
      "outputs": [
        {
          "output_type": "execute_result",
          "data": {
            "text/plain": [
              "array([ 2.8  , -1.79 ,  1.885])"
            ]
          },
          "metadata": {},
          "execution_count": 16
        }
      ]
    },
    {
      "cell_type": "code",
      "metadata": {
        "colab": {
          "base_uri": "https://localhost:8080/"
        },
        "id": "cP0B-BXp4QM-",
        "outputId": "81cd93bd-d001-4c62-f5b8-56f96cc8c329"
      },
      "source": [
        "output = dot_product + biases\n",
        "output "
      ],
      "execution_count": 17,
      "outputs": [
        {
          "output_type": "execute_result",
          "data": {
            "text/plain": [
              "array([4.8  , 1.21 , 2.385])"
            ]
          },
          "metadata": {},
          "execution_count": 17
        }
      ]
    },
    {
      "cell_type": "markdown",
      "metadata": {
        "id": "OYOPdAt34X7m"
      },
      "source": [
        "## A Batch of Data"
      ]
    },
    {
      "cell_type": "markdown",
      "metadata": {
        "id": "m30_NwQa4pW8"
      },
      "source": [
        "To train, neural networks tend to receive data in **batches**."
      ]
    },
    {
      "cell_type": "code",
      "metadata": {
        "id": "XdCugcej45AQ"
      },
      "source": [
        "inputs = [\n",
        "    [1.0, 2.0, 3.0, 2.5],\n",
        "    [2.0, 5.0, -1.0, 2.0],\n",
        "    [-1.5, 2.7, 3.3, -0.8]\n",
        "]\n",
        "\n",
        "weights = [\n",
        "    [0.2, 0.8, -0.5, 1.0],\n",
        "    [0.5, -0.91, 0.26, -0.5],\n",
        "    [-0.26, -0.27, 0.17, 0.87]\n",
        "]\n",
        "\n",
        "biases = [2.0, 3.0, 0.5]"
      ],
      "execution_count": null,
      "outputs": []
    },
    {
      "cell_type": "markdown",
      "metadata": {
        "id": "BLtRjKEz4_1x"
      },
      "source": [
        "We have a **matrix** of inputs and a **matrix** of weights now, and we need to perform the **dot product** on them somehow, but how? \n",
        "\n",
        "In this example, we need to manage both **matrices** as lists of vectors and perform dot products on all of them in all combinations, resulting in a list of lists of outputs, or a matrix; this operation is called the **matrix product**."
      ]
    },
    {
      "cell_type": "markdown",
      "metadata": {
        "id": "cOGosnjt5tSO"
      },
      "source": [
        "### Matrix Product"
      ]
    },
    {
      "cell_type": "markdown",
      "metadata": {
        "id": "U_tfoSXg6Zaj"
      },
      "source": [
        "The **matrix product**: \n",
        "- an operation with **2 matrices** \n",
        "- we are performing **dot products** of all combinations of **rows from the first matrix** and the **columns of the 2nd matrix**\n",
        "- result in a matrix of those atomic dot products\n",
        "- the size of the 2nd dimension of the left matrix must match the size of the 1st dimension of the right matrix"
      ]
    },
    {
      "cell_type": "code",
      "source": [
        "Image(url='https://drive.google.com/uc?id=1IXQkoZKctjqavIKl7S_CiJkpVE_eD5m-')"
      ],
      "metadata": {
        "colab": {
          "base_uri": "https://localhost:8080/",
          "height": 762
        },
        "id": "SToLh-tIFTNM",
        "outputId": "85a34290-8087-49c4-c974-fc331547c60d"
      },
      "execution_count": 20,
      "outputs": [
        {
          "output_type": "execute_result",
          "data": {
            "text/html": [
              "<img src=\"https://drive.google.com/uc?id=1IXQkoZKctjqavIKl7S_CiJkpVE_eD5m-\"/>"
            ],
            "text/plain": [
              "<IPython.core.display.Image object>"
            ]
          },
          "metadata": {},
          "execution_count": 20
        }
      ]
    },
    {
      "cell_type": "markdown",
      "metadata": {
        "id": "fIog6N73-blB"
      },
      "source": [
        "### Transposition for the Matrix Product"
      ]
    },
    {
      "cell_type": "markdown",
      "metadata": {
        "id": "IEEN9iyq-x22"
      },
      "source": [
        "**Transposition** simply modifies a matrix in a way that its rows become columns and columns become rows.\n",
        "\n",
        "![](https://drive.google.com/uc?id=1g__BDqNR2iw2IGrW5hoRZTXtKiIcYofj)"
      ]
    },
    {
      "cell_type": "markdown",
      "metadata": {
        "id": "GqAVwMK__PB2"
      },
      "source": [
        "### Behind the scenes"
      ]
    },
    {
      "cell_type": "markdown",
      "metadata": {
        "id": "Wguxff7kBgzW"
      },
      "source": [
        "#### row-vector-matrix"
      ]
    },
    {
      "cell_type": "markdown",
      "metadata": {
        "id": "sVrYYFTjAUFl"
      },
      "source": [
        "A **row-vector-matrix** is a matrix whose first dimension’s size equals 1 and the\n",
        "second dimension’s size equals `n` - the vector size. "
      ]
    },
    {
      "cell_type": "code",
      "metadata": {
        "colab": {
          "base_uri": "https://localhost:8080/"
        },
        "id": "l6i78LeLAksN",
        "outputId": "34ec73bb-3cfc-431f-fbc8-f93299045fef"
      },
      "source": [
        "# Note the double brackets:\n",
        "a = np.array(\n",
        "    [\n",
        "        [1, 2, 3]\n",
        "    ]\n",
        ")\n",
        "\n",
        "a"
      ],
      "execution_count": 22,
      "outputs": [
        {
          "output_type": "execute_result",
          "data": {
            "text/plain": [
              "array([[1, 2, 3]])"
            ]
          },
          "metadata": {},
          "execution_count": 22
        }
      ]
    },
    {
      "cell_type": "code",
      "source": [
        "a.shape"
      ],
      "metadata": {
        "colab": {
          "base_uri": "https://localhost:8080/"
        },
        "id": "0VBz2Ov2GTdl",
        "outputId": "c4a2aaea-d866-4c04-8413-3550ad843cbd"
      },
      "execution_count": 25,
      "outputs": [
        {
          "output_type": "execute_result",
          "data": {
            "text/plain": [
              "(1, 3)"
            ]
          },
          "metadata": {},
          "execution_count": 25
        }
      ]
    },
    {
      "cell_type": "code",
      "metadata": {
        "colab": {
          "base_uri": "https://localhost:8080/"
        },
        "id": "7aFOw1wvAtBq",
        "outputId": "355c9d14-ff36-44ad-cae3-1d726c75c469"
      },
      "source": [
        "# Or, alternatively:\n",
        "a = np.array(\n",
        "    [1, 2, 3]\n",
        ")\n",
        "\n",
        "np.expand_dims(a, axis=0)"
      ],
      "execution_count": 26,
      "outputs": [
        {
          "output_type": "execute_result",
          "data": {
            "text/plain": [
              "array([[1, 2, 3]])"
            ]
          },
          "metadata": {},
          "execution_count": 26
        }
      ]
    },
    {
      "cell_type": "markdown",
      "metadata": {
        "id": "aFV9T8h5BjGP"
      },
      "source": [
        "#### column-vector-matrix"
      ]
    },
    {
      "cell_type": "markdown",
      "metadata": {
        "id": "yPAVv9iDA-PO"
      },
      "source": [
        "A **column-vector-matrix** is a matrix where the 2nd dimension’s size equals 1, in other words, it’s an array of shape `(n, 1)`"
      ]
    },
    {
      "cell_type": "code",
      "metadata": {
        "colab": {
          "base_uri": "https://localhost:8080/"
        },
        "id": "HqLPCFlaBSEe",
        "outputId": "6489a10f-f8bc-4bf7-a34c-e327773604ae"
      },
      "source": [
        "a = np.array([[1, 2, 3]]).T\n",
        "\n",
        "a"
      ],
      "execution_count": 27,
      "outputs": [
        {
          "output_type": "execute_result",
          "data": {
            "text/plain": [
              "array([[1],\n",
              "       [2],\n",
              "       [3]])"
            ]
          },
          "metadata": {},
          "execution_count": 27
        }
      ]
    },
    {
      "cell_type": "code",
      "source": [
        "a.shape"
      ],
      "metadata": {
        "colab": {
          "base_uri": "https://localhost:8080/"
        },
        "id": "yY2s4zYlGhMq",
        "outputId": "9b7b04a0-5ffa-4346-b5d8-64580c32b7e6"
      },
      "execution_count": 28,
      "outputs": [
        {
          "output_type": "execute_result",
          "data": {
            "text/plain": [
              "(3, 1)"
            ]
          },
          "metadata": {},
          "execution_count": 28
        }
      ]
    },
    {
      "cell_type": "markdown",
      "metadata": {
        "id": "SwX9WolhBXK_"
      },
      "source": [
        "#### Dot product of row-vector-matrix and column-vector-matrix"
      ]
    },
    {
      "cell_type": "code",
      "metadata": {
        "colab": {
          "base_uri": "https://localhost:8080/"
        },
        "id": "gO_aPfAqBt23",
        "outputId": "2ef554cb-ed72-4aac-a036-255bfebc39bf"
      },
      "source": [
        "a = np.array([[1, 2, 3]])\n",
        "b = np.array([[2, 3, 4]]).T\n",
        "\n",
        "np.dot(a, b)"
      ],
      "execution_count": 29,
      "outputs": [
        {
          "output_type": "execute_result",
          "data": {
            "text/plain": [
              "array([[20]])"
            ]
          },
          "metadata": {},
          "execution_count": 29
        }
      ]
    },
    {
      "cell_type": "markdown",
      "metadata": {
        "id": "VvLkZ_R97Fs7"
      },
      "source": [
        "> We have achieved the same result as the dot product of two vectors, but performed on matrices and returning a matrix.\n",
        "\n",
        "It’s worth mentioning that NumPy does not have a dedicated method for performing matrix product - the dot product and\n",
        "matrix product are both implemented in a single method: `np.dot()`"
      ]
    },
    {
      "cell_type": "markdown",
      "metadata": {
        "id": "jJ2Yfa_MCHk8"
      },
      "source": [
        "## Final Code - Single Layer with Input Batch"
      ]
    },
    {
      "cell_type": "markdown",
      "source": [
        "![](https://drive.google.com/uc?id=1uRg9EgXNh1hhUvMk6IXZaoVxkSL8C7p4)"
      ],
      "metadata": {
        "id": "e0EMD6RJKU9m"
      }
    },
    {
      "cell_type": "code",
      "source": [
        "Image(url='https://drive.google.com/uc?id=1FbELp4cIr94IcgrdQVqX9s6CZ4BmvkPd')"
      ],
      "metadata": {
        "colab": {
          "base_uri": "https://localhost:8080/",
          "height": 762
        },
        "id": "oHDpVipNJBFh",
        "outputId": "39e8759a-b8a3-4733-a755-5bb396e03864"
      },
      "execution_count": 31,
      "outputs": [
        {
          "output_type": "execute_result",
          "data": {
            "text/html": [
              "<img src=\"https://drive.google.com/uc?id=1FbELp4cIr94IcgrdQVqX9s6CZ4BmvkPd\"/>"
            ],
            "text/plain": [
              "<IPython.core.display.Image object>"
            ]
          },
          "metadata": {},
          "execution_count": 31
        }
      ]
    },
    {
      "cell_type": "code",
      "source": [
        "Image(url='https://drive.google.com/uc?id=1U6Lr6JmtFZfVtDIDxSNWOV6rjToRtTjq')"
      ],
      "metadata": {
        "colab": {
          "base_uri": "https://localhost:8080/",
          "height": 762
        },
        "id": "7NE3_zijJRpP",
        "outputId": "8f02ef2b-b82d-4012-d1a4-86f27125479a"
      },
      "execution_count": 32,
      "outputs": [
        {
          "output_type": "execute_result",
          "data": {
            "text/html": [
              "<img src=\"https://drive.google.com/uc?id=1U6Lr6JmtFZfVtDIDxSNWOV6rjToRtTjq\"/>"
            ],
            "text/plain": [
              "<IPython.core.display.Image object>"
            ]
          },
          "metadata": {},
          "execution_count": 32
        }
      ]
    },
    {
      "cell_type": "code",
      "metadata": {
        "id": "q5GzlzSaCRno"
      },
      "source": [
        "inputs = [\n",
        "    [1.0, 2.0, 3.0, 2.5],\n",
        "    [2.0, 5.0, -1.0, 2.0],\n",
        "    [-1.5, 2.7, 3.3, -0.8]\n",
        "]\n",
        "\n",
        "weights = [\n",
        "    [0.2, 0.8, -0.5, 1.0],\n",
        "    [0.5, -0.91, 0.26, -0.5],\n",
        "    [-0.26, -0.27, 0.17, 0.87]\n",
        "]\n",
        "\n",
        "biases = [2.0, 3.0, 0.5]"
      ],
      "execution_count": null,
      "outputs": []
    },
    {
      "cell_type": "code",
      "metadata": {
        "colab": {
          "base_uri": "https://localhost:8080/"
        },
        "id": "_HQoeUNNC61H",
        "outputId": "61c37c63-739b-42cf-a776-e1bc3748735d"
      },
      "source": [
        "dot_product = np.dot(\n",
        "    inputs, \n",
        "    np.array(weights).T\n",
        ")\n",
        "\n",
        "dot_product"
      ],
      "execution_count": null,
      "outputs": [
        {
          "output_type": "execute_result",
          "data": {
            "text/plain": [
              "array([[ 2.8  , -1.79 ,  1.885],\n",
              "       [ 6.9  , -4.81 , -0.3  ],\n",
              "       [-0.59 , -1.949, -0.474]])"
            ]
          },
          "metadata": {
            "tags": []
          },
          "execution_count": 30
        }
      ]
    },
    {
      "cell_type": "code",
      "metadata": {
        "colab": {
          "base_uri": "https://localhost:8080/"
        },
        "id": "0-so9j9kCd71",
        "outputId": "d7f4d0a0-1ee2-44dd-8b07-2de6f3ccab96"
      },
      "source": [
        "layer_outputs = dot_product + biases\n",
        "\n",
        "layer_outputs"
      ],
      "execution_count": null,
      "outputs": [
        {
          "output_type": "execute_result",
          "data": {
            "text/plain": [
              "array([[ 4.8  ,  1.21 ,  2.385],\n",
              "       [ 8.9  , -1.81 ,  0.2  ],\n",
              "       [ 1.41 ,  1.051,  0.026]])"
            ]
          },
          "metadata": {
            "tags": []
          },
          "execution_count": 32
        }
      ]
    },
    {
      "cell_type": "markdown",
      "metadata": {
        "id": "mOmRF7avDED2"
      },
      "source": [
        "> **Important Note:** \n",
        "> \n",
        "> The 2nd argument for `np.dot()` is our transposed weights. Previously it was the inputs. \n",
        "> \n",
        "> As we’ll soon learn, it’s more useful to have a result consisting of a list of layer **outputs per each sample** than **outputs per each neuron**.\n",
        ">\n",
        "> We want the resulting array to be **sample-related** and not **neuron-related**. We want it this way being that, as we pass those samples further through the network, the next layer(s) will expect a batch of inputs.\n",
        "\n"
      ]
    }
  ]
}