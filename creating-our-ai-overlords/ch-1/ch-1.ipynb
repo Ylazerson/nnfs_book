{
  "nbformat": 4,
  "nbformat_minor": 0,
  "metadata": {
    "colab": {
      "name": "creating-our-ai-overlord.ipynb",
      "provenance": [],
      "collapsed_sections": [],
      "toc_visible": true
    },
    "kernelspec": {
      "name": "python3",
      "display_name": "Python 3"
    },
    "language_info": {
      "name": "python"
    }
  },
  "cells": [
    {
      "cell_type": "markdown",
      "metadata": {
        "id": "6ZJuEk5MybPf"
      },
      "source": [
        "# B\"H\n"
      ]
    },
    {
      "cell_type": "code",
      "metadata": {
        "id": "r1PmeaqP1LMU"
      },
      "source": [
        "import numpy as np"
      ],
      "execution_count": 6,
      "outputs": []
    },
    {
      "cell_type": "markdown",
      "metadata": {
        "id": "RYAaDzAEywC4"
      },
      "source": [
        "## Dot Product and Vector Addition"
      ]
    },
    {
      "cell_type": "markdown",
      "metadata": {
        "id": "0bO4SkpB1a-Z"
      },
      "source": [
        "### Dot Product"
      ]
    },
    {
      "cell_type": "markdown",
      "metadata": {
        "id": "g5ZYUqPmyz7E"
      },
      "source": [
        "When multiplying **vectors**, you either perform a **dot product** or a **cross product**. \n",
        "\n",
        "A **cross product** results in a **vector** while a **dot product** results in a **scalar** (a single value/number).\n",
        "\n",
        "<br><br>\n",
        "\n",
        "---\n",
        "\n",
        "Dot product of two vectors:\n",
        "\n",
        "![](https://drive.google.com/uc?id=1QrMzksXFeQvkCO5ksHXm7N6kwoj1xcIf)"
      ]
    },
    {
      "cell_type": "code",
      "metadata": {
        "id": "lHTMZcWjz5Uc"
      },
      "source": [
        "a = [1, 2, 3]\n",
        "b = [2, 3, 4]"
      ],
      "execution_count": 1,
      "outputs": []
    },
    {
      "cell_type": "code",
      "metadata": {
        "id": "QRaKkHI00I-K"
      },
      "source": [
        "dot_product = (a[0]*b[0]) + (a[1]*b[1]) + (a[2]*b[2])"
      ],
      "execution_count": 2,
      "outputs": []
    },
    {
      "cell_type": "code",
      "metadata": {
        "colab": {
          "base_uri": "https://localhost:8080/"
        },
        "id": "kr2-xeHg0Wdh",
        "outputId": "4a37b40e-2d0e-4521-b2cc-0e71023a0936"
      },
      "source": [
        "dot_product"
      ],
      "execution_count": 10,
      "outputs": [
        {
          "output_type": "execute_result",
          "data": {
            "text/plain": [
              "20"
            ]
          },
          "metadata": {
            "tags": []
          },
          "execution_count": 10
        }
      ]
    },
    {
      "cell_type": "markdown",
      "metadata": {
        "id": "lNTF_JFD1qLz"
      },
      "source": [
        "<br><br>\n",
        "\n",
        "---\n",
        "\n",
        "### Dot Product using Numpy"
      ]
    },
    {
      "cell_type": "code",
      "metadata": {
        "id": "2xd93Qvh1xOW"
      },
      "source": [
        "inputs = [1.0, 2.0, 3.0, 2.5]\n",
        "weights = [0.2, 0.8, -0.5, 1.0]\n",
        "bias = 2.0"
      ],
      "execution_count": 11,
      "outputs": []
    },
    {
      "cell_type": "code",
      "metadata": {
        "colab": {
          "base_uri": "https://localhost:8080/"
        },
        "id": "bbvnDizQ2B8H",
        "outputId": "1386a5ce-be87-44cb-fe7f-9badd1ed3596"
      },
      "source": [
        "dot_product = np.dot(weights, inputs)\n",
        "dot_product"
      ],
      "execution_count": 12,
      "outputs": [
        {
          "output_type": "execute_result",
          "data": {
            "text/plain": [
              "2.8"
            ]
          },
          "metadata": {
            "tags": []
          },
          "execution_count": 12
        }
      ]
    },
    {
      "cell_type": "code",
      "metadata": {
        "colab": {
          "base_uri": "https://localhost:8080/"
        },
        "id": "gupJvvas2Kj_",
        "outputId": "f7240ff3-7922-419d-e865-4601c720dc6a"
      },
      "source": [
        "output = dot_product + bias\n",
        "output"
      ],
      "execution_count": 13,
      "outputs": [
        {
          "output_type": "execute_result",
          "data": {
            "text/plain": [
              "4.8"
            ]
          },
          "metadata": {
            "tags": []
          },
          "execution_count": 13
        }
      ]
    },
    {
      "cell_type": "markdown",
      "metadata": {
        "id": "sRb7W_pxzyJY"
      },
      "source": [
        "### Vector Addition"
      ]
    },
    {
      "cell_type": "markdown",
      "metadata": {
        "id": "8f7RPg6UzEt4"
      },
      "source": [
        "---\n",
        "\n",
        "The **addition** of the two **vectors** is an operation performed **element-wise**, which means that both vectors have to be of the same size, and the result will become a vector of this size as well.\n",
        "\n",
        "![](https://drive.google.com/uc?id=1eZ-KV1T62fJci_7een4iqcBliuNOlsmG)"
      ]
    },
    {
      "cell_type": "code",
      "metadata": {
        "id": "owcOuGr_07Bu"
      },
      "source": [
        "a = np.array([1, 2, 3])\n",
        "b = np.array([2, 3, 4])"
      ],
      "execution_count": 7,
      "outputs": []
    },
    {
      "cell_type": "code",
      "metadata": {
        "colab": {
          "base_uri": "https://localhost:8080/"
        },
        "id": "uRnONMYm1PWq",
        "outputId": "5b279314-f390-4beb-dfdf-75cd12991759"
      },
      "source": [
        "added_vectors = a + b\n",
        "\n",
        "added_vectors"
      ],
      "execution_count": 9,
      "outputs": [
        {
          "output_type": "execute_result",
          "data": {
            "text/plain": [
              "array([3, 5, 7])"
            ]
          },
          "metadata": {
            "tags": []
          },
          "execution_count": 9
        }
      ]
    },
    {
      "cell_type": "markdown",
      "metadata": {
        "id": "NfTRkaKk0_je"
      },
      "source": [
        "## A Layer of Neurons with NumPy"
      ]
    },
    {
      "cell_type": "markdown",
      "metadata": {
        "id": "cCGkgcdm3JxM"
      },
      "source": [
        "Let's calculate the output of a layer of 3 neurons, which means the weights will be a matrix or list of weight vectors.\n",
        "\n",
        "NumPy makes this very easy for us - treating this **matrix** as a list of vectors and performing the dot product **one by one** with the vector\n",
        "of inputs, returning a list of dot products."
      ]
    },
    {
      "cell_type": "markdown",
      "metadata": {
        "id": "zs78pg8N22Ro"
      },
      "source": [
        "![](https://drive.google.com/uc?id=1XkPRjVG7hjyWVwpC1l0yAjTS-kW_-pw8)"
      ]
    },
    {
      "cell_type": "code",
      "metadata": {
        "id": "4Fir-etX27Es"
      },
      "source": [
        "inputs = [1.0, 2.0, 3.0, 2.5]"
      ],
      "execution_count": 14,
      "outputs": []
    },
    {
      "cell_type": "code",
      "metadata": {
        "id": "7pWZ-k7h3tE1"
      },
      "source": [
        "weights = [\n",
        "    [0.2, 0.8, -0.5, 1.0],\n",
        "    [0.5, -0.91, 0.26, -0.5],\n",
        "    [-0.26, -0.27, 0.17, 0.87]\n",
        "]\n"
      ],
      "execution_count": 15,
      "outputs": []
    },
    {
      "cell_type": "code",
      "metadata": {
        "id": "dFCaOI8K4DYf"
      },
      "source": [
        "biases = [2.0, 3.0, 0.5]"
      ],
      "execution_count": 16,
      "outputs": []
    },
    {
      "cell_type": "code",
      "metadata": {
        "colab": {
          "base_uri": "https://localhost:8080/"
        },
        "id": "bfBAkbt94I9b",
        "outputId": "daa0f213-d443-4a36-bf3b-369bd8e1f7d4"
      },
      "source": [
        "dot_product = np.dot(weights, inputs)\n",
        "dot_product"
      ],
      "execution_count": 17,
      "outputs": [
        {
          "output_type": "execute_result",
          "data": {
            "text/plain": [
              "array([ 2.8  , -1.79 ,  1.885])"
            ]
          },
          "metadata": {
            "tags": []
          },
          "execution_count": 17
        }
      ]
    },
    {
      "cell_type": "code",
      "metadata": {
        "colab": {
          "base_uri": "https://localhost:8080/"
        },
        "id": "cP0B-BXp4QM-",
        "outputId": "f9dba7b3-c1fb-43b9-ed5e-96efa85321ec"
      },
      "source": [
        "output = dot_product + biases\n",
        "output "
      ],
      "execution_count": 18,
      "outputs": [
        {
          "output_type": "execute_result",
          "data": {
            "text/plain": [
              "array([4.8  , 1.21 , 2.385])"
            ]
          },
          "metadata": {
            "tags": []
          },
          "execution_count": 18
        }
      ]
    },
    {
      "cell_type": "markdown",
      "metadata": {
        "id": "OYOPdAt34X7m"
      },
      "source": [
        "## A Batch of Data"
      ]
    },
    {
      "cell_type": "markdown",
      "metadata": {
        "id": "m30_NwQa4pW8"
      },
      "source": [
        "To train, neural networks tend to receive data in **batches**."
      ]
    },
    {
      "cell_type": "code",
      "metadata": {
        "id": "XdCugcej45AQ"
      },
      "source": [
        "inputs = [\n",
        "    [1.0, 2.0, 3.0, 2.5],\n",
        "    [2.0, 5.0, -1.0, 2.0],\n",
        "    [-1.5, 2.7, 3.3, -0.8]\n",
        "]\n",
        "\n",
        "weights = [\n",
        "    [0.2, 0.8, -0.5, 1.0],\n",
        "    [0.5, -0.91, 0.26, -0.5],\n",
        "    [-0.26, -0.27, 0.17, 0.87]\n",
        "]\n",
        "\n",
        "biases = [2.0, 3.0, 0.5]"
      ],
      "execution_count": 20,
      "outputs": []
    },
    {
      "cell_type": "markdown",
      "metadata": {
        "id": "BLtRjKEz4_1x"
      },
      "source": [
        "We have a **matrix** of inputs and a **matrix** of weights now, and we need to perform the **dot product** on them somehow, but how? \n",
        "\n",
        "In this example, we need to manage both **matrices** as lists of vectors and perform dot products on all of them in all combinations, resulting in a list of lists of outputs, or a matrix; this operation is called the **matrix product**."
      ]
    },
    {
      "cell_type": "markdown",
      "metadata": {
        "id": "cOGosnjt5tSO"
      },
      "source": [
        "### Matrix Product"
      ]
    },
    {
      "cell_type": "markdown",
      "metadata": {
        "id": "U_tfoSXg6Zaj"
      },
      "source": [
        "[Matrix Product](https://youtu.be/KBPvlUp-m5Y)\n",
        "\n",
        "The **matrix product** is an operation in which we have **2 matrices**, and we are performing **dot products** of all combinations of **rows from the first matrix** and the **columns of the 2nd matrix**, resulting in a matrix of those atomic dot products.\n",
        "\n",
        "---\n",
        "\n",
        "The size of the 2nd dimension of the left matrix must match the size of the 1st dimension of the right matrix. \n",
        "\n",
        "<br>\n",
        "\n",
        "---\n",
        "\n",
        "![](https://drive.google.com/uc?id=16KvntrAksulJ553YByN6dDEcwyK6Nhqw)"
      ]
    },
    {
      "cell_type": "markdown",
      "metadata": {
        "id": "fIog6N73-blB"
      },
      "source": [
        "### Transposition for the Matrix Product"
      ]
    },
    {
      "cell_type": "markdown",
      "metadata": {
        "id": "IEEN9iyq-x22"
      },
      "source": [
        "**Transposition** simply modifies a matrix in a way that its rows become columns and columns become rows.\n",
        "\n",
        "![](https://drive.google.com/uc?id=1g__BDqNR2iw2IGrW5hoRZTXtKiIcYofj)"
      ]
    },
    {
      "cell_type": "markdown",
      "metadata": {
        "id": "GqAVwMK__PB2"
      },
      "source": [
        "### Behind the scenes"
      ]
    },
    {
      "cell_type": "markdown",
      "metadata": {
        "id": "Wguxff7kBgzW"
      },
      "source": [
        "#### row-vector-matrix"
      ]
    },
    {
      "cell_type": "markdown",
      "metadata": {
        "id": "sVrYYFTjAUFl"
      },
      "source": [
        "A **row-vector-matrix** is a matrix whose first dimension’s size equals 1 and the\n",
        "second dimension’s size equals `n` - the vector size. "
      ]
    },
    {
      "cell_type": "code",
      "metadata": {
        "colab": {
          "base_uri": "https://localhost:8080/"
        },
        "id": "l6i78LeLAksN",
        "outputId": "3aa3da83-05e5-4c81-e7d5-e40ea267bd6f"
      },
      "source": [
        "# Note the double brackets:\n",
        "np.array([[1, 2, 3]])"
      ],
      "execution_count": 21,
      "outputs": [
        {
          "output_type": "execute_result",
          "data": {
            "text/plain": [
              "array([[1, 2, 3]])"
            ]
          },
          "metadata": {
            "tags": []
          },
          "execution_count": 21
        }
      ]
    },
    {
      "cell_type": "code",
      "metadata": {
        "colab": {
          "base_uri": "https://localhost:8080/"
        },
        "id": "7aFOw1wvAtBq",
        "outputId": "8a716571-a726-47b4-cfb1-a931368f4b5e"
      },
      "source": [
        "# Or, alternatively:\n",
        "a = np.array([1, 2, 3])\n",
        "\n",
        "np.expand_dims(a, axis=0)"
      ],
      "execution_count": 25,
      "outputs": [
        {
          "output_type": "execute_result",
          "data": {
            "text/plain": [
              "array([[1, 2, 3]])"
            ]
          },
          "metadata": {
            "tags": []
          },
          "execution_count": 25
        }
      ]
    },
    {
      "cell_type": "markdown",
      "metadata": {
        "id": "aFV9T8h5BjGP"
      },
      "source": [
        "#### column-vector-matrix"
      ]
    },
    {
      "cell_type": "markdown",
      "metadata": {
        "id": "yPAVv9iDA-PO"
      },
      "source": [
        "A **column-vector-matrix** is a matrix where the 2nd dimension’s size equals 1, in other words, it’s an array of shape `(n, 1)`"
      ]
    },
    {
      "cell_type": "code",
      "metadata": {
        "colab": {
          "base_uri": "https://localhost:8080/"
        },
        "id": "HqLPCFlaBSEe",
        "outputId": "cbae3983-e92a-4ac2-ccb8-914938e08dca"
      },
      "source": [
        "np.array([[1, 2, 3]]).T"
      ],
      "execution_count": 24,
      "outputs": [
        {
          "output_type": "execute_result",
          "data": {
            "text/plain": [
              "array([[1],\n",
              "       [2],\n",
              "       [3]])"
            ]
          },
          "metadata": {
            "tags": []
          },
          "execution_count": 24
        }
      ]
    },
    {
      "cell_type": "markdown",
      "metadata": {
        "id": "SwX9WolhBXK_"
      },
      "source": [
        "#### Dot product of row-vector-matrix and column-vector-matrix"
      ]
    },
    {
      "cell_type": "code",
      "metadata": {
        "colab": {
          "base_uri": "https://localhost:8080/"
        },
        "id": "gO_aPfAqBt23",
        "outputId": "fe35bb6b-13e5-45a5-e48d-3699c1e975f0"
      },
      "source": [
        "a = np.array([[1, 2, 3]])\n",
        "b = np.array([[2, 3, 4]]).T\n",
        "\n",
        "np.dot(a, b)"
      ],
      "execution_count": 26,
      "outputs": [
        {
          "output_type": "execute_result",
          "data": {
            "text/plain": [
              "array([[20]])"
            ]
          },
          "metadata": {
            "tags": []
          },
          "execution_count": 26
        }
      ]
    },
    {
      "cell_type": "markdown",
      "metadata": {
        "id": "VvLkZ_R97Fs7"
      },
      "source": [
        "> We have achieved the same result as the dot product of two vectors, but performed on matrices and returning a matrix.\n",
        "\n",
        "It’s worth mentioning that NumPy does not have a dedicated method for performing matrix product - the dot product and\n",
        "matrix product are both implemented in a single method: `np.dot()`"
      ]
    },
    {
      "cell_type": "markdown",
      "metadata": {
        "id": "jJ2Yfa_MCHk8"
      },
      "source": [
        "## Final Code"
      ]
    },
    {
      "cell_type": "markdown",
      "metadata": {
        "id": "D6dRXZbVFjap"
      },
      "source": [
        "[Animation 1](https://youtu.be/ocrXqFCW3WE)\n",
        "\n",
        "[Animation 2](https://youtu.be/iBCM3zkHXeo)"
      ]
    },
    {
      "cell_type": "code",
      "metadata": {
        "id": "q5GzlzSaCRno"
      },
      "source": [
        "inputs = [\n",
        "    [1.0, 2.0, 3.0, 2.5],\n",
        "    [2.0, 5.0, -1.0, 2.0],\n",
        "    [-1.5, 2.7, 3.3, -0.8]\n",
        "]\n",
        "\n",
        "weights = [\n",
        "    [0.2, 0.8, -0.5, 1.0],\n",
        "    [0.5, -0.91, 0.26, -0.5],\n",
        "    [-0.26, -0.27, 0.17, 0.87]\n",
        "]\n",
        "\n",
        "biases = [2.0, 3.0, 0.5]"
      ],
      "execution_count": 29,
      "outputs": []
    },
    {
      "cell_type": "code",
      "metadata": {
        "colab": {
          "base_uri": "https://localhost:8080/"
        },
        "id": "_HQoeUNNC61H",
        "outputId": "61c37c63-739b-42cf-a776-e1bc3748735d"
      },
      "source": [
        "dot_product = np.dot(\n",
        "    inputs, \n",
        "    np.array(weights).T\n",
        ")\n",
        "\n",
        "dot_product"
      ],
      "execution_count": 30,
      "outputs": [
        {
          "output_type": "execute_result",
          "data": {
            "text/plain": [
              "array([[ 2.8  , -1.79 ,  1.885],\n",
              "       [ 6.9  , -4.81 , -0.3  ],\n",
              "       [-0.59 , -1.949, -0.474]])"
            ]
          },
          "metadata": {
            "tags": []
          },
          "execution_count": 30
        }
      ]
    },
    {
      "cell_type": "code",
      "metadata": {
        "colab": {
          "base_uri": "https://localhost:8080/"
        },
        "id": "0-so9j9kCd71",
        "outputId": "d7f4d0a0-1ee2-44dd-8b07-2de6f3ccab96"
      },
      "source": [
        "layer_outputs = dot_product + biases\n",
        "\n",
        "layer_outputs"
      ],
      "execution_count": 32,
      "outputs": [
        {
          "output_type": "execute_result",
          "data": {
            "text/plain": [
              "array([[ 4.8  ,  1.21 ,  2.385],\n",
              "       [ 8.9  , -1.81 ,  0.2  ],\n",
              "       [ 1.41 ,  1.051,  0.026]])"
            ]
          },
          "metadata": {
            "tags": []
          },
          "execution_count": 32
        }
      ]
    },
    {
      "cell_type": "markdown",
      "metadata": {
        "id": "mOmRF7avDED2"
      },
      "source": [
        "> **Important Note:** \n",
        "> \n",
        "> The 2nd argument for `np.dot()` is our transposed weights. Previously it was the inputs. \n",
        "> \n",
        "> As we’ll soon learn, it’s more useful to have a result consisting of a list of layer **outputs per each sample** than **outputs per each neuron**.\n",
        ">\n",
        "> We want the resulting array to be sample-related and not neuron-related as we’ll pass those samples further through the network, and the next layer will expect a batch of inputs."
      ]
    }
  ]
}