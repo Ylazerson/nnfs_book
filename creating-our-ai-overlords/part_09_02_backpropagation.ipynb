{
  "nbformat": 4,
  "nbformat_minor": 0,
  "metadata": {
    "colab": {
      "name": "part_09_02_backpropagation.ipynb",
      "provenance": [],
      "collapsed_sections": [],
      "toc_visible": true
    },
    "kernelspec": {
      "name": "python3",
      "display_name": "Python 3"
    },
    "language_info": {
      "name": "python"
    }
  },
  "cells": [
    {
      "cell_type": "markdown",
      "metadata": {
        "id": "Al3mmHX1pz2H"
      },
      "source": [
        "### Our staged scenario\n",
        "\n",
        "We're zooming into a layer of 3 neurons with 4 inputs. \n",
        "\n",
        "![](https://drive.google.com/uc?id=1j6jrEYOttXaVrn9TUSnFX1pSFw9H7jD6)\n",
        "\n",
        "Let's imagine we have done the forward pass already and are in middle of the backpropagation and have the gradients for the \"next layer\" already. \n",
        "\n"
      ]
    },
    {
      "cell_type": "markdown",
      "metadata": {
        "id": "SA4sk1OlQG84"
      },
      "source": [
        "## Forward Pass"
      ]
    },
    {
      "cell_type": "code",
      "source": [
        "import numpy as np"
      ],
      "metadata": {
        "id": "MS59p-uxRmMl"
      },
      "execution_count": null,
      "outputs": []
    },
    {
      "cell_type": "markdown",
      "source": [
        "### Inputs"
      ],
      "metadata": {
        "id": "DPm0ZrqzSsjE"
      }
    },
    {
      "cell_type": "markdown",
      "source": [
        "Fabricated inputs:\n",
        "\n",
        "![](https://drive.google.com/uc?id=1-7BfMCQX7EO_aq7ex6p-HyIzCuh2RjuZ)"
      ],
      "metadata": {
        "id": "Dbm-WDBeU6r5"
      }
    },
    {
      "cell_type": "code",
      "source": [
        "inputs = np.array([\n",
        "    [1, 2, 3, 2.5],\n",
        "    [2., 5., -1., 2],\n",
        "    [-1.5, 2.7, 3.3, -0.8]\n",
        "])"
      ],
      "metadata": {
        "id": "EDi8eexDStHu"
      },
      "execution_count": null,
      "outputs": []
    },
    {
      "cell_type": "code",
      "source": [
        "inputs.shape"
      ],
      "metadata": {
        "colab": {
          "base_uri": "https://localhost:8080/"
        },
        "id": "-2r_rzh3S2K6",
        "outputId": "bb7e0f89-1701-4d7c-c8a7-1a35a7d09b75"
      },
      "execution_count": null,
      "outputs": [
        {
          "output_type": "execute_result",
          "data": {
            "text/plain": [
              "(3, 4)"
            ]
          },
          "metadata": {},
          "execution_count": 3
        }
      ]
    },
    {
      "cell_type": "markdown",
      "source": [
        "### Weights"
      ],
      "metadata": {
        "id": "HtUfpYV9VPa6"
      }
    },
    {
      "cell_type": "markdown",
      "source": [
        "- We'll keep weights transposed\n",
        "\n",
        "![](https://drive.google.com/uc?id=1eGsR-34hXzqdRpqJQnicO0hEmHelbVHA)"
      ],
      "metadata": {
        "id": "FszPGwe-VaKL"
      }
    },
    {
      "cell_type": "code",
      "source": [
        "weights = np.array([\n",
        "    [0.2, 0.8, -0.5, 1],\n",
        "    [0.5, -0.91, 0.26, -0.5],\n",
        "    [-0.26, -0.27, 0.17, 0.87]\n",
        "]).T"
      ],
      "metadata": {
        "id": "W3oYI-M-VQ4z"
      },
      "execution_count": null,
      "outputs": []
    },
    {
      "cell_type": "code",
      "source": [
        "weights"
      ],
      "metadata": {
        "colab": {
          "base_uri": "https://localhost:8080/"
        },
        "id": "Ud5LIMe6Vt2Y",
        "outputId": "d5ea5b86-4281-4a5b-b96d-f387903a1b70"
      },
      "execution_count": null,
      "outputs": [
        {
          "output_type": "execute_result",
          "data": {
            "text/plain": [
              "array([[ 0.2 ,  0.5 , -0.26],\n",
              "       [ 0.8 , -0.91, -0.27],\n",
              "       [-0.5 ,  0.26,  0.17],\n",
              "       [ 1.  , -0.5 ,  0.87]])"
            ]
          },
          "metadata": {},
          "execution_count": 5
        }
      ]
    },
    {
      "cell_type": "code",
      "source": [
        "weights.shape"
      ],
      "metadata": {
        "colab": {
          "base_uri": "https://localhost:8080/"
        },
        "id": "yaGTAgNMVvPD",
        "outputId": "92270168-f2e6-4c96-a08b-d49ff5fd671b"
      },
      "execution_count": null,
      "outputs": [
        {
          "output_type": "execute_result",
          "data": {
            "text/plain": [
              "(4, 3)"
            ]
          },
          "metadata": {},
          "execution_count": 6
        }
      ]
    },
    {
      "cell_type": "markdown",
      "source": [
        "### Biases"
      ],
      "metadata": {
        "id": "xZnCUURMWBXK"
      }
    },
    {
      "cell_type": "markdown",
      "source": [
        "![](https://drive.google.com/uc?id=1tfW8gGzZHhRGDcXC5TljVpyjax37jr0f)"
      ],
      "metadata": {
        "id": "0zHeLkXUXpa3"
      }
    },
    {
      "cell_type": "code",
      "source": [
        "biases = np.array([\n",
        "    [2, 3, 0.5]\n",
        "])"
      ],
      "metadata": {
        "id": "yIZTxBxtVnLp"
      },
      "execution_count": null,
      "outputs": []
    },
    {
      "cell_type": "code",
      "source": [
        "biases.shape"
      ],
      "metadata": {
        "colab": {
          "base_uri": "https://localhost:8080/"
        },
        "id": "PfA5hQOuXsXA",
        "outputId": "9b741f31-e75e-460e-d9cc-48a4627c47d6"
      },
      "execution_count": null,
      "outputs": [
        {
          "output_type": "execute_result",
          "data": {
            "text/plain": [
              "(1, 3)"
            ]
          },
          "metadata": {},
          "execution_count": 8
        }
      ]
    },
    {
      "cell_type": "markdown",
      "source": [
        "### Forward Pass"
      ],
      "metadata": {
        "id": "PhqaprluX6Uu"
      }
    },
    {
      "cell_type": "code",
      "source": [
        "from IPython.display import Image"
      ],
      "metadata": {
        "id": "a-z0S6RDaoBB"
      },
      "execution_count": null,
      "outputs": []
    },
    {
      "cell_type": "markdown",
      "source": [
        "\n",
        "**Inputs:**\n",
        "\n",
        "![](https://drive.google.com/uc?id=1-7BfMCQX7EO_aq7ex6p-HyIzCuh2RjuZ)\n",
        "\n",
        "**Weights:**\n",
        "\n",
        "![](https://drive.google.com/uc?id=1eGsR-34hXzqdRpqJQnicO0hEmHelbVHA)\n",
        "\n",
        "**Inputs • Weights:**\n",
        "\n",
        "Remember: the output shape of `[3, 4]` matrix • `[4, 3]` matrix will be `[3, 3]`\n",
        "\n",
        "In our case: output of `[people, measurements]` • `[weights, nuerons]` will be `[people, nuerons]`\n",
        "\n",
        "![](https://drive.google.com/uc?id=1U8PrVGfhGBd6LYF3kAf_CuXmFHK76Wmy)\n",
        "\n"
      ],
      "metadata": {
        "id": "REfTW2HjQoNu"
      }
    },
    {
      "cell_type": "code",
      "source": [
        "Image(url='https://drive.google.com/uc?id=1pLNkfC-csbh1ab7zXtWNGc0FvPvZ5XFX')"
      ],
      "metadata": {
        "colab": {
          "base_uri": "https://localhost:8080/",
          "height": 593
        },
        "id": "tJeIQIQZabyT",
        "outputId": "7e3b7d80-ffb7-4e65-e73f-0236c4882514"
      },
      "execution_count": null,
      "outputs": [
        {
          "output_type": "execute_result",
          "data": {
            "text/html": [
              "<img src=\"https://drive.google.com/uc?id=1pLNkfC-csbh1ab7zXtWNGc0FvPvZ5XFX\"/>"
            ],
            "text/plain": [
              "<IPython.core.display.Image object>"
            ]
          },
          "metadata": {},
          "execution_count": 10
        }
      ]
    },
    {
      "cell_type": "code",
      "source": [
        "inputs_dot_weights =  np.dot(inputs, weights)\n",
        "\n",
        "inputs_dot_weights"
      ],
      "metadata": {
        "colab": {
          "base_uri": "https://localhost:8080/"
        },
        "id": "7xQPEod8YAjX",
        "outputId": "6d8e2799-b258-44d6-a8e2-ba02d513cb36"
      },
      "execution_count": null,
      "outputs": [
        {
          "output_type": "execute_result",
          "data": {
            "text/plain": [
              "array([[ 2.8  , -1.79 ,  1.885],\n",
              "       [ 6.9  , -4.81 , -0.3  ],\n",
              "       [-0.59 , -1.949, -0.474]])"
            ]
          },
          "metadata": {},
          "execution_count": 11
        }
      ]
    },
    {
      "cell_type": "code",
      "source": [
        "biases"
      ],
      "metadata": {
        "colab": {
          "base_uri": "https://localhost:8080/"
        },
        "id": "N_iuN5y2bLuj",
        "outputId": "6e05d611-c054-4e7d-853b-d29f7c2e589a"
      },
      "execution_count": null,
      "outputs": [
        {
          "output_type": "execute_result",
          "data": {
            "text/plain": [
              "array([[2. , 3. , 0.5]])"
            ]
          },
          "metadata": {},
          "execution_count": 12
        }
      ]
    },
    {
      "cell_type": "code",
      "source": [
        "layer_outputs = inputs_dot_weights + biases  \n",
        "\n",
        "layer_outputs"
      ],
      "metadata": {
        "colab": {
          "base_uri": "https://localhost:8080/"
        },
        "id": "0l5EQ2zWbAuB",
        "outputId": "cf0b54d1-8cb3-4208-ca35-135efd24aa24"
      },
      "execution_count": null,
      "outputs": [
        {
          "output_type": "execute_result",
          "data": {
            "text/plain": [
              "array([[ 4.8  ,  1.21 ,  2.385],\n",
              "       [ 8.9  , -1.81 ,  0.2  ],\n",
              "       [ 1.41 ,  1.051,  0.026]])"
            ]
          },
          "metadata": {},
          "execution_count": 13
        }
      ]
    },
    {
      "cell_type": "code",
      "source": [
        "relu_outputs = np.maximum(0, layer_outputs) \n",
        "\n",
        "relu_outputs"
      ],
      "metadata": {
        "colab": {
          "base_uri": "https://localhost:8080/"
        },
        "id": "LKOyzsNGX7ZL",
        "outputId": "fbf5b739-4f4c-46d2-fc43-2def41626d19"
      },
      "execution_count": null,
      "outputs": [
        {
          "output_type": "execute_result",
          "data": {
            "text/plain": [
              "array([[4.8  , 1.21 , 2.385],\n",
              "       [8.9  , 0.   , 0.2  ],\n",
              "       [1.41 , 1.051, 0.026]])"
            ]
          },
          "metadata": {},
          "execution_count": 14
        }
      ]
    },
    {
      "cell_type": "markdown",
      "source": [
        "![](https://drive.google.com/uc?id=1Bt-qC8ljXA-SmhutPZs5EbaM2_vNxF0j)"
      ],
      "metadata": {
        "id": "P3JpCxMIRTT8"
      }
    },
    {
      "cell_type": "markdown",
      "source": [
        "## Backpropagation"
      ],
      "metadata": {
        "id": "my73eyCbdnnp"
      }
    },
    {
      "cell_type": "markdown",
      "source": [
        "### `deriv_relu_wrt_z`"
      ],
      "metadata": {
        "id": "mKF-qJvndoiF"
      }
    },
    {
      "cell_type": "markdown",
      "source": [
        "Let's get the ReLU activation's derivative and apply the chain rule.\n",
        "\n",
        "As a reminder, here's how we handled it before:\n",
        "\n",
        "```python\n",
        "deriv_relu_wrt_z = deriv_from_next_layer * (1. if z > 0 else 0.)\n",
        "```\n",
        "\n",
        "Over here, we'll be doing the same, albeit in a more optimal fashion a matrix of data.\n",
        "\n",
        "---\n",
        "\n",
        "\n",
        "> Note: \n",
        "- For this fabricated example we're using the ReLU's output itself as the \"passed-in gradients\" (i.e. we're minimizing this output).\n",
        "- Don't take this example too seriously"
      ],
      "metadata": {
        "id": "c8Jw2MfVe4WJ"
      }
    },
    {
      "cell_type": "markdown",
      "source": [
        "`layer_outputs` - the input to ReLU:"
      ],
      "metadata": {
        "id": "tjIUvq-seUlG"
      }
    },
    {
      "cell_type": "code",
      "source": [
        "layer_outputs"
      ],
      "metadata": {
        "colab": {
          "base_uri": "https://localhost:8080/"
        },
        "id": "8yxv-fGff1rJ",
        "outputId": "9303b8f6-da12-42c8-c7f8-02f9a7c66e42"
      },
      "execution_count": null,
      "outputs": [
        {
          "output_type": "execute_result",
          "data": {
            "text/plain": [
              "array([[ 4.8  ,  1.21 ,  2.385],\n",
              "       [ 8.9  , -1.81 ,  0.2  ],\n",
              "       [ 1.41 ,  1.051,  0.026]])"
            ]
          },
          "metadata": {},
          "execution_count": 15
        }
      ]
    },
    {
      "cell_type": "code",
      "source": [
        "deriv_relu_wrt_z = relu_outputs.copy()\n",
        "\n",
        "# Set cells to 0 where corresponding layer_outputs cell <= 0\n",
        "deriv_relu_wrt_z[layer_outputs <= 0] = 0\n",
        "\n",
        "deriv_relu_wrt_z"
      ],
      "metadata": {
        "colab": {
          "base_uri": "https://localhost:8080/"
        },
        "id": "XvSLcJSbdr2i",
        "outputId": "ee62e547-94b8-4110-f732-36a522c2319a"
      },
      "execution_count": null,
      "outputs": [
        {
          "output_type": "execute_result",
          "data": {
            "text/plain": [
              "array([[4.8  , 1.21 , 2.385],\n",
              "       [8.9  , 0.   , 0.2  ],\n",
              "       [1.41 , 1.051, 0.026]])"
            ]
          },
          "metadata": {},
          "execution_count": 16
        }
      ]
    },
    {
      "cell_type": "markdown",
      "source": [
        "![](https://drive.google.com/uc?id=1JRQ6jYS78PhbDXJ3hkzKCVCVylszwPzA)"
      ],
      "metadata": {
        "id": "9g_cc3Cwq9dl"
      }
    },
    {
      "cell_type": "markdown",
      "source": [
        "### `deriv_relu_wrt_inputs`\n",
        "\n"
      ],
      "metadata": {
        "id": "Q6v8rM1cf6qk"
      }
    },
    {
      "cell_type": "markdown",
      "source": [
        "As a reminder, here's how we handled it before (with respect to to input $x_0$):\n",
        "\n",
        "```python\n",
        "deriv_relu_wrt_x0 = deriv_relu_wrt_z * w[0]\n",
        "```\n",
        "\n",
        "Over here, we'll be doing the same, albeit in a more optimal fashion for a matrix of data.\n",
        "\n",
        "---\n",
        "\n",
        "![](https://drive.google.com/uc?id=1eGsR-34hXzqdRpqJQnicO0hEmHelbVHA)\n",
        "\n",
        "![](https://drive.google.com/uc?id=1vUmbQIhcsXF__sgkbMwUhojkyQht_Ur7)\n",
        "\n",
        "![](https://drive.google.com/uc?id=1JRQ6jYS78PhbDXJ3hkzKCVCVylszwPzA)\n",
        "\n",
        "![](https://drive.google.com/uc?id=1gJi4JiBcIwat1yoaAAjJf16K1f97S0gv)"
      ],
      "metadata": {
        "id": "Rd13TgHpokvL"
      }
    },
    {
      "cell_type": "code",
      "source": [
        "Image(url='https://drive.google.com/uc?id=1Hj3U-Vu1ziTe2o821HZ2BkzU_Sa9_9z2')"
      ],
      "metadata": {
        "colab": {
          "base_uri": "https://localhost:8080/",
          "height": 593
        },
        "id": "f1HLRV9PsWJA",
        "outputId": "a712fb10-0476-4a0e-8c69-103c9a420703"
      },
      "execution_count": null,
      "outputs": [
        {
          "output_type": "execute_result",
          "data": {
            "text/html": [
              "<img src=\"https://drive.google.com/uc?id=1Hj3U-Vu1ziTe2o821HZ2BkzU_Sa9_9z2\"/>"
            ],
            "text/plain": [
              "<IPython.core.display.Image object>"
            ]
          },
          "metadata": {},
          "execution_count": 17
        }
      ]
    },
    {
      "cell_type": "code",
      "source": [
        "weights.T"
      ],
      "metadata": {
        "colab": {
          "base_uri": "https://localhost:8080/"
        },
        "id": "SbkEz6uU6Swm",
        "outputId": "8b970b15-7f84-4625-d84c-fa117ddcc782"
      },
      "execution_count": null,
      "outputs": [
        {
          "output_type": "execute_result",
          "data": {
            "text/plain": [
              "array([[ 0.2 ,  0.8 , -0.5 ,  1.  ],\n",
              "       [ 0.5 , -0.91,  0.26, -0.5 ],\n",
              "       [-0.26, -0.27,  0.17,  0.87]])"
            ]
          },
          "metadata": {},
          "execution_count": 18
        }
      ]
    },
    {
      "cell_type": "code",
      "source": [
        "deriv_relu_wrt_inputs = np.dot(deriv_relu_wrt_z, weights.T)\n",
        "\n",
        "deriv_relu_wrt_inputs"
      ],
      "metadata": {
        "colab": {
          "base_uri": "https://localhost:8080/"
        },
        "id": "5SOZIeXmf663",
        "outputId": "7463a669-168c-4637-e823-13f44c336cd9"
      },
      "execution_count": null,
      "outputs": [
        {
          "output_type": "execute_result",
          "data": {
            "text/plain": [
              "array([[ 0.9449 ,  2.09495, -1.67995,  6.26995],\n",
              "       [ 1.728  ,  7.066  , -4.416  ,  9.074  ],\n",
              "       [ 0.80074,  0.16457, -0.42732,  0.90712]])"
            ]
          },
          "metadata": {},
          "execution_count": 19
        }
      ]
    },
    {
      "cell_type": "markdown",
      "source": [
        "### `deriv_relu_wrt_weights`"
      ],
      "metadata": {
        "id": "m_19kxnQf69G"
      }
    },
    {
      "cell_type": "markdown",
      "source": [
        "As a reminder, here's how we handled it before (with respect to $w_0)$:\n",
        "\n",
        "```python\n",
        "deriv_relu_wrt_w0 = deriv_relu_wrt_z * x[0]\n",
        "```\n",
        "\n",
        "Over here, we'll be doing the same, albeit in a more optimal fashion for a matrix of data.\n",
        "\n",
        "---\n",
        "\n",
        "![](https://drive.google.com/uc?id=1-7BfMCQX7EO_aq7ex6p-HyIzCuh2RjuZ)\n",
        "\n",
        "![](https://drive.google.com/uc?id=1znI1wls2OEnRFTaCcvSjIU2dOBEFBhY3)\n",
        "\n",
        "![](https://drive.google.com/uc?id=1JRQ6jYS78PhbDXJ3hkzKCVCVylszwPzA)\n",
        "\n",
        "![](https://drive.google.com/uc?id=1EpFdlX1P4RIlrzixdRX79e57dGPVI-YP)"
      ],
      "metadata": {
        "id": "-vkyMWAwpUHY"
      }
    },
    {
      "cell_type": "code",
      "source": [
        "Image(url='https://drive.google.com/uc?id=1YZsYDwyyTWoS2IIoMMA3W8Jw5zkZU1Fq')"
      ],
      "metadata": {
        "colab": {
          "base_uri": "https://localhost:8080/",
          "height": 593
        },
        "id": "59GcSLx4wQXX",
        "outputId": "831d7a04-c533-47c4-aa04-f8f375b76b33"
      },
      "execution_count": null,
      "outputs": [
        {
          "output_type": "execute_result",
          "data": {
            "text/html": [
              "<img src=\"https://drive.google.com/uc?id=1YZsYDwyyTWoS2IIoMMA3W8Jw5zkZU1Fq\"/>"
            ],
            "text/plain": [
              "<IPython.core.display.Image object>"
            ]
          },
          "metadata": {},
          "execution_count": 20
        }
      ]
    },
    {
      "cell_type": "code",
      "source": [
        "inputs.T"
      ],
      "metadata": {
        "colab": {
          "base_uri": "https://localhost:8080/"
        },
        "id": "JtNqcbW6Ml1U",
        "outputId": "526d7959-6506-4bc0-f2d1-99cee96c8b32"
      },
      "execution_count": null,
      "outputs": [
        {
          "output_type": "execute_result",
          "data": {
            "text/plain": [
              "array([[ 1. ,  2. , -1.5],\n",
              "       [ 2. ,  5. ,  2.7],\n",
              "       [ 3. , -1. ,  3.3],\n",
              "       [ 2.5,  2. , -0.8]])"
            ]
          },
          "metadata": {},
          "execution_count": 21
        }
      ]
    },
    {
      "cell_type": "code",
      "source": [
        "deriv_relu_wrt_weights = np.dot(inputs.T, deriv_relu_wrt_z)\n",
        "\n",
        "deriv_relu_wrt_weights"
      ],
      "metadata": {
        "colab": {
          "base_uri": "https://localhost:8080/"
        },
        "id": "2orv_QG0f6_Y",
        "outputId": "06f1239a-961e-4a99-bb37-d9bcb967a101"
      },
      "execution_count": null,
      "outputs": [
        {
          "output_type": "execute_result",
          "data": {
            "text/plain": [
              "array([[20.485 , -0.3665,  2.746 ],\n",
              "       [57.907 ,  5.2577,  5.8402],\n",
              "       [10.153 ,  7.0983,  7.0408],\n",
              "       [28.672 ,  2.1842,  6.3417]])"
            ]
          },
          "metadata": {},
          "execution_count": 22
        }
      ]
    },
    {
      "cell_type": "markdown",
      "source": [
        "### `deriv_relu_wrt_biases`"
      ],
      "metadata": {
        "id": "grqjJ25if7BR"
      }
    },
    {
      "cell_type": "markdown",
      "source": [
        "For the biases and derivatives with respect to them, the derivatives come from the sum operation and always equal 1, multiplied by the incoming gradients to apply the chain rule.\n",
        "\n",
        "As a reminder, here's how we handled it before (with respect to the single bias $b$):\n",
        "\n",
        "```python\n",
        "deriv_relu_wrt_b = deriv_relu_wrt_z \n",
        "```\n",
        "\n",
        "Over here, since the incoming gradients are a list of gradients, we just have to sum them with the neurons, column-wise, along axis 0.\n",
        "\n",
        "![](https://drive.google.com/uc?id=1JRQ6jYS78PhbDXJ3hkzKCVCVylszwPzA)\n",
        "\n",
        "![](https://drive.google.com/uc?id=1Q7YsBj_KnaidT1jIeCOmBU4t22H1Zycn)"
      ],
      "metadata": {
        "id": "wCkyvsBuh2My"
      }
    },
    {
      "cell_type": "code",
      "source": [
        "deriv_relu_wrt_biases = np.sum(\n",
        "    deriv_relu_wrt_z, \n",
        "    axis=0, \n",
        "    keepdims=True\n",
        ")\n",
        "\n",
        "deriv_relu_wrt_biases"
      ],
      "metadata": {
        "colab": {
          "base_uri": "https://localhost:8080/"
        },
        "id": "MzyAuNACg08B",
        "outputId": "1a8f818d-94d9-4dab-8381-c4238d07e9c1"
      },
      "execution_count": null,
      "outputs": [
        {
          "output_type": "execute_result",
          "data": {
            "text/plain": [
              "array([[15.11 ,  2.261,  2.611]])"
            ]
          },
          "metadata": {},
          "execution_count": 23
        }
      ]
    },
    {
      "cell_type": "code",
      "source": [
        "deriv_relu_wrt_biases.shape"
      ],
      "metadata": {
        "colab": {
          "base_uri": "https://localhost:8080/"
        },
        "id": "J32NP58szXhG",
        "outputId": "01d1e61a-4d40-495e-e661-d50a10e01d15"
      },
      "execution_count": null,
      "outputs": [
        {
          "output_type": "execute_result",
          "data": {
            "text/plain": [
              "(1, 3)"
            ]
          },
          "metadata": {},
          "execution_count": 24
        }
      ]
    },
    {
      "cell_type": "markdown",
      "source": [
        "## Update parameters"
      ],
      "metadata": {
        "id": "9ujLtHZaRtzg"
      }
    },
    {
      "cell_type": "markdown",
      "source": [
        "### Update Weights"
      ],
      "metadata": {
        "id": "p-xlYKVtNJej"
      }
    },
    {
      "cell_type": "markdown",
      "source": [
        "![](https://drive.google.com/uc?id=1eGsR-34hXzqdRpqJQnicO0hEmHelbVHA)\n",
        "\n",
        "![](https://drive.google.com/uc?id=1EpFdlX1P4RIlrzixdRX79e57dGPVI-YP)"
      ],
      "metadata": {
        "id": "xHi9J8gVNOG4"
      }
    },
    {
      "cell_type": "code",
      "source": [
        "weights"
      ],
      "metadata": {
        "colab": {
          "base_uri": "https://localhost:8080/"
        },
        "id": "8uXP9wL3NDVZ",
        "outputId": "c90556f0-e7b1-4f49-d5ed-28486cdd632a"
      },
      "execution_count": null,
      "outputs": [
        {
          "output_type": "execute_result",
          "data": {
            "text/plain": [
              "array([[ 0.2 ,  0.5 , -0.26],\n",
              "       [ 0.8 , -0.91, -0.27],\n",
              "       [-0.5 ,  0.26,  0.17],\n",
              "       [ 1.  , -0.5 ,  0.87]])"
            ]
          },
          "metadata": {},
          "execution_count": 25
        }
      ]
    },
    {
      "cell_type": "code",
      "source": [
        "deriv_relu_wrt_weights"
      ],
      "metadata": {
        "colab": {
          "base_uri": "https://localhost:8080/"
        },
        "id": "bc0iOLNYNW4v",
        "outputId": "f72fa70c-c3e1-4b9d-952e-4c049e7e8c11"
      },
      "execution_count": null,
      "outputs": [
        {
          "output_type": "execute_result",
          "data": {
            "text/plain": [
              "array([[20.485 , -0.3665,  2.746 ],\n",
              "       [57.907 ,  5.2577,  5.8402],\n",
              "       [10.153 ,  7.0983,  7.0408],\n",
              "       [28.672 ,  2.1842,  6.3417]])"
            ]
          },
          "metadata": {},
          "execution_count": 26
        }
      ]
    },
    {
      "cell_type": "code",
      "source": [
        "weights += -0.001 * deriv_relu_wrt_weights\n",
        "\n",
        "print(f\"new weights\\n{weights}\")"
      ],
      "metadata": {
        "colab": {
          "base_uri": "https://localhost:8080/"
        },
        "id": "SckCNAbkOvvY",
        "outputId": "81f9230a-3e6e-413b-9231-97fe5ec5330e"
      },
      "execution_count": null,
      "outputs": [
        {
          "output_type": "stream",
          "name": "stdout",
          "text": [
            "new weights\n",
            "[[ 0.179515   0.5003665 -0.262746 ]\n",
            " [ 0.742093  -0.9152577 -0.2758402]\n",
            " [-0.510153   0.2529017  0.1629592]\n",
            " [ 0.971328  -0.5021842  0.8636583]]\n"
          ]
        }
      ]
    },
    {
      "cell_type": "markdown",
      "source": [
        "### Update Biases"
      ],
      "metadata": {
        "id": "1zGDNZx2PDzg"
      }
    },
    {
      "cell_type": "markdown",
      "source": [
        "\n",
        "![](https://drive.google.com/uc?id=1tfW8gGzZHhRGDcXC5TljVpyjax37jr0f)\n",
        "![](https://drive.google.com/uc?id=1Q7YsBj_KnaidT1jIeCOmBU4t22H1Zycn)"
      ],
      "metadata": {
        "id": "weXaHvLjPGz9"
      }
    },
    {
      "cell_type": "code",
      "source": [
        "biases"
      ],
      "metadata": {
        "colab": {
          "base_uri": "https://localhost:8080/"
        },
        "id": "yih_QpXPPNOi",
        "outputId": "1acf37d0-560e-4e86-e9aa-2c34e91f757a"
      },
      "execution_count": null,
      "outputs": [
        {
          "output_type": "execute_result",
          "data": {
            "text/plain": [
              "array([[2. , 3. , 0.5]])"
            ]
          },
          "metadata": {},
          "execution_count": 28
        }
      ]
    },
    {
      "cell_type": "code",
      "source": [
        "deriv_relu_wrt_biases"
      ],
      "metadata": {
        "colab": {
          "base_uri": "https://localhost:8080/"
        },
        "id": "Do7ss_5LPN9k",
        "outputId": "7b4d8925-31df-4dee-cefc-6aefb475e055"
      },
      "execution_count": null,
      "outputs": [
        {
          "output_type": "execute_result",
          "data": {
            "text/plain": [
              "array([[15.11 ,  2.261,  2.611]])"
            ]
          },
          "metadata": {},
          "execution_count": 29
        }
      ]
    },
    {
      "cell_type": "code",
      "source": [
        "biases += -0.001 * deriv_relu_wrt_biases\n",
        "\n",
        "print(f\"new biases\\n{biases}\")"
      ],
      "metadata": {
        "colab": {
          "base_uri": "https://localhost:8080/"
        },
        "id": "ykoupJ5-PPVI",
        "outputId": "2589c474-2c80-424b-b096-e87fab61fd38"
      },
      "execution_count": null,
      "outputs": [
        {
          "output_type": "stream",
          "name": "stdout",
          "text": [
            "new biases\n",
            "[[1.98489  2.997739 0.497389]]\n"
          ]
        }
      ]
    },
    {
      "cell_type": "markdown",
      "metadata": {
        "id": "_l1l74qialiI"
      },
      "source": [
        "## Conclusion\n",
        "\n",
        "By this point, we’ve covered everything we need to perform backpropagation. \n",
        "\n",
        "We haven't covered how to derive the derivatives of the Softmax activation and cross-entropy loss functions. Although we won't be doing that now, you have all the core skills needed. \n",
        "\n",
        "In truth, when building neural networks for real use, we'll virtually never have to directly calculate the derivatives nor create the backpropagation steps - the tools (such as PyTorch, TensorFlow, etc.) handle that for us automatically.\n",
        "\n",
        "\n",
        "\n",
        "\n"
      ]
    }
  ]
}