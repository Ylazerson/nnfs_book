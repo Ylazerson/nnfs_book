{
  "nbformat": 4,
  "nbformat_minor": 0,
  "metadata": {
    "colab": {
      "name": "part_09_02_backpropagation.ipynb",
      "provenance": [],
      "collapsed_sections": [],
      "toc_visible": true
    },
    "kernelspec": {
      "name": "python3",
      "display_name": "Python 3"
    },
    "language_info": {
      "name": "python"
    }
  },
  "cells": [
    {
      "cell_type": "markdown",
      "metadata": {
        "id": "prRXQ0p94hzC"
      },
      "source": [
        "### Intro\n",
        "\n",
        "\n",
        "<u>**Scenario A: 1 neuron in current layer, 1 in next layer**</u>\n",
        "\n",
        "So far, we have performed an example backward pass with a **single neuron**, which received a **singular derivative**, `deriv_from_next_layer` (from \"next\" layer) to apply the chain rule. \n",
        "\n",
        "<br>\n",
        "\n",
        "---\n",
        "\n",
        "<u>**Scenario B: 1 neuron in current layer, mulitple in next layer**</u>\n",
        "\n",
        "Let’s consider **multiple neurons** in the next layer. A **single neuron** of the current layer connects to all of them — they all receive the output of this neuron. \n",
        "\n",
        "What will happen during backpropagation? \n",
        "- Each neuron from the next layer will return a partial derivative of its function with respect to this input. \n",
        "- The neuron in the current layer will receive a vector consisting of these derivatives. \n",
        "- We need this to be a **singular value** for a singular neuron. \n",
        "- To continue backpropagation, we need to **sum** this vector.\n",
        "\n",
        "<br>\n",
        "\n",
        "---\n",
        "\n",
        "<u>**Scenario C: Multiple neurons in current layer, mulitple in next layer**</u>\n",
        "\n",
        "During backpropagation: \n",
        "- Each neuron from the current layer will receive a vector of partial derivatives the same way that we described for Scenario B. \n",
        "- With a layer of neurons, it’ll take the form of a list of these vectors, or a 2D array. \n",
        "- Each neuron in the next layer is going to output a gradient of the partial derivatives with respect to all of its inputs. \n",
        "- From all the neurons in the next layer this will form a list of these vectors. \n",
        "\n"
      ]
    },
    {
      "cell_type": "markdown",
      "metadata": {
        "id": "Al3mmHX1pz2H"
      },
      "source": [
        "### Our staged scenario\n",
        "\n",
        "We're zooming into a layer of 3 neurons with 4 inputs. \n",
        "\n",
        "![](https://drive.google.com/uc?id=1j6jrEYOttXaVrn9TUSnFX1pSFw9H7jD6)\n",
        "\n",
        "Let's imagine we have done the forward pass already and are in middle of the backpropagation and have the gradients for the \"next layer\" already. \n",
        "\n"
      ]
    },
    {
      "cell_type": "markdown",
      "metadata": {
        "id": "SA4sk1OlQG84"
      },
      "source": [
        "## Forward Pass"
      ]
    },
    {
      "cell_type": "code",
      "source": [
        "import numpy as np"
      ],
      "metadata": {
        "id": "MS59p-uxRmMl"
      },
      "execution_count": 1,
      "outputs": []
    },
    {
      "cell_type": "markdown",
      "source": [
        "### Inputs"
      ],
      "metadata": {
        "id": "DPm0ZrqzSsjE"
      }
    },
    {
      "cell_type": "markdown",
      "source": [
        "Fabricated inputs:\n",
        "\n",
        "![](https://drive.google.com/uc?id=1-7BfMCQX7EO_aq7ex6p-HyIzCuh2RjuZ)"
      ],
      "metadata": {
        "id": "Dbm-WDBeU6r5"
      }
    },
    {
      "cell_type": "code",
      "source": [
        "inputs = np.array([\n",
        "    [1, 2, 3, 2.5],\n",
        "    [2., 5., -1., 2],\n",
        "    [-1.5, 2.7, 3.3, -0.8]\n",
        "])"
      ],
      "metadata": {
        "id": "EDi8eexDStHu"
      },
      "execution_count": 2,
      "outputs": []
    },
    {
      "cell_type": "code",
      "source": [
        "inputs.shape"
      ],
      "metadata": {
        "colab": {
          "base_uri": "https://localhost:8080/"
        },
        "id": "-2r_rzh3S2K6",
        "outputId": "526fde2a-71d0-49c4-a821-afce15ed6512"
      },
      "execution_count": 3,
      "outputs": [
        {
          "output_type": "execute_result",
          "data": {
            "text/plain": [
              "(3, 4)"
            ]
          },
          "metadata": {},
          "execution_count": 3
        }
      ]
    },
    {
      "cell_type": "markdown",
      "source": [
        "### Weights"
      ],
      "metadata": {
        "id": "HtUfpYV9VPa6"
      }
    },
    {
      "cell_type": "markdown",
      "source": [
        "- We'll keep weights transposed\n",
        "\n",
        "![](https://drive.google.com/uc?id=1eGsR-34hXzqdRpqJQnicO0hEmHelbVHA)"
      ],
      "metadata": {
        "id": "FszPGwe-VaKL"
      }
    },
    {
      "cell_type": "code",
      "source": [
        "weights = np.array([\n",
        "    [0.2, 0.8, -0.5, 1],\n",
        "    [0.5, -0.91, 0.26, -0.5],\n",
        "    [-0.26, -0.27, 0.17, 0.87]\n",
        "]).T"
      ],
      "metadata": {
        "id": "W3oYI-M-VQ4z"
      },
      "execution_count": 4,
      "outputs": []
    },
    {
      "cell_type": "code",
      "source": [
        "weights"
      ],
      "metadata": {
        "colab": {
          "base_uri": "https://localhost:8080/"
        },
        "id": "Ud5LIMe6Vt2Y",
        "outputId": "4a160f63-6e4d-4fa9-df88-dccf751de33f"
      },
      "execution_count": 5,
      "outputs": [
        {
          "output_type": "execute_result",
          "data": {
            "text/plain": [
              "array([[ 0.2 ,  0.5 , -0.26],\n",
              "       [ 0.8 , -0.91, -0.27],\n",
              "       [-0.5 ,  0.26,  0.17],\n",
              "       [ 1.  , -0.5 ,  0.87]])"
            ]
          },
          "metadata": {},
          "execution_count": 5
        }
      ]
    },
    {
      "cell_type": "code",
      "source": [
        "weights.shape"
      ],
      "metadata": {
        "colab": {
          "base_uri": "https://localhost:8080/"
        },
        "id": "yaGTAgNMVvPD",
        "outputId": "1d7d375c-32f6-4bd3-97e3-29db94b60086"
      },
      "execution_count": 6,
      "outputs": [
        {
          "output_type": "execute_result",
          "data": {
            "text/plain": [
              "(4, 3)"
            ]
          },
          "metadata": {},
          "execution_count": 6
        }
      ]
    },
    {
      "cell_type": "markdown",
      "source": [
        "### Biases"
      ],
      "metadata": {
        "id": "xZnCUURMWBXK"
      }
    },
    {
      "cell_type": "markdown",
      "source": [
        "One bias for each neuron:"
      ],
      "metadata": {
        "id": "0zHeLkXUXpa3"
      }
    },
    {
      "cell_type": "code",
      "source": [
        "biases = np.array([\n",
        "    [2, 3, 0.5]\n",
        "])"
      ],
      "metadata": {
        "id": "yIZTxBxtVnLp"
      },
      "execution_count": 7,
      "outputs": []
    },
    {
      "cell_type": "code",
      "source": [
        "biases.shape"
      ],
      "metadata": {
        "colab": {
          "base_uri": "https://localhost:8080/"
        },
        "id": "PfA5hQOuXsXA",
        "outputId": "f09c9bd0-ba04-470d-ca6f-5cfaaf2a4a32"
      },
      "execution_count": 8,
      "outputs": [
        {
          "output_type": "execute_result",
          "data": {
            "text/plain": [
              "(1, 3)"
            ]
          },
          "metadata": {},
          "execution_count": 8
        }
      ]
    },
    {
      "cell_type": "markdown",
      "source": [
        "### Forward Pass"
      ],
      "metadata": {
        "id": "PhqaprluX6Uu"
      }
    },
    {
      "cell_type": "code",
      "source": [
        "from IPython.display import Image"
      ],
      "metadata": {
        "id": "a-z0S6RDaoBB"
      },
      "execution_count": 9,
      "outputs": []
    },
    {
      "cell_type": "markdown",
      "source": [
        "\n",
        "**Inputs:**\n",
        "\n",
        "![](https://drive.google.com/uc?id=1-7BfMCQX7EO_aq7ex6p-HyIzCuh2RjuZ)\n",
        "\n",
        "**Weights:**\n",
        "\n",
        "![](https://drive.google.com/uc?id=1eGsR-34hXzqdRpqJQnicO0hEmHelbVHA)\n",
        "\n",
        "**Inputs • Weights:**\n",
        "\n",
        "Remember: the output shape of `[3, 4]` matrix • `[4, 3]` matrix will be `[3, 3]`\n",
        "\n",
        "In our case: output of `[people, measurements]` • `[weights, nuerons]` will be `[people, nuerons]`\n",
        "\n",
        "![](https://drive.google.com/uc?id=1U8PrVGfhGBd6LYF3kAf_CuXmFHK76Wmy)\n",
        "\n"
      ],
      "metadata": {
        "id": "REfTW2HjQoNu"
      }
    },
    {
      "cell_type": "code",
      "source": [
        "Image(url='https://drive.google.com/uc?id=1pLNkfC-csbh1ab7zXtWNGc0FvPvZ5XFX')"
      ],
      "metadata": {
        "colab": {
          "base_uri": "https://localhost:8080/",
          "height": 593
        },
        "id": "tJeIQIQZabyT",
        "outputId": "0f529822-1a89-4e2d-cc17-f0f55fb016eb"
      },
      "execution_count": 10,
      "outputs": [
        {
          "output_type": "execute_result",
          "data": {
            "text/html": [
              "<img src=\"https://drive.google.com/uc?id=1pLNkfC-csbh1ab7zXtWNGc0FvPvZ5XFX\"/>"
            ],
            "text/plain": [
              "<IPython.core.display.Image object>"
            ]
          },
          "metadata": {},
          "execution_count": 10
        }
      ]
    },
    {
      "cell_type": "code",
      "source": [
        "inputs_dot_weights =  np.dot(inputs, weights)\n",
        "\n",
        "inputs_dot_weights"
      ],
      "metadata": {
        "colab": {
          "base_uri": "https://localhost:8080/"
        },
        "id": "7xQPEod8YAjX",
        "outputId": "43d570f5-7ee0-4d39-d48c-412d326cf560"
      },
      "execution_count": 11,
      "outputs": [
        {
          "output_type": "execute_result",
          "data": {
            "text/plain": [
              "array([[ 2.8  , -1.79 ,  1.885],\n",
              "       [ 6.9  , -4.81 , -0.3  ],\n",
              "       [-0.59 , -1.949, -0.474]])"
            ]
          },
          "metadata": {},
          "execution_count": 11
        }
      ]
    },
    {
      "cell_type": "code",
      "source": [
        "biases"
      ],
      "metadata": {
        "colab": {
          "base_uri": "https://localhost:8080/"
        },
        "id": "N_iuN5y2bLuj",
        "outputId": "91b1ce56-1525-4bd5-d852-dedccaf906ed"
      },
      "execution_count": 12,
      "outputs": [
        {
          "output_type": "execute_result",
          "data": {
            "text/plain": [
              "array([[2. , 3. , 0.5]])"
            ]
          },
          "metadata": {},
          "execution_count": 12
        }
      ]
    },
    {
      "cell_type": "code",
      "source": [
        "layer_outputs = inputs_dot_weights + biases  \n",
        "\n",
        "layer_outputs"
      ],
      "metadata": {
        "colab": {
          "base_uri": "https://localhost:8080/"
        },
        "id": "0l5EQ2zWbAuB",
        "outputId": "212c2c41-ee2b-48dd-c06a-9a8a886ff002"
      },
      "execution_count": 13,
      "outputs": [
        {
          "output_type": "execute_result",
          "data": {
            "text/plain": [
              "array([[ 4.8  ,  1.21 ,  2.385],\n",
              "       [ 8.9  , -1.81 ,  0.2  ],\n",
              "       [ 1.41 ,  1.051,  0.026]])"
            ]
          },
          "metadata": {},
          "execution_count": 13
        }
      ]
    },
    {
      "cell_type": "code",
      "source": [
        "relu_outputs = np.maximum(0, layer_outputs) \n",
        "\n",
        "relu_outputs"
      ],
      "metadata": {
        "colab": {
          "base_uri": "https://localhost:8080/"
        },
        "id": "LKOyzsNGX7ZL",
        "outputId": "19869a24-2328-4086-cbfc-55ec2dfa3a4a"
      },
      "execution_count": 14,
      "outputs": [
        {
          "output_type": "execute_result",
          "data": {
            "text/plain": [
              "array([[4.8  , 1.21 , 2.385],\n",
              "       [8.9  , 0.   , 0.2  ],\n",
              "       [1.41 , 1.051, 0.026]])"
            ]
          },
          "metadata": {},
          "execution_count": 14
        }
      ]
    },
    {
      "cell_type": "markdown",
      "source": [
        "![](https://drive.google.com/uc?id=1Bt-qC8ljXA-SmhutPZs5EbaM2_vNxF0j)"
      ],
      "metadata": {
        "id": "P3JpCxMIRTT8"
      }
    },
    {
      "cell_type": "markdown",
      "source": [
        "## Backpropagation"
      ],
      "metadata": {
        "id": "my73eyCbdnnp"
      }
    },
    {
      "cell_type": "markdown",
      "source": [
        "### `deriv_relu_wrt_z`"
      ],
      "metadata": {
        "id": "mKF-qJvndoiF"
      }
    },
    {
      "cell_type": "markdown",
      "source": [
        "Let's get the ReLU activation's derivative and apply the chain rule.\n",
        "\n",
        "As a reminder, here's how we handled it before:\n",
        "\n",
        "```python\n",
        "deriv_relu_wrt_z = deriv_from_next_layer * (1. if z > 0 else 0.)\n",
        "```\n",
        "\n",
        "Over here, we'll be doing the same, albeit in a more optimal fashion a matrix of data.\n",
        "\n",
        "---\n",
        "\n",
        "\n",
        "> Note: \n",
        "- For this fabricated example we're using the ReLU's output itself as the \"passed-in gradients\" (i.e. we're minimizing this output).\n",
        "- Don't take this example too seriously"
      ],
      "metadata": {
        "id": "c8Jw2MfVe4WJ"
      }
    },
    {
      "cell_type": "markdown",
      "source": [
        "`layer_outputs` - the input to ReLU:"
      ],
      "metadata": {
        "id": "tjIUvq-seUlG"
      }
    },
    {
      "cell_type": "code",
      "source": [
        "layer_outputs"
      ],
      "metadata": {
        "colab": {
          "base_uri": "https://localhost:8080/"
        },
        "id": "8yxv-fGff1rJ",
        "outputId": "86170b1b-3c48-4a1b-bbd1-89cf6439a417"
      },
      "execution_count": 15,
      "outputs": [
        {
          "output_type": "execute_result",
          "data": {
            "text/plain": [
              "array([[ 4.8  ,  1.21 ,  2.385],\n",
              "       [ 8.9  , -1.81 ,  0.2  ],\n",
              "       [ 1.41 ,  1.051,  0.026]])"
            ]
          },
          "metadata": {},
          "execution_count": 15
        }
      ]
    },
    {
      "cell_type": "code",
      "source": [
        "deriv_relu_wrt_z = relu_outputs.copy()\n",
        "\n",
        "# Set cells to 0 where corresponding layer_outputs cell <= 0\n",
        "deriv_relu_wrt_z[layer_outputs <= 0] = 0\n",
        "\n",
        "deriv_relu_wrt_z"
      ],
      "metadata": {
        "colab": {
          "base_uri": "https://localhost:8080/"
        },
        "id": "XvSLcJSbdr2i",
        "outputId": "5b896b9c-bd5e-47f7-ea36-6870e70a3439"
      },
      "execution_count": 16,
      "outputs": [
        {
          "output_type": "execute_result",
          "data": {
            "text/plain": [
              "array([[4.8  , 1.21 , 2.385],\n",
              "       [8.9  , 0.   , 0.2  ],\n",
              "       [1.41 , 1.051, 0.026]])"
            ]
          },
          "metadata": {},
          "execution_count": 16
        }
      ]
    },
    {
      "cell_type": "markdown",
      "source": [
        "![](https://drive.google.com/uc?id=1JRQ6jYS78PhbDXJ3hkzKCVCVylszwPzA)"
      ],
      "metadata": {
        "id": "9g_cc3Cwq9dl"
      }
    },
    {
      "cell_type": "markdown",
      "source": [
        "### `deriv_relu_wrt_inputs`\n",
        "\n"
      ],
      "metadata": {
        "id": "Q6v8rM1cf6qk"
      }
    },
    {
      "cell_type": "markdown",
      "source": [
        "As a reminder, here's how we handled it before (with respect to to input $x_0$):\n",
        "\n",
        "```python\n",
        "deriv_relu_wrt_x0 = deriv_relu_wrt_z * w[0]\n",
        "```\n",
        "\n",
        "Over here, we'll be doing the same, albeit in a more optimal fashion for a matrix of data.\n",
        "\n",
        "---\n",
        "\n",
        "![](https://drive.google.com/uc?id=1eGsR-34hXzqdRpqJQnicO0hEmHelbVHA)\n",
        "\n",
        "![](https://drive.google.com/uc?id=1vUmbQIhcsXF__sgkbMwUhojkyQht_Ur7)\n",
        "\n",
        "![](https://drive.google.com/uc?id=1JRQ6jYS78PhbDXJ3hkzKCVCVylszwPzA)\n",
        "\n",
        "![](https://drive.google.com/uc?id=1gJi4JiBcIwat1yoaAAjJf16K1f97S0gv)"
      ],
      "metadata": {
        "id": "Rd13TgHpokvL"
      }
    },
    {
      "cell_type": "code",
      "source": [
        "Image(url='https://drive.google.com/uc?id=1Hj3U-Vu1ziTe2o821HZ2BkzU_Sa9_9z2')"
      ],
      "metadata": {
        "colab": {
          "base_uri": "https://localhost:8080/",
          "height": 593
        },
        "id": "f1HLRV9PsWJA",
        "outputId": "f961123b-afea-4149-c234-4457cf4bbd02"
      },
      "execution_count": 31,
      "outputs": [
        {
          "output_type": "execute_result",
          "data": {
            "text/html": [
              "<img src=\"https://drive.google.com/uc?id=1Hj3U-Vu1ziTe2o821HZ2BkzU_Sa9_9z2\"/>"
            ],
            "text/plain": [
              "<IPython.core.display.Image object>"
            ]
          },
          "metadata": {},
          "execution_count": 31
        }
      ]
    },
    {
      "cell_type": "code",
      "source": [
        "weights.T"
      ],
      "metadata": {
        "colab": {
          "base_uri": "https://localhost:8080/"
        },
        "id": "SbkEz6uU6Swm",
        "outputId": "aedd6067-2840-49a1-adbc-147b5f77eda5"
      },
      "execution_count": 17,
      "outputs": [
        {
          "output_type": "execute_result",
          "data": {
            "text/plain": [
              "array([[ 0.2 ,  0.8 , -0.5 ,  1.  ],\n",
              "       [ 0.5 , -0.91,  0.26, -0.5 ],\n",
              "       [-0.26, -0.27,  0.17,  0.87]])"
            ]
          },
          "metadata": {},
          "execution_count": 17
        }
      ]
    },
    {
      "cell_type": "code",
      "source": [
        "deriv_relu_wrt_inputs = np.dot(deriv_relu_wrt_z, weights.T)\n",
        "\n",
        "deriv_relu_wrt_inputs"
      ],
      "metadata": {
        "colab": {
          "base_uri": "https://localhost:8080/"
        },
        "id": "5SOZIeXmf663",
        "outputId": "878d0782-36ca-4236-badf-9537597b39ac"
      },
      "execution_count": 18,
      "outputs": [
        {
          "output_type": "execute_result",
          "data": {
            "text/plain": [
              "array([[ 0.9449 ,  2.09495, -1.67995,  6.26995],\n",
              "       [ 1.728  ,  7.066  , -4.416  ,  9.074  ],\n",
              "       [ 0.80074,  0.16457, -0.42732,  0.90712]])"
            ]
          },
          "metadata": {},
          "execution_count": 18
        }
      ]
    },
    {
      "cell_type": "markdown",
      "source": [
        "### `deriv_relu_wrt_weights`"
      ],
      "metadata": {
        "id": "m_19kxnQf69G"
      }
    },
    {
      "cell_type": "markdown",
      "source": [
        "As a reminder, here's how we handled it before (with respect to $w_0)$:\n",
        "\n",
        "```python\n",
        "deriv_relu_wrt_w0 = deriv_relu_wrt_z * x[0]\n",
        "```\n",
        "\n",
        "Over here, we'll be doing the same, albeit in a more optimal fashion for a matrix of data.\n",
        "\n",
        "---\n",
        "\n",
        "![](https://drive.google.com/uc?id=1-7BfMCQX7EO_aq7ex6p-HyIzCuh2RjuZ)\n",
        "\n",
        "![](https://drive.google.com/uc?id=1znI1wls2OEnRFTaCcvSjIU2dOBEFBhY3)\n",
        "\n",
        "![](https://drive.google.com/uc?id=1JRQ6jYS78PhbDXJ3hkzKCVCVylszwPzA)\n",
        "\n",
        "![](https://drive.google.com/uc?id=1EpFdlX1P4RIlrzixdRX79e57dGPVI-YP)"
      ],
      "metadata": {
        "id": "-vkyMWAwpUHY"
      }
    },
    {
      "cell_type": "code",
      "source": [
        "Image(url='https://drive.google.com/uc?id=1YZsYDwyyTWoS2IIoMMA3W8Jw5zkZU1Fq')"
      ],
      "metadata": {
        "colab": {
          "base_uri": "https://localhost:8080/",
          "height": 593
        },
        "id": "59GcSLx4wQXX",
        "outputId": "90003bf1-cf1c-4f47-a7eb-edcc56794387"
      },
      "execution_count": 32,
      "outputs": [
        {
          "output_type": "execute_result",
          "data": {
            "text/html": [
              "<img src=\"https://drive.google.com/uc?id=1YZsYDwyyTWoS2IIoMMA3W8Jw5zkZU1Fq\"/>"
            ],
            "text/plain": [
              "<IPython.core.display.Image object>"
            ]
          },
          "metadata": {},
          "execution_count": 32
        }
      ]
    },
    {
      "cell_type": "code",
      "source": [
        "inputs.T"
      ],
      "metadata": {
        "colab": {
          "base_uri": "https://localhost:8080/"
        },
        "id": "JtNqcbW6Ml1U",
        "outputId": "ec3cd7bc-4314-41ef-ce50-6af0a97aa432"
      },
      "execution_count": 20,
      "outputs": [
        {
          "output_type": "execute_result",
          "data": {
            "text/plain": [
              "array([[ 1. ,  2. , -1.5],\n",
              "       [ 2. ,  5. ,  2.7],\n",
              "       [ 3. , -1. ,  3.3],\n",
              "       [ 2.5,  2. , -0.8]])"
            ]
          },
          "metadata": {},
          "execution_count": 20
        }
      ]
    },
    {
      "cell_type": "code",
      "source": [
        "deriv_relu_wrt_weights = np.dot(inputs.T, deriv_relu_wrt_z)\n",
        "\n",
        "deriv_relu_wrt_weights"
      ],
      "metadata": {
        "colab": {
          "base_uri": "https://localhost:8080/"
        },
        "id": "2orv_QG0f6_Y",
        "outputId": "640125c2-9360-44a9-bc06-4ee8688f2b10"
      },
      "execution_count": 22,
      "outputs": [
        {
          "output_type": "execute_result",
          "data": {
            "text/plain": [
              "array([[20.485 , -0.3665,  2.746 ],\n",
              "       [57.907 ,  5.2577,  5.8402],\n",
              "       [10.153 ,  7.0983,  7.0408],\n",
              "       [28.672 ,  2.1842,  6.3417]])"
            ]
          },
          "metadata": {},
          "execution_count": 22
        }
      ]
    },
    {
      "cell_type": "markdown",
      "source": [
        "### `deriv_relu_wrt_biases`"
      ],
      "metadata": {
        "id": "grqjJ25if7BR"
      }
    },
    {
      "cell_type": "markdown",
      "source": [
        "For the biases and derivatives with respect to them, the derivatives come from the sum operation and always equal 1, multiplied by the incoming gradients to apply the chain rule.\n",
        "\n",
        "Since gradients are a list of gradients (a vector of gradients for each neuron for all samples), we just have to sum them with the neurons, column-wise, along axis 0."
      ],
      "metadata": {
        "id": "wCkyvsBuh2My"
      }
    },
    {
      "cell_type": "code",
      "source": [
        "deriv_relu_wrt_z"
      ],
      "metadata": {
        "colab": {
          "base_uri": "https://localhost:8080/"
        },
        "id": "nSoaJlNAM0AQ",
        "outputId": "15bf73d5-25c1-42fc-cb75-0646d1974843"
      },
      "execution_count": 23,
      "outputs": [
        {
          "output_type": "execute_result",
          "data": {
            "text/plain": [
              "array([[4.8  , 1.21 , 2.385],\n",
              "       [8.9  , 0.   , 0.2  ],\n",
              "       [1.41 , 1.051, 0.026]])"
            ]
          },
          "metadata": {},
          "execution_count": 23
        }
      ]
    },
    {
      "cell_type": "code",
      "source": [
        "deriv_relu_wrt_biases = np.sum(\n",
        "    deriv_relu_wrt_z, \n",
        "    axis=0, \n",
        "    keepdims=True\n",
        ")\n",
        "\n",
        "deriv_relu_wrt_biases"
      ],
      "metadata": {
        "colab": {
          "base_uri": "https://localhost:8080/"
        },
        "id": "MzyAuNACg08B",
        "outputId": "6b3d1f59-dd00-445a-df11-e4e0074aa1ea"
      },
      "execution_count": 24,
      "outputs": [
        {
          "output_type": "execute_result",
          "data": {
            "text/plain": [
              "array([[15.11 ,  2.261,  2.611]])"
            ]
          },
          "metadata": {},
          "execution_count": 24
        }
      ]
    },
    {
      "cell_type": "markdown",
      "source": [
        "## Update parameters"
      ],
      "metadata": {
        "id": "9ujLtHZaRtzg"
      }
    },
    {
      "cell_type": "markdown",
      "source": [
        "### Update Weights"
      ],
      "metadata": {
        "id": "p-xlYKVtNJej"
      }
    },
    {
      "cell_type": "markdown",
      "source": [
        "**Weights before update:**\n",
        "\n",
        "![](https://drive.google.com/uc?id=1eGsR-34hXzqdRpqJQnicO0hEmHelbVHA)\n",
        "\n",
        "![](https://drive.google.com/uc?id=1EpFdlX1P4RIlrzixdRX79e57dGPVI-YP)"
      ],
      "metadata": {
        "id": "xHi9J8gVNOG4"
      }
    },
    {
      "cell_type": "code",
      "source": [
        "weights"
      ],
      "metadata": {
        "colab": {
          "base_uri": "https://localhost:8080/"
        },
        "id": "8uXP9wL3NDVZ",
        "outputId": "83ed17e5-9b20-4561-ef38-a1865dfa1f41"
      },
      "execution_count": 25,
      "outputs": [
        {
          "output_type": "execute_result",
          "data": {
            "text/plain": [
              "array([[ 0.2 ,  0.5 , -0.26],\n",
              "       [ 0.8 , -0.91, -0.27],\n",
              "       [-0.5 ,  0.26,  0.17],\n",
              "       [ 1.  , -0.5 ,  0.87]])"
            ]
          },
          "metadata": {},
          "execution_count": 25
        }
      ]
    },
    {
      "cell_type": "code",
      "source": [
        "deriv_relu_wrt_weights"
      ],
      "metadata": {
        "colab": {
          "base_uri": "https://localhost:8080/"
        },
        "id": "bc0iOLNYNW4v",
        "outputId": "947222c3-e201-48b2-8030-6b68585d5fd6"
      },
      "execution_count": 26,
      "outputs": [
        {
          "output_type": "execute_result",
          "data": {
            "text/plain": [
              "array([[20.485 , -0.3665,  2.746 ],\n",
              "       [57.907 ,  5.2577,  5.8402],\n",
              "       [10.153 ,  7.0983,  7.0408],\n",
              "       [28.672 ,  2.1842,  6.3417]])"
            ]
          },
          "metadata": {},
          "execution_count": 26
        }
      ]
    },
    {
      "cell_type": "code",
      "source": [
        "weights += -0.001 * deriv_relu_wrt_weights\n",
        "\n",
        "print(f\"new weights\\n{weights}\")"
      ],
      "metadata": {
        "colab": {
          "base_uri": "https://localhost:8080/"
        },
        "id": "SckCNAbkOvvY",
        "outputId": "300c5d19-d3c1-4779-fe04-503ccae7aa9e"
      },
      "execution_count": 27,
      "outputs": [
        {
          "output_type": "stream",
          "name": "stdout",
          "text": [
            "new weights\n",
            "[[ 0.179515   0.5003665 -0.262746 ]\n",
            " [ 0.742093  -0.9152577 -0.2758402]\n",
            " [-0.510153   0.2529017  0.1629592]\n",
            " [ 0.971328  -0.5021842  0.8636583]]\n"
          ]
        }
      ]
    },
    {
      "cell_type": "markdown",
      "source": [
        "### Update Biases"
      ],
      "metadata": {
        "id": "1zGDNZx2PDzg"
      }
    },
    {
      "cell_type": "markdown",
      "source": [
        "**Biases before update:**"
      ],
      "metadata": {
        "id": "weXaHvLjPGz9"
      }
    },
    {
      "cell_type": "code",
      "source": [
        "biases"
      ],
      "metadata": {
        "colab": {
          "base_uri": "https://localhost:8080/"
        },
        "id": "yih_QpXPPNOi",
        "outputId": "7d63447a-29c4-4cc8-bee7-54c6b82650a9"
      },
      "execution_count": 28,
      "outputs": [
        {
          "output_type": "execute_result",
          "data": {
            "text/plain": [
              "array([[2. , 3. , 0.5]])"
            ]
          },
          "metadata": {},
          "execution_count": 28
        }
      ]
    },
    {
      "cell_type": "markdown",
      "source": [
        "**Partial derivatives of ReLU with respect to the biases:**"
      ],
      "metadata": {
        "id": "-w3KxpK9PVfN"
      }
    },
    {
      "cell_type": "code",
      "source": [
        "deriv_relu_wrt_biases"
      ],
      "metadata": {
        "colab": {
          "base_uri": "https://localhost:8080/"
        },
        "id": "Do7ss_5LPN9k",
        "outputId": "9fa28be6-5139-4f73-f126-b59fc1e44f16"
      },
      "execution_count": 29,
      "outputs": [
        {
          "output_type": "execute_result",
          "data": {
            "text/plain": [
              "array([[15.11 ,  2.261,  2.611]])"
            ]
          },
          "metadata": {},
          "execution_count": 29
        }
      ]
    },
    {
      "cell_type": "code",
      "source": [
        "biases += -0.001 * deriv_relu_wrt_biases\n",
        "\n",
        "print(f\"new biases\\n{biases}\")"
      ],
      "metadata": {
        "colab": {
          "base_uri": "https://localhost:8080/"
        },
        "id": "ykoupJ5-PPVI",
        "outputId": "d18a43d3-b15b-4fab-b8e1-8fc10542d6be"
      },
      "execution_count": 30,
      "outputs": [
        {
          "output_type": "stream",
          "name": "stdout",
          "text": [
            "new biases\n",
            "[[1.98489  2.997739 0.497389]]\n"
          ]
        }
      ]
    },
    {
      "cell_type": "markdown",
      "metadata": {
        "id": "_l1l74qialiI"
      },
      "source": [
        "## Conclusion\n",
        "\n",
        "By this point, we’ve covered everything we need to perform backpropagation, except for the derivative of the Softmax activation function and the derivative of the cross-entropy loss function.\n",
        "\n",
        "\n",
        "\n",
        "\n"
      ]
    }
  ]
}