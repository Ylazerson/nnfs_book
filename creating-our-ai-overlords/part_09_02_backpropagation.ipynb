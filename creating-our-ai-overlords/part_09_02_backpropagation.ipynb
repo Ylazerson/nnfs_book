{
  "nbformat": 4,
  "nbformat_minor": 0,
  "metadata": {
    "colab": {
      "name": "part_09_02_backpropagation.ipynb",
      "provenance": [],
      "collapsed_sections": [],
      "toc_visible": true
    },
    "kernelspec": {
      "name": "python3",
      "display_name": "Python 3"
    },
    "language_info": {
      "name": "python"
    }
  },
  "cells": [
    {
      "cell_type": "markdown",
      "metadata": {
        "id": "prRXQ0p94hzC"
      },
      "source": [
        "### Intro\n",
        "\n",
        "\n",
        "<u>**Scenario A: 1 neuron in current layer, 1 in next layer**</u>\n",
        "\n",
        "So far, we have performed an example backward pass with a **single neuron**, which received a **singular derivative**, `deriv_from_next_layer` (from \"next\" layer) to apply the chain rule. \n",
        "\n",
        "<br>\n",
        "\n",
        "---\n",
        "\n",
        "<u>**Scenario B: 1 neuron in current layer, mulitple in next layer**</u>\n",
        "\n",
        "Let’s consider **multiple neurons** in the next layer. A **single neuron** of the current layer connects to all of them — they all receive the output of this neuron. \n",
        "\n",
        "What will happen during backpropagation? \n",
        "- Each neuron from the next layer will return a partial derivative of its function with respect to this input. \n",
        "- The neuron in the current layer will receive a vector consisting of these derivatives. \n",
        "- We need this to be a **singular value** for a singular neuron. \n",
        "- To continue backpropagation, we need to **sum** this vector.\n",
        "\n",
        "<br>\n",
        "\n",
        "---\n",
        "\n",
        "<u>**Scenario C: Multiple neurons in current layer, mulitple in next layer**</u>\n",
        "\n",
        "During backpropagation: \n",
        "- Each neuron from the current layer will receive a vector of partial derivatives the same way that we described for Scenario B. \n",
        "- With a layer of neurons, it’ll take the form of a list of these vectors, or a 2D array. \n",
        "- Each neuron in the next layer is going to output a gradient of the partial derivatives with respect to all of its inputs. \n",
        "- From all the neurons in the next layer this will form a list of these vectors. \n",
        "\n"
      ]
    },
    {
      "cell_type": "markdown",
      "metadata": {
        "id": "Al3mmHX1pz2H"
      },
      "source": [
        "### Our staged scenario\n",
        "\n",
        "We're zooming into a layer of 3 neurons with 4 inputs. Let's image we have done the forward pass already and are in middle of the backpropagation and have the gradients for the \"next layer/sublayer\" already. \n",
        "\n"
      ]
    },
    {
      "cell_type": "markdown",
      "metadata": {
        "id": "SA4sk1OlQG84"
      },
      "source": [
        "## Forward Pass"
      ]
    },
    {
      "cell_type": "code",
      "source": [
        "import numpy as np"
      ],
      "metadata": {
        "id": "MS59p-uxRmMl"
      },
      "execution_count": 9,
      "outputs": []
    },
    {
      "cell_type": "markdown",
      "source": [
        "### Inputs"
      ],
      "metadata": {
        "id": "DPm0ZrqzSsjE"
      }
    },
    {
      "cell_type": "markdown",
      "source": [
        "Fabricated inputs:\n",
        "\n",
        "![](https://drive.google.com/uc?id=1-7BfMCQX7EO_aq7ex6p-HyIzCuh2RjuZ)"
      ],
      "metadata": {
        "id": "Dbm-WDBeU6r5"
      }
    },
    {
      "cell_type": "code",
      "source": [
        "inputs = np.array([\n",
        "    [1, 2, 3, 2.5],\n",
        "    [2., 5., -1., 2],\n",
        "    [-1.5, 2.7, 3.3, -0.8]\n",
        "])"
      ],
      "metadata": {
        "id": "EDi8eexDStHu"
      },
      "execution_count": 10,
      "outputs": []
    },
    {
      "cell_type": "code",
      "source": [
        "inputs.shape"
      ],
      "metadata": {
        "colab": {
          "base_uri": "https://localhost:8080/"
        },
        "id": "-2r_rzh3S2K6",
        "outputId": "76fca1b8-a381-4061-f778-3125e8477ace"
      },
      "execution_count": 11,
      "outputs": [
        {
          "output_type": "execute_result",
          "data": {
            "text/plain": [
              "(3, 4)"
            ]
          },
          "metadata": {},
          "execution_count": 11
        }
      ]
    },
    {
      "cell_type": "markdown",
      "source": [
        "### Weights"
      ],
      "metadata": {
        "id": "HtUfpYV9VPa6"
      }
    },
    {
      "cell_type": "markdown",
      "source": [
        "- We have 3 sets of weights - one set for each neuron\n",
        "- Each set has 4 weights for the 4 inputs\n",
        "- Recall that we keep weights transposed\n",
        "\n",
        "![](https://drive.google.com/uc?id=1eGsR-34hXzqdRpqJQnicO0hEmHelbVHA)"
      ],
      "metadata": {
        "id": "FszPGwe-VaKL"
      }
    },
    {
      "cell_type": "code",
      "source": [
        "weights = np.array([\n",
        "    [0.2, 0.8, -0.5, 1],\n",
        "    [0.5, -0.91, 0.26, -0.5],\n",
        "    [-0.26, -0.27, 0.17, 0.87]\n",
        "]).T"
      ],
      "metadata": {
        "id": "W3oYI-M-VQ4z"
      },
      "execution_count": 12,
      "outputs": []
    },
    {
      "cell_type": "code",
      "source": [
        "weights"
      ],
      "metadata": {
        "colab": {
          "base_uri": "https://localhost:8080/"
        },
        "id": "Ud5LIMe6Vt2Y",
        "outputId": "7ddea1f4-203d-447b-81d8-bff41620204d"
      },
      "execution_count": 13,
      "outputs": [
        {
          "output_type": "execute_result",
          "data": {
            "text/plain": [
              "array([[ 0.2 ,  0.5 , -0.26],\n",
              "       [ 0.8 , -0.91, -0.27],\n",
              "       [-0.5 ,  0.26,  0.17],\n",
              "       [ 1.  , -0.5 ,  0.87]])"
            ]
          },
          "metadata": {},
          "execution_count": 13
        }
      ]
    },
    {
      "cell_type": "code",
      "source": [
        "weights.shape"
      ],
      "metadata": {
        "colab": {
          "base_uri": "https://localhost:8080/"
        },
        "id": "yaGTAgNMVvPD",
        "outputId": "67781692-20d1-4243-a58e-3ba69059f312"
      },
      "execution_count": 14,
      "outputs": [
        {
          "output_type": "execute_result",
          "data": {
            "text/plain": [
              "(4, 3)"
            ]
          },
          "metadata": {},
          "execution_count": 14
        }
      ]
    },
    {
      "cell_type": "markdown",
      "source": [
        "### Biases"
      ],
      "metadata": {
        "id": "xZnCUURMWBXK"
      }
    },
    {
      "cell_type": "markdown",
      "source": [
        "One bias for each neuron:"
      ],
      "metadata": {
        "id": "0zHeLkXUXpa3"
      }
    },
    {
      "cell_type": "code",
      "source": [
        "biases = np.array([\n",
        "    [2, 3, 0.5]\n",
        "])"
      ],
      "metadata": {
        "id": "yIZTxBxtVnLp"
      },
      "execution_count": 15,
      "outputs": []
    },
    {
      "cell_type": "code",
      "source": [
        "biases.shape"
      ],
      "metadata": {
        "colab": {
          "base_uri": "https://localhost:8080/"
        },
        "id": "PfA5hQOuXsXA",
        "outputId": "acdca9f2-595d-4cee-b583-4e4845be7156"
      },
      "execution_count": 16,
      "outputs": [
        {
          "output_type": "execute_result",
          "data": {
            "text/plain": [
              "(1, 3)"
            ]
          },
          "metadata": {},
          "execution_count": 16
        }
      ]
    },
    {
      "cell_type": "markdown",
      "source": [
        "### Forward Pass"
      ],
      "metadata": {
        "id": "PhqaprluX6Uu"
      }
    },
    {
      "cell_type": "code",
      "source": [
        "from IPython.display import Image"
      ],
      "metadata": {
        "id": "a-z0S6RDaoBB"
      },
      "execution_count": 17,
      "outputs": []
    },
    {
      "cell_type": "markdown",
      "source": [
        "\n",
        "**Inputs:**\n",
        "\n",
        "![](https://drive.google.com/uc?id=1-7BfMCQX7EO_aq7ex6p-HyIzCuh2RjuZ)\n",
        "\n",
        "**Weights:**\n",
        "\n",
        "![](https://drive.google.com/uc?id=1eGsR-34hXzqdRpqJQnicO0hEmHelbVHA)\n",
        "\n",
        "**Inputs • Weights:**\n",
        "\n",
        "Remember: the output shape of `[3, 4]` matrix • `[4, 3]` matrix will be `[3, 3]`\n",
        "\n",
        "In our case: output of `[people, measurements]` • `[weights, nuerons]` will be `[people, nuerons]`\n",
        "\n",
        "![](https://drive.google.com/uc?id=1U8PrVGfhGBd6LYF3kAf_CuXmFHK76Wmy)\n",
        "\n"
      ],
      "metadata": {
        "id": "REfTW2HjQoNu"
      }
    },
    {
      "cell_type": "code",
      "source": [
        "Image(url='https://drive.google.com/uc?id=1pLNkfC-csbh1ab7zXtWNGc0FvPvZ5XFX')"
      ],
      "metadata": {
        "colab": {
          "base_uri": "https://localhost:8080/",
          "height": 593
        },
        "id": "tJeIQIQZabyT",
        "outputId": "ed1dbda3-aeb4-4009-aa1a-f8ff488ebe10"
      },
      "execution_count": 18,
      "outputs": [
        {
          "output_type": "execute_result",
          "data": {
            "text/html": [
              "<img src=\"https://drive.google.com/uc?id=1pLNkfC-csbh1ab7zXtWNGc0FvPvZ5XFX\"/>"
            ],
            "text/plain": [
              "<IPython.core.display.Image object>"
            ]
          },
          "metadata": {},
          "execution_count": 18
        }
      ]
    },
    {
      "cell_type": "code",
      "source": [
        "inputs_dot_weights =  np.dot(inputs, weights)\n",
        "\n",
        "inputs_dot_weights"
      ],
      "metadata": {
        "colab": {
          "base_uri": "https://localhost:8080/"
        },
        "id": "7xQPEod8YAjX",
        "outputId": "576b88cc-d1ad-43f8-c4af-899bd3288285"
      },
      "execution_count": 19,
      "outputs": [
        {
          "output_type": "execute_result",
          "data": {
            "text/plain": [
              "array([[ 2.8  , -1.79 ,  1.885],\n",
              "       [ 6.9  , -4.81 , -0.3  ],\n",
              "       [-0.59 , -1.949, -0.474]])"
            ]
          },
          "metadata": {},
          "execution_count": 19
        }
      ]
    },
    {
      "cell_type": "code",
      "source": [
        "biases"
      ],
      "metadata": {
        "colab": {
          "base_uri": "https://localhost:8080/"
        },
        "id": "N_iuN5y2bLuj",
        "outputId": "00f2e1f1-98b3-4e74-8ae1-acdc8d91b7fa"
      },
      "execution_count": 20,
      "outputs": [
        {
          "output_type": "execute_result",
          "data": {
            "text/plain": [
              "array([[2. , 3. , 0.5]])"
            ]
          },
          "metadata": {},
          "execution_count": 20
        }
      ]
    },
    {
      "cell_type": "code",
      "source": [
        "layer_outputs = inputs_dot_weights + biases  \n",
        "\n",
        "layer_outputs"
      ],
      "metadata": {
        "colab": {
          "base_uri": "https://localhost:8080/"
        },
        "id": "0l5EQ2zWbAuB",
        "outputId": "2201a75c-9ec2-4b3f-80c6-d0fcf3e81a8c"
      },
      "execution_count": 21,
      "outputs": [
        {
          "output_type": "execute_result",
          "data": {
            "text/plain": [
              "array([[ 4.8  ,  1.21 ,  2.385],\n",
              "       [ 8.9  , -1.81 ,  0.2  ],\n",
              "       [ 1.41 ,  1.051,  0.026]])"
            ]
          },
          "metadata": {},
          "execution_count": 21
        }
      ]
    },
    {
      "cell_type": "code",
      "source": [
        "relu_outputs = np.maximum(0, layer_outputs) \n",
        "\n",
        "relu_outputs"
      ],
      "metadata": {
        "colab": {
          "base_uri": "https://localhost:8080/"
        },
        "id": "LKOyzsNGX7ZL",
        "outputId": "fee8b5c5-4f0e-4fa4-9fe2-79ffbb06db93"
      },
      "execution_count": 22,
      "outputs": [
        {
          "output_type": "execute_result",
          "data": {
            "text/plain": [
              "array([[4.8  , 1.21 , 2.385],\n",
              "       [8.9  , 0.   , 0.2  ],\n",
              "       [1.41 , 1.051, 0.026]])"
            ]
          },
          "metadata": {},
          "execution_count": 22
        }
      ]
    },
    {
      "cell_type": "markdown",
      "source": [
        "![](https://drive.google.com/uc?id=1Bt-qC8ljXA-SmhutPZs5EbaM2_vNxF0j)"
      ],
      "metadata": {
        "id": "P3JpCxMIRTT8"
      }
    },
    {
      "cell_type": "markdown",
      "source": [
        "## Backpropagation"
      ],
      "metadata": {
        "id": "my73eyCbdnnp"
      }
    },
    {
      "cell_type": "markdown",
      "source": [
        "### `deriv_relu_wrt_z`"
      ],
      "metadata": {
        "id": "mKF-qJvndoiF"
      }
    },
    {
      "cell_type": "markdown",
      "source": [
        "Let's get the ReLU activation's derivative and apply the chain rule.\n",
        "\n",
        "Note, for this fabricated example we're using the ReLU's output itself as the \"passed-in gradients\" (we're minimizing this output)."
      ],
      "metadata": {
        "id": "c8Jw2MfVe4WJ"
      }
    },
    {
      "cell_type": "code",
      "source": [
        "layer_outputs"
      ],
      "metadata": {
        "colab": {
          "base_uri": "https://localhost:8080/"
        },
        "id": "8yxv-fGff1rJ",
        "outputId": "386b5ba5-0040-4009-eae9-32130b71e995"
      },
      "execution_count": 23,
      "outputs": [
        {
          "output_type": "execute_result",
          "data": {
            "text/plain": [
              "array([[ 4.8  ,  1.21 ,  2.385],\n",
              "       [ 8.9  , -1.81 ,  0.2  ],\n",
              "       [ 1.41 ,  1.051,  0.026]])"
            ]
          },
          "metadata": {},
          "execution_count": 23
        }
      ]
    },
    {
      "cell_type": "code",
      "source": [
        "deriv_relu_wrt_z = relu_outputs.copy()\n",
        "\n",
        "# Set cells to 0 where corresponding layer_outputs cell <= 0\n",
        "deriv_relu_wrt_z[layer_outputs <= 0] = 0\n",
        "\n",
        "deriv_relu_wrt_z"
      ],
      "metadata": {
        "colab": {
          "base_uri": "https://localhost:8080/"
        },
        "id": "XvSLcJSbdr2i",
        "outputId": "49fc1513-9728-4f92-8cac-11f44a498f22"
      },
      "execution_count": 24,
      "outputs": [
        {
          "output_type": "execute_result",
          "data": {
            "text/plain": [
              "array([[4.8  , 1.21 , 2.385],\n",
              "       [8.9  , 0.   , 0.2  ],\n",
              "       [1.41 , 1.051, 0.026]])"
            ]
          },
          "metadata": {},
          "execution_count": 24
        }
      ]
    },
    {
      "cell_type": "markdown",
      "source": [
        "### `deriv_relu_wrt_inputs`\n",
        "\n"
      ],
      "metadata": {
        "id": "Q6v8rM1cf6qk"
      }
    },
    {
      "cell_type": "code",
      "source": [
        "weights.T"
      ],
      "metadata": {
        "colab": {
          "base_uri": "https://localhost:8080/"
        },
        "id": "SbkEz6uU6Swm",
        "outputId": "506a2c82-5014-48fa-ea12-27f2d2b90825"
      },
      "execution_count": 25,
      "outputs": [
        {
          "output_type": "execute_result",
          "data": {
            "text/plain": [
              "array([[ 0.2 ,  0.8 , -0.5 ,  1.  ],\n",
              "       [ 0.5 , -0.91,  0.26, -0.5 ],\n",
              "       [-0.26, -0.27,  0.17,  0.87]])"
            ]
          },
          "metadata": {},
          "execution_count": 25
        }
      ]
    },
    {
      "cell_type": "code",
      "source": [
        "deriv_relu_wrt_inputs = np.dot(deriv_relu_wrt_z, weights.T)\n",
        "\n",
        "deriv_relu_wrt_inputs"
      ],
      "metadata": {
        "colab": {
          "base_uri": "https://localhost:8080/"
        },
        "id": "5SOZIeXmf663",
        "outputId": "6157ed1b-9464-402b-8cc6-aa4e65ae9059"
      },
      "execution_count": 26,
      "outputs": [
        {
          "output_type": "execute_result",
          "data": {
            "text/plain": [
              "array([[ 0.9449 ,  2.09495, -1.67995,  6.26995],\n",
              "       [ 1.728  ,  7.066  , -4.416  ,  9.074  ],\n",
              "       [ 0.80074,  0.16457, -0.42732,  0.90712]])"
            ]
          },
          "metadata": {},
          "execution_count": 26
        }
      ]
    },
    {
      "cell_type": "code",
      "source": [
        "Image(url='https://drive.google.com/uc?id=1Hj3U-Vu1ziTe2o821HZ2BkzU_Sa9_9z2')"
      ],
      "metadata": {
        "colab": {
          "base_uri": "https://localhost:8080/",
          "height": 593
        },
        "id": "o1kaE75pMPfo",
        "outputId": "b61e6779-8c68-4169-fb95-aefe8be4c61c"
      },
      "execution_count": 27,
      "outputs": [
        {
          "output_type": "execute_result",
          "data": {
            "text/html": [
              "<img src=\"https://drive.google.com/uc?id=1Hj3U-Vu1ziTe2o821HZ2BkzU_Sa9_9z2\"/>"
            ],
            "text/plain": [
              "<IPython.core.display.Image object>"
            ]
          },
          "metadata": {},
          "execution_count": 27
        }
      ]
    },
    {
      "cell_type": "markdown",
      "source": [
        "### `deriv_relu_wrt_weights`"
      ],
      "metadata": {
        "id": "m_19kxnQf69G"
      }
    },
    {
      "cell_type": "code",
      "source": [
        "inputs.T"
      ],
      "metadata": {
        "colab": {
          "base_uri": "https://localhost:8080/"
        },
        "id": "JtNqcbW6Ml1U",
        "outputId": "f1881c76-fa5b-4d2b-cde7-f6f609eb1ac5"
      },
      "execution_count": 28,
      "outputs": [
        {
          "output_type": "execute_result",
          "data": {
            "text/plain": [
              "array([[ 1. ,  2. , -1.5],\n",
              "       [ 2. ,  5. ,  2.7],\n",
              "       [ 3. , -1. ,  3.3],\n",
              "       [ 2.5,  2. , -0.8]])"
            ]
          },
          "metadata": {},
          "execution_count": 28
        }
      ]
    },
    {
      "cell_type": "code",
      "source": [
        "deriv_relu_wrt_z"
      ],
      "metadata": {
        "colab": {
          "base_uri": "https://localhost:8080/"
        },
        "id": "j07nF524Mr8x",
        "outputId": "767d96d4-440e-4c0b-8531-ce21ac96508a"
      },
      "execution_count": 29,
      "outputs": [
        {
          "output_type": "execute_result",
          "data": {
            "text/plain": [
              "array([[4.8  , 1.21 , 2.385],\n",
              "       [8.9  , 0.   , 0.2  ],\n",
              "       [1.41 , 1.051, 0.026]])"
            ]
          },
          "metadata": {},
          "execution_count": 29
        }
      ]
    },
    {
      "cell_type": "code",
      "source": [
        "deriv_relu_wrt_weights = np.dot(inputs.T, deriv_relu_wrt_z)\n",
        "\n",
        "deriv_relu_wrt_weights"
      ],
      "metadata": {
        "colab": {
          "base_uri": "https://localhost:8080/"
        },
        "id": "2orv_QG0f6_Y",
        "outputId": "10e6ff38-6c60-453d-87da-eb499764c00c"
      },
      "execution_count": 30,
      "outputs": [
        {
          "output_type": "execute_result",
          "data": {
            "text/plain": [
              "array([[20.485 , -0.3665,  2.746 ],\n",
              "       [57.907 ,  5.2577,  5.8402],\n",
              "       [10.153 ,  7.0983,  7.0408],\n",
              "       [28.672 ,  2.1842,  6.3417]])"
            ]
          },
          "metadata": {},
          "execution_count": 30
        }
      ]
    },
    {
      "cell_type": "markdown",
      "source": [
        "![](https://drive.google.com/uc?id=1EpFdlX1P4RIlrzixdRX79e57dGPVI-YP)"
      ],
      "metadata": {
        "id": "hXKGbMrsOf_e"
      }
    },
    {
      "cell_type": "markdown",
      "source": [
        "### `deriv_relu_wrt_biases`"
      ],
      "metadata": {
        "id": "grqjJ25if7BR"
      }
    },
    {
      "cell_type": "markdown",
      "source": [
        "For the biases and derivatives with respect to them, the derivatives come from the sum operation and always equal 1, multiplied by the incoming gradients to apply the chain rule.\n",
        "\n",
        "Since gradients are a list of gradients (a vector of gradients for each neuron for all samples), we just have to sum them with the neurons, column-wise, along axis 0."
      ],
      "metadata": {
        "id": "wCkyvsBuh2My"
      }
    },
    {
      "cell_type": "code",
      "source": [
        "deriv_relu_wrt_z"
      ],
      "metadata": {
        "colab": {
          "base_uri": "https://localhost:8080/"
        },
        "id": "nSoaJlNAM0AQ",
        "outputId": "df01f0b2-0c2d-4e9b-c8f8-afda18ddbcc7"
      },
      "execution_count": 31,
      "outputs": [
        {
          "output_type": "execute_result",
          "data": {
            "text/plain": [
              "array([[4.8  , 1.21 , 2.385],\n",
              "       [8.9  , 0.   , 0.2  ],\n",
              "       [1.41 , 1.051, 0.026]])"
            ]
          },
          "metadata": {},
          "execution_count": 31
        }
      ]
    },
    {
      "cell_type": "code",
      "source": [
        "deriv_relu_wrt_biases = np.sum(\n",
        "    deriv_relu_wrt_z, \n",
        "    axis=0, \n",
        "    keepdims=True\n",
        ")\n",
        "\n",
        "deriv_relu_wrt_biases"
      ],
      "metadata": {
        "colab": {
          "base_uri": "https://localhost:8080/"
        },
        "id": "MzyAuNACg08B",
        "outputId": "fd08520e-dbdf-49b8-f94d-9b4cda2d6f03"
      },
      "execution_count": 32,
      "outputs": [
        {
          "output_type": "execute_result",
          "data": {
            "text/plain": [
              "array([[15.11 ,  2.261,  2.611]])"
            ]
          },
          "metadata": {},
          "execution_count": 32
        }
      ]
    },
    {
      "cell_type": "markdown",
      "source": [
        "## Update parameters"
      ],
      "metadata": {
        "id": "9ujLtHZaRtzg"
      }
    },
    {
      "cell_type": "markdown",
      "source": [
        "### Update Weights"
      ],
      "metadata": {
        "id": "p-xlYKVtNJej"
      }
    },
    {
      "cell_type": "markdown",
      "source": [
        "**Weights before update:**\n",
        "\n",
        "![](https://drive.google.com/uc?id=1eGsR-34hXzqdRpqJQnicO0hEmHelbVHA)\n",
        "\n",
        "![](https://drive.google.com/uc?id=1EpFdlX1P4RIlrzixdRX79e57dGPVI-YP)"
      ],
      "metadata": {
        "id": "xHi9J8gVNOG4"
      }
    },
    {
      "cell_type": "code",
      "source": [
        "weights"
      ],
      "metadata": {
        "colab": {
          "base_uri": "https://localhost:8080/"
        },
        "id": "8uXP9wL3NDVZ",
        "outputId": "6e63a6fc-3de7-43bf-e21b-51ff7a2669a5"
      },
      "execution_count": 33,
      "outputs": [
        {
          "output_type": "execute_result",
          "data": {
            "text/plain": [
              "array([[ 0.2 ,  0.5 , -0.26],\n",
              "       [ 0.8 , -0.91, -0.27],\n",
              "       [-0.5 ,  0.26,  0.17],\n",
              "       [ 1.  , -0.5 ,  0.87]])"
            ]
          },
          "metadata": {},
          "execution_count": 33
        }
      ]
    },
    {
      "cell_type": "code",
      "source": [
        "deriv_relu_wrt_weights"
      ],
      "metadata": {
        "colab": {
          "base_uri": "https://localhost:8080/"
        },
        "id": "bc0iOLNYNW4v",
        "outputId": "8fa5a8d1-2a29-4ffc-cec8-4aaf1b1e1d16"
      },
      "execution_count": 34,
      "outputs": [
        {
          "output_type": "execute_result",
          "data": {
            "text/plain": [
              "array([[20.485 , -0.3665,  2.746 ],\n",
              "       [57.907 ,  5.2577,  5.8402],\n",
              "       [10.153 ,  7.0983,  7.0408],\n",
              "       [28.672 ,  2.1842,  6.3417]])"
            ]
          },
          "metadata": {},
          "execution_count": 34
        }
      ]
    },
    {
      "cell_type": "code",
      "source": [
        "weights += -0.001 * deriv_relu_wrt_weights\n",
        "\n",
        "print(f\"new weights\\n{weights}\")"
      ],
      "metadata": {
        "colab": {
          "base_uri": "https://localhost:8080/"
        },
        "id": "SckCNAbkOvvY",
        "outputId": "fe6fb367-78a5-4545-f375-f37269f6a875"
      },
      "execution_count": 35,
      "outputs": [
        {
          "output_type": "stream",
          "name": "stdout",
          "text": [
            "new weights\n",
            "[[ 0.179515   0.5003665 -0.262746 ]\n",
            " [ 0.742093  -0.9152577 -0.2758402]\n",
            " [-0.510153   0.2529017  0.1629592]\n",
            " [ 0.971328  -0.5021842  0.8636583]]\n"
          ]
        }
      ]
    },
    {
      "cell_type": "markdown",
      "source": [
        "### Update Biases"
      ],
      "metadata": {
        "id": "1zGDNZx2PDzg"
      }
    },
    {
      "cell_type": "markdown",
      "source": [
        "**Biases before update:**"
      ],
      "metadata": {
        "id": "weXaHvLjPGz9"
      }
    },
    {
      "cell_type": "code",
      "source": [
        "biases"
      ],
      "metadata": {
        "colab": {
          "base_uri": "https://localhost:8080/"
        },
        "id": "yih_QpXPPNOi",
        "outputId": "5f421299-8b28-439c-f16e-ee800bd6fa83"
      },
      "execution_count": 36,
      "outputs": [
        {
          "output_type": "execute_result",
          "data": {
            "text/plain": [
              "array([[2. , 3. , 0.5]])"
            ]
          },
          "metadata": {},
          "execution_count": 36
        }
      ]
    },
    {
      "cell_type": "markdown",
      "source": [
        "**Partial derivatives of ReLU with respect to the biases:**"
      ],
      "metadata": {
        "id": "-w3KxpK9PVfN"
      }
    },
    {
      "cell_type": "code",
      "source": [
        "deriv_relu_wrt_biases"
      ],
      "metadata": {
        "colab": {
          "base_uri": "https://localhost:8080/"
        },
        "id": "Do7ss_5LPN9k",
        "outputId": "50399965-9dda-4b36-cb41-d8b9573e63ec"
      },
      "execution_count": 37,
      "outputs": [
        {
          "output_type": "execute_result",
          "data": {
            "text/plain": [
              "array([[15.11 ,  2.261,  2.611]])"
            ]
          },
          "metadata": {},
          "execution_count": 37
        }
      ]
    },
    {
      "cell_type": "code",
      "source": [
        "biases += -0.001 * deriv_relu_wrt_biases\n",
        "\n",
        "print(f\"new biases\\n{biases}\")"
      ],
      "metadata": {
        "colab": {
          "base_uri": "https://localhost:8080/"
        },
        "id": "ykoupJ5-PPVI",
        "outputId": "7f417a34-461b-44c7-c6bd-8f0d6b01b8cc"
      },
      "execution_count": 38,
      "outputs": [
        {
          "output_type": "stream",
          "name": "stdout",
          "text": [
            "new biases\n",
            "[[1.98489  2.997739 0.497389]]\n"
          ]
        }
      ]
    },
    {
      "cell_type": "markdown",
      "metadata": {
        "id": "_l1l74qialiI"
      },
      "source": [
        "## Conclusion\n",
        "\n",
        "By this point, we’ve covered everything we need to perform backpropagation, except for the derivative of the Softmax activation function and the derivative of the cross-entropy loss function.\n",
        "\n",
        "\n",
        "\n",
        "\n"
      ]
    }
  ]
}