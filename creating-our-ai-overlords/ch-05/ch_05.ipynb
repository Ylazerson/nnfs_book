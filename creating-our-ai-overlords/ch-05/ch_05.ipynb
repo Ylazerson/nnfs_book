{
  "nbformat": 4,
  "nbformat_minor": 0,
  "metadata": {
    "colab": {
      "name": "ch_05.ipynb",
      "provenance": [],
      "collapsed_sections": [],
      "toc_visible": true
    },
    "kernelspec": {
      "name": "python3",
      "display_name": "Python 3"
    },
    "language_info": {
      "name": "python"
    }
  },
  "cells": [
    {
      "cell_type": "markdown",
      "metadata": {
        "id": "9M0umBngSVA2"
      },
      "source": [
        "# B\"H"
      ]
    },
    {
      "cell_type": "markdown",
      "metadata": {
        "id": "B9PfQl0E4GKc"
      },
      "source": [
        "## Setup"
      ]
    },
    {
      "cell_type": "code",
      "metadata": {
        "id": "u-t099wc4Dx0"
      },
      "source": [
        "import math\n",
        "import numpy as np\n",
        "import matplotlib.pyplot as plt"
      ],
      "execution_count": 21,
      "outputs": []
    },
    {
      "cell_type": "code",
      "metadata": {
        "colab": {
          "base_uri": "https://localhost:8080/"
        },
        "id": "CKMHIjuA4EVh",
        "outputId": "e487e44c-a322-4d11-e273-1f57b058d513"
      },
      "source": [
        "# Get current size\n",
        "fig_size = plt.rcParams[\"figure.figsize\"]\n",
        " \n",
        "# Prints: [8.0, 6.0]\n",
        "print (\"Prior size:\", fig_size)\n",
        " \n",
        "# Set figure width to 12 and height to 9\n",
        "fig_size[0] = 12\n",
        "fig_size[1] = 9\n",
        "plt.rcParams[\"figure.figsize\"] = fig_size\n",
        "\n",
        "print (\"Current size:\", fig_size)"
      ],
      "execution_count": 22,
      "outputs": [
        {
          "output_type": "stream",
          "text": [
            "Prior size: [6.0, 4.0]\n",
            "Current size: [12, 9]\n"
          ],
          "name": "stdout"
        }
      ]
    },
    {
      "cell_type": "markdown",
      "metadata": {
        "id": "H8pKSYhvSWjj"
      },
      "source": [
        "## Calculating Network Error with Loss\n",
        "\n",
        "The **loss function** is also referred to as the **cost function**\n",
        "\n",
        "<br>\n",
        "\n",
        "---\n",
        "\n",
        "The output of our neural network is confidence, and more confidence in the correct answer is better. Because of this, we strive to _increase correct confidence_ and _decrease misplaced confidence_."
      ]
    },
    {
      "cell_type": "markdown",
      "metadata": {
        "id": "EQQR1-xWTHW3"
      },
      "source": [
        "## Categorical Cross-Entropy Loss"
      ]
    },
    {
      "cell_type": "markdown",
      "metadata": {
        "id": "pNw_orM6yUBl"
      },
      "source": [
        "### Intro"
      ]
    },
    {
      "cell_type": "markdown",
      "metadata": {
        "id": "GzN74Ef3TLcc"
      },
      "source": [
        "Our model has a **softmax activation function** for the _output layer_, which means\n",
        "it’s outputting a probability distribution. \n",
        "\n",
        "**Categorical cross-entropy** is explicitly used to compare a “ground-truth” probability (y or “targets”) and some predicted distribution (y-hat or\n",
        "“predictions”)\n",
        "\n",
        "<br><br>\n",
        "\n",
        "---\n",
        "\n",
        "\n",
        "![](https://drive.google.com/uc?id=1sk7Zb-OCV3W7vx2a5qQv7HbReTbbMqHZ)\n",
        "\n",
        "![](https://drive.google.com/uc?id=1qhlJBbRf_oARGJUWPWEgvJpeBnnCfW9b)\n",
        "\n",
        "<br>\n",
        "\n",
        "---\n",
        "\n",
        "Now we’ll simplify it further to `-log(correct_class_confidence)`:\n",
        "\n",
        "<br>\n",
        "\n",
        "![](https://drive.google.com/uc?id=15cYt14T0YC8MJftsWwVTSseB2yHbNZwv)\n",
        "\n",
        "![](https://drive.google.com/uc?id=1Y0wCm90FkvXUrpROnzjix85uXSdVEKJA)"
      ]
    },
    {
      "cell_type": "markdown",
      "metadata": {
        "id": "6i0FL2L6yfOr"
      },
      "source": [
        "### Example 1"
      ]
    },
    {
      "cell_type": "markdown",
      "metadata": {
        "id": "zHlibqZW1A4P"
      },
      "source": [
        "#### Scenario"
      ]
    },
    {
      "cell_type": "markdown",
      "metadata": {
        "id": "u-GgK7G6XXq4"
      },
      "source": [
        "<br>\n",
        "\n",
        "---\n",
        "\n",
        "Let's use the following for an example:\n",
        "\n",
        "- Softmax output: `[0.7, 0.1, 0.2]` \n",
        "- Target probability distribution: `[1, 0, 0]`\n",
        "\n",
        "Note, cross-entropy can also work on target probability distributions like `[0.2, 0.5, 0.3]`.\n",
        "\n",
        "When comparing the model’s results to a one-hot vector (as in our case), the other parts of the equation zero out, making the cross-entropy calculation relatively simple. \n",
        "\n",
        "This is also a special case of the cross-entropy calculation, called **categorical cross-entropy**. \n"
      ]
    },
    {
      "cell_type": "code",
      "metadata": {
        "id": "Pf8ftD7yzcBf"
      },
      "source": [
        "import math\n",
        "import numpy as np"
      ],
      "execution_count": 9,
      "outputs": []
    },
    {
      "cell_type": "code",
      "metadata": {
        "id": "L2IMkFOBzcwt"
      },
      "source": [
        "softmax_output = [0.7, 0.1, 0.2]\n",
        "target_output = [1, 0, 0]"
      ],
      "execution_count": 2,
      "outputs": []
    },
    {
      "cell_type": "markdown",
      "metadata": {
        "id": "7AuL0bDJyrnc"
      },
      "source": [
        "#### Non Simplified\n",
        "\n",
        "![](https://drive.google.com/uc?id=1qhlJBbRf_oARGJUWPWEgvJpeBnnCfW9b)"
      ]
    },
    {
      "cell_type": "code",
      "metadata": {
        "id": "1l60afdAa3yp",
        "colab": {
          "base_uri": "https://localhost:8080/"
        },
        "outputId": "eb4e5f87-23b1-40a1-c883-24fbdc37d4db"
      },
      "source": [
        "step_1 = [math.log(o[0]) * o[1] for o in zip(softmax_output, target_output)]    \n",
        "\n",
        "step_1"
      ],
      "execution_count": 7,
      "outputs": [
        {
          "output_type": "execute_result",
          "data": {
            "text/plain": [
              "[-0.35667494393873245, -0.0, -0.0]"
            ]
          },
          "metadata": {},
          "execution_count": 7
        }
      ]
    },
    {
      "cell_type": "code",
      "metadata": {
        "colab": {
          "base_uri": "https://localhost:8080/"
        },
        "id": "V7NRCk7B0aXZ",
        "outputId": "1b0d7aa7-3373-4c50-8d7a-c0f9f668899f"
      },
      "source": [
        "loss = - np.array(step_1).sum()\n",
        "\n",
        "loss"
      ],
      "execution_count": 13,
      "outputs": [
        {
          "output_type": "execute_result",
          "data": {
            "text/plain": [
              "0.35667494393873245"
            ]
          },
          "metadata": {},
          "execution_count": 13
        }
      ]
    },
    {
      "cell_type": "markdown",
      "metadata": {
        "id": "Yh6IyTnzX-He"
      },
      "source": [
        "#### Simplified to Negative-Log\n",
        "\n",
        "That’s the full categorical cross-entropy calculation, but let's simplify it. \n",
        "\n",
        "- Anything multiplied by 0 is 0. Thus, we don’t need to calculate these indices. \n",
        "- Any number multiplied by 1 remains the same. \n",
        "\n",
        "![](https://drive.google.com/uc?id=1Y0wCm90FkvXUrpROnzjix85uXSdVEKJA)"
      ]
    },
    {
      "cell_type": "code",
      "metadata": {
        "colab": {
          "base_uri": "https://localhost:8080/"
        },
        "id": "QIosZcNPW3Yg",
        "outputId": "622b478f-1d81-4f60-f3f5-c69049f45410"
      },
      "source": [
        "correct_idx = 0\n",
        "\n",
        "loss = -math.log(softmax_output[correct_idx])\n",
        "\n",
        "loss"
      ],
      "execution_count": 14,
      "outputs": [
        {
          "output_type": "execute_result",
          "data": {
            "text/plain": [
              "0.35667494393873245"
            ]
          },
          "metadata": {},
          "execution_count": 14
        }
      ]
    },
    {
      "cell_type": "markdown",
      "metadata": {
        "id": "zi_OvslJTpk2"
      },
      "source": [
        "### Plot it\n"
      ]
    },
    {
      "cell_type": "markdown",
      "metadata": {
        "id": "StffNrSe4N4q"
      },
      "source": [
        "#### Quick peek\n",
        "The **Categorical Cross-Entropy Loss** is cool - returns larger loss for lower confidence:"
      ]
    },
    {
      "cell_type": "code",
      "metadata": {
        "colab": {
          "base_uri": "https://localhost:8080/"
        },
        "id": "ZiFi7RcVcqcT",
        "outputId": "0e2d129a-86d7-46d1-9557-0932ae24595e"
      },
      "source": [
        "print(\"1.     :\", -math.log(1.))\n",
        "print(\"0.95   :\", -math.log(0.95))\n",
        "print(\"0.9    :\", -math.log(0.9))\n",
        "print(\"0.8    :\", -math.log(0.8))\n",
        "print(\"0.7    :\", -math.log(0.7))\n",
        "print(\"0.6    :\", -math.log(0.6))\n",
        "print(\"0.5    :\", -math.log(0.5))\n",
        "print(\"0.4    :\", -math.log(0.4))\n",
        "print(\"0.3    :\", -math.log(0.3))\n",
        "print(\"0.2    :\", -math.log(0.2))\n",
        "print(\"0.1    :\", -math.log(0.1))\n",
        "print(\"0.05   :\", -math.log(0.05))\n",
        "print(\"0.01   :\", -math.log(0.01))\n",
        "print(\"0.001  :\", -math.log(0.001))\n",
        "print(\"0.00001:\", -math.log(0.00001))"
      ],
      "execution_count": null,
      "outputs": [
        {
          "output_type": "stream",
          "text": [
            "1.     : -0.0\n",
            "0.95   : 0.05129329438755058\n",
            "0.9    : 0.10536051565782628\n",
            "0.8    : 0.2231435513142097\n",
            "0.7    : 0.35667494393873245\n",
            "0.6    : 0.5108256237659907\n",
            "0.5    : 0.6931471805599453\n",
            "0.4    : 0.916290731874155\n",
            "0.3    : 1.2039728043259361\n",
            "0.2    : 1.6094379124341003\n",
            "0.1    : 2.3025850929940455\n",
            "0.05   : 2.995732273553991\n",
            "0.01   : 4.605170185988091\n",
            "0.001  : 6.907755278982137\n",
            "0.00001: 11.512925464970229\n"
          ],
          "name": "stdout"
        }
      ]
    },
    {
      "cell_type": "markdown",
      "metadata": {
        "id": "trD23JeT4SMA"
      },
      "source": [
        "#### Plot"
      ]
    },
    {
      "cell_type": "code",
      "metadata": {
        "id": "ABO-AymiSmk7",
        "colab": {
          "base_uri": "https://localhost:8080/"
        },
        "outputId": "1a8baf81-1c7b-4f37-9eae-fc1db370e07f"
      },
      "source": [
        "softmax_values = np.arange(.00001, 1, .00001) \n",
        "\n",
        "len(softmax_values)"
      ],
      "execution_count": 19,
      "outputs": [
        {
          "output_type": "execute_result",
          "data": {
            "text/plain": [
              "99999"
            ]
          },
          "metadata": {},
          "execution_count": 19
        }
      ]
    },
    {
      "cell_type": "code",
      "metadata": {
        "id": "QNEhOilx3pHL"
      },
      "source": [
        "loss = [-math.log(val) for val in softmax_values]"
      ],
      "execution_count": 20,
      "outputs": []
    },
    {
      "cell_type": "code",
      "metadata": {
        "colab": {
          "base_uri": "https://localhost:8080/",
          "height": 552
        },
        "id": "wnnsoRC839SW",
        "outputId": "36d773cb-ec78-40a7-8a6e-b1e40881510e"
      },
      "source": [
        "plt.plot(softmax_values, loss)\n",
        "\n",
        "plt.xlabel('softmax confidence')\n",
        "plt.ylabel('loss')\n",
        "\n",
        "plt.grid(axis = 'both')\n",
        "plt.show()"
      ],
      "execution_count": 23,
      "outputs": [
        {
          "output_type": "display_data",
          "data": {
            "image/png": "[encoded data removed]",
            "text/plain": [
              "<Figure size 864x648 with 1 Axes>"
            ]
          },
          "metadata": {
            "needs_background": "light"
          }
        }
      ]
    },
    {
      "cell_type": "markdown",
      "metadata": {
        "id": "z9V498Nk3za-"
      },
      "source": [
        "### Log\n",
        "\n",
        "\n",
        "Any mention of _**log**_ will always be a **natural logarithm** throughout this book. \n",
        "\n",
        "The natural log represents the solution for the x-term in the equation e^x = b. \n",
        "\n",
        "For example, e^x = 5.2 is solved by log(5.2)"
      ]
    },
    {
      "cell_type": "code",
      "metadata": {
        "colab": {
          "base_uri": "https://localhost:8080/"
        },
        "id": "yWOG3liFAdev",
        "outputId": "94c3f5ba-8de0-4a4f-ca6d-d3fc17437ba9"
      },
      "source": [
        "b = 5.2\n",
        "print(np.log(b))"
      ],
      "execution_count": 24,
      "outputs": [
        {
          "output_type": "stream",
          "text": [
            "1.6486586255873816\n"
          ],
          "name": "stdout"
        }
      ]
    },
    {
      "cell_type": "code",
      "metadata": {
        "colab": {
          "base_uri": "https://localhost:8080/"
        },
        "id": "i2vkgD86AjNg",
        "outputId": "20ceb102-64d1-4aec-f74d-96dd462a67df"
      },
      "source": [
        "print(math.e ** 1.6486586255873816)"
      ],
      "execution_count": 25,
      "outputs": [
        {
          "output_type": "stream",
          "text": [
            "5.199999999999999\n"
          ],
          "name": "stdout"
        }
      ]
    },
    {
      "cell_type": "markdown",
      "metadata": {
        "id": "S-b45REBAL5S"
      },
      "source": [
        "### Example 2 - With Batch"
      ]
    },
    {
      "cell_type": "markdown",
      "metadata": {
        "id": "FWBeazNnBi5I"
      },
      "source": [
        "#### Setup"
      ]
    },
    {
      "cell_type": "code",
      "metadata": {
        "id": "WCh5KQRGBMrP"
      },
      "source": [
        "softmax_outputs = np.array(\n",
        "    [\n",
        "        [0.7, 0.1, 0.2],\n",
        "        [0.1, 0.5, 0.4],\n",
        "        [0.02, 0.9, 0.08]\n",
        "    ]\n",
        ")\n",
        "\n",
        "class_targets = [0, 1, 1]\n"
      ],
      "execution_count": 26,
      "outputs": []
    },
    {
      "cell_type": "markdown",
      "metadata": {
        "id": "zGy-d-8yBhc0"
      },
      "source": [
        "#### multidimensional filter"
      ]
    },
    {
      "cell_type": "code",
      "metadata": {
        "colab": {
          "base_uri": "https://localhost:8080/"
        },
        "id": "j84a-xTjB6JC",
        "outputId": "17780bd2-e43f-4533-a0ff-f4e690c8c997"
      },
      "source": [
        "softmax_outputs.shape"
      ],
      "execution_count": 27,
      "outputs": [
        {
          "output_type": "execute_result",
          "data": {
            "text/plain": [
              "(3, 3)"
            ]
          },
          "metadata": {},
          "execution_count": 27
        }
      ]
    },
    {
      "cell_type": "code",
      "metadata": {
        "id": "z8d2VB4vB8Ys"
      },
      "source": [
        "dim_0_filter = [0, 1, 2]\n"
      ],
      "execution_count": 29,
      "outputs": []
    },
    {
      "cell_type": "code",
      "metadata": {
        "colab": {
          "base_uri": "https://localhost:8080/"
        },
        "id": "szE1CcIdBppS",
        "outputId": "d9f0550f-2ab4-41d8-8084-1b75f103670e"
      },
      "source": [
        "softmax_outputs[dim_0_filter]"
      ],
      "execution_count": 31,
      "outputs": [
        {
          "output_type": "execute_result",
          "data": {
            "text/plain": [
              "array([[0.7 , 0.1 , 0.2 ],\n",
              "       [0.1 , 0.5 , 0.4 ],\n",
              "       [0.02, 0.9 , 0.08]])"
            ]
          },
          "metadata": {},
          "execution_count": 31
        }
      ]
    },
    {
      "cell_type": "code",
      "metadata": {
        "colab": {
          "base_uri": "https://localhost:8080/"
        },
        "id": "QM9J5rKjCJKr",
        "outputId": "87a07293-33ac-46f0-c001-cb6057d6951a"
      },
      "source": [
        "dim_1_filter = class_targets\n",
        "\n",
        "softmax_outputs[dim_0_filter, dim_1_filter]"
      ],
      "execution_count": 40,
      "outputs": [
        {
          "output_type": "execute_result",
          "data": {
            "text/plain": [
              "array([0.7, 0.5, 0.9])"
            ]
          },
          "metadata": {},
          "execution_count": 40
        }
      ]
    },
    {
      "cell_type": "markdown",
      "metadata": {
        "id": "L6-1PNCsCrAD"
      },
      "source": [
        "**Even Better:**"
      ]
    },
    {
      "cell_type": "code",
      "metadata": {
        "colab": {
          "base_uri": "https://localhost:8080/"
        },
        "id": "7qZ-RUkVC1ke",
        "outputId": "2e1961c1-7f28-4f24-f213-07c5f095184e"
      },
      "source": [
        "softmax_outputs[\n",
        "    range(len(softmax_outputs)), \n",
        "    class_targets\n",
        "]"
      ],
      "execution_count": 42,
      "outputs": [
        {
          "output_type": "execute_result",
          "data": {
            "text/plain": [
              "array([0.7, 0.5, 0.9])"
            ]
          },
          "metadata": {},
          "execution_count": 42
        }
      ]
    },
    {
      "cell_type": "markdown",
      "metadata": {
        "id": "1wwpZYYLDH1a"
      },
      "source": [
        "#### Negative Log Loss"
      ]
    },
    {
      "cell_type": "code",
      "metadata": {
        "colab": {
          "base_uri": "https://localhost:8080/"
        },
        "id": "nP6nR2O7DLyL",
        "outputId": "216a3c7d-5405-4f2d-eff8-3443d0661335"
      },
      "source": [
        "-np.log(\n",
        "    softmax_outputs[\n",
        "        range(len(softmax_outputs)), \n",
        "        class_targets\n",
        "    ]\n",
        ")"
      ],
      "execution_count": 44,
      "outputs": [
        {
          "output_type": "execute_result",
          "data": {
            "text/plain": [
              "array([0.35667494, 0.69314718, 0.10536052])"
            ]
          },
          "metadata": {},
          "execution_count": 44
        }
      ]
    },
    {
      "cell_type": "markdown",
      "metadata": {
        "id": "Yc_cDH16DgSf"
      },
      "source": [
        "#### Avg Loss per Batch"
      ]
    },
    {
      "cell_type": "code",
      "metadata": {
        "colab": {
          "base_uri": "https://localhost:8080/"
        },
        "id": "SyIzg7-wDxEo",
        "outputId": "f13b4428-9348-4567-f56d-dabeca6194d1"
      },
      "source": [
        "-np.log(\n",
        "    softmax_outputs[\n",
        "        range(len(softmax_outputs)), \n",
        "        class_targets\n",
        "    ]\n",
        ").mean()"
      ],
      "execution_count": 45,
      "outputs": [
        {
          "output_type": "execute_result",
          "data": {
            "text/plain": [
              "0.38506088005216804"
            ]
          },
          "metadata": {},
          "execution_count": 45
        }
      ]
    },
    {
      "cell_type": "markdown",
      "metadata": {
        "id": "KrbvqHeKD0Qt"
      },
      "source": [
        "#### Variation when one-hot encoded\n",
        "\n",
        "Let's add a check if `class_targets` are one-hot encoded and handle it a bit differently."
      ]
    },
    {
      "cell_type": "code",
      "metadata": {
        "id": "CUhpRkdWEllm"
      },
      "source": [
        "softmax_outputs = np.array(\n",
        "    [\n",
        "        [0.7, 0.1, 0.2],\n",
        "        [0.1, 0.5, 0.4],\n",
        "        [0.02, 0.9, 0.08]\n",
        "    ]\n",
        ")\n",
        "\n",
        "class_targets = np.array(\n",
        "    [\n",
        "        [1, 0, 0],\n",
        "        [0, 1, 0],\n",
        "        [0, 1, 0]\n",
        "    ]\n",
        ")"
      ],
      "execution_count": 47,
      "outputs": []
    },
    {
      "cell_type": "markdown",
      "metadata": {
        "id": "UXKEcaX5FSk0"
      },
      "source": [
        "**Note what happens when we multiply the two:** "
      ]
    },
    {
      "cell_type": "code",
      "metadata": {
        "colab": {
          "base_uri": "https://localhost:8080/"
        },
        "id": "NKNDcIFeFLTa",
        "outputId": "ac386bfc-cad0-48df-945e-c6af907ec1fe"
      },
      "source": [
        "softmax_outputs * class_targets"
      ],
      "execution_count": 49,
      "outputs": [
        {
          "output_type": "execute_result",
          "data": {
            "text/plain": [
              "array([[0.7, 0. , 0. ],\n",
              "       [0. , 0.5, 0. ],\n",
              "       [0. , 0.9, 0. ]])"
            ]
          },
          "metadata": {},
          "execution_count": 49
        }
      ]
    },
    {
      "cell_type": "markdown",
      "metadata": {
        "id": "OZf4zsSXFks8"
      },
      "source": [
        "**What our `if` will look like:**"
      ]
    },
    {
      "cell_type": "code",
      "metadata": {
        "id": "QcZ4QL2WEueD"
      },
      "source": [
        "if len(class_targets.shape) == 1:\n",
        "    correct_confidences = softmax_outputs[\n",
        "        range(len(softmax_outputs)),\n",
        "        class_targets\n",
        "    ]\n",
        "elif len(class_targets.shape) == 2:\n",
        "    correct_confidences = np.sum(\n",
        "        softmax_outputs*class_targets,\n",
        "        axis=1\n",
        "    )"
      ],
      "execution_count": 50,
      "outputs": []
    },
    {
      "cell_type": "code",
      "metadata": {
        "colab": {
          "base_uri": "https://localhost:8080/"
        },
        "id": "cVSUjPaEEzDj",
        "outputId": "4733338b-26b6-40d5-aa19-6536c29028ea"
      },
      "source": [
        "neg_log = -np.log(correct_confidences)\n",
        "\n",
        "average_loss = np.mean(neg_log)\n",
        "\n",
        "average_loss"
      ],
      "execution_count": 52,
      "outputs": [
        {
          "output_type": "execute_result",
          "data": {
            "text/plain": [
              "0.38506088005216804"
            ]
          },
          "metadata": {},
          "execution_count": 52
        }
      ]
    },
    {
      "cell_type": "markdown",
      "metadata": {
        "id": "x4TjOEPCIag2"
      },
      "source": [
        "### Handling input of 0"
      ]
    },
    {
      "cell_type": "markdown",
      "metadata": {
        "id": "D5gvAzFrIpo-"
      },
      "source": [
        "#### log(0) is undefined\n",
        "\n",
        "There is no `y` resulting in `e^y=0`. This means the `log(0)` is undefined."
      ]
    },
    {
      "cell_type": "code",
      "metadata": {
        "colab": {
          "base_uri": "https://localhost:8080/",
          "height": 162
        },
        "id": "SZGlh7crIi-4",
        "outputId": "b465a184-7c6f-471f-bd74-d11f86bb0fb9"
      },
      "source": [
        "math.log(0)"
      ],
      "execution_count": 54,
      "outputs": [
        {
          "output_type": "error",
          "ename": "ValueError",
          "evalue": "ignored",
          "traceback": [
            "\u001b[0;31m---------------------------------------------------------------------------\u001b[0m",
            "\u001b[0;31mValueError\u001b[0m                                Traceback (most recent call last)",
            "\u001b[0;32m<ipython-input-54-f7278b7c2ed1>\u001b[0m in \u001b[0;36m<module>\u001b[0;34m()\u001b[0m\n\u001b[0;32m----> 1\u001b[0;31m \u001b[0mmath\u001b[0m\u001b[0;34m.\u001b[0m\u001b[0mlog\u001b[0m\u001b[0;34m(\u001b[0m\u001b[0;36m0\u001b[0m\u001b[0;34m)\u001b[0m\u001b[0;34m\u001b[0m\u001b[0;34m\u001b[0m\u001b[0m\n\u001b[0m",
            "\u001b[0;31mValueError\u001b[0m: math domain error"
          ]
        }
      ]
    },
    {
      "cell_type": "markdown",
      "metadata": {
        "id": "jpRTLom7JHjd"
      },
      "source": [
        "\n",
        "What’s the result for a value very close to 0? We can calculate the limit of a function. \n",
        "\n",
        "![](https://drive.google.com/uc?id=19DuA58_upc8bfCllzmrBhCoXQXYNVxfe)\n",
        "\n",
        "We read it as: \"the limit of a natural logarithm of x, with x approaching 0 from a positive (it is \n",
        "impossible to calculate the natural logarithm of a negative value) equals negative infinity\" \n",
        "\n"
      ]
    },
    {
      "cell_type": "markdown",
      "metadata": {
        "id": "Pyf_NPimJ2yJ"
      },
      "source": [
        "#### In Python\n",
        "\n",
        "\n",
        "If `-np.log(0)` equals inf, is it possible to calculate e to the power of negative infinity with Python?\n"
      ]
    },
    {
      "cell_type": "code",
      "metadata": {
        "colab": {
          "base_uri": "https://localhost:8080/"
        },
        "id": "Uv518or8KmO7",
        "outputId": "d1313dd0-8679-4d97-97e5-c884355fb06f"
      },
      "source": [
        "np.e**(-np.inf)"
      ],
      "execution_count": 55,
      "outputs": [
        {
          "output_type": "execute_result",
          "data": {
            "text/plain": [
              "0.0"
            ]
          },
          "metadata": {},
          "execution_count": 55
        }
      ]
    },
    {
      "cell_type": "markdown",
      "metadata": {
        "id": "AfxdwOH9KSQW"
      },
      "source": [
        "#### Not good solution for loss func\n",
        "\n",
        "Not good solution: add a very small value to the confidence to prevent it from being a zero.\n",
        "\n",
        "Reason: when the model is fully correct in a prediction and puts all the confidence in the correct label, loss becomes a negative value instead of being 0!\n",
        "\n",
        "In other words, we can't allow inputs into our **Negative Log Loss** function greater than 1."
      ]
    },
    {
      "cell_type": "code",
      "metadata": {
        "id": "o1T-Vv1DKz9l"
      },
      "source": [
        "small_num = 1e-7"
      ],
      "execution_count": 58,
      "outputs": []
    },
    {
      "cell_type": "code",
      "metadata": {
        "colab": {
          "base_uri": "https://localhost:8080/"
        },
        "id": "FMr4GVJ7Lud_",
        "outputId": "5a472250-9564-48a5-ea1f-8893956441fa"
      },
      "source": [
        "print(np.log(1))\n",
        "print(-np.log(1))"
      ],
      "execution_count": 60,
      "outputs": [
        {
          "output_type": "stream",
          "text": [
            "0.0\n",
            "-0.0\n"
          ],
          "name": "stdout"
        }
      ]
    },
    {
      "cell_type": "code",
      "metadata": {
        "colab": {
          "base_uri": "https://localhost:8080/"
        },
        "id": "fi8oVOvCL2fx",
        "outputId": "2f7c0edf-dd09-4691-c5da-48abe96fde0b"
      },
      "source": [
        "new_log = np.log(1 + small_num)\n",
        "\n",
        "\n",
        "print(f'new_log: {new_log:.8f}')\n",
        "\n",
        "print(f'negative new_log: {-new_log:.8f}')"
      ],
      "execution_count": 69,
      "outputs": [
        {
          "output_type": "stream",
          "text": [
            "new_log: 0.00000010\n",
            "negative new_log: -0.00000010\n"
          ],
          "name": "stdout"
        }
      ]
    },
    {
      "cell_type": "markdown",
      "metadata": {
        "id": "x1aNB7EMMpzt"
      },
      "source": [
        "#### Good solution for loss func\n",
        "\n",
        "It’s better to clip values from both sides by the same number, 1e-7 in our case. \n",
        "\n",
        "That means that the lowest possible value will become 1e-7 and the highest possible value will become 1-1e-7.\n",
        "\n",
        "---\n",
        "\n",
        "Here's how clip works:\n",
        "- Any value < 1e-7 will become 1e-7 \n",
        "- Any value > 1-1e-7 will become 1-1e-7"
      ]
    },
    {
      "cell_type": "code",
      "metadata": {
        "colab": {
          "base_uri": "https://localhost:8080/"
        },
        "id": "6j3C7152NPwm",
        "outputId": "8476f217-5607-4f96-d523-f7a1d69e5948"
      },
      "source": [
        "softmax_outputs = [0, 1e-7, 0.2, 0.3, .9, 1 - 1e-7, 1]\n",
        "\n",
        "\n",
        "clipped = np.clip(softmax_outputs, 1e-7, 1 - 1e-7)\n",
        "\n",
        "clipped"
      ],
      "execution_count": 71,
      "outputs": [
        {
          "output_type": "execute_result",
          "data": {
            "text/plain": [
              "array([1.000000e-07, 1.000000e-07, 2.000000e-01, 3.000000e-01,\n",
              "       9.000000e-01, 9.999999e-01, 9.999999e-01])"
            ]
          },
          "metadata": {},
          "execution_count": 71
        }
      ]
    },
    {
      "cell_type": "code",
      "metadata": {
        "colab": {
          "base_uri": "https://localhost:8080/"
        },
        "id": "jymWMARFNygd",
        "outputId": "8e0b1888-e30c-4d28-d316-88d270f690d8"
      },
      "source": [
        "for c in clipped:\n",
        "    print(f'clipped value: {c:.8f}')"
      ],
      "execution_count": 72,
      "outputs": [
        {
          "output_type": "stream",
          "text": [
            "clipped value: 0.00000010\n",
            "clipped value: 0.00000010\n",
            "clipped value: 0.20000000\n",
            "clipped value: 0.30000000\n",
            "clipped value: 0.90000000\n",
            "clipped value: 0.99999990\n",
            "clipped value: 0.99999990\n"
          ],
          "name": "stdout"
        }
      ]
    },
    {
      "cell_type": "code",
      "metadata": {
        "colab": {
          "base_uri": "https://localhost:8080/"
        },
        "id": "vwly_xO9M8af",
        "outputId": "aecb21e7-ed4f-481d-880d-a2e4ae325eeb"
      },
      "source": [
        "np.clip(\n",
        "    [0, 1, 2, 3, 4, 5, 6, 7, 8, 9, 10],\n",
        "    2,\n",
        "    7\n",
        ")"
      ],
      "execution_count": 75,
      "outputs": [
        {
          "output_type": "execute_result",
          "data": {
            "text/plain": [
              "array([2, 2, 2, 3, 4, 5, 6, 7, 7, 7, 7])"
            ]
          },
          "metadata": {},
          "execution_count": 75
        }
      ]
    },
    {
      "cell_type": "markdown",
      "metadata": {
        "id": "xZ88jBJEOb-L"
      },
      "source": [
        "## Full code up to this point"
      ]
    },
    {
      "cell_type": "markdown",
      "metadata": {
        "id": "WPudtveSPH80"
      },
      "source": [
        "### Setup"
      ]
    },
    {
      "cell_type": "code",
      "metadata": {
        "colab": {
          "base_uri": "https://localhost:8080/"
        },
        "id": "O_NVkwqmPJKh",
        "outputId": "44ca5a8e-fcdf-4f42-f49e-a9552233e2cf"
      },
      "source": [
        "!pip install nnfs"
      ],
      "execution_count": 78,
      "outputs": [
        {
          "output_type": "stream",
          "text": [
            "Collecting nnfs\n",
            "  Downloading nnfs-0.5.1-py3-none-any.whl (9.1 kB)\n",
            "Requirement already satisfied: numpy in /usr/local/lib/python3.7/dist-packages (from nnfs) (1.19.5)\n",
            "Installing collected packages: nnfs\n",
            "Successfully installed nnfs-0.5.1\n"
          ],
          "name": "stdout"
        }
      ]
    },
    {
      "cell_type": "code",
      "metadata": {
        "id": "EoCVFSNnPJb7"
      },
      "source": [
        "import numpy as np\n",
        "import nnfs\n",
        "from nnfs.datasets import spiral_data\n",
        "\n",
        "nnfs.init()"
      ],
      "execution_count": 79,
      "outputs": []
    },
    {
      "cell_type": "markdown",
      "metadata": {
        "id": "D5HJxXlfPLxz"
      },
      "source": [
        "### Code"
      ]
    },
    {
      "cell_type": "markdown",
      "metadata": {
        "id": "tHWEKE_UOwoR"
      },
      "source": [
        "Note: in the later chapters, we’ll be adding more loss functions and some of the operations that we’ll be performing are common for all of them. One of these operations is how we calculate the overall loss — no matter which loss function we’ll use, **the overall loss is always a mean value of all sample losses**."
      ]
    },
    {
      "cell_type": "markdown",
      "metadata": {
        "id": "cuehFykPO-Pj"
      },
      "source": [
        "#### Dense layer"
      ]
    },
    {
      "cell_type": "code",
      "metadata": {
        "id": "okfC_oLoOm5l"
      },
      "source": [
        "class Layer_Dense:\n",
        "\n",
        "    def __init__(self, n_inputs, n_neurons):\n",
        "        self.weights = 0.01 * np.random.randn(n_inputs, n_neurons)\n",
        "        self.biases = np.zeros((1, n_neurons))\n",
        "\n",
        "    def forward(self, inputs):        \n",
        "        self.output = np.dot(inputs, self.weights) + self.biases"
      ],
      "execution_count": 80,
      "outputs": []
    },
    {
      "cell_type": "markdown",
      "metadata": {
        "id": "SZjQg_oCPYTr"
      },
      "source": [
        "#### ReLU activation"
      ]
    },
    {
      "cell_type": "code",
      "metadata": {
        "id": "K7Jhz69DOm78"
      },
      "source": [
        "class Activation_ReLU:\n",
        "    \n",
        "    def forward(self, inputs):        \n",
        "        self.output = np.maximum(0, inputs)"
      ],
      "execution_count": 81,
      "outputs": []
    },
    {
      "cell_type": "markdown",
      "metadata": {
        "id": "iuaY9RlHPef0"
      },
      "source": [
        "#### Softmax activation"
      ]
    },
    {
      "cell_type": "code",
      "metadata": {
        "id": "Qb-gftAbPhOk"
      },
      "source": [
        "class Activation_Softmax:\n",
        "    \n",
        "    def forward(self, inputs):\n",
        "\n",
        "        # Get unnormalized probabilities\n",
        "        exp_values = np.exp(inputs - np.max(inputs, axis=1,\n",
        "                                            keepdims=True))\n",
        "        # Normalize them for each sample\n",
        "        probabilities = exp_values / np.sum(exp_values, axis=1,\n",
        "                                            keepdims=True)\n",
        "\n",
        "        self.output = probabilities"
      ],
      "execution_count": 82,
      "outputs": []
    },
    {
      "cell_type": "markdown",
      "metadata": {
        "id": "LZk_iqV3Pnmx"
      },
      "source": [
        "#### Common loss class"
      ]
    },
    {
      "cell_type": "code",
      "metadata": {
        "id": "l6sfR1mIPqqU"
      },
      "source": [
        "class Loss:\n",
        "\n",
        "    def calculate(self, output, y):\n",
        "\n",
        "        # Calculate sample losses\n",
        "        sample_losses = self.forward(output, y)\n",
        "\n",
        "        # Calculate mean loss\n",
        "        data_loss = np.mean(sample_losses)\n",
        "\n",
        "        # Return loss\n",
        "        return data_loss"
      ],
      "execution_count": 83,
      "outputs": []
    },
    {
      "cell_type": "markdown",
      "metadata": {
        "id": "mFuQLOhsP0dB"
      },
      "source": [
        "#### Cross-entropy loss (inherits from loss)"
      ]
    },
    {
      "cell_type": "code",
      "metadata": {
        "id": "oORZsFYoP5J7"
      },
      "source": [
        "class Loss_CategoricalCrossentropy(Loss):\n",
        "\n",
        "    def forward(self, y_pred, y_true):\n",
        "\n",
        "        # Number of samples in a batch\n",
        "        samples = len(y_pred)\n",
        "\n",
        "        # Clip data to prevent division by 0\n",
        "        # Clip both sides to not drag mean towards any value\n",
        "        y_pred_clipped = np.clip(y_pred, 1e-7, 1 - 1e-7)\n",
        "\n",
        "\n",
        "        # Probabilities for target values -\n",
        "        # only if categorical labels\n",
        "        if len(y_true.shape) == 1:\n",
        "            correct_confidences = y_pred_clipped[\n",
        "                range(samples),\n",
        "                y_true\n",
        "            ]\n",
        "\n",
        "        # Mask values - only for one-hot encoded labels\n",
        "        elif len(y_true.shape) == 2:\n",
        "            correct_confidences = np.sum(\n",
        "                y_pred_clipped*y_true,\n",
        "                axis=1\n",
        "            )\n",
        "\n",
        "        # Losses\n",
        "        negative_log_likelihoods = -np.log(correct_confidences)\n",
        "        return negative_log_likelihoods"
      ],
      "execution_count": 84,
      "outputs": []
    },
    {
      "cell_type": "markdown",
      "metadata": {
        "id": "ks_Z-Uq9QGGn"
      },
      "source": [
        "### Create model architecture"
      ]
    },
    {
      "cell_type": "code",
      "metadata": {
        "id": "VpBJPMc_QOVI"
      },
      "source": [
        "dense1 = Layer_Dense(2, 3)\n",
        "activation1 = Activation_ReLU()\n",
        "\n",
        "dense2 = Layer_Dense(3, 3)\n",
        "activation2 = Activation_Softmax()\n",
        "\n",
        "loss_function = Loss_CategoricalCrossentropy()"
      ],
      "execution_count": 85,
      "outputs": []
    },
    {
      "cell_type": "markdown",
      "metadata": {
        "id": "GTHmm2LlQWz2"
      },
      "source": [
        "### Run forward pass"
      ]
    },
    {
      "cell_type": "code",
      "metadata": {
        "id": "Zx5chpcHQap4"
      },
      "source": [
        "# Create dataset\n",
        "X, y = spiral_data(samples=100, classes=3)"
      ],
      "execution_count": 86,
      "outputs": []
    },
    {
      "cell_type": "code",
      "metadata": {
        "id": "HlAEijfKQhT2"
      },
      "source": [
        "dense1.forward(X)\n",
        "activation1.forward(dense1.output)\n",
        "\n",
        "dense2.forward(activation1.output)\n",
        "activation2.forward(dense2.output)\n",
        "\n",
        "loss = loss_function.calculate(activation2.output, y)"
      ],
      "execution_count": 87,
      "outputs": []
    },
    {
      "cell_type": "code",
      "metadata": {
        "colab": {
          "base_uri": "https://localhost:8080/"
        },
        "id": "u-Jd8ejvQqGP",
        "outputId": "af74caed-0744-43f5-fd27-c9dc1d53d9c5"
      },
      "source": [
        "print('loss:', loss)"
      ],
      "execution_count": 88,
      "outputs": [
        {
          "output_type": "stream",
          "text": [
            "loss: 1.0986176\n"
          ],
          "name": "stdout"
        }
      ]
    },
    {
      "cell_type": "markdown",
      "metadata": {
        "id": "KOQiUXQqRfgy"
      },
      "source": [
        "## Accuracy Calculation"
      ]
    },
    {
      "cell_type": "markdown",
      "metadata": {
        "id": "h6k3AEiyRgZ3"
      },
      "source": [
        "\n",
        "While **loss** is a useful metric for **optimizing** a model, the metric commonly used in practice, along with loss, is the **accuracy**. \n",
        "\n",
        "Accuracy describes how often the largest confidence is the correct class in terms of a fraction.\n",
        "\n",
        "Note, we don't use this metric for optimization etc. but rather as a metric to keep track of."
      ]
    },
    {
      "cell_type": "markdown",
      "metadata": {
        "id": "UqVFrbWfR2hP"
      },
      "source": [
        "### Example usage"
      ]
    },
    {
      "cell_type": "code",
      "metadata": {
        "id": "r7pPcADmR_Lp"
      },
      "source": [
        "\n",
        "softmax_outputs = np.array([[0.7, 0.2, 0.1],\n",
        "                            [0.5, 0.1, 0.4],\n",
        "                            [0.02, 0.9, 0.08]])\n",
        "\n",
        "class_targets = np.array([0, 1, 1])"
      ],
      "execution_count": 89,
      "outputs": []
    },
    {
      "cell_type": "code",
      "metadata": {
        "colab": {
          "base_uri": "https://localhost:8080/"
        },
        "id": "W2f7mnR-SFjo",
        "outputId": "70009bfa-ae71-499d-d48a-da70593180cc"
      },
      "source": [
        "predictions = np.argmax(softmax_outputs, axis=1)\n",
        "\n",
        "predictions"
      ],
      "execution_count": 90,
      "outputs": [
        {
          "output_type": "execute_result",
          "data": {
            "text/plain": [
              "array([0, 0, 1])"
            ]
          },
          "metadata": {},
          "execution_count": 90
        }
      ]
    },
    {
      "cell_type": "code",
      "metadata": {
        "colab": {
          "base_uri": "https://localhost:8080/"
        },
        "id": "t6JbZLg6SJZe",
        "outputId": "a876c3ba-9562-42c3-e1db-393a01cfb87e"
      },
      "source": [
        "predictions == class_targets"
      ],
      "execution_count": 92,
      "outputs": [
        {
          "output_type": "execute_result",
          "data": {
            "text/plain": [
              "array([ True, False,  True])"
            ]
          },
          "metadata": {},
          "execution_count": 92
        }
      ]
    },
    {
      "cell_type": "code",
      "metadata": {
        "colab": {
          "base_uri": "https://localhost:8080/"
        },
        "id": "qCHlHmR_SgT5",
        "outputId": "e72da0bd-8622-486a-b19a-aecdf610fade"
      },
      "source": [
        "np.mean(predictions==class_targets)\n",
        "\n",
        "# np.mean() casts it to [1, 0, 1] and calculates mean, which is 0.(6)"
      ],
      "execution_count": 94,
      "outputs": [
        {
          "output_type": "execute_result",
          "data": {
            "text/plain": [
              "0.6666666666666666"
            ]
          },
          "metadata": {},
          "execution_count": 94
        }
      ]
    },
    {
      "cell_type": "markdown",
      "metadata": {
        "id": "MqH8Jt41S1KB"
      },
      "source": [
        "### Adding to end of our full code above"
      ]
    },
    {
      "cell_type": "code",
      "metadata": {
        "colab": {
          "base_uri": "https://localhost:8080/"
        },
        "id": "RtiBucmES1Yt",
        "outputId": "01386905-6449-4803-9b75-4f31eb03de4b"
      },
      "source": [
        "predictions = np.argmax(activation2.output, axis=1)\n",
        "\n",
        "# If targets are one-hot encoded, convert them:\n",
        "if len(y.shape) == 2:\n",
        "    y = np.argmax(y, axis=1)\n",
        "\n",
        "accuracy = np.mean(predictions==y)\n",
        "\n",
        "# Print accuracy\n",
        "print('acc:', accuracy)"
      ],
      "execution_count": 95,
      "outputs": [
        {
          "output_type": "stream",
          "text": [
            "acc: 0.34\n"
          ],
          "name": "stdout"
        }
      ]
    }
  ]
}