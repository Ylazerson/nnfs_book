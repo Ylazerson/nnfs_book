{
  "nbformat": 4,
  "nbformat_minor": 0,
  "metadata": {
    "colab": {
      "name": "01_backpropagation.ipynb",
      "provenance": [],
      "collapsed_sections": [],
      "toc_visible": true
    },
    "kernelspec": {
      "name": "python3",
      "display_name": "Python 3"
    },
    "language_info": {
      "name": "python"
    }
  },
  "cells": [
    {
      "cell_type": "markdown",
      "metadata": {
        "id": "JnY9Rd5VWkTA"
      },
      "source": [
        "# B\"H"
      ]
    },
    {
      "cell_type": "markdown",
      "metadata": {
        "id": "EQhyUTvpWmHQ"
      },
      "source": [
        "## Singel Neuron \"Network\""
      ]
    },
    {
      "cell_type": "markdown",
      "metadata": {
        "id": "v0CRppjbW1HV"
      },
      "source": [
        "Before applying this to a complete neural network, let’s start with a simplified forward pass with just one neuron. Rather than backpropagating from the loss function for a full neural network, let’s backpropagate the ReLU function for a single neuron and act as if we intend to **minimize the output for this single neuron**. \n",
        "\n",
        "This example is obviously not used in the real world (where we minimize the loss etc) - this just for learning purposes etc.\n",
        "\n",
        "![](https://drive.google.com/uc?id=1_lq5wWBDiqhtXbPaOTfvdCrZY0o7qJQz)"
      ]
    },
    {
      "cell_type": "code",
      "metadata": {
        "colab": {
          "base_uri": "https://localhost:8080/"
        },
        "id": "BPtUyj5XXC4-",
        "outputId": "33e79a36-b13e-4179-e23b-2b11fc7f46b1"
      },
      "source": [
        "# Forward pass\n",
        "x = [1.0, -2.0, 3.0]  # input values\n",
        "w = [-3.0, -1.0, 2.0]  # weights\n",
        "b = 1.0  # bias\n",
        "\n",
        "# Multiplying inputs by weights\n",
        "xw0 = x[0] * w[0]\n",
        "xw1 = x[1] * w[1]\n",
        "xw2 = x[2] * w[2]\n",
        "print(xw0, xw1, xw2, b)\n",
        "\n",
        "# Adding weighted inputs and a bias\n",
        "z = xw0 + xw1 + xw2 + b\n",
        "print(z)\n",
        "\n",
        "# ReLU activation function\n",
        "y = max(z, 0)\n",
        "print(y)"
      ],
      "execution_count": 3,
      "outputs": [
        {
          "output_type": "stream",
          "text": [
            "-3.0 2.0 6.0 1.0\n",
            "6.0\n",
            "6.0\n"
          ],
          "name": "stdout"
        }
      ]
    },
    {
      "cell_type": "markdown",
      "metadata": {
        "id": "Ug_oYdClXgWJ"
      },
      "source": [
        "### Our Big Function\n",
        "\n",
        "![](https://drive.google.com/uc?id=1JpU0VqoiiRBLoDyrV7GE1JSED14cwPxo)\n",
        "\n",
        "<br>\n",
        "\n",
        "Let’s rewrite our equation to the form that will allow us to determine how to calculate the derivatives more easily:\n",
        "\n",
        "![](https://drive.google.com/uc?id=17XPz2uAdSPCmTwHn6D0b5I6BDCHZudmP)\n",
        "\n",
        "<br>\n",
        "\n",
        "... in psuedo-code:\n",
        "\n",
        "```\n",
        "ReLU(\n",
        "    sum(\n",
        "        mul(x0, w0), \n",
        "        mul(x1, w1), \n",
        "        mul(x2, w2), \n",
        "        b\n",
        "    )\n",
        ")\n",
        "```"
      ]
    },
    {
      "cell_type": "markdown",
      "metadata": {
        "id": "ynyjtkGIZyFj"
      },
      "source": [
        "### Partial derivative of w0\n",
        "\n",
        "Let's start by considering what we need to calculate for the partial derivative of $\\large w_0$\n",
        "\n",
        "![](https://drive.google.com/uc?id=1JdTSOrQXda3c6a6LOoFHZRUB2HnFP4X5)\n",
        "\n",
        "\n",
        "> For legibility, we did not denote the ReLU() parameter, which is the full sum, and the sum parameters, which are all of the multiplications of inputs and weights. We excluded this because the equation would be longer and harder to read. \n",
        "\n",
        "This equation shows that we have to calculate the derivatives and partial derivatives of all of the atomic operations and multiply them to acquire the impact that $\\large x_0$ makes on the output. \n",
        "\n",
        "\n"
      ]
    },
    {
      "cell_type": "markdown",
      "metadata": {
        "id": "74_03ZrpbLvS"
      },
      "source": [
        "#### Gradient from next layer\n",
        "\n",
        "We’ll have multiple chained layers of neurons in the neural network model, followed by the loss function. \n",
        "\n",
        "We'll want to know the impact of a given **weight or bias** on the loss. \n",
        "\n",
        "The derivative **with respect to the layer’s inputs**, as opposed to the derivative **with respect to the weights and biases**, is not used to update any parameters. Instead, it is used to **chain** to another layer (which is why we backpropagate to the previous layer in a chain).\n",
        "\n",
        "---\n",
        "\n",
        "\n",
        "For this example, let’s assume that our neuron receives a gradient of $1$ from the **next layer**. We’re making up this value for demonstration purposes, and a value of 1 won’t change the values, which means that we can more easily show all of the processes. \n",
        "\n",
        "We are going to use the color of red for derivatives.\n",
        "\n",
        "![](https://drive.google.com/uc?id=1kdRsvEPwknm-mTohSuPzUrv2S6MCYml-)"
      ]
    },
    {
      "cell_type": "markdown",
      "metadata": {
        "id": "10YzeN2ndbKQ"
      },
      "source": [
        "#### Sublayer - ReLU\n",
        "\n",
        "Recall that the derivative of ReLU() **with respect to its input** is 1, if the input is greater than 0, and 0 otherwise.\n",
        "\n",
        "The input value to the ReLU function is 6, so the derivative equals 1. \n",
        "\n",
        "We have to use the chain rule and multiply this derivative with the derivative received from the next layer (which we made up to be 1).\n",
        "\n",
        "<br>\n",
        "\n",
        "![](https://drive.google.com/uc?id=1ZBCFRJbpnniz3uZO5vEFC0C_xEPs7LXk)\n",
        "\n",
        "This results with the derivative of 1:\n",
        "\n",
        "![](https://drive.google.com/uc?id=1fyBKyZ3Bz-nwGfbgRvbZGFJzojt4fyok)"
      ]
    },
    {
      "cell_type": "code",
      "metadata": {
        "colab": {
          "base_uri": "https://localhost:8080/"
        },
        "id": "V4yGocJadzDt",
        "outputId": "8fe93891-588b-4a09-db4a-3270f131ffcf"
      },
      "source": [
        "# -- ---------------------------------------\n",
        "# Forward pass\n",
        "x = [1.0, -2.0, 3.0]  # input values\n",
        "w = [-3.0, -1.0, 2.0]  # weights\n",
        "b = 1.0  # bias\n",
        "\n",
        "# Multiplying inputs by weights\n",
        "xw0 = x[0] * w[0]\n",
        "xw1 = x[1] * w[1]\n",
        "xw2 = x[2] * w[2]\n",
        "\n",
        "# Adding weighted inputs and a bias\n",
        "z = xw0 + xw1 + xw2 + b\n",
        "\n",
        "# ReLU activation function\n",
        "y = max(z, 0)\n",
        "# -- ---------------------------------------\n",
        "\n",
        "\n",
        "# -- ---------------------------------------\n",
        "# Backward pass\n",
        "\n",
        "# The derivative from the next layer\n",
        "dvalue = 1.0\n",
        "\n",
        "# Derivative of ReLU and the chain rule\n",
        "drelu_dz = dvalue * (1. if z > 0 else 0.)\n",
        "print(drelu_dz)\n",
        "# -- ---------------------------------------\n",
        "\n"
      ],
      "execution_count": 4,
      "outputs": [
        {
          "output_type": "stream",
          "text": [
            "1.0\n"
          ],
          "name": "stdout"
        }
      ]
    },
    {
      "cell_type": "markdown",
      "metadata": {
        "id": "6q61L1oIe9Vl"
      },
      "source": [
        "#### Sublayer - Sum\n",
        "\n",
        "![](https://drive.google.com/uc?id=1vKEGB1GIt0ob1U9f_UBYpYIZ8xiLm323)\n",
        "\n",
        "<br>\n",
        "\n",
        "---\n",
        "\n",
        "> Note: `w.r.t` stands for \"with respect to\"\n",
        "\n",
        "---\n",
        "\n",
        "The partial derivative of the simple sum operation (i.e. $f(x, y, z) = x + y + z$) is always 1, no matter the inputs:\n",
        "\n",
        "![](https://drive.google.com/uc?id=1CK16QPZ9QmMF-GQzC44ApNYF2Nm--s7m)\n"
      ]
    },
    {
      "cell_type": "code",
      "metadata": {
        "colab": {
          "base_uri": "https://localhost:8080/"
        },
        "id": "VqHyMkFHhnDI",
        "outputId": "0edfc221-1717-413c-eeda-c3a74fa8fafa"
      },
      "source": [
        "# -- ---------------------------------------\n",
        "# Forward pass\n",
        "x = [1.0, -2.0, 3.0]  # input values\n",
        "w = [-3.0, -1.0, 2.0]  # weights\n",
        "b = 1.0  # bias\n",
        "\n",
        "# Multiplying inputs by weights\n",
        "xw0 = x[0] * w[0]\n",
        "xw1 = x[1] * w[1]\n",
        "xw2 = x[2] * w[2]\n",
        "\n",
        "# Adding weighted inputs and a bias\n",
        "z = xw0 + xw1 + xw2 + b\n",
        "\n",
        "# ReLU activation function\n",
        "y = max(z, 0)\n",
        "# -- ---------------------------------------\n",
        "\n",
        "\n",
        "# -- ---------------------------------------\n",
        "# Backward pass\n",
        "\n",
        "# -- ----------------------\n",
        "# The derivative from the next layer\n",
        "dvalue = 1.0\n",
        "# -- ----------------------\n",
        "\n",
        "# -- ----------------------\n",
        "# Derivative of ReLU with chain rule\n",
        "drelu_dz = dvalue * (1. if z > 0 else 0.)\n",
        "print(drelu_dz)\n",
        "# -- ----------------------\n",
        "\n",
        "# -- ----------------------\n",
        "# Partial derivatives of the sum with chain rule\n",
        "dsum_dxw0 = 1\n",
        "drelu_dxw0 = drelu_dz * dsum_dxw0\n",
        "print(drelu_dxw0)\n",
        "# -- ----------------------\n",
        "\n",
        "# -- ---------------------------------------\n"
      ],
      "execution_count": 5,
      "outputs": [
        {
          "output_type": "stream",
          "text": [
            "1.0\n",
            "1.0\n"
          ],
          "name": "stdout"
        }
      ]
    },
    {
      "cell_type": "markdown",
      "metadata": {
        "id": "mwdNYwm5g0nP"
      },
      "source": [
        "![](https://drive.google.com/uc?id=1IVD0aLm49_FiBe1iodPAc97IMu4r0iRj)\n",
        "\n",
        "Result:\n",
        "\n",
        "![](https://drive.google.com/uc?id=1bLDvheKGVXgleqzgrIBx_tCfC-zoBxkF)"
      ]
    },
    {
      "cell_type": "markdown",
      "metadata": {
        "id": "k2OlmAuZj93O"
      },
      "source": [
        "### For all weighted inputs and bias"
      ]
    },
    {
      "cell_type": "markdown",
      "metadata": {
        "id": "VbQl0ODXkHJc"
      },
      "source": [
        "We can then perform the same operation.\n",
        "\n",
        "![](https://drive.google.com/uc?id=13bXiryB5dBMpa9vsAJIDVBJEHOsSO1UM)"
      ]
    },
    {
      "cell_type": "code",
      "metadata": {
        "colab": {
          "base_uri": "https://localhost:8080/"
        },
        "id": "et4Fo4w5kfyE",
        "outputId": "17055599-d1b8-4950-aa27-3e5f4e3bd4ec"
      },
      "source": [
        "# -- ---------------------------------------\n",
        "# Forward pass\n",
        "x = [1.0, -2.0, 3.0]  # input values\n",
        "w = [-3.0, -1.0, 2.0]  # weights\n",
        "b = 1.0  # bias\n",
        "\n",
        "# Multiplying inputs by weights\n",
        "xw0 = x[0] * w[0]\n",
        "xw1 = x[1] * w[1]\n",
        "xw2 = x[2] * w[2]\n",
        "\n",
        "# Adding weighted inputs and a bias\n",
        "z = xw0 + xw1 + xw2 + b\n",
        "\n",
        "# ReLU activation function\n",
        "y = max(z, 0)\n",
        "# -- ---------------------------------------\n",
        "\n",
        "\n",
        "# -- ---------------------------------------\n",
        "# Backward pass\n",
        "\n",
        "# -- ----------------------\n",
        "# The derivative from the next layer\n",
        "dvalue = 1.0\n",
        "# -- ----------------------\n",
        "\n",
        "# -- ----------------------\n",
        "# Derivative of ReLU and the chain rule\n",
        "drelu_dz = dvalue * (1. if z > 0 else 0.)\n",
        "# -- ----------------------\n",
        "\n",
        "# -- ----------------------\n",
        "# Partial derivatives of the sum, the chain rule\n",
        "dsum_dxw0 = 1\n",
        "dsum_dxw1 = 1\n",
        "dsum_dxw2 = 1\n",
        "dsum_db = 1\n",
        "\n",
        "drelu_dxw0 = drelu_dz * dsum_dxw0\n",
        "drelu_dxw1 = drelu_dz * dsum_dxw1\n",
        "drelu_dxw2 = drelu_dz * dsum_dxw2\n",
        "drelu_db = drelu_dz * dsum_db\n",
        "\n",
        "print(drelu_dxw0, drelu_dxw1, drelu_dxw2, drelu_db)\n",
        "# -- ----------------------\n",
        "\n",
        "# -- ---------------------------------------\n"
      ],
      "execution_count": 6,
      "outputs": [
        {
          "output_type": "stream",
          "text": [
            "1.0 1.0 1.0 1.0\n"
          ],
          "name": "stdout"
        }
      ]
    },
    {
      "cell_type": "markdown",
      "metadata": {
        "id": "RDfztf39k52T"
      },
      "source": [
        "### Sublayer - weights and inputs"
      ]
    },
    {
      "cell_type": "markdown",
      "metadata": {
        "id": "hAD8FKTJkLnY"
      },
      "source": [
        "Continuing backward, the next function is the multiplication of weights and inputs. \n",
        "\n",
        "The derivative for a product is whatever the input is being multiplied by. \n",
        "\n",
        "Recall:\n",
        "\n",
        "![](https://drive.google.com/uc?id=1IAQS4eIH242ZSOLRVK3929RMBosiCx7p)\n",
        "\n",
        "<br>\n",
        "\n",
        "---\n",
        "\n",
        "![](https://drive.google.com/uc?id=19GdcFSnltR2iSBV2nCL7EMv_YLELhESa)\n",
        "\n",
        "---\n",
        "\n",
        "[Video showing above](https://www.youtube.com/watch?v=_9qHQA30hys)"
      ]
    },
    {
      "cell_type": "code",
      "metadata": {
        "colab": {
          "base_uri": "https://localhost:8080/"
        },
        "id": "9Gv2hEjOlkx5",
        "outputId": "e63dab87-eb26-42e1-f356-88ca629f32e6"
      },
      "source": [
        "# -- ---------------------------------------\n",
        "# Forward pass\n",
        "x = [1.0, -2.0, 3.0]  # input values\n",
        "w = [-3.0, -1.0, 2.0]  # weights\n",
        "b = 1.0  # bias\n",
        "\n",
        "# Multiplying inputs by weights\n",
        "xw0 = x[0] * w[0]\n",
        "xw1 = x[1] * w[1]\n",
        "xw2 = x[2] * w[2]\n",
        "\n",
        "# Adding weighted inputs and a bias\n",
        "z = xw0 + xw1 + xw2 + b\n",
        "\n",
        "# ReLU activation function\n",
        "y = max(z, 0)\n",
        "# -- ---------------------------------------\n",
        "\n",
        "\n",
        "# -- ---------------------------------------\n",
        "# Backward pass\n",
        "\n",
        "# -- ----------------------\n",
        "# The derivative from the next layer\n",
        "dvalue = 1.0\n",
        "# -- ----------------------\n",
        "\n",
        "# -- ----------------------\n",
        "# Derivative of ReLU and the chain rule\n",
        "drelu_dz = dvalue * (1. if z > 0 else 0.)\n",
        "# -- ----------------------\n",
        "\n",
        "\n",
        "# -- ----------------------\n",
        "# Partial derivatives of the sum, the chain rule\n",
        "dsum_dxw0 = 1\n",
        "dsum_dxw1 = 1\n",
        "dsum_dxw2 = 1\n",
        "dsum_db = 1\n",
        "\n",
        "drelu_dxw0 = drelu_dz * dsum_dxw0\n",
        "drelu_dxw1 = drelu_dz * dsum_dxw1\n",
        "drelu_dxw2 = drelu_dz * dsum_dxw2\n",
        "drelu_db = drelu_dz * dsum_db\n",
        "# -- ----------------------\n",
        "\n",
        "\n",
        "# -- ----------------------\n",
        "# Partial derivatives of the multiplication, the chain rule\n",
        "dmul_dx0 = w[0]\n",
        "dmul_dx1 = w[1]\n",
        "dmul_dx2 = w[2]\n",
        "\n",
        "dmul_dw0 = x[0]\n",
        "dmul_dw1 = x[1]\n",
        "dmul_dw2 = x[2]\n",
        "\n",
        "drelu_dx0 = drelu_dxw0 * dmul_dx0\n",
        "drelu_dw0 = drelu_dxw0 * dmul_dw0\n",
        "drelu_dx1 = drelu_dxw1 * dmul_dx1\n",
        "drelu_dw1 = drelu_dxw1 * dmul_dw1\n",
        "drelu_dx2 = drelu_dxw2 * dmul_dx2\n",
        "drelu_dw2 = drelu_dxw2 * dmul_dw2\n",
        "\n",
        "print(drelu_dx0, drelu_dw0, drelu_dx1, drelu_dw1, drelu_dx2, drelu_dw2)\n",
        "# -- ----------------------\n",
        "\n",
        "# -- ---------------------------------------\n",
        "\n"
      ],
      "execution_count": 7,
      "outputs": [
        {
          "output_type": "stream",
          "text": [
            "-3.0 1.0 -1.0 -2.0 2.0 3.0\n"
          ],
          "name": "stdout"
        }
      ]
    },
    {
      "cell_type": "markdown",
      "metadata": {
        "id": "0bG9rBLef--V"
      },
      "source": [
        "### Simplify wrt x0"
      ]
    },
    {
      "cell_type": "markdown",
      "metadata": {
        "id": "Z3vY-EsIiF1P"
      },
      "source": [
        "In above code, look how we applied the chain rule to calculate the partial derivative of the ReLU activation function **with respect to the first input**, $x_0$ \n",
        "\n",
        "Let’s take the related lines of the code and simplify what's needed for our final **`drelu_dx0`**:\n",
        "\n",
        "<br>\n",
        "\n",
        "**Original**:\n",
        "\n",
        "```py\n",
        "drelu_dz = dvalue * (1. if z > 0 else 0.)\n",
        "\n",
        "dsum_dxw0 = 1\n",
        "drelu_dxw0 = drelu_dz * dsum_dxw0\n",
        "\n",
        "dmul_dx0 = w[0]\n",
        "drelu_dx0 = drelu_dxw0 * dmul_dx0\n",
        "```\n",
        "\n",
        "**Simplify usage of `dmul_dx0`**:\n",
        "\n",
        "```py\n",
        "drelu_dz = dvalue * (1. if z > 0 else 0.)\n",
        "\n",
        "dsum_dxw0 = 1\n",
        "drelu_dxw0 = drelu_dz * dsum_dxw0\n",
        "\n",
        "# CHANGE HERE\n",
        "drelu_dx0 = drelu_dxw0 * w[0]\n",
        "```\n",
        "\n",
        "\n",
        "**Simplify usage of `drelu_dxw0`**:\n",
        "\n",
        "```py\n",
        "drelu_dz = dvalue * (1. if z > 0 else 0.)\n",
        "\n",
        "\n",
        "dsum_dxw0 = 1\n",
        "# CHANGE HERE\n",
        "drelu_dx0 = drelu_dz * dsum_dxw0 * w[0]\n",
        "```\n",
        "\n",
        "**Simplify usage of `dsum_dxw0`**:\n",
        "\n",
        "```py\n",
        "drelu_dz = dvalue * (1. if z > 0 else 0.)\n",
        "\n",
        "# CHANGE HERE\n",
        "drelu_dx0 = drelu_dz * 1 * w[0]\n",
        "```\n",
        "\n",
        "**Simplify usage of `drelu_dz`**:\n",
        "\n",
        "```py\n",
        "# CHANGE HERE\n",
        "drelu_dx0 = dvalue * (1. if z > 0 else 0.) * w[0]\n",
        "```\n",
        "\n"
      ]
    },
    {
      "cell_type": "markdown",
      "metadata": {
        "id": "pUUl3vyJXF4i"
      },
      "source": [
        "### The Gradients\n",
        "\n",
        "The partial derivatives above, combined into a vector, make up our gradients. \n",
        "\n",
        "Our gradients could be represented as:"
      ]
    },
    {
      "cell_type": "code",
      "metadata": {
        "id": "hSSHRJBLnk5E"
      },
      "source": [
        "dx = [drelu_dx0, drelu_dx1, drelu_dx2]  # gradients on inputs\n",
        "dw = [drelu_dw0, drelu_dw1, drelu_dw2]  # gradients on weights\n",
        "db = drelu_db  # gradient on bias...just 1 bias here."
      ],
      "execution_count": 9,
      "outputs": []
    },
    {
      "cell_type": "code",
      "metadata": {
        "colab": {
          "base_uri": "https://localhost:8080/"
        },
        "id": "151xmLPpnv4T",
        "outputId": "bbb1c64a-dd28-4779-d8ae-bbc1678fd5fa"
      },
      "source": [
        "print(dx)\n",
        "print(dw)\n",
        "print(db)"
      ],
      "execution_count": 11,
      "outputs": [
        {
          "output_type": "stream",
          "text": [
            "[-3.0, -1.0, 2.0]\n",
            "[1.0, -2.0, 3.0]\n",
            "1.0\n"
          ],
          "name": "stdout"
        }
      ]
    },
    {
      "cell_type": "markdown",
      "metadata": {
        "id": "QKPn1Ubsn_hV"
      },
      "source": [
        "> NOTE: For this single neuron example, we also won’t need our `dx`. With many layers, we will continue backpropagating to preceding layers with the partial derivative with respect to our inputs."
      ]
    },
    {
      "cell_type": "markdown",
      "metadata": {
        "id": "vOmaNFaUocoj"
      },
      "source": [
        "### Apply gradients to the weights\n",
        "\n",
        "We can now apply these gradients to the weights to hopefully minimize the output. \n",
        "\n",
        "This is typically the purpose of the **optimizer** (discussed in the following chapter), but we can show a simplified version of this task by directly applying a negative fraction of the gradient to our weights. \n",
        "\n",
        "We apply a **negative** fraction to this gradient since we want to decrease the final output value, and the gradient shows the direction of the steepest ascent. "
      ]
    },
    {
      "cell_type": "code",
      "metadata": {
        "colab": {
          "base_uri": "https://localhost:8080/"
        },
        "id": "fVE0KNobo9Zd",
        "outputId": "a9ef1f0d-11a7-4daf-dd39-842721f88b6c"
      },
      "source": [
        "# Our current weights and bias are:\n",
        "print(w, b)"
      ],
      "execution_count": 13,
      "outputs": [
        {
          "output_type": "stream",
          "text": [
            "[-3.0, -1.0, 2.0] 1.0\n"
          ],
          "name": "stdout"
        }
      ]
    },
    {
      "cell_type": "code",
      "metadata": {
        "colab": {
          "base_uri": "https://localhost:8080/"
        },
        "id": "3NVkLG4UpPeF",
        "outputId": "dfe9c0f9-9fce-4d4c-92f0-d84eb5e271c6"
      },
      "source": [
        "# Our gradients:\n",
        "print(dw, db)"
      ],
      "execution_count": 14,
      "outputs": [
        {
          "output_type": "stream",
          "text": [
            "[1.0, -2.0, 3.0] 1.0\n"
          ],
          "name": "stdout"
        }
      ]
    },
    {
      "cell_type": "markdown",
      "metadata": {
        "id": "2pN9vIKOoyB_"
      },
      "source": [
        "We can then apply a fraction of the gradients to these values:"
      ]
    },
    {
      "cell_type": "code",
      "metadata": {
        "colab": {
          "base_uri": "https://localhost:8080/"
        },
        "id": "y9CZUSBTpH0S",
        "outputId": "15d8b617-d281-4b27-cc4f-d4e79eb08d9b"
      },
      "source": [
        "w[0] += -0.001 * dw[0]\n",
        "w[1] += -0.001 * dw[1]\n",
        "w[2] += -0.001 * dw[2]\n",
        "b += -0.001 * db\n",
        "\n",
        "print(w, b)"
      ],
      "execution_count": 15,
      "outputs": [
        {
          "output_type": "stream",
          "text": [
            "[-3.001, -0.998, 1.997] 0.999\n"
          ],
          "name": "stdout"
        }
      ]
    },
    {
      "cell_type": "markdown",
      "metadata": {
        "id": "T3rH-EDapXju"
      },
      "source": [
        "### Run another forward pass:"
      ]
    },
    {
      "cell_type": "code",
      "metadata": {
        "colab": {
          "base_uri": "https://localhost:8080/"
        },
        "id": "DcCWxCutpl-z",
        "outputId": "e8900b57-61d3-42d2-9085-620e68500f04"
      },
      "source": [
        "# Multiplying inputs by weights\n",
        "xw0 = x[0] * w[0]\n",
        "xw1 = x[1] * w[1]\n",
        "xw2 = x[2] * w[2]\n",
        "\n",
        "# Adding\n",
        "z = xw0 + xw1 + xw2 + b\n",
        "\n",
        "# ReLU activation function\n",
        "y = max(z, 0)\n",
        "print(y)"
      ],
      "execution_count": 16,
      "outputs": [
        {
          "output_type": "stream",
          "text": [
            "5.985\n"
          ],
          "name": "stdout"
        }
      ]
    },
    {
      "cell_type": "markdown",
      "metadata": {
        "id": "glCmHN3RppNN"
      },
      "source": [
        "YAY! B\"H! We’ve successfully decreased this neuron’s output from 6.000 to 5.985.\n",
        "\n",
        "Note that it does not make sense to decrease the neuron’s output in a real neural network; we were doing this **purely as a simpler exercise than the full network**. "
      ]
    },
    {
      "cell_type": "markdown",
      "metadata": {
        "id": "875vVOoY4fWW"
      },
      "source": [
        "## More Complex Example\n"
      ]
    },
    {
      "cell_type": "markdown",
      "metadata": {
        "id": "prRXQ0p94hzC"
      },
      "source": [
        "### Intro\n",
        "\n",
        "\n",
        "<u>**Scenario A: 1 neuron in current layer, 1 in next layer**</u>\n",
        "\n",
        "So far, we have performed an example backward pass with a **single neuron**, which received a **singular derivative**, `dvalue` (from \"next\" layer) to apply the chain rule. \n",
        "\n",
        "<br>\n",
        "\n",
        "---\n",
        "\n",
        "<u>**Scenario B: 1 neuron in current layer, mulitple in next layer**</u>\n",
        "\n",
        "Let’s consider **multiple neurons** in the next layer. A **single neuron** of the current layer connects to all of them — they all receive the output of this neuron. \n",
        "\n",
        "What will happen during backpropagation? \n",
        "- Each neuron from the next layer will return a partial derivative of its function with respect to this input. \n",
        "- The neuron in the current layer will receive a vector consisting of these derivatives. \n",
        "- We need this to be a **singular value** for a singular neuron. \n",
        "- To continue backpropagation, we need to **sum** this vector.\n",
        "\n",
        "<br>\n",
        "\n",
        "---\n",
        "\n",
        "<u>**Scenario C: Multiple neurons in current layer, mulitple in next layer**</u>\n",
        "\n",
        "During backpropagation: \n",
        "- Each neuron from the current layer will receive a vector of partial derivatives the same way that we described for Scenario B. \n",
        "- With a layer of neurons, it’ll take the form of a list of these vectors, or a 2D array. \n",
        "- Each neuron in the next layer is going to output a gradient of the partial derivatives with respect to all of its inputs. \n",
        "- From all the neurons in the next layer this will form a list of these vectors. \n",
        "\n"
      ]
    },
    {
      "cell_type": "markdown",
      "metadata": {
        "id": "Al3mmHX1pz2H"
      },
      "source": [
        "### Our staged scenario\n",
        "\n",
        "We're zooming into a layer of 3 neurons with 4 inputs. Let's image we have done the forward pass already and are in middle of the backpropagation and have the gradients for the \"next layer/sublayer\" already. \n",
        "\n"
      ]
    },
    {
      "cell_type": "code",
      "metadata": {
        "id": "YpYyDAb-JdL8"
      },
      "source": [
        "import numpy as np"
      ],
      "execution_count": 19,
      "outputs": []
    },
    {
      "cell_type": "markdown",
      "metadata": {
        "id": "BvDuHyHDKj8A"
      },
      "source": [
        "#### Current layer and gradient from next"
      ]
    },
    {
      "cell_type": "code",
      "metadata": {
        "id": "KgdB5qYUuY9q"
      },
      "source": [
        "# -- ------------------------------\n",
        "# Passed-in gradient from the next layer/sublayer\n",
        "dvalues = np.array([[1., 1., 1.]])\n",
        "\n",
        "# We have 3 sets of weights - one set for each neuron\n",
        "# we have 4 inputs, thus 4 weights\n",
        "# recall that we keep weights transposed\n",
        "weights = np.array([\n",
        "    [0.2, 0.8, -0.5, 1],       # weights for neuron 1\n",
        "    [0.5, -0.91, 0.26, -0.5],  # weights for neuron 2\n",
        "    [-0.26, -0.27, 0.17, 0.87] # weights for neuron 3\n",
        "]).T"
      ],
      "execution_count": 20,
      "outputs": []
    },
    {
      "cell_type": "code",
      "metadata": {
        "colab": {
          "base_uri": "https://localhost:8080/"
        },
        "id": "tZnig9bnNnYo",
        "outputId": "593698bb-2624-4530-80c9-4903ef05926f"
      },
      "source": [
        "dvalues"
      ],
      "execution_count": 23,
      "outputs": [
        {
          "output_type": "execute_result",
          "data": {
            "text/plain": [
              "array([[1., 1., 1.]])"
            ]
          },
          "metadata": {},
          "execution_count": 23
        }
      ]
    },
    {
      "cell_type": "code",
      "metadata": {
        "colab": {
          "base_uri": "https://localhost:8080/"
        },
        "id": "c97l2K7qNovl",
        "outputId": "9b33f420-c1a4-47df-8c7d-91b253627be0"
      },
      "source": [
        "dvalues.shape"
      ],
      "execution_count": 24,
      "outputs": [
        {
          "output_type": "execute_result",
          "data": {
            "text/plain": [
              "(1, 3)"
            ]
          },
          "metadata": {},
          "execution_count": 24
        }
      ]
    },
    {
      "cell_type": "markdown",
      "metadata": {
        "id": "PgXLSfVLODwD"
      },
      "source": [
        "<u>**Remember:**</u> `weights` has been transposed:\n",
        "- Before each \"record\" represented a neuron and its weights\n",
        "- Now each \"record\" represents an input attribute, of which there are 4, and its 3 weights (one for each neuron) "
      ]
    },
    {
      "cell_type": "code",
      "metadata": {
        "colab": {
          "base_uri": "https://localhost:8080/"
        },
        "id": "8cS5wtl3Nqll",
        "outputId": "d58cdf91-edcd-49a1-d032-cca57ecc127c"
      },
      "source": [
        "weights"
      ],
      "execution_count": 27,
      "outputs": [
        {
          "output_type": "execute_result",
          "data": {
            "text/plain": [
              "array([[ 0.2 ,  0.5 , -0.26],\n",
              "       [ 0.8 , -0.91, -0.27],\n",
              "       [-0.5 ,  0.26,  0.17],\n",
              "       [ 1.  , -0.5 ,  0.87]])"
            ]
          },
          "metadata": {},
          "execution_count": 27
        }
      ]
    },
    {
      "cell_type": "code",
      "metadata": {
        "colab": {
          "base_uri": "https://localhost:8080/"
        },
        "id": "pAfLDLL5NvmF",
        "outputId": "77dbbae1-4ed6-496d-b671-6cea6e325f77"
      },
      "source": [
        "weights.shape"
      ],
      "execution_count": 26,
      "outputs": [
        {
          "output_type": "execute_result",
          "data": {
            "text/plain": [
              "(4, 3)"
            ]
          },
          "metadata": {},
          "execution_count": 26
        }
      ]
    },
    {
      "cell_type": "markdown",
      "metadata": {
        "id": "24n6KFV3uRGW"
      },
      "source": [
        "#### Get gradient\n",
        "\n",
        "Remember from above, in section _**Sublayer - weights and inputs**_, that to calculate the partial derivative **with respect to the input** equals the related weight. \n",
        "\n",
        "> Note: `dinputs` is a gradient of the neuron function with respect to inputs."
      ]
    },
    {
      "cell_type": "code",
      "metadata": {
        "colab": {
          "base_uri": "https://localhost:8080/"
        },
        "id": "gwAJjjMDKu9G",
        "outputId": "1c787f1f-1e13-487a-a555-07c65097da5b"
      },
      "source": [
        "# Sum weights related to the given input multiplied by\n",
        "# the gradient related to the given neuron\n",
        "dx0 = sum([\n",
        "    weights[0][0]*dvalues[0][0], \n",
        "    weights[0][1]*dvalues[0][1],\n",
        "    weights[0][2]*dvalues[0][2]\n",
        "])\n",
        "\n",
        "dx1 = sum([\n",
        "    weights[1][0]*dvalues[0][0], \n",
        "    weights[1][1]*dvalues[0][1],\n",
        "    weights[1][2]*dvalues[0][2]\n",
        "])\n",
        "\n",
        "dx2 = sum([\n",
        "    weights[2][0]*dvalues[0][0], \n",
        "    weights[2][1]*dvalues[0][1],\n",
        "    weights[2][2]*dvalues[0][2]\n",
        "])\n",
        "\n",
        "dx3 = sum([\n",
        "    weights[3][0]*dvalues[0][0], \n",
        "    weights[3][1]*dvalues[0][1],\n",
        "    weights[3][2]*dvalues[0][2]\n",
        "])\n",
        "\n",
        "dinputs = np.array([dx0, dx1, dx2, dx3])\n",
        "\n",
        "print(dinputs)"
      ],
      "execution_count": 28,
      "outputs": [
        {
          "output_type": "stream",
          "text": [
            "[ 0.44 -0.38 -0.07  1.37]\n"
          ],
          "name": "stdout"
        }
      ]
    },
    {
      "cell_type": "markdown",
      "metadata": {
        "id": "9ziNIOuXPghT"
      },
      "source": [
        "#### Using dot product\n",
        "\n",
        "We can achieve the same result by using the `np.dot`:"
      ]
    },
    {
      "cell_type": "code",
      "metadata": {
        "colab": {
          "base_uri": "https://localhost:8080/"
        },
        "id": "dZ56ACyVPxd0",
        "outputId": "23002a77-fc55-4a36-a1a3-f3c6d6c795e5"
      },
      "source": [
        "# sum weights of given input\n",
        "# and multiply by the passed-in gradient for this neuron\n",
        "dinputs = np.dot(dvalues[0], weights.T)\n",
        "\n",
        "print(dinputs)"
      ],
      "execution_count": 30,
      "outputs": [
        {
          "output_type": "stream",
          "text": [
            "[ 0.44 -0.38 -0.07  1.37]\n"
          ],
          "name": "stdout"
        }
      ]
    },
    {
      "cell_type": "markdown",
      "metadata": {
        "id": "SA4sk1OlQG84"
      },
      "source": [
        "#### Using batch of inputs\n",
        "\n",
        "With more samples, the \"next\" layer will return a list of gradients. \n",
        "\n"
      ]
    },
    {
      "cell_type": "markdown",
      "metadata": {
        "id": "TUjXJOL8Sfbh"
      },
      "source": [
        "##### wrt inputs\n",
        "\n",
        "Our code just needs a minor tweak: `dvalues` instead of `dvalues[0]`"
      ]
    },
    {
      "cell_type": "code",
      "metadata": {
        "colab": {
          "base_uri": "https://localhost:8080/"
        },
        "id": "k4-ytPe3QKR8",
        "outputId": "ef8c6412-b7e0-4f42-b42d-2bbf1d6fad4b"
      },
      "source": [
        "# Passed-in gradient from the next layer\n",
        "# for the purpose of this example we're going to use\n",
        "# an array of an incremental gradient values\n",
        "dvalues = np.array([[1., 1., 1.],\n",
        "                    [2., 2., 2.],\n",
        "                    [3., 3., 3.]])\n",
        "\n",
        "# SAME AS BEFORE\n",
        "weights = np.array([[0.2, 0.8, -0.5, 1],\n",
        "                    [0.5, -0.91, 0.26, -0.5],\n",
        "                    [-0.26, -0.27, 0.17, 0.87]]).T\n",
        "\n",
        "# sum weights of given input\n",
        "# and multiply by the passed-in gradient for this neuron\n",
        "dinputs = np.dot(dvalues, weights.T)\n",
        "\n",
        "print(dinputs)"
      ],
      "execution_count": 31,
      "outputs": [
        {
          "output_type": "stream",
          "text": [
            "[[ 0.44 -0.38 -0.07  1.37]\n",
            " [ 0.88 -0.76 -0.14  2.74]\n",
            " [ 1.32 -1.14 -0.21  4.11]]\n"
          ],
          "name": "stdout"
        }
      ]
    },
    {
      "cell_type": "markdown",
      "metadata": {
        "id": "w6sJIbJDQjXJ"
      },
      "source": [
        "##### wrt weights\n"
      ]
    },
    {
      "cell_type": "code",
      "metadata": {
        "id": "DueBaGcWSsIO"
      },
      "source": [
        "# We have 3 sets of inputs - samples\n",
        "inputs = np.array([[1, 2, 3, 2.5],\n",
        "                   [2., 5., -1., 2],\n",
        "                   [-1.5, 2.7, 3.3, -0.8]])"
      ],
      "execution_count": 39,
      "outputs": []
    },
    {
      "cell_type": "code",
      "metadata": {
        "colab": {
          "base_uri": "https://localhost:8080/"
        },
        "id": "w95v6dmuT6pu",
        "outputId": "98d43937-abcc-4634-ff7b-975c0be105ee"
      },
      "source": [
        "# Let's remember what dvalues looks like:\n",
        "dvalues"
      ],
      "execution_count": 37,
      "outputs": [
        {
          "output_type": "execute_result",
          "data": {
            "text/plain": [
              "array([[1., 1., 1.],\n",
              "       [2., 2., 2.],\n",
              "       [3., 3., 3.]])"
            ]
          },
          "metadata": {},
          "execution_count": 37
        }
      ]
    },
    {
      "cell_type": "code",
      "metadata": {
        "colab": {
          "base_uri": "https://localhost:8080/"
        },
        "id": "lg7XXvCkTxeN",
        "outputId": "d541d20c-eea2-414a-ffaa-a4847a87bd54"
      },
      "source": [
        "# inputs transposed (imagine now that \"row\" one has all the 3 eyecolors of the 3 people being inputted)\n",
        "inputs.T"
      ],
      "execution_count": 35,
      "outputs": [
        {
          "output_type": "execute_result",
          "data": {
            "text/plain": [
              "array([[ 1. ,  2. , -1.5],\n",
              "       [ 2. ,  5. ,  2.7],\n",
              "       [ 3. , -1. ,  3.3],\n",
              "       [ 2.5,  2. , -0.8]])"
            ]
          },
          "metadata": {},
          "execution_count": 35
        }
      ]
    },
    {
      "cell_type": "code",
      "metadata": {
        "colab": {
          "base_uri": "https://localhost:8080/"
        },
        "id": "hgYikW57TwcU",
        "outputId": "c4bb74e4-de5b-4c16-f4a1-ff001d46710c"
      },
      "source": [
        "# sum inputs for given weight\n",
        "# and multiply by the passed-in gradient for this neuron\n",
        "dweights = np.dot(inputs.T, dvalues)\n",
        "\n",
        "print(dweights)"
      ],
      "execution_count": 38,
      "outputs": [
        {
          "output_type": "stream",
          "text": [
            "[[ 0.5  0.5  0.5]\n",
            " [20.1 20.1 20.1]\n",
            " [10.9 10.9 10.9]\n",
            " [ 4.1  4.1  4.1]]\n"
          ],
          "name": "stdout"
        }
      ]
    },
    {
      "cell_type": "markdown",
      "metadata": {
        "id": "3v_HqRSFSzse"
      },
      "source": [
        "##### wrt to biases\n",
        "\n",
        "For the biases and derivatives with respect to them, the derivatives come from the sum operation and always equal 1, multiplied by the incoming gradients to apply the chain rule. \n",
        "\n",
        "Since gradients are a list of gradients (a vector of gradients for each neuron for all samples), we just have to sum them with the neurons, column-wise, along axis 0."
      ]
    },
    {
      "cell_type": "code",
      "metadata": {
        "colab": {
          "base_uri": "https://localhost:8080/"
        },
        "id": "f6ZQ8sRcUu0f",
        "outputId": "212c5332-53f4-42d6-b344-3c8b81f14b4b"
      },
      "source": [
        "# One bias for each neuron\n",
        "# biases are the row vector with a shape (1, neurons)\n",
        "biases = np.array([[2, 3, 0.5]])\n",
        "\n",
        "dbiases = np.sum(dvalues, axis=0, keepdims=True)\n",
        "\n",
        "print(dbiases)"
      ],
      "execution_count": 41,
      "outputs": [
        {
          "output_type": "stream",
          "text": [
            "[[6. 6. 6.]]\n"
          ],
          "name": "stdout"
        }
      ]
    },
    {
      "cell_type": "markdown",
      "metadata": {
        "id": "mDoRTSE2UbaW"
      },
      "source": [
        "##### Sublayer ReLU\n",
        "\n",
        "Let's now move up to the next sublayer"
      ]
    },
    {
      "cell_type": "code",
      "metadata": {
        "id": "Q8EH2-SwVIKw"
      },
      "source": [
        "# Example layer output (before ReLU)\n",
        "z = np.array([[1, 2, -3, -4],\n",
        "              [2, -7, -1, 3],\n",
        "              [-1, 2, 5, -1]])\n",
        "\n",
        "# Gradient from \"next\" layer\n",
        "dvalues = np.array([[1, 2, 3, 4],\n",
        "                    [5, 6, 7, 8],\n",
        "                    [9, 10, 11, 12]])\n",
        "\n"
      ],
      "execution_count": 42,
      "outputs": []
    },
    {
      "cell_type": "code",
      "metadata": {
        "colab": {
          "base_uri": "https://localhost:8080/"
        },
        "id": "LTAJMDO0avEn",
        "outputId": "7dd3d6cf-ba39-4825-8183-23fab64ef30e"
      },
      "source": [
        "# ReLU activation's derivative\n",
        "drelu = np.zeros_like(z)\n",
        "# Set cells to 1 where corresponding z cell > 0\n",
        "drelu[z > 0] = 1\n",
        "\n",
        "print(drelu)"
      ],
      "execution_count": 43,
      "outputs": [
        {
          "output_type": "stream",
          "text": [
            "[[1 1 0 0]\n",
            " [1 0 0 1]\n",
            " [0 1 1 0]]\n"
          ],
          "name": "stdout"
        }
      ]
    },
    {
      "cell_type": "code",
      "metadata": {
        "colab": {
          "base_uri": "https://localhost:8080/"
        },
        "id": "0g4Xwbn8az9A",
        "outputId": "833cb1bf-24e4-4f4e-9845-2659f83136ef"
      },
      "source": [
        "# The chain rule\n",
        "drelu *= dvalues\n",
        "\n",
        "print(drelu)"
      ],
      "execution_count": 44,
      "outputs": [
        {
          "output_type": "stream",
          "text": [
            "[[ 1  2  0  0]\n",
            " [ 5  0  0  8]\n",
            " [ 0 10 11  0]]\n"
          ],
          "name": "stdout"
        }
      ]
    },
    {
      "cell_type": "markdown",
      "metadata": {
        "id": "esaKECPJbO_Y"
      },
      "source": [
        "###### Simplified"
      ]
    },
    {
      "cell_type": "code",
      "metadata": {
        "colab": {
          "base_uri": "https://localhost:8080/"
        },
        "id": "lAM1F5HmbhWL",
        "outputId": "c1e72996-8820-4a00-9135-cd2d0db07cc1"
      },
      "source": [
        "drelu = dvalues.copy()\n",
        "drelu[z <= 0] = 0\n",
        "\n",
        "print(drelu)"
      ],
      "execution_count": 45,
      "outputs": [
        {
          "output_type": "stream",
          "text": [
            "[[ 1  2  0  0]\n",
            " [ 5  0  0  8]\n",
            " [ 0 10 11  0]]\n"
          ],
          "name": "stdout"
        }
      ]
    },
    {
      "cell_type": "markdown",
      "metadata": {
        "id": "n-BbjZ7Ialdu"
      },
      "source": [
        "#### Full forward and backward pass"
      ]
    },
    {
      "cell_type": "code",
      "metadata": {
        "id": "ALfHZvs2cEdq"
      },
      "source": [
        "# Passed-in gradient from the next layer\n",
        "# for the purpose of this example we're going to use\n",
        "# an array of an incremental gradient values\n",
        "dvalues = np.array([[1., 1., 1.],\n",
        "                    [2., 2., 2.],\n",
        "                    [3., 3., 3.]])"
      ],
      "execution_count": 46,
      "outputs": []
    },
    {
      "cell_type": "code",
      "metadata": {
        "id": "IlSRP4mWcHMK"
      },
      "source": [
        "# We have 3 sets of inputs - samples\n",
        "inputs = np.array([[1, 2, 3, 2.5],\n",
        "                   [2., 5., -1., 2],\n",
        "                   [-1.5, 2.7, 3.3, -0.8]])"
      ],
      "execution_count": 47,
      "outputs": []
    },
    {
      "cell_type": "code",
      "metadata": {
        "id": "e2LHevTRcJU9"
      },
      "source": [
        "# We have 3 sets of weights - one set for each neuron\n",
        "# we have 4 inputs, thus 4 weights\n",
        "# recall that we keep weights transposed\n",
        "weights = np.array([[0.2, 0.8, -0.5, 1],\n",
        "                    [0.5, -0.91, 0.26, -0.5],\n",
        "                    [-0.26, -0.27, 0.17, 0.87]]).T\n",
        "\n",
        "\n",
        "# One bias for each neuron\n",
        "biases = np.array([[2, 3, 0.5]])"
      ],
      "execution_count": 48,
      "outputs": []
    },
    {
      "cell_type": "code",
      "metadata": {
        "id": "cPqZ_rE2cSXX"
      },
      "source": [
        "# Forward pass\n",
        "layer_outputs = np.dot(inputs, weights) + biases  # Dense layer\n",
        "relu_outputs = np.maximum(0, layer_outputs)  # ReLU activation"
      ],
      "execution_count": 49,
      "outputs": []
    },
    {
      "cell_type": "code",
      "metadata": {
        "id": "7JHxrzSqcUcv"
      },
      "source": [
        "# Backpropagation starts here\n",
        "\n",
        "# ReLU activation - simulates derivative with respect to input values\n",
        "# from next layer passed to current layer during backpropagation\n",
        "drelu = relu_outputs.copy()\n",
        "drelu[layer_outputs <= 0] = 0"
      ],
      "execution_count": 50,
      "outputs": []
    },
    {
      "cell_type": "code",
      "metadata": {
        "id": "zJw1Ickpchq-"
      },
      "source": [
        "# dinputs - multiply by weights\n",
        "dinputs = np.dot(drelu, weights.T)"
      ],
      "execution_count": 51,
      "outputs": []
    },
    {
      "cell_type": "code",
      "metadata": {
        "id": "sA-Ri-QkclCw"
      },
      "source": [
        "# dweights - multiply by inputs\n",
        "dweights = np.dot(inputs.T, drelu)"
      ],
      "execution_count": 52,
      "outputs": []
    },
    {
      "cell_type": "code",
      "metadata": {
        "id": "f-XOgvoPcmdf"
      },
      "source": [
        "# dbiases - sum values, do this over samples (first axis)\n",
        "dbiases = np.sum(drelu, axis=0, keepdims=True)"
      ],
      "execution_count": 53,
      "outputs": []
    },
    {
      "cell_type": "code",
      "metadata": {
        "colab": {
          "base_uri": "https://localhost:8080/"
        },
        "id": "7CZMw6Cob3js",
        "outputId": "2dea6ce8-5c47-4b98-e1cb-4be481b89623"
      },
      "source": [
        "# Update parameters\n",
        "weights += -0.001 * dweights\n",
        "biases += -0.001 * dbiases\n",
        "\n",
        "print(weights)\n",
        "print(biases)"
      ],
      "execution_count": 54,
      "outputs": [
        {
          "output_type": "stream",
          "text": [
            "[[ 0.179515   0.5003665 -0.262746 ]\n",
            " [ 0.742093  -0.9152577 -0.2758402]\n",
            " [-0.510153   0.2529017  0.1629592]\n",
            " [ 0.971328  -0.5021842  0.8636583]]\n",
            "[[1.98489  2.997739 0.497389]]\n"
          ],
          "name": "stdout"
        }
      ]
    },
    {
      "cell_type": "markdown",
      "metadata": {
        "id": "_l1l74qialiI"
      },
      "source": [
        "## Conclusion\n",
        "\n",
        "By this point, we’ve covered everything we need to perform backpropagation, except for the derivative of the Softmax activation function and the derivative of the cross-entropy loss function.\n",
        "\n",
        "\n",
        "\n",
        "\n"
      ]
    }
  ]
}