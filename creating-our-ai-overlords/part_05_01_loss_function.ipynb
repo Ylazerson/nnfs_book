{
  "nbformat": 4,
  "nbformat_minor": 0,
  "metadata": {
    "colab": {
      "name": "part_05_01_loss_function.ipynb",
      "provenance": [],
      "collapsed_sections": [
        "S-b45REBAL5S"
      ],
      "toc_visible": true
    },
    "kernelspec": {
      "name": "python3",
      "display_name": "Python 3"
    },
    "language_info": {
      "name": "python"
    }
  },
  "cells": [
    {
      "cell_type": "markdown",
      "metadata": {
        "id": "B9PfQl0E4GKc"
      },
      "source": [
        "### Code Dependencies"
      ]
    },
    {
      "cell_type": "code",
      "metadata": {
        "id": "u-t099wc4Dx0"
      },
      "source": [
        "import math\n",
        "import numpy as np\n",
        "import matplotlib.pyplot as plt"
      ],
      "execution_count": 1,
      "outputs": []
    },
    {
      "cell_type": "code",
      "metadata": {
        "colab": {
          "base_uri": "https://localhost:8080/"
        },
        "id": "CKMHIjuA4EVh",
        "outputId": "71959c04-01cb-4104-caa6-13be0e3d8718"
      },
      "source": [
        "# Get current size\n",
        "fig_size = plt.rcParams[\"figure.figsize\"]\n",
        " \n",
        "# Prints: [8.0, 6.0]\n",
        "print (\"Prior size:\", fig_size)\n",
        " \n",
        "# Set figure width to 12 and height to 9\n",
        "fig_size[0] = 12\n",
        "fig_size[1] = 9\n",
        "plt.rcParams[\"figure.figsize\"] = fig_size\n",
        "\n",
        "print (\"Current size:\", fig_size)"
      ],
      "execution_count": 2,
      "outputs": [
        {
          "output_type": "stream",
          "name": "stdout",
          "text": [
            "Prior size: [6.0, 4.0]\n",
            "Current size: [12, 9]\n"
          ]
        }
      ]
    },
    {
      "cell_type": "markdown",
      "metadata": {
        "id": "peuoX9lTijlh"
      },
      "source": [
        "### Log\n",
        "\n",
        "\n",
        "Any mention of **log** below will always be referring to the **natural logarithm**. \n",
        "\n",
        "The natural log represents the solution for $\\large x$ in the equation $\\large e^x = b$ \n",
        "\n",
        "For example, $\\large e^x = 5.2$ is solved by $\\large log(5.2)$"
      ]
    },
    {
      "cell_type": "code",
      "metadata": {
        "colab": {
          "base_uri": "https://localhost:8080/"
        },
        "outputId": "9d98a7ac-a558-40d3-8f65-579733ae1aae",
        "id": "MREFNfCfijlp"
      },
      "source": [
        "np.log(5.2)"
      ],
      "execution_count": 33,
      "outputs": [
        {
          "output_type": "execute_result",
          "data": {
            "text/plain": [
              "1.6486586255873816"
            ]
          },
          "metadata": {},
          "execution_count": 33
        }
      ]
    },
    {
      "cell_type": "code",
      "metadata": {
        "colab": {
          "base_uri": "https://localhost:8080/"
        },
        "outputId": "4a10610e-62fb-4977-9fa1-d692f11306c6",
        "id": "qbtkEQFPijlp"
      },
      "source": [
        "math.e ** 1.6486586255873816"
      ],
      "execution_count": 4,
      "outputs": [
        {
          "output_type": "execute_result",
          "data": {
            "text/plain": [
              "5.199999999999999"
            ]
          },
          "metadata": {},
          "execution_count": 4
        }
      ]
    },
    {
      "cell_type": "markdown",
      "source": [
        "Let's plot these functions to get a feel for them."
      ],
      "metadata": {
        "id": "H9wmXcWwl9H4"
      }
    },
    {
      "cell_type": "markdown",
      "source": [
        "#### Plot Exponential Function"
      ],
      "metadata": {
        "id": "W1UChMm3l9RN"
      }
    },
    {
      "cell_type": "markdown",
      "source": [
        "Remember, that the exponential function is especially suitable for neural networks, being that $y={c}{e}^x, c ∈ R$  is the only class of functions whose derivative is itself. "
      ],
      "metadata": {
        "id": "Ulk2A7PH8RV0"
      }
    },
    {
      "cell_type": "code",
      "source": [
        "xs = np.arange(-10, 5, .01) \n",
        "ys = [math.exp(x) for x in xs]\n",
        "\n",
        "plt.plot(xs, ys)\n",
        "\n",
        "plt.xlabel('x')\n",
        "plt.ylabel('e^x')\n",
        "\n",
        "plt.grid(axis = 'both')\n",
        "plt.show()"
      ],
      "metadata": {
        "colab": {
          "base_uri": "https://localhost:8080/",
          "height": 551
        },
        "id": "p5ier21Hl-Pj",
        "outputId": "dc2769e4-0937-4a23-e646-63f05c958eea"
      },
      "execution_count": 5,
      "outputs": [
        {
          "output_type": "display_data",
          "data": {
            "image/png": "[encoded data removed]",
            "text/plain": [
              "<Figure size 864x648 with 1 Axes>"
            ]
          },
          "metadata": {
            "needs_background": "light"
          }
        }
      ]
    },
    {
      "cell_type": "markdown",
      "source": [
        "#### Plot Log"
      ],
      "metadata": {
        "id": "lbQJb79anTm4"
      }
    },
    {
      "cell_type": "markdown",
      "source": [
        "Note, logarithms are not defined (in the real numbers) for numbers <= 0, being that there are no solutions for $\\large x$ in $\\large e^x <= 0$ "
      ],
      "metadata": {
        "id": "mRJ5aqiwn3l1"
      }
    },
    {
      "cell_type": "code",
      "source": [
        "math.log(-1)"
      ],
      "metadata": {
        "colab": {
          "base_uri": "https://localhost:8080/",
          "height": 165
        },
        "id": "cq6T6fRfnvFw",
        "outputId": "e03cbd3a-9f67-428e-bc1b-e6023866f219"
      },
      "execution_count": 6,
      "outputs": [
        {
          "output_type": "error",
          "ename": "ValueError",
          "evalue": "ignored",
          "traceback": [
            "\u001b[0;31m---------------------------------------------------------------------------\u001b[0m",
            "\u001b[0;31mValueError\u001b[0m                                Traceback (most recent call last)",
            "\u001b[0;32m<ipython-input-6-8f964a7914e2>\u001b[0m in \u001b[0;36m<module>\u001b[0;34m()\u001b[0m\n\u001b[0;32m----> 1\u001b[0;31m \u001b[0mmath\u001b[0m\u001b[0;34m.\u001b[0m\u001b[0mlog\u001b[0m\u001b[0;34m(\u001b[0m\u001b[0;34m-\u001b[0m\u001b[0;36m1\u001b[0m\u001b[0;34m)\u001b[0m\u001b[0;34m\u001b[0m\u001b[0;34m\u001b[0m\u001b[0m\n\u001b[0m",
            "\u001b[0;31mValueError\u001b[0m: math domain error"
          ]
        }
      ]
    },
    {
      "cell_type": "code",
      "source": [
        "math.log(0)"
      ],
      "metadata": {
        "colab": {
          "base_uri": "https://localhost:8080/",
          "height": 165
        },
        "id": "Y8oaeSVqo7zy",
        "outputId": "4c35890f-c583-482b-da06-b82117347f17"
      },
      "execution_count": 8,
      "outputs": [
        {
          "output_type": "error",
          "ename": "ValueError",
          "evalue": "ignored",
          "traceback": [
            "\u001b[0;31m---------------------------------------------------------------------------\u001b[0m",
            "\u001b[0;31mValueError\u001b[0m                                Traceback (most recent call last)",
            "\u001b[0;32m<ipython-input-8-f7278b7c2ed1>\u001b[0m in \u001b[0;36m<module>\u001b[0;34m()\u001b[0m\n\u001b[0;32m----> 1\u001b[0;31m \u001b[0mmath\u001b[0m\u001b[0;34m.\u001b[0m\u001b[0mlog\u001b[0m\u001b[0;34m(\u001b[0m\u001b[0;36m0\u001b[0m\u001b[0;34m)\u001b[0m\u001b[0;34m\u001b[0m\u001b[0;34m\u001b[0m\u001b[0m\n\u001b[0m",
            "\u001b[0;31mValueError\u001b[0m: math domain error"
          ]
        }
      ]
    },
    {
      "cell_type": "code",
      "source": [
        "xs = np.arange(0.00000001, 1000, .01) \n",
        "ys = [math.log(x) for x in xs]\n",
        "\n",
        "plt.plot(xs, ys)\n",
        "\n",
        "plt.xlabel('x')\n",
        "plt.ylabel('log(x)')\n",
        "\n",
        "plt.grid(axis = 'both')\n",
        "plt.show()"
      ],
      "metadata": {
        "colab": {
          "base_uri": "https://localhost:8080/",
          "height": 551
        },
        "outputId": "48e469ec-d573-40f3-bf97-94ff565125c9",
        "id": "ZbLR1F7gnTm5"
      },
      "execution_count": 9,
      "outputs": [
        {
          "output_type": "display_data",
          "data": {
            "image/png": "[encoded data removed]",
            "text/plain": [
              "<Figure size 864x648 with 1 Axes>"
            ]
          },
          "metadata": {
            "needs_background": "light"
          }
        }
      ]
    },
    {
      "cell_type": "markdown",
      "source": [
        "**Let's zoom in a bit**"
      ],
      "metadata": {
        "id": "kTVB7GmQpY5Z"
      }
    },
    {
      "cell_type": "code",
      "source": [
        "xs = np.arange(0.01, 4, .01) \n",
        "ys = [math.log(x) for x in xs]\n",
        "\n",
        "plt.plot(xs, ys)\n",
        "\n",
        "plt.xlabel('x')\n",
        "plt.ylabel('log(x)')\n",
        "\n",
        "plt.grid(axis = 'both')\n",
        "plt.show()"
      ],
      "metadata": {
        "colab": {
          "base_uri": "https://localhost:8080/",
          "height": 551
        },
        "id": "aZVK3skzpbd3",
        "outputId": "285031af-358b-446b-a41b-3591413846d9"
      },
      "execution_count": 10,
      "outputs": [
        {
          "output_type": "display_data",
          "data": {
            "image/png": "[encoded data removed]",
            "text/plain": [
              "<Figure size 864x648 with 1 Axes>"
            ]
          },
          "metadata": {
            "needs_background": "light"
          }
        }
      ]
    },
    {
      "cell_type": "markdown",
      "source": [
        "#### Plot -Log"
      ],
      "metadata": {
        "id": "vyxFBiT9p1X6"
      }
    },
    {
      "cell_type": "code",
      "source": [
        "xs = np.arange(0.0001, 100, .0001) \n",
        "ys = [-math.log(x) for x in xs]\n",
        "\n",
        "plt.plot(xs, ys)\n",
        "\n",
        "plt.xlabel('x')\n",
        "plt.ylabel('- log(x)')\n",
        "\n",
        "plt.grid(axis = 'both')\n",
        "plt.show()"
      ],
      "metadata": {
        "colab": {
          "base_uri": "https://localhost:8080/",
          "height": 551
        },
        "id": "PhaG8_O_p2yo",
        "outputId": "a92b4058-1587-4734-d84c-d1b8d4c54ca4"
      },
      "execution_count": 11,
      "outputs": [
        {
          "output_type": "display_data",
          "data": {
            "image/png": "[encoded data removed]",
            "text/plain": [
              "<Figure size 864x648 with 1 Axes>"
            ]
          },
          "metadata": {
            "needs_background": "light"
          }
        }
      ]
    },
    {
      "cell_type": "markdown",
      "source": [
        "**Let's stop inputs at $\\large 1$ (we'll see why soon)**"
      ],
      "metadata": {
        "id": "ddroz0Fkqdwe"
      }
    },
    {
      "cell_type": "code",
      "source": [
        "xs = np.arange(0.0001, 1, .0001) \n",
        "ys = [-math.log(x) for x in xs]\n",
        "\n",
        "plt.plot(xs, ys)\n",
        "\n",
        "plt.xlabel('x')\n",
        "plt.ylabel('- log(x)')\n",
        "\n",
        "plt.grid(axis = 'both')\n",
        "plt.show()"
      ],
      "metadata": {
        "colab": {
          "base_uri": "https://localhost:8080/",
          "height": 551
        },
        "id": "PzXT4k7BqeYg",
        "outputId": "cb6b6819-230c-4ea7-eb19-13763518d880"
      },
      "execution_count": 12,
      "outputs": [
        {
          "output_type": "display_data",
          "data": {
            "image/png": "[encoded data removed]",
            "text/plain": [
              "<Figure size 864x648 with 1 Axes>"
            ]
          },
          "metadata": {
            "needs_background": "light"
          }
        }
      ]
    },
    {
      "cell_type": "markdown",
      "source": [
        "### Our Loss Function Goal"
      ],
      "metadata": {
        "id": "q4JC1LEa_f6v"
      }
    },
    {
      "cell_type": "markdown",
      "source": [
        "It's time to setup our **loss function**.\n",
        "\n",
        "<br>\n",
        "\n",
        "The output of our network is confidence scores (a probability distribution) produced by our Softmax layer - hence more confidence in the correct answer is better. \n",
        "\n",
        "We want to:\n",
        "- **increase correct confidence**\n",
        "- **decrease misplaced confidence**"
      ],
      "metadata": {
        "id": "SusIA-E7A_xT"
      }
    },
    {
      "cell_type": "markdown",
      "metadata": {
        "id": "pNw_orM6yUBl"
      },
      "source": [
        "### Cross-entropy Loss"
      ]
    },
    {
      "cell_type": "markdown",
      "source": [
        "Let's jump right in.\n",
        "\n",
        "**Cross-entropy** compares the “ground-truth” probability (y or “targets”) and some predicted distribution (y-hat or\n",
        "“predictions”)\n",
        "\n",
        "\n",
        "\n",
        "![](https://drive.google.com/uc?id=1qhlJBbRf_oARGJUWPWEgvJpeBnnCfW9b)\n",
        "\n",
        "![](https://drive.google.com/uc?id=1acZN9XoSlQL5AbGE14K3P90Z7xTkNSd7)\n",
        "\n",
        "Don't be intimidated by the formula; it's really straightforward:\n",
        "- multiply each $\\large y$ with the natural log of $\\large \\hat{y}$ \n",
        "- get the negative of their sum"
      ],
      "metadata": {
        "id": "o_uV3W0MVhyQ"
      }
    },
    {
      "cell_type": "code",
      "source": [
        "ys = [1, 0, 0]\n",
        "y_hats = [0.7, 0.1, 0.2]\n",
        "\n",
        "loss = - np.array(\n",
        "    [y * math.log(y_hat) for y, y_hat in zip(ys, y_hats)]\n",
        ").sum()    \n",
        "\n",
        "print(loss)"
      ],
      "metadata": {
        "colab": {
          "base_uri": "https://localhost:8080/"
        },
        "id": "o5EZZc0EIf9j",
        "outputId": "bb898bda-26e3-4aca-8765-bd7a08c35b83"
      },
      "execution_count": 13,
      "outputs": [
        {
          "output_type": "stream",
          "name": "stdout",
          "text": [
            "0.35667494393873245\n"
          ]
        }
      ]
    },
    {
      "cell_type": "markdown",
      "source": [
        "### Categorical Cross-entropy Loss"
      ],
      "metadata": {
        "id": "SNJ4Du9dY3zM"
      }
    },
    {
      "cell_type": "markdown",
      "source": [
        "While we could use the above Cross-Entropy formula, it is really meant for handling cases where both the targets and the predictions are probability distributions, such as:\n",
        "\n",
        "![](https://drive.google.com/uc?id=1dQmb1HOeXcS5Pn3eQm6hbhy0NYvncGh9)\n",
        "\n"
      ],
      "metadata": {
        "id": "-FXUCJxranqw"
      }
    },
    {
      "cell_type": "markdown",
      "source": [
        "However, when comparing the model’s results to a one-hot vector (as in our case), the formula can really be simplified. \n",
        "\n",
        "Notice, how we are multiplying each $\\large y$ with the natural log of $\\large \\hat{y}$, yet; $\\large y$ is either $\\large 0$ (in which case it zeros out and can be ignored) or it's $\\large 1$ (in which case we don't need it for the multiplication). \n",
        "\n",
        "<br>\n",
        "\n",
        "---\n",
        "\n",
        "**So ...** \n",
        "\n",
        "![](https://drive.google.com/uc?id=1qhlJBbRf_oARGJUWPWEgvJpeBnnCfW9b)\n",
        "\n",
        "\n",
        "![](https://drive.google.com/uc?id=1acZN9XoSlQL5AbGE14K3P90Z7xTkNSd7)\n",
        "\n",
        "**... can be simplified to:**\n",
        "\n",
        "![](https://drive.google.com/uc?id=1Y0wCm90FkvXUrpROnzjix85uXSdVEKJA)\n",
        "\n",
        "![](https://drive.google.com/uc?id=1dqOeJxvng_R6f_GIiucIxgb5DV7AisgZ)\n",
        "\n",
        "\n",
        "This special case of the cross-entropy calculation is called **categorical cross-entropy**. "
      ],
      "metadata": {
        "id": "DVJTcxPwWTNZ"
      }
    },
    {
      "cell_type": "code",
      "source": [
        "true_class_idx = 0\n",
        "y_hats = [0.7, 0.1, 0.2]\n",
        "\n",
        "loss = - math.log(y_hats[true_class_idx])      \n",
        "\n",
        "print(loss)"
      ],
      "metadata": {
        "colab": {
          "base_uri": "https://localhost:8080/"
        },
        "id": "P9YYozRkWTTe",
        "outputId": "57dad308-26b1-4cc3-e82b-70e942d02f4a"
      },
      "execution_count": 14,
      "outputs": [
        {
          "output_type": "stream",
          "name": "stdout",
          "text": [
            "0.35667494393873245\n"
          ]
        }
      ]
    },
    {
      "cell_type": "markdown",
      "source": [
        "Looking at the simple formula above, we can now see why it's also called **log loss**."
      ],
      "metadata": {
        "id": "V3mR0QyTWTV2"
      }
    },
    {
      "cell_type": "markdown",
      "metadata": {
        "id": "zi_OvslJTpk2"
      },
      "source": [
        "### Plot it\n"
      ]
    },
    {
      "cell_type": "markdown",
      "metadata": {
        "id": "StffNrSe4N4q"
      },
      "source": [
        "#### Quick peek\n",
        "\n",
        "The Categorical Cross-Entropy Loss is cool: it returns **larger loss** for **lower confidence**:"
      ]
    },
    {
      "cell_type": "code",
      "metadata": {
        "colab": {
          "base_uri": "https://localhost:8080/"
        },
        "id": "ZiFi7RcVcqcT",
        "outputId": "fe5491f6-e5f7-48b4-b383-abb58e6bf8b5"
      },
      "source": [
        "confidence_scores = [\n",
        "    1.,\n",
        "    0.95,\n",
        "    0.9,\n",
        "    0.8,\n",
        "    0.7,\n",
        "    0.6,\n",
        "    0.5,\n",
        "    0.4,\n",
        "    0.3,\n",
        "    0.2,\n",
        "    0.1,\n",
        "    0.05,\n",
        "    0.01,\n",
        "    0.001,\n",
        "    0.00001,\n",
        "    0.00000001,\n",
        "]\n",
        "\n",
        "for confidence in confidence_scores:\n",
        "      print(f'{confidence} : {-math.log(confidence):.3f}')\n",
        "\n"
      ],
      "execution_count": 15,
      "outputs": [
        {
          "output_type": "stream",
          "name": "stdout",
          "text": [
            "1.0 : -0.000\n",
            "0.95 : 0.051\n",
            "0.9 : 0.105\n",
            "0.8 : 0.223\n",
            "0.7 : 0.357\n",
            "0.6 : 0.511\n",
            "0.5 : 0.693\n",
            "0.4 : 0.916\n",
            "0.3 : 1.204\n",
            "0.2 : 1.609\n",
            "0.1 : 2.303\n",
            "0.05 : 2.996\n",
            "0.01 : 4.605\n",
            "0.001 : 6.908\n",
            "1e-05 : 11.513\n",
            "1e-08 : 18.421\n"
          ]
        }
      ]
    },
    {
      "cell_type": "markdown",
      "metadata": {
        "id": "trD23JeT4SMA"
      },
      "source": [
        "#### Plot"
      ]
    },
    {
      "cell_type": "markdown",
      "source": [
        "This is the exact same $\\large - log$ plot we showed above."
      ],
      "metadata": {
        "id": "R1jJI-h0q6bf"
      }
    },
    {
      "cell_type": "code",
      "metadata": {
        "colab": {
          "base_uri": "https://localhost:8080/",
          "height": 552
        },
        "id": "wnnsoRC839SW",
        "outputId": "185a53b9-ed4a-4598-a7e2-5ae5871a8fd1"
      },
      "source": [
        "softmax_values = np.arange(.00001, 1, .00001) \n",
        "loss = [-math.log(val) for val in softmax_values]\n",
        "\n",
        "plt.plot(softmax_values, loss)\n",
        "\n",
        "plt.xlabel('softmax confidence')\n",
        "plt.ylabel('loss')\n",
        "\n",
        "plt.grid(axis = 'both')\n",
        "plt.show()"
      ],
      "execution_count": 16,
      "outputs": [
        {
          "output_type": "display_data",
          "data": {
            "image/png": "[encoded data removed]",
            "text/plain": [
              "<Figure size 864x648 with 1 Axes>"
            ]
          },
          "metadata": {
            "needs_background": "light"
          }
        }
      ]
    },
    {
      "cell_type": "markdown",
      "metadata": {
        "id": "UqsNivYAtHzQ"
      },
      "source": [
        "### Handling input of 0"
      ]
    },
    {
      "cell_type": "markdown",
      "source": [
        "As mentioned above, logarithms are not defined for numbers <= 0.\n",
        "\n",
        "What if the input into our $- log$ function is $0$?\n",
        "\n",
        "In other words, although we won't expect negative confidence levels (not possible), we should be able to handle a confidence input of $0$. "
      ],
      "metadata": {
        "id": "V0xN2oDut7cf"
      }
    },
    {
      "cell_type": "markdown",
      "source": [
        "#### Its Limit"
      ],
      "metadata": {
        "id": "G8IdwfHyvDox"
      }
    },
    {
      "cell_type": "markdown",
      "metadata": {
        "id": "3gDJ7N9DtHzQ"
      },
      "source": [
        "The limit of $log(x)$, as $x$ approaches $0$ from the right, is $- \\infty$.\n",
        "\n",
        "$\\large \\lim_{x\\to 0+} log(x) = -\\infty$\n",
        "\n",
        "<br>\n",
        "\n",
        "By the same token:\n",
        "\n",
        "$\\large \\lim_{x\\to-\\infty} e^x = 0$\n",
        "\n",
        "<br>\n",
        "\n",
        "See plots above to bring this to light."
      ]
    },
    {
      "cell_type": "markdown",
      "metadata": {
        "id": "we56znmxtHzR"
      },
      "source": [
        "#### Inadvisable Solution\n",
        "\n",
        "\n",
        "A simplistic approach: add a very small value to all the confidence scores to prevent it from being a zero.\n",
        "\n",
        "This, however, is not a good approach. Imagine the model is fully correct in a prediction and puts all the confidence in the correct label - i.e. it gives it a confidence of $1$.\n",
        "\n",
        "$\\large - log(1) = 0$ which is a good loss. \n",
        "\n",
        "\n"
      ]
    },
    {
      "cell_type": "code",
      "source": [
        "- np.log(1)"
      ],
      "metadata": {
        "colab": {
          "base_uri": "https://localhost:8080/"
        },
        "id": "N1VMhu_l_hU6",
        "outputId": "c0b3ff59-6719-4102-8226-648652d44ca7"
      },
      "execution_count": 17,
      "outputs": [
        {
          "output_type": "execute_result",
          "data": {
            "text/plain": [
              "-0.0"
            ]
          },
          "metadata": {},
          "execution_count": 17
        }
      ]
    },
    {
      "cell_type": "markdown",
      "source": [
        "However, look what happens when add a small number to it "
      ],
      "metadata": {
        "id": "1e5PGBQC_itm"
      }
    },
    {
      "cell_type": "code",
      "metadata": {
        "colab": {
          "base_uri": "https://localhost:8080/"
        },
        "id": "oOqL_ToHtHzR",
        "outputId": "2b3219a4-ef45-4120-d2e1-fb09a5963842"
      },
      "source": [
        "loss = - np.log(1 + 1e-7)\n",
        "\n",
        "print(f'loss: {loss:.8f}')"
      ],
      "execution_count": 18,
      "outputs": [
        {
          "output_type": "stream",
          "name": "stdout",
          "text": [
            "loss: -0.00000010\n"
          ]
        }
      ]
    },
    {
      "cell_type": "markdown",
      "source": [
        "The loss is now negative! \n",
        "\n",
        "> See $-log$ plot above for more intuition.\n",
        "\n",
        "A negative loss shouldn't be possible.\n",
        "\n",
        "In short, this solution is not good; we can't allow inputs into our **Negative Log Loss** function greater than 1.\n",
        "\n",
        "The other small problem here is shifting confidence towards 1, even if by a very small value. "
      ],
      "metadata": {
        "id": "bSylFB_oAUpZ"
      }
    },
    {
      "cell_type": "markdown",
      "metadata": {
        "id": "7-0alUfetHzS"
      },
      "source": [
        "#### Good Solution\n"
      ]
    },
    {
      "cell_type": "markdown",
      "source": [
        "To prevent both issues, it’s better to clip values from both sides by the same number, 1e-7 in our case.\n",
        "\n",
        "That means that the lowest possible value will become 1e-7 and the highest possible value will become 1-1e-7.\n",
        "\n",
        "---\n",
        "\n",
        "Here's how clip works:\n",
        "- Any value < 1e-7 will become 1e-7 \n",
        "- Any value > 1-1e-7 will become 1-1e-7"
      ],
      "metadata": {
        "id": "PgdoapJtAtEz"
      }
    },
    {
      "cell_type": "code",
      "metadata": {
        "id": "eek0JBVjtHzS"
      },
      "source": [
        "softmax_outputs = [0, 1e-7, 0.2, 0.3, .9, 1 - 1e-7, 1]\n",
        "\n",
        "clipped = np.clip(\n",
        "    softmax_outputs, \n",
        "    1e-7, \n",
        "    1 - 1e-7\n",
        ")"
      ],
      "execution_count": 19,
      "outputs": []
    },
    {
      "cell_type": "code",
      "metadata": {
        "colab": {
          "base_uri": "https://localhost:8080/"
        },
        "outputId": "2b9d4321-f8ce-4b04-f827-6950c6705815",
        "id": "gJI8I1pZtHzS"
      },
      "source": [
        "for orig, clip in zip(softmax_outputs, clipped):\n",
        "    print(f'orginal value: {orig:.8f}, clipped value: {clip:.8f}')"
      ],
      "execution_count": 20,
      "outputs": [
        {
          "output_type": "stream",
          "name": "stdout",
          "text": [
            "orginal value: 0.00000000, clipped value: 0.00000010\n",
            "orginal value: 0.00000010, clipped value: 0.00000010\n",
            "orginal value: 0.20000000, clipped value: 0.20000000\n",
            "orginal value: 0.30000000, clipped value: 0.30000000\n",
            "orginal value: 0.90000000, clipped value: 0.90000000\n",
            "orginal value: 0.99999990, clipped value: 0.99999990\n",
            "orginal value: 1.00000000, clipped value: 0.99999990\n"
          ]
        }
      ]
    },
    {
      "cell_type": "markdown",
      "metadata": {
        "id": "S-b45REBAL5S"
      },
      "source": [
        "### Example with Batch (optional)"
      ]
    },
    {
      "cell_type": "markdown",
      "source": [
        "> Note: you only need to review this section if you have trouble reviewing the neural network code (next notebook). "
      ],
      "metadata": {
        "id": "RAL3nt7br4t1"
      }
    },
    {
      "cell_type": "markdown",
      "metadata": {
        "id": "FWBeazNnBi5I"
      },
      "source": [
        "#### Setup"
      ]
    },
    {
      "cell_type": "code",
      "metadata": {
        "id": "WCh5KQRGBMrP"
      },
      "source": [
        "softmax_outputs = np.array(\n",
        "    [\n",
        "        [0.7, 0.1, 0.2],\n",
        "        [0.1, 0.5, 0.4],\n",
        "        [0.02, 0.9, 0.08]\n",
        "    ]\n",
        ")\n",
        "\n",
        "class_targets = [0, 1, 1]\n"
      ],
      "execution_count": 21,
      "outputs": []
    },
    {
      "cell_type": "markdown",
      "metadata": {
        "id": "zGy-d-8yBhc0"
      },
      "source": [
        "#### Multidimensional Filter"
      ]
    },
    {
      "cell_type": "code",
      "metadata": {
        "colab": {
          "base_uri": "https://localhost:8080/"
        },
        "id": "j84a-xTjB6JC",
        "outputId": "5d1f6384-e467-4eea-fa48-7f33b7acb3f4"
      },
      "source": [
        "softmax_outputs.shape"
      ],
      "execution_count": 22,
      "outputs": [
        {
          "output_type": "execute_result",
          "data": {
            "text/plain": [
              "(3, 3)"
            ]
          },
          "metadata": {},
          "execution_count": 22
        }
      ]
    },
    {
      "cell_type": "code",
      "metadata": {
        "id": "z8d2VB4vB8Ys"
      },
      "source": [
        "dim_0_filter = [0, 1, 2]\n"
      ],
      "execution_count": 23,
      "outputs": []
    },
    {
      "cell_type": "code",
      "metadata": {
        "colab": {
          "base_uri": "https://localhost:8080/"
        },
        "id": "szE1CcIdBppS",
        "outputId": "e315940a-e266-4788-8957-a725aaa48896"
      },
      "source": [
        "softmax_outputs[dim_0_filter]"
      ],
      "execution_count": 24,
      "outputs": [
        {
          "output_type": "execute_result",
          "data": {
            "text/plain": [
              "array([[0.7 , 0.1 , 0.2 ],\n",
              "       [0.1 , 0.5 , 0.4 ],\n",
              "       [0.02, 0.9 , 0.08]])"
            ]
          },
          "metadata": {},
          "execution_count": 24
        }
      ]
    },
    {
      "cell_type": "code",
      "metadata": {
        "colab": {
          "base_uri": "https://localhost:8080/"
        },
        "id": "QM9J5rKjCJKr",
        "outputId": "29b1a940-33ed-4d42-8ff9-7e83fba78cb3"
      },
      "source": [
        "dim_1_filter = class_targets\n",
        "\n",
        "softmax_outputs[dim_0_filter, dim_1_filter]"
      ],
      "execution_count": 25,
      "outputs": [
        {
          "output_type": "execute_result",
          "data": {
            "text/plain": [
              "array([0.7, 0.5, 0.9])"
            ]
          },
          "metadata": {},
          "execution_count": 25
        }
      ]
    },
    {
      "cell_type": "markdown",
      "metadata": {
        "id": "L6-1PNCsCrAD"
      },
      "source": [
        "**Even Better:**"
      ]
    },
    {
      "cell_type": "code",
      "metadata": {
        "colab": {
          "base_uri": "https://localhost:8080/"
        },
        "id": "7qZ-RUkVC1ke",
        "outputId": "f7f23096-b4b8-4adc-901a-206a076fb2d9"
      },
      "source": [
        "softmax_outputs[\n",
        "    range(len(softmax_outputs)), \n",
        "    class_targets\n",
        "]"
      ],
      "execution_count": 26,
      "outputs": [
        {
          "output_type": "execute_result",
          "data": {
            "text/plain": [
              "array([0.7, 0.5, 0.9])"
            ]
          },
          "metadata": {},
          "execution_count": 26
        }
      ]
    },
    {
      "cell_type": "markdown",
      "metadata": {
        "id": "1wwpZYYLDH1a"
      },
      "source": [
        "#### Negative Log Loss"
      ]
    },
    {
      "cell_type": "code",
      "metadata": {
        "colab": {
          "base_uri": "https://localhost:8080/"
        },
        "id": "nP6nR2O7DLyL",
        "outputId": "a472c3a6-c9cb-44c1-f287-1933ae427ca4"
      },
      "source": [
        "-np.log(\n",
        "    softmax_outputs[\n",
        "        range(len(softmax_outputs)), \n",
        "        class_targets\n",
        "    ]\n",
        ")"
      ],
      "execution_count": 27,
      "outputs": [
        {
          "output_type": "execute_result",
          "data": {
            "text/plain": [
              "array([0.35667494, 0.69314718, 0.10536052])"
            ]
          },
          "metadata": {},
          "execution_count": 27
        }
      ]
    },
    {
      "cell_type": "markdown",
      "metadata": {
        "id": "Yc_cDH16DgSf"
      },
      "source": [
        "#### Avg Loss per Batch"
      ]
    },
    {
      "cell_type": "code",
      "metadata": {
        "colab": {
          "base_uri": "https://localhost:8080/"
        },
        "id": "SyIzg7-wDxEo",
        "outputId": "31717598-4109-416f-c84e-ea65ac66e7b9"
      },
      "source": [
        "-np.log(\n",
        "    softmax_outputs[\n",
        "        range(len(softmax_outputs)), \n",
        "        class_targets\n",
        "    ]\n",
        ").mean()"
      ],
      "execution_count": 28,
      "outputs": [
        {
          "output_type": "execute_result",
          "data": {
            "text/plain": [
              "0.38506088005216804"
            ]
          },
          "metadata": {},
          "execution_count": 28
        }
      ]
    },
    {
      "cell_type": "markdown",
      "metadata": {
        "id": "KrbvqHeKD0Qt"
      },
      "source": [
        "#### Variation when one-hot encoded\n",
        "\n",
        "Let's add a check if `class_targets` are one-hot encoded and handle it a bit differently."
      ]
    },
    {
      "cell_type": "code",
      "metadata": {
        "id": "CUhpRkdWEllm"
      },
      "source": [
        "softmax_outputs = np.array(\n",
        "    [\n",
        "        [0.7, 0.1, 0.2],\n",
        "        [0.1, 0.5, 0.4],\n",
        "        [0.02, 0.9, 0.08]\n",
        "    ]\n",
        ")\n",
        "\n",
        "class_targets = np.array(\n",
        "    [\n",
        "        [1, 0, 0],\n",
        "        [0, 1, 0],\n",
        "        [0, 1, 0]\n",
        "    ]\n",
        ")"
      ],
      "execution_count": 29,
      "outputs": []
    },
    {
      "cell_type": "markdown",
      "metadata": {
        "id": "UXKEcaX5FSk0"
      },
      "source": [
        "**Note what happens when we multiply the two:** "
      ]
    },
    {
      "cell_type": "code",
      "metadata": {
        "colab": {
          "base_uri": "https://localhost:8080/"
        },
        "id": "NKNDcIFeFLTa",
        "outputId": "f94016f2-01a3-4bab-dad9-cb611074a1e1"
      },
      "source": [
        "softmax_outputs * class_targets"
      ],
      "execution_count": 30,
      "outputs": [
        {
          "output_type": "execute_result",
          "data": {
            "text/plain": [
              "array([[0.7, 0. , 0. ],\n",
              "       [0. , 0.5, 0. ],\n",
              "       [0. , 0.9, 0. ]])"
            ]
          },
          "metadata": {},
          "execution_count": 30
        }
      ]
    },
    {
      "cell_type": "markdown",
      "metadata": {
        "id": "OZf4zsSXFks8"
      },
      "source": [
        "**What our `if` will look like:**"
      ]
    },
    {
      "cell_type": "code",
      "metadata": {
        "id": "QcZ4QL2WEueD"
      },
      "source": [
        "if len(class_targets.shape) == 1:\n",
        "    correct_confidences = softmax_outputs[\n",
        "        range(len(softmax_outputs)),\n",
        "        class_targets\n",
        "    ]\n",
        "elif len(class_targets.shape) == 2:\n",
        "    correct_confidences = np.sum(\n",
        "        softmax_outputs*class_targets,\n",
        "        axis=1\n",
        "    )"
      ],
      "execution_count": 31,
      "outputs": []
    },
    {
      "cell_type": "code",
      "metadata": {
        "colab": {
          "base_uri": "https://localhost:8080/"
        },
        "id": "cVSUjPaEEzDj",
        "outputId": "34bba586-e5b6-4186-96d8-3fbb0deecd60"
      },
      "source": [
        "neg_log = -np.log(correct_confidences)\n",
        "\n",
        "average_loss = np.mean(neg_log)\n",
        "\n",
        "average_loss"
      ],
      "execution_count": 32,
      "outputs": [
        {
          "output_type": "execute_result",
          "data": {
            "text/plain": [
              "0.38506088005216804"
            ]
          },
          "metadata": {},
          "execution_count": 32
        }
      ]
    }
  ]
}